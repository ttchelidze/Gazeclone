{
 "cells": [
  {
   "cell_type": "code",
   "execution_count": 44,
   "id": "6a2fac57-3900-4651-858e-79192030c5a9",
   "metadata": {},
   "outputs": [],
   "source": [
    "%matplotlib inline\n",
    "\n",
    "import numpy as np\n",
    "import torch\n",
    "import os\n",
    "import torch.nn as nn\n",
    "import torch.nn.functional as F\n",
    "import matplotlib.pyplot as plt\n",
    "import pandas as pd\n",
    "import cv2\n",
    "import albumentations as A\n",
    "from albumentations.pytorch import ToTensorV2\n",
    "from torch.utils.data import Dataset, DataLoader\n",
    "from warnings import filterwarnings\n",
    "import torch.optim as optim\n",
    "from torch.optim.lr_scheduler import ReduceLROnPlateau\n",
    "from sklearn.metrics import mean_absolute_percentage_error as mape\n",
    "from tqdm import tqdm\n",
    "from typing import List, Optional\n",
    "import glob\n",
    "\n",
    "from facemesh import FaceMeshBlock, FaceMesh\n",
    "from pupil_detection import IrisLM, IrisBlock\n",
    "from util_funcs import pad_image\n",
    "from face_detector import FaceDetector\n",
    "\n",
    "filterwarnings('ignore')\n",
    "tqdm.pandas()"
   ]
  },
  {
   "cell_type": "code",
   "execution_count": 3,
   "id": "b8100d5f-67ed-4a2f-bb04-ded91994f01f",
   "metadata": {},
   "outputs": [
    {
     "data": {
      "text/plain": [
       "True"
      ]
     },
     "execution_count": 3,
     "metadata": {},
     "output_type": "execute_result"
    }
   ],
   "source": [
    "torch.cuda.is_available()"
   ]
  },
  {
   "cell_type": "markdown",
   "id": "c3a835bd-123b-4e1a-b2bc-430c91667182",
   "metadata": {},
   "source": [
    "### Dataset"
   ]
  },
  {
   "cell_type": "code",
   "execution_count": 4,
   "id": "13955adb-5001-4306-b59a-e66d9acc3804",
   "metadata": {},
   "outputs": [],
   "source": [
    "class EyesExtractor:\n",
    "    def __init__(\n",
    "        self,\n",
    "        save_folder: Optional[str] = None,\n",
    "        facemesh_weights: str = \"./weights/facemesh.pth\",\n",
    "        device: str = \"cpu\"\n",
    "    ):\n",
    "        self.facemesh =  FaceMesh().to(device)\n",
    "        self.facemesh.load_weights(facemesh_weights)\n",
    "        self.left_eye_indices = [33, 7, 163, 144, 145, 153, 154, 155,\n",
    "                                 246, 161, 160, 159, 158, 157, 173, 133]\n",
    "        self.right_eye_indices = [249, 263, 362, 373, 374, 380, 381, 382,\n",
    "                                  384, 385, 386, 387, 388, 390, 398, 466]\n",
    "\n",
    "    def get_eye_crop(self, points: np.array, img: np.array, which_eye: str):\n",
    "        h, w, _ = img.shape\n",
    "        sorted_point_x = sorted(points, key = lambda x: x[0])\n",
    "        sorted_point_y = sorted(points, key = lambda x: x[1])\n",
    "        left_point = sorted_point_x[0]\n",
    "        right_point = sorted_point_x[-1]\n",
    "        up_point = sorted_point_y[0]\n",
    "        down_point = sorted_point_y[-1]\n",
    "        multiplicator = 1/2\n",
    "        margin_x_left = max(64 - (right_point[0] - left_point[0]), 0) * multiplicator\n",
    "        margin_x_right = max(64 - (right_point[0] - left_point[0]), 0) * (1 - multiplicator)\n",
    "        margin_y = max(64 - (down_point[1] - up_point[1]), 0) / 2\n",
    "        min_x, max_x = max(0, int(left_point[0] - margin_x_left)), min(w, int(right_point[0] + margin_x_right))\n",
    "        min_y, max_y = max(0, int(up_point[1] - margin_y)), min(h, int(down_point[1] + margin_y))\n",
    "        img_eye = img[min_y: max_y, min_x: max_x, :]\n",
    "        left_top_point = (min_x, min_y) \n",
    "        return img_eye, left_top_point\n",
    "\n",
    "\n",
    "    def extract_eyes(self, face_crop: np.ndarray):\n",
    "        face_crop = cv2.resize(face_crop, (192, 192), interpolation = cv2.INTER_LINEAR)\n",
    "        face_crop = cv2.flip(face_crop, 1)\n",
    "        facemesh_points = self.facemesh.predict_on_image(face_crop).cpu().numpy()\n",
    "        left_eye_points = facemesh_points[self.left_eye_indices]\n",
    "        right_eye_points = facemesh_points[self.right_eye_indices]\n",
    "        img_eye_left, _ = self.get_eye_crop(left_eye_points, face_crop, which_eye = \"left\")\n",
    "        img_eye_right, _ = self.get_eye_crop(right_eye_points, face_crop, which_eye = \"right\")\n",
    "        return img_eye_left, img_eye_right"
   ]
  },
  {
   "cell_type": "code",
   "execution_count": 5,
   "id": "41c9a0be-cdc7-40a5-9787-d774d5760135",
   "metadata": {},
   "outputs": [],
   "source": [
    "class GazeDetectionDataset(Dataset):\n",
    "    \"\"\"Gaze detection dataset.\"\"\"\n",
    "\n",
    "    def __init__(\n",
    "        self,\n",
    "        data: pd.DataFrame,\n",
    "        transform_list: Optional[List]= None,\n",
    "        to_tensors: bool = False,\n",
    "        device: str = \"cpu\",\n",
    "        inference: bool = False,\n",
    "        screen_features: bool = False,\n",
    "        precompute_folder: str = \"./data_precompute\"\n",
    "    ):\n",
    "        \"\"\"\n",
    "        Arguments:\n",
    "            csv_file (string): Path to the csv file with annotations.\n",
    "            transform (callable, optional): Optional transform to be applied\n",
    "                on a sample.\n",
    "        \"\"\"\n",
    "        self.df = data.copy()\n",
    "        self.to_tensors = to_tensors\n",
    "        transform_list_ = transform_list.copy()\n",
    "        if to_tensors:\n",
    "            transform_list_.append(ToTensorV2())\n",
    "        transform_list_eyes = []\n",
    "        if to_tensors:\n",
    "            transform_list_eyes.append(ToTensorV2())\n",
    "        self.transform = A.Compose(transform_list_)\n",
    "        self.transform_eyes = A.Compose(transform_list_eyes)\n",
    "        transform_list_mask = [A.Resize(25, 25)]\n",
    "        if to_tensors:\n",
    "            transform_list_mask.append(ToTensorV2())\n",
    "        self.transform_mask = A.Compose(transform_list_mask)\n",
    "        self.device = torch.device(device)\n",
    "        self.faceCascade = cv2.CascadeClassifier(\"./weights/haarcascade_frontalface_alt.xml\")\n",
    "        self.eyesExtractor = EyesExtractor(device = device)\n",
    "        self.inference = inference\n",
    "        if device != \"cpu\":\n",
    "            device = str(0)\n",
    "        self.face_detector = FaceDetector(device = device)\n",
    "        self.screen_features = screen_features\n",
    "        self.precompute_folder = precompute_folder\n",
    "        if not os.path.exists(precompute_folder):\n",
    "            os.mkdir(precompute_folder)\n",
    "            os.mkdir(os.path.join(precompute_folder, \"faces\"))\n",
    "            os.mkdir(os.path.join(precompute_folder, \"eyes\"))\n",
    "            os.mkdir(os.path.join(precompute_folder, \"bboxes\"))\n",
    "\n",
    "\n",
    "    def get_face_mask(self, frame, face_rect):\n",
    "        mask = np.zeros((frame.shape[0], frame.shape[1]))\n",
    "        if face_rect is None:\n",
    "            return mask\n",
    "        mask[\n",
    "            face_rect[1] : face_rect[1] + face_rect[3],\n",
    "            face_rect[0] : face_rect[0] + face_rect[2]\n",
    "        ] = 1\n",
    "        return mask\n",
    "\n",
    "    def __len__(self):\n",
    "        return len(self.df)\n",
    "\n",
    "    def __getitem__(self, idx):\n",
    "        if torch.is_tensor(idx):\n",
    "            idx = idx.tolist()\n",
    "        row = self.df.iloc[idx]\n",
    "        img_path = row['paths']\n",
    "        try:\n",
    "            image_orig = cv2.imread(img_path)\n",
    "            image_orig = cv2.cvtColor(image_orig, cv2.COLOR_BGR2RGB)\n",
    "            img_path_ = Path(img_path)\n",
    "            face_path = os.path.join(self.precompute_folder, \"faces\", img_path_.name)\n",
    "            face_rect_path = face_path.replace(\"faces\", \"bboxes\").replace(\".png\", \".npy\")\n",
    "            image, face_rect = self.face_detector.detect_face(img_path)\n",
    "            image = cv2.cvtColor(image, cv2.COLOR_BGR2RGB)\n",
    "            face_mask = self.get_face_mask(image_orig, face_rect)\n",
    "            eyes_path_l = face_path.replace(\"faces\", \"eyes\").replace(\".png\", \"_left.png\")\n",
    "            eyes_path_r = face_path.replace(\"faces\", \"eyes\").replace(\".png\", \"_right.png\")\n",
    "            image_eye_l, image_eye_r = self.eyesExtractor.extract_eyes(image)\n",
    "            image_eye_l_ = cv2.cvtColor(image_eye_l, cv2.COLOR_RGB2BGR)\n",
    "            image_eye_r_ = cv2.cvtColor(image_eye_r, cv2.COLOR_RGB2BGR)\n",
    "            image = image / 255.\n",
    "            image_eye_l = image_eye_l / 255.\n",
    "            image_eye_r = image_eye_r / 255.\n",
    "        except Exception:\n",
    "            raise Exception(f\"Image {img_path}, {eye_left_path} failed loading\")\n",
    "        if not self.inference:\n",
    "            coordinates = row[['x_normalized', 'y_normalized']].values.astype(np.float32)\n",
    "        if self.screen_features:\n",
    "            screen_feat = row[[\n",
    "                'Screen Width (cm)',\n",
    "                'Screen Height (cm)',\n",
    "                'Distance From Screen (cm)'\n",
    "            ]].values.astype(np.float32)\n",
    "            screen_feat = (screen_feat - screen_feat.mean()) / screen_feat.std()\n",
    "        \n",
    "        if self.transform:\n",
    "            image = self.transform(image = image)['image']\n",
    "            face_mask = self.transform_mask(image = face_mask)['image']\n",
    "            image_eye_l = self.transform_eyes(image = image_eye_l)['image']\n",
    "            image_eye_r = self.transform_eyes(image = image_eye_r)['image']\n",
    "            if self.to_tensors:\n",
    "                if not self.inference:\n",
    "                    coordinates = torch.from_numpy(coordinates).to(self.device)\n",
    "                if self.screen_features:\n",
    "                    screen_feat = torch.from_numpy(screen_feat).to(self.device)\n",
    "                image = image.type(torch.float32).to(self.device)\n",
    "                image_eye_l = image_eye_l.type(torch.float32).to(self.device)\n",
    "                image_eye_r = image_eye_r.type(torch.float32).to(self.device)\n",
    "                face_mask = face_mask.type(torch.float32).to(self.device)\n",
    "            \n",
    "        sample = {'image': image, \"eye_l\": image_eye_l,\n",
    "                  \"eye_r\": image_eye_r, \"face_mask\": face_mask}\n",
    "        if not self.inference:\n",
    "            sample['coordinates'] = coordinates\n",
    "        if self.screen_features:\n",
    "            sample['screen_features'] = screen_feat\n",
    "        return sample"
   ]
  },
  {
   "cell_type": "markdown",
   "id": "d57884fc-0208-4f6f-b5f8-753fe722d9a9",
   "metadata": {},
   "source": [
    "#### Extract frames"
   ]
  },
  {
   "cell_type": "code",
   "execution_count": 6,
   "id": "90182a7f-2469-4146-89d0-a13fe6c4a969",
   "metadata": {},
   "outputs": [],
   "source": [
    "from pathlib import Path\n",
    "from video2images import Video2Images"
   ]
  },
  {
   "cell_type": "code",
   "execution_count": 8,
   "id": "83ccb7e2-38d8-43bd-ae7d-b958452d40b9",
   "metadata": {},
   "outputs": [],
   "source": [
    "out_folder = \"./real_experiment/frames_test_new/\""
   ]
  },
  {
   "cell_type": "code",
   "execution_count": 78,
   "id": "dc052afa-a3cb-42df-be7e-6cb99db7e656",
   "metadata": {},
   "outputs": [],
   "source": [
    "if not os.path.exists(out_folder):\n",
    "    os.mkdir(out_folder)"
   ]
  },
  {
   "cell_type": "code",
   "execution_count": 47,
   "id": "b44db005-f820-4d30-af2f-f61ecff6e5fd",
   "metadata": {},
   "outputs": [
    {
     "name": "stdout",
     "output_type": "stream",
     "text": [
      " Video Duration is \u001b[1;33m0hr: 0min: 29sec \u001b[00m\n",
      " The input Video FPS is 30 frames/sec\n",
      " Capture rate is default FPS of input video i.e 30 frames/sec\n"
     ]
    },
    {
     "name": "stderr",
     "output_type": "stream",
     "text": [
      "\u001b[1;37m Capturing Frames... \u001b[00m:  99%|███████████████▉| 895/900 [03:39<00:01,  4.09iter/s]\u001b[0m"
     ]
    },
    {
     "name": "stdout",
     "output_type": "stream",
     "text": [
      "\u001b[1;32;40m Done. Total frames captured: 895 \u001b[00m\n"
     ]
    },
    {
     "name": "stderr",
     "output_type": "stream",
     "text": [
      "\n"
     ]
    },
    {
     "data": {
      "text/plain": [
       "<video2images.video2images.Video2Images at 0x7f3cfbfec640>"
      ]
     },
     "execution_count": 47,
     "metadata": {},
     "output_type": "execute_result"
    }
   ],
   "source": [
    "Video2Images(video_filepath=\"./test_6_2.mov\",\n",
    "             save_format=\".png\",\n",
    "             out_dir=out_folder)"
   ]
  },
  {
   "cell_type": "code",
   "execution_count": 64,
   "id": "c6ba379d-2cc9-4087-83ec-4041497ef3cf",
   "metadata": {},
   "outputs": [],
   "source": [
    "res = !ls $out_folder"
   ]
  },
  {
   "cell_type": "code",
   "execution_count": 65,
   "id": "0bec778b-c7ce-4b5c-8899-3b15a6970691",
   "metadata": {},
   "outputs": [],
   "source": [
    "tmp_dir =  f\"{out_folder}/{res[0]}/\""
   ]
  },
  {
   "cell_type": "code",
   "execution_count": 66,
   "id": "af7f4e39-1347-49b5-b388-52f4ebad43c2",
   "metadata": {},
   "outputs": [],
   "source": [
    "filenames = os.listdir(tmp_dir)"
   ]
  },
  {
   "cell_type": "code",
   "execution_count": 67,
   "id": "079619d3-fc13-4d5c-8921-a1b24d5a6c39",
   "metadata": {},
   "outputs": [],
   "source": [
    "for filename in filenames:\n",
    "    os.rename(os.path.join(tmp_dir, filename), os.path.join(out_folder, filename))"
   ]
  },
  {
   "cell_type": "code",
   "execution_count": 68,
   "id": "3a4656a6-36fd-4042-8c3f-fb18aff16a0d",
   "metadata": {},
   "outputs": [
    {
     "data": {
      "text/plain": [
       "'./test_frames_6_//frames_folder_2023-10-09 10:03:25/'"
      ]
     },
     "execution_count": 68,
     "metadata": {},
     "output_type": "execute_result"
    }
   ],
   "source": [
    "tmp_dir"
   ]
  },
  {
   "cell_type": "code",
   "execution_count": 69,
   "id": "f7573571-d029-457f-9938-fda279497bd9",
   "metadata": {},
   "outputs": [],
   "source": [
    "!rm -r './test_frames_6_/frames_folder_2023-10-09 10:03:25/'"
   ]
  },
  {
   "cell_type": "code",
   "execution_count": 7,
   "id": "7064bf0c-6e00-4188-b5b1-c2169408dc5a",
   "metadata": {},
   "outputs": [],
   "source": [
    "# p = Path(out_folder).glob('*.png')"
   ]
  },
  {
   "cell_type": "code",
   "execution_count": 8,
   "id": "17053898-a28d-48fc-8bd0-a848510ca44c",
   "metadata": {},
   "outputs": [],
   "source": [
    "# paths = [str(path.absolute()) for path in p]"
   ]
  },
  {
   "cell_type": "code",
   "execution_count": 9,
   "id": "8d848216-8609-4a70-853b-1fe4657fb224",
   "metadata": {},
   "outputs": [],
   "source": [
    "# df_files = pd.DataFrame({\"paths\": paths})\n",
    "# df_files[\"ind\"] = df_files.paths.apply(lambda x: str(Path(x).stem))\n",
    "# df_files = df_files.sort_values(\"ind\")"
   ]
  },
  {
   "cell_type": "code",
   "execution_count": 10,
   "id": "9114a8f5-732b-419a-b9b1-b35f5a614f4b",
   "metadata": {},
   "outputs": [
    {
     "data": {
      "text/html": [
       "<div>\n",
       "<style scoped>\n",
       "    .dataframe tbody tr th:only-of-type {\n",
       "        vertical-align: middle;\n",
       "    }\n",
       "\n",
       "    .dataframe tbody tr th {\n",
       "        vertical-align: top;\n",
       "    }\n",
       "\n",
       "    .dataframe thead th {\n",
       "        text-align: right;\n",
       "    }\n",
       "</style>\n",
       "<table border=\"1\" class=\"dataframe\">\n",
       "  <thead>\n",
       "    <tr style=\"text-align: right;\">\n",
       "      <th></th>\n",
       "      <th>timestamp</th>\n",
       "      <th>x_gt</th>\n",
       "      <th>y_gt</th>\n",
       "      <th>x1</th>\n",
       "      <th>y1</th>\n",
       "      <th>...</th>\n",
       "      <th>y2</th>\n",
       "      <th>screen_w</th>\n",
       "      <th>screen_h</th>\n",
       "      <th>x_normalized</th>\n",
       "      <th>y_normalized</th>\n",
       "    </tr>\n",
       "  </thead>\n",
       "  <tbody>\n",
       "    <tr>\n",
       "      <th>0</th>\n",
       "      <td>1697215152.7968462</td>\n",
       "      <td>826</td>\n",
       "      <td>1270</td>\n",
       "      <td>746</td>\n",
       "      <td>1190</td>\n",
       "      <td>...</td>\n",
       "      <td>1350</td>\n",
       "      <td>2474</td>\n",
       "      <td>1520</td>\n",
       "      <td>0.333872</td>\n",
       "      <td>0.835526</td>\n",
       "    </tr>\n",
       "    <tr>\n",
       "      <th>1</th>\n",
       "      <td>1697215154.226548</td>\n",
       "      <td>1071</td>\n",
       "      <td>1258</td>\n",
       "      <td>991</td>\n",
       "      <td>1178</td>\n",
       "      <td>...</td>\n",
       "      <td>1338</td>\n",
       "      <td>2474</td>\n",
       "      <td>1520</td>\n",
       "      <td>0.432902</td>\n",
       "      <td>0.827632</td>\n",
       "    </tr>\n",
       "    <tr>\n",
       "      <th>2</th>\n",
       "      <td>1697215155.6258729</td>\n",
       "      <td>1340</td>\n",
       "      <td>1267</td>\n",
       "      <td>1260</td>\n",
       "      <td>1187</td>\n",
       "      <td>...</td>\n",
       "      <td>1347</td>\n",
       "      <td>2474</td>\n",
       "      <td>1520</td>\n",
       "      <td>0.541633</td>\n",
       "      <td>0.833553</td>\n",
       "    </tr>\n",
       "    <tr>\n",
       "      <th>3</th>\n",
       "      <td>1697215157.191714</td>\n",
       "      <td>1577</td>\n",
       "      <td>1270</td>\n",
       "      <td>1497</td>\n",
       "      <td>1190</td>\n",
       "      <td>...</td>\n",
       "      <td>1350</td>\n",
       "      <td>2474</td>\n",
       "      <td>1520</td>\n",
       "      <td>0.637429</td>\n",
       "      <td>0.835526</td>\n",
       "    </tr>\n",
       "    <tr>\n",
       "      <th>4</th>\n",
       "      <td>1697215158.89118</td>\n",
       "      <td>1763</td>\n",
       "      <td>1267</td>\n",
       "      <td>1683</td>\n",
       "      <td>1187</td>\n",
       "      <td>...</td>\n",
       "      <td>1347</td>\n",
       "      <td>2474</td>\n",
       "      <td>1520</td>\n",
       "      <td>0.712611</td>\n",
       "      <td>0.833553</td>\n",
       "    </tr>\n",
       "  </tbody>\n",
       "</table>\n",
       "<p>5 rows × 11 columns</p>\n",
       "</div>"
      ],
      "text/plain": [
       "            timestamp  x_gt  y_gt    x1    y1  ...    y2  screen_w  screen_h  \\\n",
       "0  1697215152.7968462   826  1270   746  1190  ...  1350      2474      1520   \n",
       "1   1697215154.226548  1071  1258   991  1178  ...  1338      2474      1520   \n",
       "2  1697215155.6258729  1340  1267  1260  1187  ...  1347      2474      1520   \n",
       "3   1697215157.191714  1577  1270  1497  1190  ...  1350      2474      1520   \n",
       "4    1697215158.89118  1763  1267  1683  1187  ...  1347      2474      1520   \n",
       "\n",
       "   x_normalized  y_normalized  \n",
       "0      0.333872      0.835526  \n",
       "1      0.432902      0.827632  \n",
       "2      0.541633      0.833553  \n",
       "3      0.637429      0.835526  \n",
       "4      0.712611      0.833553  \n",
       "\n",
       "[5 rows x 11 columns]"
      ]
     },
     "execution_count": 10,
     "metadata": {},
     "output_type": "execute_result"
    }
   ],
   "source": [
    "# df = pd.read_csv(\n",
    "#     \"./real_experiment/points_test_new.txt\",\n",
    "#     sep = \" \",\n",
    "#     header=None\n",
    "# )\n",
    "# cols = [\n",
    "#     \"timestamp\", \"x_gt\", \"y_gt\", \"x1\", \"y1\",\n",
    "#     \"x2\", \"y2\", \"screen_w\", \"screen_h\"\n",
    "# ]\n",
    "# df.columns = cols\n",
    "\n",
    "# df[\"x_normalized\"] = df[\"x_gt\"] / df[\"screen_w\"]\n",
    "# df[\"y_normalized\"] = df[\"y_gt\"] / df[\"screen_h\"]\n",
    "# df[\"timestamp\"] = df[\"timestamp\"].apply(str)\n",
    "# df.head()"
   ]
  },
  {
   "cell_type": "code",
   "execution_count": 11,
   "id": "7d791ceb-8157-48d5-ae70-7bcf10a5b2fa",
   "metadata": {},
   "outputs": [],
   "source": [
    "# df_files = df_files.merge(df, left_on=\"ind\", right_on=\"timestamp\").drop(columns = [\"ind\"])"
   ]
  },
  {
   "cell_type": "code",
   "execution_count": 12,
   "id": "e3f297d1-c989-4e02-9dd1-27999d8f4d47",
   "metadata": {},
   "outputs": [
    {
     "data": {
      "text/plain": [
       "'/home/ubuntu/projects/tweakle/gaze_detection/real_experiment/frames_test_new/1697215152.7968462.png'"
      ]
     },
     "execution_count": 12,
     "metadata": {},
     "output_type": "execute_result"
    }
   ],
   "source": [
    "# df_files[\"paths\"].iloc[0]"
   ]
  },
  {
   "cell_type": "code",
   "execution_count": 7,
   "id": "aac112a5-dc65-4573-942c-2c7029a579e2",
   "metadata": {},
   "outputs": [
    {
     "name": "stderr",
     "output_type": "stream",
     "text": [
      "100%|████████████████████████████████████████████| 8/8 [00:00<00:00, 107.04it/s]\n"
     ]
    }
   ],
   "source": [
    "base_folder = \"./real_experiment/calibration_dataset/\"\n",
    "frames_folder = \"frames\"\n",
    "annotations_folder = \"annotations\"\n",
    "frames_folders_path = os.path.join(base_folder, frames_folder)\n",
    "dfs = []\n",
    "for frames_name in tqdm(os.listdir(frames_folders_path)):\n",
    "    ann_path = os.path.join(base_folder, annotations_folder, f\"{frames_name}.txt\").replace(\"frames\", \"points\")\n",
    "    frames_path = os.path.join(frames_folders_path, frames_name)\n",
    "    p = Path(frames_path).glob('*.png')\n",
    "    paths = [str(path.absolute()) for path in p]\n",
    "    df_files = pd.DataFrame({\"paths\": paths})\n",
    "    df_files[\"ind\"] = df_files.paths.apply(lambda x: Path(x).stem)\n",
    "    df = pd.read_csv(\n",
    "        ann_path,\n",
    "        sep = \" \",\n",
    "        header=None\n",
    "    )\n",
    "    cols = [\n",
    "        \"timestamp\", \"x_gt\", \"y_gt\", \"x1\", \"y1\",\n",
    "        \"x2\", \"y2\", \"screen_w\", \"screen_h\"\n",
    "    ]\n",
    "    df.columns = cols\n",
    "    \n",
    "    df[\"x_normalized\"] = df[\"x_gt\"] / df[\"screen_w\"]\n",
    "    df[\"y_normalized\"] = df[\"y_gt\"] / df[\"screen_h\"]\n",
    "    df[\"timestamp\"] = df[\"timestamp\"].apply(str)\n",
    "    full_df = df_files.merge(df, left_on=\"ind\", right_on=\"timestamp\").drop(columns = [\"ind\"])\n",
    "    dfs.append(full_df)"
   ]
  },
  {
   "cell_type": "code",
   "execution_count": 8,
   "id": "10b19bea-ce92-4b6a-80e8-08504a3feb57",
   "metadata": {},
   "outputs": [],
   "source": [
    "df_files = pd.concat(dfs)"
   ]
  },
  {
   "cell_type": "code",
   "execution_count": 9,
   "id": "144fdb9a-46c8-4ec1-9305-bf923ae34e3a",
   "metadata": {},
   "outputs": [
    {
     "data": {
      "text/plain": [
       "(855, 12)"
      ]
     },
     "execution_count": 9,
     "metadata": {},
     "output_type": "execute_result"
    }
   ],
   "source": [
    "df_files.shape"
   ]
  },
  {
   "cell_type": "code",
   "execution_count": 10,
   "id": "8c2979ba-6875-47fb-a948-19bb5f764250",
   "metadata": {},
   "outputs": [
    {
     "data": {
      "text/html": [
       "<div>\n",
       "<style scoped>\n",
       "    .dataframe tbody tr th:only-of-type {\n",
       "        vertical-align: middle;\n",
       "    }\n",
       "\n",
       "    .dataframe tbody tr th {\n",
       "        vertical-align: top;\n",
       "    }\n",
       "\n",
       "    .dataframe thead th {\n",
       "        text-align: right;\n",
       "    }\n",
       "</style>\n",
       "<table border=\"1\" class=\"dataframe\">\n",
       "  <thead>\n",
       "    <tr style=\"text-align: right;\">\n",
       "      <th></th>\n",
       "      <th>paths</th>\n",
       "      <th>timestamp</th>\n",
       "      <th>x_gt</th>\n",
       "      <th>y_gt</th>\n",
       "      <th>x1</th>\n",
       "      <th>...</th>\n",
       "      <th>y2</th>\n",
       "      <th>screen_w</th>\n",
       "      <th>screen_h</th>\n",
       "      <th>x_normalized</th>\n",
       "      <th>y_normalized</th>\n",
       "    </tr>\n",
       "  </thead>\n",
       "  <tbody>\n",
       "    <tr>\n",
       "      <th>0</th>\n",
       "      <td>/home/ubuntu/projects/tweakle/gaze_detection/r...</td>\n",
       "      <td>1697560961.6314769</td>\n",
       "      <td>1099</td>\n",
       "      <td>955</td>\n",
       "      <td>1019</td>\n",
       "      <td>...</td>\n",
       "      <td>1035</td>\n",
       "      <td>2474</td>\n",
       "      <td>1520</td>\n",
       "      <td>0.44422</td>\n",
       "      <td>0.628289</td>\n",
       "    </tr>\n",
       "    <tr>\n",
       "      <th>1</th>\n",
       "      <td>/home/ubuntu/projects/tweakle/gaze_detection/r...</td>\n",
       "      <td>1697560897.391387</td>\n",
       "      <td>2129</td>\n",
       "      <td>76</td>\n",
       "      <td>2049</td>\n",
       "      <td>...</td>\n",
       "      <td>156</td>\n",
       "      <td>2474</td>\n",
       "      <td>1520</td>\n",
       "      <td>0.86055</td>\n",
       "      <td>0.050000</td>\n",
       "    </tr>\n",
       "    <tr>\n",
       "      <th>2</th>\n",
       "      <td>/home/ubuntu/projects/tweakle/gaze_detection/r...</td>\n",
       "      <td>1697560962.5641332</td>\n",
       "      <td>1099</td>\n",
       "      <td>955</td>\n",
       "      <td>1019</td>\n",
       "      <td>...</td>\n",
       "      <td>1035</td>\n",
       "      <td>2474</td>\n",
       "      <td>1520</td>\n",
       "      <td>0.44422</td>\n",
       "      <td>0.628289</td>\n",
       "    </tr>\n",
       "  </tbody>\n",
       "</table>\n",
       "<p>3 rows × 12 columns</p>\n",
       "</div>"
      ],
      "text/plain": [
       "                                               paths           timestamp  \\\n",
       "0  /home/ubuntu/projects/tweakle/gaze_detection/r...  1697560961.6314769   \n",
       "1  /home/ubuntu/projects/tweakle/gaze_detection/r...   1697560897.391387   \n",
       "2  /home/ubuntu/projects/tweakle/gaze_detection/r...  1697560962.5641332   \n",
       "\n",
       "   x_gt  y_gt    x1  ...    y2  screen_w  screen_h  x_normalized  y_normalized  \n",
       "0  1099   955  1019  ...  1035      2474      1520       0.44422      0.628289  \n",
       "1  2129    76  2049  ...   156      2474      1520       0.86055      0.050000  \n",
       "2  1099   955  1019  ...  1035      2474      1520       0.44422      0.628289  \n",
       "\n",
       "[3 rows x 12 columns]"
      ]
     },
     "execution_count": 10,
     "metadata": {},
     "output_type": "execute_result"
    }
   ],
   "source": [
    "df_files.head(3)"
   ]
  },
  {
   "cell_type": "code",
   "execution_count": 11,
   "id": "f3de2faf-ce1f-4734-9306-434533c6c996",
   "metadata": {},
   "outputs": [],
   "source": [
    "df_files[\"participant_name\"] = df_files[\"paths\"].apply(lambda x: x.split(\"/\")[-2].split(\"_\")[2])"
   ]
  },
  {
   "cell_type": "code",
   "execution_count": 12,
   "id": "471cc35e-b139-4022-be45-381ad566f7c5",
   "metadata": {},
   "outputs": [],
   "source": [
    "df_files = df_files[df_files[\"participant_name\"] == \"marina\"]"
   ]
  },
  {
   "cell_type": "code",
   "execution_count": 13,
   "id": "b5951a3b-7184-4187-9b80-4c01807c8bec",
   "metadata": {},
   "outputs": [
    {
     "data": {
      "text/plain": [
       "(133, 13)"
      ]
     },
     "execution_count": 13,
     "metadata": {},
     "output_type": "execute_result"
    }
   ],
   "source": [
    "df_files.shape"
   ]
  },
  {
   "cell_type": "code",
   "execution_count": 14,
   "id": "03b32244-f897-4281-a371-a624f9b8aa40",
   "metadata": {},
   "outputs": [
    {
     "data": {
      "text/html": [
       "<div>\n",
       "<style scoped>\n",
       "    .dataframe tbody tr th:only-of-type {\n",
       "        vertical-align: middle;\n",
       "    }\n",
       "\n",
       "    .dataframe tbody tr th {\n",
       "        vertical-align: top;\n",
       "    }\n",
       "\n",
       "    .dataframe thead th {\n",
       "        text-align: right;\n",
       "    }\n",
       "</style>\n",
       "<table border=\"1\" class=\"dataframe\">\n",
       "  <thead>\n",
       "    <tr style=\"text-align: right;\">\n",
       "      <th></th>\n",
       "      <th>paths</th>\n",
       "      <th>timestamp</th>\n",
       "      <th>x_gt</th>\n",
       "      <th>y_gt</th>\n",
       "      <th>x1</th>\n",
       "      <th>...</th>\n",
       "      <th>screen_w</th>\n",
       "      <th>screen_h</th>\n",
       "      <th>x_normalized</th>\n",
       "      <th>y_normalized</th>\n",
       "      <th>participant_name</th>\n",
       "    </tr>\n",
       "  </thead>\n",
       "  <tbody>\n",
       "    <tr>\n",
       "      <th>0</th>\n",
       "      <td>/home/ubuntu/projects/tweakle/gaze_detection/r...</td>\n",
       "      <td>1697650382.32567</td>\n",
       "      <td>1845</td>\n",
       "      <td>367</td>\n",
       "      <td>1765</td>\n",
       "      <td>...</td>\n",
       "      <td>2474</td>\n",
       "      <td>1520</td>\n",
       "      <td>0.745756</td>\n",
       "      <td>0.241447</td>\n",
       "      <td>marina</td>\n",
       "    </tr>\n",
       "    <tr>\n",
       "      <th>1</th>\n",
       "      <td>/home/ubuntu/projects/tweakle/gaze_detection/r...</td>\n",
       "      <td>1697650347.0760791</td>\n",
       "      <td>2463</td>\n",
       "      <td>1358</td>\n",
       "      <td>2383</td>\n",
       "      <td>...</td>\n",
       "      <td>2474</td>\n",
       "      <td>1520</td>\n",
       "      <td>0.995554</td>\n",
       "      <td>0.893421</td>\n",
       "      <td>marina</td>\n",
       "    </tr>\n",
       "    <tr>\n",
       "      <th>2</th>\n",
       "      <td>/home/ubuntu/projects/tweakle/gaze_detection/r...</td>\n",
       "      <td>1697650325.385819</td>\n",
       "      <td>854</td>\n",
       "      <td>1341</td>\n",
       "      <td>774</td>\n",
       "      <td>...</td>\n",
       "      <td>2474</td>\n",
       "      <td>1520</td>\n",
       "      <td>0.345190</td>\n",
       "      <td>0.882237</td>\n",
       "      <td>marina</td>\n",
       "    </tr>\n",
       "    <tr>\n",
       "      <th>3</th>\n",
       "      <td>/home/ubuntu/projects/tweakle/gaze_detection/r...</td>\n",
       "      <td>1697650354.374967</td>\n",
       "      <td>2209</td>\n",
       "      <td>1125</td>\n",
       "      <td>2129</td>\n",
       "      <td>...</td>\n",
       "      <td>2474</td>\n",
       "      <td>1520</td>\n",
       "      <td>0.892886</td>\n",
       "      <td>0.740132</td>\n",
       "      <td>marina</td>\n",
       "    </tr>\n",
       "    <tr>\n",
       "      <th>4</th>\n",
       "      <td>/home/ubuntu/projects/tweakle/gaze_detection/r...</td>\n",
       "      <td>1697650374.0317252</td>\n",
       "      <td>2221</td>\n",
       "      <td>664</td>\n",
       "      <td>2141</td>\n",
       "      <td>...</td>\n",
       "      <td>2474</td>\n",
       "      <td>1520</td>\n",
       "      <td>0.897736</td>\n",
       "      <td>0.436842</td>\n",
       "      <td>marina</td>\n",
       "    </tr>\n",
       "  </tbody>\n",
       "</table>\n",
       "<p>5 rows × 13 columns</p>\n",
       "</div>"
      ],
      "text/plain": [
       "                                               paths           timestamp  \\\n",
       "0  /home/ubuntu/projects/tweakle/gaze_detection/r...    1697650382.32567   \n",
       "1  /home/ubuntu/projects/tweakle/gaze_detection/r...  1697650347.0760791   \n",
       "2  /home/ubuntu/projects/tweakle/gaze_detection/r...   1697650325.385819   \n",
       "3  /home/ubuntu/projects/tweakle/gaze_detection/r...   1697650354.374967   \n",
       "4  /home/ubuntu/projects/tweakle/gaze_detection/r...  1697650374.0317252   \n",
       "\n",
       "   x_gt  y_gt    x1  ...  screen_w  screen_h  x_normalized  y_normalized  \\\n",
       "0  1845   367  1765  ...      2474      1520      0.745756      0.241447   \n",
       "1  2463  1358  2383  ...      2474      1520      0.995554      0.893421   \n",
       "2   854  1341   774  ...      2474      1520      0.345190      0.882237   \n",
       "3  2209  1125  2129  ...      2474      1520      0.892886      0.740132   \n",
       "4  2221   664  2141  ...      2474      1520      0.897736      0.436842   \n",
       "\n",
       "   participant_name  \n",
       "0            marina  \n",
       "1            marina  \n",
       "2            marina  \n",
       "3            marina  \n",
       "4            marina  \n",
       "\n",
       "[5 rows x 13 columns]"
      ]
     },
     "execution_count": 14,
     "metadata": {},
     "output_type": "execute_result"
    }
   ],
   "source": [
    "df_files.head()"
   ]
  },
  {
   "cell_type": "code",
   "execution_count": 15,
   "id": "dbade8c1-60e8-4ecb-86b6-d9155cd7200a",
   "metadata": {},
   "outputs": [],
   "source": [
    "# with open(\"./closed_eyes.txt\", \"r\") as f:\n",
    "#     st = f.read().strip(\" \\n\")"
   ]
  },
  {
   "cell_type": "code",
   "execution_count": 16,
   "id": "75226b6b-b4b3-47a4-b2af-952b6c1ef0d6",
   "metadata": {},
   "outputs": [],
   "source": [
    "# img_noeyes = st.split(\"\\n\")"
   ]
  },
  {
   "cell_type": "code",
   "execution_count": 17,
   "id": "a3f826d0-c9a1-4166-8b17-4cb17f096133",
   "metadata": {},
   "outputs": [],
   "source": [
    "# df_files[\"closed_eyes\"] = df_files[\"paths\"].apply(lambda x: x not in [str(Path(x).absolute()) for x in img_noeyes])"
   ]
  },
  {
   "cell_type": "code",
   "execution_count": 18,
   "id": "28ad46ec-114b-484e-8651-a53d81d86649",
   "metadata": {},
   "outputs": [],
   "source": [
    "# not_closed_eyes = df_files[\"closed_eyes\"].values"
   ]
  },
  {
   "cell_type": "code",
   "execution_count": 19,
   "id": "5096a51e-43cb-494d-8990-11f92e80aea7",
   "metadata": {},
   "outputs": [],
   "source": [
    "# width_screen_cm, height_screen_cm, distance_screen_cm = 28.5, 18., 60."
   ]
  },
  {
   "cell_type": "code",
   "execution_count": 20,
   "id": "105aadcd-96b0-4ac6-9cce-2aeda6c58f9f",
   "metadata": {},
   "outputs": [],
   "source": [
    "# df_files['Screen Width (cm)'] = [28.5] * df_files.shape[0]\n",
    "# df_files['Screen Height (cm)'] = [18.] * df_files.shape[0]\n",
    "# df_files['Distance From Screen (cm)'] = [60.] * df_files.shape[0]"
   ]
  },
  {
   "cell_type": "code",
   "execution_count": 21,
   "id": "77290acb-5ab8-447f-ad14-1eebab19e148",
   "metadata": {},
   "outputs": [],
   "source": [
    "trans_list = [\n",
    "        A.Resize(192, 192),\n",
    "        # ToTensorV2()\n",
    "    ]"
   ]
  },
  {
   "cell_type": "code",
   "execution_count": 84,
   "id": "d3416f2e-57c6-430a-901c-112bcdc6a450",
   "metadata": {},
   "outputs": [],
   "source": [
    "# data = pd.read_csv(\"./tobii_train_sub_updv2.csv\")"
   ]
  },
  {
   "cell_type": "code",
   "execution_count": 22,
   "id": "7c399132-ee49-4e3e-afd0-512c85425990",
   "metadata": {
    "scrolled": true
   },
   "outputs": [],
   "source": [
    "# face_dataset = GazeDetectionDataset(data=df_files, transform_list=trans_list, inference=True, screen_features=False)\n",
    "\n",
    "# fig = plt.figure()\n",
    "\n",
    "# for i, sample in enumerate(face_dataset):\n",
    "#     print(i, sample['image'].shape)\n",
    "\n",
    "#     ax = plt.subplot(1, 4, i + 1)\n",
    "#     plt.tight_layout()\n",
    "#     ax.set_title('Sample #{}'.format(i))\n",
    "#     ax.axis('off')\n",
    "#     ax.imshow(np.array(sample['image']))\n",
    "#     plt.show()\n",
    "#     ax = plt.subplot(1, 4, i + 1)\n",
    "#     plt.tight_layout()\n",
    "#     ax.set_title('Sample #{}'.format(i))\n",
    "#     ax.axis('off')\n",
    "#     ax.imshow(sample['eye_l'])\n",
    "#     plt.show()\n",
    "#     ax = plt.subplot(1, 4, i + 1)\n",
    "#     plt.tight_layout()\n",
    "#     ax.set_title('Sample #{}'.format(i))\n",
    "#     ax.axis('off')\n",
    "#     ax.imshow(sample['eye_r'])\n",
    "#     plt.show()\n",
    "#     ax = plt.subplot(1, 4, i + 1)\n",
    "#     plt.tight_layout()\n",
    "#     ax.set_title('Sample #{}'.format(i))\n",
    "#     ax.axis('off')\n",
    "#     ax.imshow(sample['face_mask'], cmap = \"gray\")\n",
    "#     plt.show()\n",
    "#     if i == 3:\n",
    "#         plt.show()\n",
    "#         break"
   ]
  },
  {
   "cell_type": "code",
   "execution_count": 23,
   "id": "487bd2bf-43f5-4a44-ac6d-f23981d21120",
   "metadata": {},
   "outputs": [
    {
     "data": {
      "text/plain": [
       "'cuda:0'"
      ]
     },
     "execution_count": 23,
     "metadata": {},
     "output_type": "execute_result"
    }
   ],
   "source": [
    "device = \"cuda:0\" if torch.cuda.is_available() else \"cpu\"\n",
    "device"
   ]
  },
  {
   "cell_type": "code",
   "execution_count": 24,
   "id": "ee148f00-8c75-482d-923e-8e8a323b8bed",
   "metadata": {},
   "outputs": [],
   "source": [
    "# face_dataset = GazeDetectionDataset(data = df_files, transform_list=trans_list,\n",
    "#                                     to_tensors=True, device=device, inference=True, screen_features=False))"
   ]
  },
  {
   "cell_type": "code",
   "execution_count": 25,
   "id": "c460d9fb-4ab8-4953-950e-bcd858c046a3",
   "metadata": {},
   "outputs": [],
   "source": [
    "# for i, sample in enumerate(face_dataset):\n",
    "#     print(i, sample['image'].size(), sample['eye_l'].size(), sample['face_mask'].size())\n",
    "#     if i == 3:\n",
    "#         break"
   ]
  },
  {
   "cell_type": "markdown",
   "id": "4423de00-cd84-4067-92ee-0bb2ad5d1eb2",
   "metadata": {},
   "source": [
    "### Model"
   ]
  },
  {
   "cell_type": "code",
   "execution_count": 26,
   "id": "ae9a0358-8c0a-43ad-b80b-e938597fddd3",
   "metadata": {},
   "outputs": [
    {
     "data": {
      "text/plain": [
       "<All keys matched successfully>"
      ]
     },
     "execution_count": 26,
     "metadata": {},
     "output_type": "execute_result"
    }
   ],
   "source": [
    "pretrained_model_face = FaceMesh()\n",
    "pretrained_model_face.load_weights(\"./weights/facemesh.pth\")\n",
    "\n",
    "model_path = \"./weights/irislandmarks.pth\"\n",
    "pretrained_model_eyes = IrisLM()\n",
    "weights = torch.load(model_path)\n",
    "pretrained_model_eyes.load_state_dict(weights)"
   ]
  },
  {
   "cell_type": "code",
   "execution_count": 27,
   "id": "d25b177f-77f8-47d7-a34b-42d5aabb4122",
   "metadata": {},
   "outputs": [],
   "source": [
    "class FaceGridModel(nn.Module):\n",
    "    def __init__(self, gridSize = 25):\n",
    "        super(FaceGridModel, self).__init__()\n",
    "        self.fc = nn.Sequential(\n",
    "            nn.Linear(gridSize * gridSize, 256),\n",
    "            nn.ReLU(inplace=True),\n",
    "            nn.Linear(256, 128),\n",
    "            nn.ReLU(inplace=True),\n",
    "            )\n",
    "\n",
    "    def forward(self, x):\n",
    "        x = x.view(x.size(0), -1)\n",
    "        x = self.fc(x)\n",
    "        return x"
   ]
  },
  {
   "cell_type": "code",
   "execution_count": 28,
   "id": "50a561a9-4d83-407f-8f99-6f65c701cc0c",
   "metadata": {},
   "outputs": [],
   "source": [
    "class EyesModel(nn.Module):\n",
    "    def __init__(self, pretrained_model_eyes: nn.Module):\n",
    "        super(EyesModel, self).__init__()\n",
    "        self.backbone = pretrained_model_eyes.backbone\n",
    "        self.regression_head_eyes = nn.Sequential(\n",
    "            IrisBlock(128, 128), IrisBlock(128, 128),\n",
    "            IrisBlock(128, 128, stride=2),\n",
    "            IrisBlock(128, 128), IrisBlock(128, 128),\n",
    "            IrisBlock(128, 128, stride=2),\n",
    "            IrisBlock(128, 128), IrisBlock(128, 128),\n",
    "        )\n",
    "        # connect eyes\n",
    "        self.fc = nn.Sequential(\n",
    "            nn.Linear(2 * 128 * 1 * 1, 128),\n",
    "            nn.ReLU(inplace=True),\n",
    "            nn.Linear(128, 128),\n",
    "            nn.ReLU(inplace=True),\n",
    "        )\n",
    "\n",
    "    def forward(self, x_eye_l, x_eye_r):\n",
    "        x_eye_l = self.backbone(x_eye_l)\n",
    "        x_eye_l = self.regression_head_eyes(x_eye_l)\n",
    "        x_eye_l = x_eye_l.view(-1, 128 * 1 * 1)\n",
    "\n",
    "        x_eye_r = self.backbone(x_eye_r)\n",
    "        x_eye_r = self.regression_head_eyes(x_eye_r)\n",
    "        x_eye_r = x_eye_r.view(-1, 128 * 1 * 1)\n",
    "        x = torch.cat([x_eye_l, x_eye_r], 1)\n",
    "        x = self.fc(x)\n",
    "        return x"
   ]
  },
  {
   "cell_type": "code",
   "execution_count": 29,
   "id": "a4f4223b-11b5-4ad3-9d50-8c06b833a6af",
   "metadata": {},
   "outputs": [],
   "source": [
    "class FaceModel(nn.Module):\n",
    "    def __init__(self, pretrained_model_face: nn.Module):\n",
    "        super(FaceModel, self).__init__()\n",
    "        self.backbone = pretrained_model_face.backbone\n",
    "        self.regression_head_face = nn.Sequential(\n",
    "            FaceMeshBlock(128, 128, stride=2),\n",
    "            FaceMeshBlock(128, 128),\n",
    "            FaceMeshBlock(128, 128),\n",
    "            FaceMeshBlock(128, 128),\n",
    "            FaceMeshBlock(128, 128),\n",
    "            nn.Conv2d(128, 32, 1),\n",
    "            nn.PReLU(32),\n",
    "            FaceMeshBlock(32, 32),\n",
    "        )\n",
    "        self.fc = nn.Sequential(\n",
    "            nn.Linear(32 * 3 * 3, 128),\n",
    "            nn.ReLU(inplace=True),\n",
    "            nn.Linear(128, 64),\n",
    "            nn.ReLU(inplace=True),\n",
    "        )\n",
    "\n",
    "    def _preprocess(self, x):\n",
    "        return x.to(torch.float32) * 2.0 - 1.0\n",
    "\n",
    "    def forward(self, x_face):\n",
    "        x_face = self._preprocess(x_face)\n",
    "        x_face = nn.ReflectionPad2d((1, 0, 1, 0))(x_face)\n",
    "        x_face = self.backbone(x_face)\n",
    "        x_face = self.regression_head_face(x_face)\n",
    "        x_face = x_face.view(-1, 32 * 3 * 3)\n",
    "        x = self.fc(x_face)\n",
    "        return x"
   ]
  },
  {
   "cell_type": "code",
   "execution_count": 30,
   "id": "3b4e6831-be4a-4ee0-b489-52990decd5b2",
   "metadata": {},
   "outputs": [],
   "source": [
    "class FineTuneModel(nn.Module):\n",
    "    def __init__(\n",
    "        self,\n",
    "        pretrained_model_face: nn.Module,\n",
    "        pretrained_model_eyes: nn.Module,\n",
    "        screen_features: bool = False,\n",
    "    ):\n",
    "        super(FineTuneModel, self).__init__()\n",
    "        self.face_model = FaceModel(pretrained_model_face)\n",
    "        self.eyes_model = EyesModel(pretrained_model_eyes)\n",
    "        self.face_grid_model = FaceGridModel()\n",
    "        self.screen_features = screen_features\n",
    "        if not screen_features:\n",
    "            self.fc = nn.Sequential(\n",
    "                nn.Linear(128+64+128, 128),\n",
    "                nn.ReLU(inplace=True),\n",
    "                nn.Linear(128, 64),\n",
    "                nn.ReLU(inplace=True),\n",
    "                nn.Linear(64, 32),\n",
    "                nn.ReLU(inplace=True),\n",
    "                nn.Linear(32, 2),\n",
    "            )\n",
    "        else:\n",
    "            self.fc1 = nn.Sequential(\n",
    "                nn.Linear(128+64+128, 128),\n",
    "                nn.ReLU(inplace=True),\n",
    "                nn.Linear(128, 13),\n",
    "                nn.ReLU(inplace=True),\n",
    "            )\n",
    "            self.layer_norm = nn.LayerNorm(16)\n",
    "            self.fc2 = nn.Linear(16, 2)\n",
    "            \n",
    "\n",
    "    def _preprocess(self, x):\n",
    "        return x.to(torch.float32) * 2.0 - 1.0\n",
    "        \n",
    "    def forward(self, x_face, x_eye_l, x_eye_r, x_grid, x_screen = None):\n",
    "        if self.screen_features and x_screen is None:\n",
    "            raise Exception(\"You should pass screen features\")\n",
    "        if not self.screen_features and x_screen is not None:\n",
    "            warnings.warn(\"Screen fearures won't be used\")\n",
    "        x_eyes = self.eyes_model(x_eye_l, x_eye_r)\n",
    "        x_face = self.face_model(x_face)\n",
    "        x_grid = self.face_grid_model(x_grid)\n",
    "        x = torch.cat([x_eyes, x_face, x_grid], axis = 1)\n",
    "        if not self.screen_features:\n",
    "            x = self.fc(x)\n",
    "        else:\n",
    "            x = self.fc1(x)\n",
    "            x = torch.cat([x, x_screen], axis = 1)\n",
    "            x = self.layer_norm(x)\n",
    "            x = self.fc2(x)\n",
    "        return x"
   ]
  },
  {
   "cell_type": "code",
   "execution_count": 31,
   "id": "ac98bdf7-bd73-42cf-8d77-a1f385ee32fc",
   "metadata": {},
   "outputs": [],
   "source": [
    "model = FineTuneModel(pretrained_model_face, pretrained_model_eyes, screen_features=False).to(device)"
   ]
  },
  {
   "cell_type": "code",
   "execution_count": 32,
   "id": "e1c506fa-c2f2-4b84-97c1-46da7297fdae",
   "metadata": {},
   "outputs": [
    {
     "data": {
      "text/plain": [
       "tensor([[-0.20376, -1.11009,  1.31384],\n",
       "        [-0.20376, -1.11009,  1.31384]], device='cuda:0')"
      ]
     },
     "execution_count": 32,
     "metadata": {},
     "output_type": "execute_result"
    }
   ],
   "source": [
    "screen_feat = np.array([[33.17, 20.73, 54.0], [33.17, 20.73, 54.0]])\n",
    "screen_feat = torch.tensor((screen_feat - screen_feat.mean()) / screen_feat.std()).type(torch.float32).to(device)\n",
    "screen_feat"
   ]
  },
  {
   "cell_type": "code",
   "execution_count": 33,
   "id": "5b739aa1-26fd-47d5-87f4-7e1717f8351c",
   "metadata": {},
   "outputs": [],
   "source": [
    "rand_img = np.random.randint(0, 255, (2, 3, 192,192))\n",
    "x_face = torch.from_numpy(rand_img).to(device)\n",
    "rand_img = (np.random.randint(0, 255, (2, 3, 64, 64)) / 255.)\n",
    "x_eye = torch.from_numpy(rand_img).type(torch.float32).to(device)\n",
    "rand_grid = (np.random.randint(0, 255, (2, 25, 25)) / 255.)\n",
    "x_grid = torch.from_numpy(rand_grid).type(torch.float32).to(device)"
   ]
  },
  {
   "cell_type": "code",
   "execution_count": 34,
   "id": "a865ffbb-3665-4f68-a8bf-1a90ade4340e",
   "metadata": {},
   "outputs": [
    {
     "data": {
      "text/plain": [
       "tensor([[ 0.26886, -0.14075],\n",
       "        [ 0.27475, -0.12955]], device='cuda:0', grad_fn=<AddmmBackward0>)"
      ]
     },
     "execution_count": 34,
     "metadata": {},
     "output_type": "execute_result"
    }
   ],
   "source": [
    "model(x_face, x_eye, x_eye, x_grid)"
   ]
  },
  {
   "cell_type": "code",
   "execution_count": 35,
   "id": "823506b1-0dfa-4163-b9ec-31a26253c4d5",
   "metadata": {},
   "outputs": [],
   "source": [
    "CHECKPOINTS_PATH = \"./checkpoints\"\n",
    "EXPERIMENT_NAME = \"calibration_unfreezed_guys_cleaned_weighted_loss_more_compl_more_augm\"\n",
    "# EXPERIMENT_NAME = \"calibration_unfreezed_guys_cleaned_weighted_loss\""
   ]
  },
  {
   "cell_type": "code",
   "execution_count": 36,
   "id": "7eba7375-8bd5-4ff9-9422-96631a5bbd65",
   "metadata": {
    "scrolled": true
   },
   "outputs": [
    {
     "data": {
      "text/plain": [
       "FineTuneModel(\n",
       "  (face_model): FaceModel(\n",
       "    (backbone): Sequential(\n",
       "      (0): Conv2d(3, 16, kernel_size=(3, 3), stride=(2, 2))\n",
       "      (1): PReLU(num_parameters=16)\n",
       "      (2): FaceMeshBlock(\n",
       "        (convs): Sequential(\n",
       "          (0): Conv2d(16, 16, kernel_size=(3, 3), stride=(1, 1), padding=(1, 1), groups=16)\n",
       "          (1): Conv2d(16, 16, kernel_size=(1, 1), stride=(1, 1))\n",
       "        )\n",
       "        (act): PReLU(num_parameters=16)\n",
       "      )\n",
       "      (3): FaceMeshBlock(\n",
       "        (convs): Sequential(\n",
       "          (0): Conv2d(16, 16, kernel_size=(3, 3), stride=(1, 1), padding=(1, 1), groups=16)\n",
       "          (1): Conv2d(16, 16, kernel_size=(1, 1), stride=(1, 1))\n",
       "        )\n",
       "        (act): PReLU(num_parameters=16)\n",
       "      )\n",
       "      (4): FaceMeshBlock(\n",
       "        (max_pool): MaxPool2d(kernel_size=2, stride=2, padding=0, dilation=1, ceil_mode=False)\n",
       "        (convs): Sequential(\n",
       "          (0): Conv2d(16, 16, kernel_size=(3, 3), stride=(2, 2), groups=16)\n",
       "          (1): Conv2d(16, 32, kernel_size=(1, 1), stride=(1, 1))\n",
       "        )\n",
       "        (act): PReLU(num_parameters=32)\n",
       "      )\n",
       "      (5): FaceMeshBlock(\n",
       "        (convs): Sequential(\n",
       "          (0): Conv2d(32, 32, kernel_size=(3, 3), stride=(1, 1), padding=(1, 1), groups=32)\n",
       "          (1): Conv2d(32, 32, kernel_size=(1, 1), stride=(1, 1))\n",
       "        )\n",
       "        (act): PReLU(num_parameters=32)\n",
       "      )\n",
       "      (6): FaceMeshBlock(\n",
       "        (convs): Sequential(\n",
       "          (0): Conv2d(32, 32, kernel_size=(3, 3), stride=(1, 1), padding=(1, 1), groups=32)\n",
       "          (1): Conv2d(32, 32, kernel_size=(1, 1), stride=(1, 1))\n",
       "        )\n",
       "        (act): PReLU(num_parameters=32)\n",
       "      )\n",
       "      (7): FaceMeshBlock(\n",
       "        (max_pool): MaxPool2d(kernel_size=2, stride=2, padding=0, dilation=1, ceil_mode=False)\n",
       "        (convs): Sequential(\n",
       "          (0): Conv2d(32, 32, kernel_size=(3, 3), stride=(2, 2), groups=32)\n",
       "          (1): Conv2d(32, 64, kernel_size=(1, 1), stride=(1, 1))\n",
       "        )\n",
       "        (act): PReLU(num_parameters=64)\n",
       "      )\n",
       "      (8): FaceMeshBlock(\n",
       "        (convs): Sequential(\n",
       "          (0): Conv2d(64, 64, kernel_size=(3, 3), stride=(1, 1), padding=(1, 1), groups=64)\n",
       "          (1): Conv2d(64, 64, kernel_size=(1, 1), stride=(1, 1))\n",
       "        )\n",
       "        (act): PReLU(num_parameters=64)\n",
       "      )\n",
       "      (9): FaceMeshBlock(\n",
       "        (convs): Sequential(\n",
       "          (0): Conv2d(64, 64, kernel_size=(3, 3), stride=(1, 1), padding=(1, 1), groups=64)\n",
       "          (1): Conv2d(64, 64, kernel_size=(1, 1), stride=(1, 1))\n",
       "        )\n",
       "        (act): PReLU(num_parameters=64)\n",
       "      )\n",
       "      (10): FaceMeshBlock(\n",
       "        (max_pool): MaxPool2d(kernel_size=2, stride=2, padding=0, dilation=1, ceil_mode=False)\n",
       "        (convs): Sequential(\n",
       "          (0): Conv2d(64, 64, kernel_size=(3, 3), stride=(2, 2), groups=64)\n",
       "          (1): Conv2d(64, 128, kernel_size=(1, 1), stride=(1, 1))\n",
       "        )\n",
       "        (act): PReLU(num_parameters=128)\n",
       "      )\n",
       "      (11): FaceMeshBlock(\n",
       "        (convs): Sequential(\n",
       "          (0): Conv2d(128, 128, kernel_size=(3, 3), stride=(1, 1), padding=(1, 1), groups=128)\n",
       "          (1): Conv2d(128, 128, kernel_size=(1, 1), stride=(1, 1))\n",
       "        )\n",
       "        (act): PReLU(num_parameters=128)\n",
       "      )\n",
       "      (12): FaceMeshBlock(\n",
       "        (convs): Sequential(\n",
       "          (0): Conv2d(128, 128, kernel_size=(3, 3), stride=(1, 1), padding=(1, 1), groups=128)\n",
       "          (1): Conv2d(128, 128, kernel_size=(1, 1), stride=(1, 1))\n",
       "        )\n",
       "        (act): PReLU(num_parameters=128)\n",
       "      )\n",
       "      (13): FaceMeshBlock(\n",
       "        (max_pool): MaxPool2d(kernel_size=2, stride=2, padding=0, dilation=1, ceil_mode=False)\n",
       "        (convs): Sequential(\n",
       "          (0): Conv2d(128, 128, kernel_size=(3, 3), stride=(2, 2), groups=128)\n",
       "          (1): Conv2d(128, 128, kernel_size=(1, 1), stride=(1, 1))\n",
       "        )\n",
       "        (act): PReLU(num_parameters=128)\n",
       "      )\n",
       "      (14): FaceMeshBlock(\n",
       "        (convs): Sequential(\n",
       "          (0): Conv2d(128, 128, kernel_size=(3, 3), stride=(1, 1), padding=(1, 1), groups=128)\n",
       "          (1): Conv2d(128, 128, kernel_size=(1, 1), stride=(1, 1))\n",
       "        )\n",
       "        (act): PReLU(num_parameters=128)\n",
       "      )\n",
       "      (15): FaceMeshBlock(\n",
       "        (convs): Sequential(\n",
       "          (0): Conv2d(128, 128, kernel_size=(3, 3), stride=(1, 1), padding=(1, 1), groups=128)\n",
       "          (1): Conv2d(128, 128, kernel_size=(1, 1), stride=(1, 1))\n",
       "        )\n",
       "        (act): PReLU(num_parameters=128)\n",
       "      )\n",
       "    )\n",
       "    (regression_head_face): Sequential(\n",
       "      (0): FaceMeshBlock(\n",
       "        (max_pool): MaxPool2d(kernel_size=2, stride=2, padding=0, dilation=1, ceil_mode=False)\n",
       "        (convs): Sequential(\n",
       "          (0): Conv2d(128, 128, kernel_size=(3, 3), stride=(2, 2), groups=128)\n",
       "          (1): Conv2d(128, 128, kernel_size=(1, 1), stride=(1, 1))\n",
       "        )\n",
       "        (act): PReLU(num_parameters=128)\n",
       "      )\n",
       "      (1): FaceMeshBlock(\n",
       "        (convs): Sequential(\n",
       "          (0): Conv2d(128, 128, kernel_size=(3, 3), stride=(1, 1), padding=(1, 1), groups=128)\n",
       "          (1): Conv2d(128, 128, kernel_size=(1, 1), stride=(1, 1))\n",
       "        )\n",
       "        (act): PReLU(num_parameters=128)\n",
       "      )\n",
       "      (2): FaceMeshBlock(\n",
       "        (convs): Sequential(\n",
       "          (0): Conv2d(128, 128, kernel_size=(3, 3), stride=(1, 1), padding=(1, 1), groups=128)\n",
       "          (1): Conv2d(128, 128, kernel_size=(1, 1), stride=(1, 1))\n",
       "        )\n",
       "        (act): PReLU(num_parameters=128)\n",
       "      )\n",
       "      (3): FaceMeshBlock(\n",
       "        (convs): Sequential(\n",
       "          (0): Conv2d(128, 128, kernel_size=(3, 3), stride=(1, 1), padding=(1, 1), groups=128)\n",
       "          (1): Conv2d(128, 128, kernel_size=(1, 1), stride=(1, 1))\n",
       "        )\n",
       "        (act): PReLU(num_parameters=128)\n",
       "      )\n",
       "      (4): FaceMeshBlock(\n",
       "        (convs): Sequential(\n",
       "          (0): Conv2d(128, 128, kernel_size=(3, 3), stride=(1, 1), padding=(1, 1), groups=128)\n",
       "          (1): Conv2d(128, 128, kernel_size=(1, 1), stride=(1, 1))\n",
       "        )\n",
       "        (act): PReLU(num_parameters=128)\n",
       "      )\n",
       "      (5): Conv2d(128, 32, kernel_size=(1, 1), stride=(1, 1))\n",
       "      (6): PReLU(num_parameters=32)\n",
       "      (7): FaceMeshBlock(\n",
       "        (convs): Sequential(\n",
       "          (0): Conv2d(32, 32, kernel_size=(3, 3), stride=(1, 1), padding=(1, 1), groups=32)\n",
       "          (1): Conv2d(32, 32, kernel_size=(1, 1), stride=(1, 1))\n",
       "        )\n",
       "        (act): PReLU(num_parameters=32)\n",
       "      )\n",
       "    )\n",
       "    (fc): Sequential(\n",
       "      (0): Linear(in_features=288, out_features=128, bias=True)\n",
       "      (1): ReLU(inplace=True)\n",
       "      (2): Linear(in_features=128, out_features=64, bias=True)\n",
       "      (3): ReLU(inplace=True)\n",
       "    )\n",
       "  )\n",
       "  (eyes_model): EyesModel(\n",
       "    (backbone): Sequential(\n",
       "      (0): Conv2d(3, 64, kernel_size=(3, 3), stride=(2, 2))\n",
       "      (1): PReLU(num_parameters=64)\n",
       "      (2): IrisBlock(\n",
       "        (conv_prelu): Sequential(\n",
       "          (0): Conv2d(64, 32, kernel_size=(1, 1), stride=(1, 1))\n",
       "          (1): PReLU(num_parameters=32)\n",
       "        )\n",
       "        (depthwiseconv_conv): Sequential(\n",
       "          (0): Conv2d(32, 32, kernel_size=(3, 3), stride=(1, 1), padding=(1, 1), groups=32)\n",
       "          (1): Conv2d(32, 64, kernel_size=(1, 1), stride=(1, 1))\n",
       "        )\n",
       "        (prelu): PReLU(num_parameters=64)\n",
       "      )\n",
       "      (3): IrisBlock(\n",
       "        (conv_prelu): Sequential(\n",
       "          (0): Conv2d(64, 32, kernel_size=(1, 1), stride=(1, 1))\n",
       "          (1): PReLU(num_parameters=32)\n",
       "        )\n",
       "        (depthwiseconv_conv): Sequential(\n",
       "          (0): Conv2d(32, 32, kernel_size=(3, 3), stride=(1, 1), padding=(1, 1), groups=32)\n",
       "          (1): Conv2d(32, 64, kernel_size=(1, 1), stride=(1, 1))\n",
       "        )\n",
       "        (prelu): PReLU(num_parameters=64)\n",
       "      )\n",
       "      (4): IrisBlock(\n",
       "        (conv_prelu): Sequential(\n",
       "          (0): Conv2d(64, 32, kernel_size=(1, 1), stride=(1, 1))\n",
       "          (1): PReLU(num_parameters=32)\n",
       "        )\n",
       "        (depthwiseconv_conv): Sequential(\n",
       "          (0): Conv2d(32, 32, kernel_size=(3, 3), stride=(1, 1), padding=(1, 1), groups=32)\n",
       "          (1): Conv2d(32, 64, kernel_size=(1, 1), stride=(1, 1))\n",
       "        )\n",
       "        (prelu): PReLU(num_parameters=64)\n",
       "      )\n",
       "      (5): IrisBlock(\n",
       "        (conv_prelu): Sequential(\n",
       "          (0): Conv2d(64, 32, kernel_size=(1, 1), stride=(1, 1))\n",
       "          (1): PReLU(num_parameters=32)\n",
       "        )\n",
       "        (depthwiseconv_conv): Sequential(\n",
       "          (0): Conv2d(32, 32, kernel_size=(3, 3), stride=(1, 1), padding=(1, 1), groups=32)\n",
       "          (1): Conv2d(32, 64, kernel_size=(1, 1), stride=(1, 1))\n",
       "        )\n",
       "        (prelu): PReLU(num_parameters=64)\n",
       "      )\n",
       "      (6): IrisBlock(\n",
       "        (conv_prelu): Sequential(\n",
       "          (0): Conv2d(64, 64, kernel_size=(2, 2), stride=(2, 2))\n",
       "          (1): PReLU(num_parameters=64)\n",
       "        )\n",
       "        (depthwiseconv_conv): Sequential(\n",
       "          (0): Conv2d(64, 64, kernel_size=(3, 3), stride=(1, 1), padding=(1, 1), groups=64)\n",
       "          (1): Conv2d(64, 128, kernel_size=(1, 1), stride=(1, 1))\n",
       "        )\n",
       "        (max_pool): MaxPool2d(kernel_size=2, stride=2, padding=0, dilation=1, ceil_mode=False)\n",
       "        (prelu): PReLU(num_parameters=128)\n",
       "      )\n",
       "      (7): IrisBlock(\n",
       "        (conv_prelu): Sequential(\n",
       "          (0): Conv2d(128, 64, kernel_size=(1, 1), stride=(1, 1))\n",
       "          (1): PReLU(num_parameters=64)\n",
       "        )\n",
       "        (depthwiseconv_conv): Sequential(\n",
       "          (0): Conv2d(64, 64, kernel_size=(3, 3), stride=(1, 1), padding=(1, 1), groups=64)\n",
       "          (1): Conv2d(64, 128, kernel_size=(1, 1), stride=(1, 1))\n",
       "        )\n",
       "        (prelu): PReLU(num_parameters=128)\n",
       "      )\n",
       "      (8): IrisBlock(\n",
       "        (conv_prelu): Sequential(\n",
       "          (0): Conv2d(128, 64, kernel_size=(1, 1), stride=(1, 1))\n",
       "          (1): PReLU(num_parameters=64)\n",
       "        )\n",
       "        (depthwiseconv_conv): Sequential(\n",
       "          (0): Conv2d(64, 64, kernel_size=(3, 3), stride=(1, 1), padding=(1, 1), groups=64)\n",
       "          (1): Conv2d(64, 128, kernel_size=(1, 1), stride=(1, 1))\n",
       "        )\n",
       "        (prelu): PReLU(num_parameters=128)\n",
       "      )\n",
       "      (9): IrisBlock(\n",
       "        (conv_prelu): Sequential(\n",
       "          (0): Conv2d(128, 64, kernel_size=(1, 1), stride=(1, 1))\n",
       "          (1): PReLU(num_parameters=64)\n",
       "        )\n",
       "        (depthwiseconv_conv): Sequential(\n",
       "          (0): Conv2d(64, 64, kernel_size=(3, 3), stride=(1, 1), padding=(1, 1), groups=64)\n",
       "          (1): Conv2d(64, 128, kernel_size=(1, 1), stride=(1, 1))\n",
       "        )\n",
       "        (prelu): PReLU(num_parameters=128)\n",
       "      )\n",
       "      (10): IrisBlock(\n",
       "        (conv_prelu): Sequential(\n",
       "          (0): Conv2d(128, 64, kernel_size=(1, 1), stride=(1, 1))\n",
       "          (1): PReLU(num_parameters=64)\n",
       "        )\n",
       "        (depthwiseconv_conv): Sequential(\n",
       "          (0): Conv2d(64, 64, kernel_size=(3, 3), stride=(1, 1), padding=(1, 1), groups=64)\n",
       "          (1): Conv2d(64, 128, kernel_size=(1, 1), stride=(1, 1))\n",
       "        )\n",
       "        (prelu): PReLU(num_parameters=128)\n",
       "      )\n",
       "      (11): IrisBlock(\n",
       "        (conv_prelu): Sequential(\n",
       "          (0): Conv2d(128, 64, kernel_size=(2, 2), stride=(2, 2))\n",
       "          (1): PReLU(num_parameters=64)\n",
       "        )\n",
       "        (depthwiseconv_conv): Sequential(\n",
       "          (0): Conv2d(64, 64, kernel_size=(3, 3), stride=(1, 1), padding=(1, 1), groups=64)\n",
       "          (1): Conv2d(64, 128, kernel_size=(1, 1), stride=(1, 1))\n",
       "        )\n",
       "        (max_pool): MaxPool2d(kernel_size=2, stride=2, padding=0, dilation=1, ceil_mode=False)\n",
       "        (prelu): PReLU(num_parameters=128)\n",
       "      )\n",
       "    )\n",
       "    (regression_head_eyes): Sequential(\n",
       "      (0): IrisBlock(\n",
       "        (conv_prelu): Sequential(\n",
       "          (0): Conv2d(128, 64, kernel_size=(1, 1), stride=(1, 1))\n",
       "          (1): PReLU(num_parameters=64)\n",
       "        )\n",
       "        (depthwiseconv_conv): Sequential(\n",
       "          (0): Conv2d(64, 64, kernel_size=(3, 3), stride=(1, 1), padding=(1, 1), groups=64)\n",
       "          (1): Conv2d(64, 128, kernel_size=(1, 1), stride=(1, 1))\n",
       "        )\n",
       "        (prelu): PReLU(num_parameters=128)\n",
       "      )\n",
       "      (1): IrisBlock(\n",
       "        (conv_prelu): Sequential(\n",
       "          (0): Conv2d(128, 64, kernel_size=(1, 1), stride=(1, 1))\n",
       "          (1): PReLU(num_parameters=64)\n",
       "        )\n",
       "        (depthwiseconv_conv): Sequential(\n",
       "          (0): Conv2d(64, 64, kernel_size=(3, 3), stride=(1, 1), padding=(1, 1), groups=64)\n",
       "          (1): Conv2d(64, 128, kernel_size=(1, 1), stride=(1, 1))\n",
       "        )\n",
       "        (prelu): PReLU(num_parameters=128)\n",
       "      )\n",
       "      (2): IrisBlock(\n",
       "        (conv_prelu): Sequential(\n",
       "          (0): Conv2d(128, 64, kernel_size=(2, 2), stride=(2, 2))\n",
       "          (1): PReLU(num_parameters=64)\n",
       "        )\n",
       "        (depthwiseconv_conv): Sequential(\n",
       "          (0): Conv2d(64, 64, kernel_size=(3, 3), stride=(1, 1), padding=(1, 1), groups=64)\n",
       "          (1): Conv2d(64, 128, kernel_size=(1, 1), stride=(1, 1))\n",
       "        )\n",
       "        (max_pool): MaxPool2d(kernel_size=2, stride=2, padding=0, dilation=1, ceil_mode=False)\n",
       "        (prelu): PReLU(num_parameters=128)\n",
       "      )\n",
       "      (3): IrisBlock(\n",
       "        (conv_prelu): Sequential(\n",
       "          (0): Conv2d(128, 64, kernel_size=(1, 1), stride=(1, 1))\n",
       "          (1): PReLU(num_parameters=64)\n",
       "        )\n",
       "        (depthwiseconv_conv): Sequential(\n",
       "          (0): Conv2d(64, 64, kernel_size=(3, 3), stride=(1, 1), padding=(1, 1), groups=64)\n",
       "          (1): Conv2d(64, 128, kernel_size=(1, 1), stride=(1, 1))\n",
       "        )\n",
       "        (prelu): PReLU(num_parameters=128)\n",
       "      )\n",
       "      (4): IrisBlock(\n",
       "        (conv_prelu): Sequential(\n",
       "          (0): Conv2d(128, 64, kernel_size=(1, 1), stride=(1, 1))\n",
       "          (1): PReLU(num_parameters=64)\n",
       "        )\n",
       "        (depthwiseconv_conv): Sequential(\n",
       "          (0): Conv2d(64, 64, kernel_size=(3, 3), stride=(1, 1), padding=(1, 1), groups=64)\n",
       "          (1): Conv2d(64, 128, kernel_size=(1, 1), stride=(1, 1))\n",
       "        )\n",
       "        (prelu): PReLU(num_parameters=128)\n",
       "      )\n",
       "      (5): IrisBlock(\n",
       "        (conv_prelu): Sequential(\n",
       "          (0): Conv2d(128, 64, kernel_size=(2, 2), stride=(2, 2))\n",
       "          (1): PReLU(num_parameters=64)\n",
       "        )\n",
       "        (depthwiseconv_conv): Sequential(\n",
       "          (0): Conv2d(64, 64, kernel_size=(3, 3), stride=(1, 1), padding=(1, 1), groups=64)\n",
       "          (1): Conv2d(64, 128, kernel_size=(1, 1), stride=(1, 1))\n",
       "        )\n",
       "        (max_pool): MaxPool2d(kernel_size=2, stride=2, padding=0, dilation=1, ceil_mode=False)\n",
       "        (prelu): PReLU(num_parameters=128)\n",
       "      )\n",
       "      (6): IrisBlock(\n",
       "        (conv_prelu): Sequential(\n",
       "          (0): Conv2d(128, 64, kernel_size=(1, 1), stride=(1, 1))\n",
       "          (1): PReLU(num_parameters=64)\n",
       "        )\n",
       "        (depthwiseconv_conv): Sequential(\n",
       "          (0): Conv2d(64, 64, kernel_size=(3, 3), stride=(1, 1), padding=(1, 1), groups=64)\n",
       "          (1): Conv2d(64, 128, kernel_size=(1, 1), stride=(1, 1))\n",
       "        )\n",
       "        (prelu): PReLU(num_parameters=128)\n",
       "      )\n",
       "      (7): IrisBlock(\n",
       "        (conv_prelu): Sequential(\n",
       "          (0): Conv2d(128, 64, kernel_size=(1, 1), stride=(1, 1))\n",
       "          (1): PReLU(num_parameters=64)\n",
       "        )\n",
       "        (depthwiseconv_conv): Sequential(\n",
       "          (0): Conv2d(64, 64, kernel_size=(3, 3), stride=(1, 1), padding=(1, 1), groups=64)\n",
       "          (1): Conv2d(64, 128, kernel_size=(1, 1), stride=(1, 1))\n",
       "        )\n",
       "        (prelu): PReLU(num_parameters=128)\n",
       "      )\n",
       "    )\n",
       "    (fc): Sequential(\n",
       "      (0): Linear(in_features=256, out_features=128, bias=True)\n",
       "      (1): ReLU(inplace=True)\n",
       "      (2): Linear(in_features=128, out_features=128, bias=True)\n",
       "      (3): ReLU(inplace=True)\n",
       "    )\n",
       "  )\n",
       "  (face_grid_model): FaceGridModel(\n",
       "    (fc): Sequential(\n",
       "      (0): Linear(in_features=625, out_features=256, bias=True)\n",
       "      (1): ReLU(inplace=True)\n",
       "      (2): Linear(in_features=256, out_features=128, bias=True)\n",
       "      (3): ReLU(inplace=True)\n",
       "    )\n",
       "  )\n",
       "  (fc): Sequential(\n",
       "    (0): Linear(in_features=320, out_features=128, bias=True)\n",
       "    (1): ReLU(inplace=True)\n",
       "    (2): Linear(in_features=128, out_features=64, bias=True)\n",
       "    (3): ReLU(inplace=True)\n",
       "    (4): Linear(in_features=64, out_features=32, bias=True)\n",
       "    (5): ReLU(inplace=True)\n",
       "    (6): Linear(in_features=32, out_features=2, bias=True)\n",
       "  )\n",
       ")"
      ]
     },
     "execution_count": 36,
     "metadata": {},
     "output_type": "execute_result"
    }
   ],
   "source": [
    "model = FineTuneModel(pretrained_model_face, pretrained_model_eyes, screen_features=False).to(device)\n",
    "model.load_state_dict(torch.load(os.path.join(CHECKPOINTS_PATH, f\"best_{EXPERIMENT_NAME}.pt\")))\n",
    "model.eval()"
   ]
  },
  {
   "cell_type": "code",
   "execution_count": 37,
   "id": "3031733d-aa47-432e-97ca-c96bf79bb7b7",
   "metadata": {},
   "outputs": [],
   "source": [
    "def inference(model: FineTuneModel, dataloader_eval: DataLoader):\n",
    "    model.eval()\n",
    "    preds_list = []\n",
    "    for i, data in tqdm(enumerate(dataloader_eval), total = len(dataloader_test)):\n",
    "        inputs, inputs_eye_l, inputs_eye_r, inputs_mask = data['image'], \\\n",
    "                                                     data['eye_l'], data['eye_r'], data['face_mask']\n",
    "        with torch.no_grad():\n",
    "            outputs = model(inputs, inputs_eye_l, inputs_eye_r, inputs_mask)\n",
    "        preds_list += outputs.cpu().detach().tolist()\n",
    "        \n",
    "    return preds_list"
   ]
  },
  {
   "cell_type": "code",
   "execution_count": 39,
   "id": "f30018a5-6d2e-486f-8af8-6006c7891e53",
   "metadata": {},
   "outputs": [
    {
     "name": "stdout",
     "output_type": "stream",
     "text": [
      "Fusing layers... \n"
     ]
    }
   ],
   "source": [
    "dataset_test = GazeDetectionDataset(data = df_files, transform_list=trans_list,\n",
    "                                    to_tensors=True, device=device, inference=True, screen_features=False)\n",
    "dataloader_test = DataLoader(dataset_test, batch_size=1,\n",
    "                        shuffle=False)"
   ]
  },
  {
   "cell_type": "code",
   "execution_count": 40,
   "id": "ba20f48d-9aa1-4fd9-b00b-44ad2cc22e49",
   "metadata": {},
   "outputs": [
    {
     "name": "stderr",
     "output_type": "stream",
     "text": [
      "100%|█████████████████████████████████████████| 133/133 [00:12<00:00, 10.80it/s]\n"
     ]
    }
   ],
   "source": [
    "preds = inference(model, dataloader_test)"
   ]
  },
  {
   "cell_type": "code",
   "execution_count": 41,
   "id": "01951d60-2a96-477a-8d1f-581dd1b21855",
   "metadata": {},
   "outputs": [],
   "source": [
    "# np.save(\"./real_experiment/preds_test_finetune.npy\", preds)"
   ]
  },
  {
   "cell_type": "code",
   "execution_count": 42,
   "id": "ef70c2df-242a-4295-9d31-cb01da03f59e",
   "metadata": {},
   "outputs": [],
   "source": [
    "x, y = np.array(preds).T"
   ]
  },
  {
   "cell_type": "code",
   "execution_count": 43,
   "id": "0e815fce-cc60-47df-bb34-7f80c9ad6b69",
   "metadata": {},
   "outputs": [
    {
     "data": {
      "text/plain": [
       "133"
      ]
     },
     "execution_count": 43,
     "metadata": {},
     "output_type": "execute_result"
    }
   ],
   "source": [
    "len(x)"
   ]
  },
  {
   "cell_type": "code",
   "execution_count": 58,
   "id": "875969f1-1d3c-432f-88aa-687da51169b3",
   "metadata": {},
   "outputs": [],
   "source": [
    "# import pickle\n",
    "# calib_model = pickle.load(open('./weights/calibr_model_misha_test.pckl', 'rb'))"
   ]
  },
  {
   "cell_type": "code",
   "execution_count": 59,
   "id": "bed6bc87-daea-40e8-95f9-696d3f2f1de0",
   "metadata": {},
   "outputs": [],
   "source": [
    "# preds_rescaled = calib_model.predict(preds)"
   ]
  },
  {
   "cell_type": "code",
   "execution_count": 60,
   "id": "811d9927-63c3-4b61-bcc4-2a197749b7d0",
   "metadata": {},
   "outputs": [],
   "source": [
    "# x_rescaled, y_rescaled = np.array(preds_rescaled).T"
   ]
  },
  {
   "cell_type": "code",
   "execution_count": 61,
   "id": "a091b7b7-68f2-424c-b577-61e826c4be85",
   "metadata": {},
   "outputs": [],
   "source": [
    "# x = x[not_closed_eyes]\n",
    "# y = y[not_closed_eyes]"
   ]
  },
  {
   "cell_type": "code",
   "execution_count": 62,
   "id": "c3364009-913c-4076-bc0d-77e855242838",
   "metadata": {},
   "outputs": [],
   "source": [
    "# scale_ratio_x  = 51.70 / width_screen_cm\n",
    "# scale_ratio_y  = 32.31 / height_screen_cm"
   ]
  },
  {
   "cell_type": "code",
   "execution_count": 63,
   "id": "bf05c99a-9773-4a66-84d3-0d6ff1adb06d",
   "metadata": {},
   "outputs": [],
   "source": [
    "# width_screen_px, height_screen_px = 304, 212"
   ]
  },
  {
   "cell_type": "code",
   "execution_count": 45,
   "id": "f495cf5d-c7f7-4cce-a91a-bb8185330164",
   "metadata": {},
   "outputs": [
    {
     "data": {
      "image/png": "[encoded data removed]",
      "text/plain": [
       "<Figure size 640x480 with 1 Axes>"
      ]
     },
     "metadata": {},
     "output_type": "display_data"
    }
   ],
   "source": [
    "plt.scatter(x, y)\n",
    "# plt.ylim(0.75, 0.2)\n",
    "# plt.xlim(0.95, 0.3)\n",
    "plt.show()"
   ]
  },
  {
   "cell_type": "code",
   "execution_count": 40,
   "id": "aa7c8394-8ca8-423e-8112-53af8faf8372",
   "metadata": {},
   "outputs": [],
   "source": [
    "# min_y = min(y[2*30:10*30])\n",
    "# min_x = min(x[2*30:4*30])\n",
    "# max_y = max(y[12*30:19*30])\n",
    "# max_x = max(x[11*30:13*30])"
   ]
  },
  {
   "cell_type": "code",
   "execution_count": 41,
   "id": "935fed4f-003e-4ed2-b137-6a9d856f9521",
   "metadata": {},
   "outputs": [],
   "source": [
    "# min_y"
   ]
  },
  {
   "cell_type": "code",
   "execution_count": 42,
   "id": "9ec8030a-7785-4ac3-860c-c46e1f241e38",
   "metadata": {},
   "outputs": [],
   "source": [
    "# x_rescaled = np.clip(x, 0.2, 1.1)\n",
    "# y_rescaled = np.clip(y, 0.15, 0.45)"
   ]
  },
  {
   "cell_type": "code",
   "execution_count": 43,
   "id": "4b91662d-ee1c-4ab8-bcbd-151ee8c18907",
   "metadata": {},
   "outputs": [],
   "source": [
    "# min_y = min(y_rescaled)\n",
    "# min_x = min(x_rescaled)\n",
    "# max_y = max(y_rescaled)\n",
    "# max_x = max(x_rescaled)"
   ]
  },
  {
   "cell_type": "code",
   "execution_count": 44,
   "id": "c996e62c-eb71-4928-a983-603cd5d3c865",
   "metadata": {},
   "outputs": [],
   "source": [
    "# x_rescaled = x * scale_ratio_x\n",
    "# y_rescaled = y * scale_ratio_y"
   ]
  },
  {
   "cell_type": "code",
   "execution_count": 45,
   "id": "b192618a-038b-4578-92bd-4470ee6fe1fa",
   "metadata": {},
   "outputs": [],
   "source": [
    "# min_x"
   ]
  },
  {
   "cell_type": "code",
   "execution_count": null,
   "id": "dd3db657-b1a7-4177-8ade-1ced6370326e",
   "metadata": {},
   "outputs": [],
   "source": []
  },
  {
   "cell_type": "code",
   "execution_count": 46,
   "id": "7bc902fe-9618-48e4-bf8c-e1480ee545f7",
   "metadata": {},
   "outputs": [],
   "source": [
    "# x_rescaled = (x_rescaled - 0.4) / (max_x - min_x - 0.2)\n",
    "# y_rescaled = (y_rescaled - min_y) / (max_y - min_y)"
   ]
  },
  {
   "cell_type": "code",
   "execution_count": 38,
   "id": "3e321929-8bc9-4063-99bf-5a39876049ba",
   "metadata": {},
   "outputs": [],
   "source": [
    "# plt.scatter(x_rescaled, y_rescaled)\n",
    "# plt.ylim(1, 0)\n",
    "# plt.xlim(-0.25, 1)\n",
    "# plt.show()"
   ]
  },
  {
   "cell_type": "code",
   "execution_count": 46,
   "id": "2317df02-7e45-4fd7-952f-d5a14c9039d2",
   "metadata": {},
   "outputs": [],
   "source": [
    "x_rescaled_ = np.clip(x, 0, 1)\n",
    "y_rescaled_ = np.clip(y, 0, 1)"
   ]
  },
  {
   "cell_type": "code",
   "execution_count": 47,
   "id": "ab8a54c1-f1f0-402f-82db-1c45adaaf2aa",
   "metadata": {},
   "outputs": [],
   "source": [
    "min_y = min(y)\n",
    "min_x = min(x)\n",
    "max_y = max(y)\n",
    "max_x = max(x)"
   ]
  },
  {
   "cell_type": "code",
   "execution_count": 48,
   "id": "f47b7f37-56b2-4135-a119-41d93bc7eb61",
   "metadata": {},
   "outputs": [],
   "source": [
    "x_rescaled_ = (x - min_x) / (max_x - min_x)\n",
    "y_rescaled_ = (y - min_y) / (max_y - min_y)"
   ]
  },
  {
   "cell_type": "code",
   "execution_count": 49,
   "id": "7a1425b1-56e0-43cb-a4b4-1d0a722a644b",
   "metadata": {},
   "outputs": [
    {
     "data": {
      "image/png": "[encoded data removed]",
      "text/plain": [
       "<Figure size 640x480 with 1 Axes>"
      ]
     },
     "metadata": {},
     "output_type": "display_data"
    }
   ],
   "source": [
    "plt.scatter(x_rescaled_, y_rescaled_)\n",
    "plt.ylim(1, 0)\n",
    "plt.xlim(1, 0)\n",
    "plt.show()"
   ]
  },
  {
   "cell_type": "code",
   "execution_count": 50,
   "id": "8ecd7b46-63c3-4a47-9d0f-baa9c2797482",
   "metadata": {},
   "outputs": [
    {
     "data": {
      "image/png": "[encoded data removed]",
      "text/plain": [
       "<Figure size 1500x500 with 3 Axes>"
      ]
     },
     "metadata": {},
     "output_type": "display_data"
    }
   ],
   "source": [
    "plt.figure(figsize=(15, 5))\n",
    "plt.subplot(1, 3, 1)\n",
    "plt.title(\"GT\")\n",
    "plt.scatter(df[\"x_normalized\"], df[\"y_normalized\"])\n",
    "plt.ylim(1, 0)\n",
    "plt.xlim(1, 0)\n",
    "plt.subplot(1, 3, 2)\n",
    "plt.title(\"Predict\")\n",
    "plt.scatter(x, y)\n",
    "plt.ylim(1, 0)\n",
    "plt.xlim(1, 0)\n",
    "plt.subplot(1, 3, 3)\n",
    "plt.title(\"Predict rescaled\")\n",
    "plt.scatter(x_rescaled_, y_rescaled_)\n",
    "plt.ylim(1, 0)\n",
    "plt.xlim(1, 0)\n",
    "plt.show()\n",
    "plt.show()"
   ]
  },
  {
   "cell_type": "code",
   "execution_count": 51,
   "id": "27a1e57a-4c23-4389-88c9-f534a75c3975",
   "metadata": {},
   "outputs": [],
   "source": [
    "test_df_copy = df_files.copy()\n",
    "\n",
    "test_df_copy[\"pred_x\"] = x_rescaled_\n",
    "test_df_copy[\"pred_y\"] = y_rescaled_"
   ]
  },
  {
   "cell_type": "code",
   "execution_count": 53,
   "id": "beee6cd7-abab-4499-b8b3-8644bec3e148",
   "metadata": {},
   "outputs": [],
   "source": [
    "test_df_copy.to_csv(\"./real_experiment/res_calibration_unfreezed_guys_cleaned_weighted_loss_more_compl_more_augm.csv\", index = False)"
   ]
  },
  {
   "cell_type": "code",
   "execution_count": 75,
   "id": "0f23f5a8-830f-4d49-adcf-9c409aa013a9",
   "metadata": {},
   "outputs": [],
   "source": [
    "np.save(\"./real_experiment/preds_test_rescaled_clip.npy\", np.vstack([x_rescaled_, y_rescaled_]).T)"
   ]
  },
  {
   "cell_type": "code",
   "execution_count": 121,
   "id": "dabce0df-12a8-4e17-8543-dbf91fa11ba6",
   "metadata": {},
   "outputs": [],
   "source": [
    "res_folder = \"./test_results\""
   ]
  },
  {
   "cell_type": "code",
   "execution_count": 122,
   "id": "3ffc2bfb-e2fb-42bd-816b-c934ec581338",
   "metadata": {},
   "outputs": [],
   "source": [
    "!rm -r $res_folder"
   ]
  },
  {
   "cell_type": "code",
   "execution_count": 123,
   "id": "96071377-e197-4793-929e-089a822ebcc0",
   "metadata": {},
   "outputs": [],
   "source": [
    "!mkdir $res_folder"
   ]
  },
  {
   "cell_type": "code",
   "execution_count": 124,
   "id": "eeb2953c-a712-4e3c-bc3d-3330e3269e39",
   "metadata": {},
   "outputs": [
    {
     "name": "stderr",
     "output_type": "stream",
     "text": [
      "100%|█████████████████████████████████████████| 895/895 [01:44<00:00,  8.54it/s]\n"
     ]
    }
   ],
   "source": [
    "for i in tqdm(range(len(x))):\n",
    "    fig = plt.figure()\n",
    "    fig.patch.set_visible(False)\n",
    "    plt.scatter([x_rescaled_[i]], [y_rescaled_[i]])\n",
    "    plt.ylim(1, 0)\n",
    "    plt.xlim(1, 0)\n",
    "    plt.savefig(f\"{res_folder}/{i}.png\")\n",
    "    plt.close(fig)"
   ]
  },
  {
   "cell_type": "code",
   "execution_count": 125,
   "id": "f1389639-e688-4621-a788-1f0e47b12faf",
   "metadata": {},
   "outputs": [],
   "source": [
    "filenames = sorted(glob.glob(f\"{res_folder}/*.png\"), key = lambda x: int(Path(x).stem))"
   ]
  },
  {
   "cell_type": "code",
   "execution_count": 126,
   "id": "30a9da4d-0cb0-488d-83b1-1d752eb4322c",
   "metadata": {},
   "outputs": [
    {
     "data": {
      "text/plain": [
       "<matplotlib.image.AxesImage at 0x7f3d044fda50>"
      ]
     },
     "execution_count": 126,
     "metadata": {},
     "output_type": "execute_result"
    },
    {
     "data": {
      "image/png": "[encoded data removed]",
      "text/plain": [
       "<Figure size 640x480 with 1 Axes>"
      ]
     },
     "metadata": {},
     "output_type": "display_data"
    }
   ],
   "source": [
    "img = cv2.imread(filenames[0])\n",
    "plt.imshow(img)"
   ]
  },
  {
   "cell_type": "code",
   "execution_count": 127,
   "id": "9634fde6-9754-4c9f-ac61-1dfc97fdc938",
   "metadata": {},
   "outputs": [],
   "source": [
    "h, w, _ = img.shape"
   ]
  },
  {
   "cell_type": "code",
   "execution_count": 128,
   "id": "13265625-f50f-4b91-8ad3-284d843ad3c0",
   "metadata": {},
   "outputs": [
    {
     "name": "stderr",
     "output_type": "stream",
     "text": [
      "100%|████████████████████████████████████████| 895/895 [00:05<00:00, 167.27it/s]\n"
     ]
    }
   ],
   "source": [
    "fourcc = cv2.VideoWriter_fourcc(*'mp4v') \n",
    "fps = 30\n",
    "video = cv2.VideoWriter('gaze_misha_test.mp4', fourcc, fps, (w, h))\n",
    "for filename in tqdm(filenames):\n",
    "    img = cv2.imread(filename)\n",
    "    video.write(img)\n",
    "\n",
    "cv2.destroyAllWindows()\n",
    "video.release()"
   ]
  },
  {
   "cell_type": "code",
   "execution_count": null,
   "id": "dea0e0b2-b14e-480d-a648-fbea995af329",
   "metadata": {},
   "outputs": [],
   "source": []
  }
 ],
 "metadata": {
  "kernelspec": {
   "display_name": "envGeneral",
   "language": "python",
   "name": "envgeneral"
  },
  "language_info": {
   "codemirror_mode": {
    "name": "ipython",
    "version": 3
   },
   "file_extension": ".py",
   "mimetype": "text/x-python",
   "name": "python",
   "nbconvert_exporter": "python",
   "pygments_lexer": "ipython3",
   "version": "3.10.10"
  }
 },
 "nbformat": 4,
 "nbformat_minor": 5
}
