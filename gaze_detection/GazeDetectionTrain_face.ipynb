{
 "cells": [
  {
   "cell_type": "code",
   "execution_count": 1,
   "id": "41f33541-d23d-4b59-9a54-77afd6b864a6",
   "metadata": {},
   "outputs": [],
   "source": [
    "import numpy as np\n",
    "import torch\n",
    "import os\n",
    "import torch.nn as nn\n",
    "import torch.nn.functional as F\n",
    "import matplotlib.pyplot as plt\n",
    "import pandas as pd\n",
    "import cv2\n",
    "import albumentations as A\n",
    "from albumentations.pytorch import ToTensorV2\n",
    "from torch.utils.data import Dataset, DataLoader\n",
    "from warnings import filterwarnings\n",
    "import torch.optim as optim\n",
    "from torch.optim.lr_scheduler import ReduceLROnPlateau\n",
    "from sklearn.metrics import mean_absolute_percentage_error as mape\n",
    "from tqdm import tqdm\n",
    "\n",
    "from facemesh import FaceMeshBlock\n",
    "\n",
    "filterwarnings('ignore')"
   ]
  },
  {
   "cell_type": "code",
   "execution_count": 2,
   "id": "6dee5e77-74e9-4661-99a5-c0533783806e",
   "metadata": {},
   "outputs": [],
   "source": [
    "class FaceMesh(nn.Module):\n",
    "    \"\"\"The FaceMesh face landmark model from MediaPipe.\n",
    "\n",
    "    Because we won't be training this model, it doesn't need to have\n",
    "    batchnorm layers. These have already been \"folded\" into the conv \n",
    "    weights by TFLite.\n",
    "\n",
    "    The conversion to PyTorch is fairly straightforward, but there are \n",
    "    some small differences between TFLite and PyTorch in how they handle\n",
    "    padding on conv layers with stride 2.\n",
    "\n",
    "    This version works on batches, while the MediaPipe version can only\n",
    "    handle a single image at a time.\n",
    "    \"\"\"\n",
    "    def __init__(self):\n",
    "        super(FaceMesh, self).__init__()\n",
    "\n",
    "        self.num_coords = 468\n",
    "        self.x_scale = 192.0\n",
    "        self.y_scale = 192.0\n",
    "        self.min_score_thresh = 0.75\n",
    "\n",
    "        self._define_layers()\n",
    "\n",
    "    def _define_layers(self):\n",
    "        self.backbone = nn.Sequential(\n",
    "            nn.Conv2d(in_channels=3, out_channels=16, kernel_size=3, stride=2, padding=0, bias=True),\n",
    "            nn.PReLU(16),\n",
    "\n",
    "            FaceMeshBlock(16, 16),\n",
    "            FaceMeshBlock(16, 16),\n",
    "            FaceMeshBlock(16, 32, stride=2),\n",
    "            FaceMeshBlock(32, 32),\n",
    "            FaceMeshBlock(32, 32),\n",
    "            FaceMeshBlock(32, 64, stride=2),\n",
    "            FaceMeshBlock(64, 64),\n",
    "            FaceMeshBlock(64, 64),\n",
    "            FaceMeshBlock(64, 128, stride=2),\n",
    "            FaceMeshBlock(128, 128),\n",
    "            FaceMeshBlock(128, 128),\n",
    "            FaceMeshBlock(128, 128, stride=2),\n",
    "            FaceMeshBlock(128, 128),\n",
    "            FaceMeshBlock(128, 128),\n",
    "        )\n",
    "        \n",
    "        self.coord_head = nn.Sequential(\n",
    "            FaceMeshBlock(128, 128, stride=2),\n",
    "            FaceMeshBlock(128, 128),\n",
    "            FaceMeshBlock(128, 128),\n",
    "            nn.Conv2d(128, 32, 1),\n",
    "            nn.PReLU(32),\n",
    "            FaceMeshBlock(32, 32),\n",
    "            nn.Conv2d(32, 1404, 3)\n",
    "        )\n",
    "        \n",
    "        self.conf_head = nn.Sequential(\n",
    "            FaceMeshBlock(128, 128, stride=2),\n",
    "            nn.Conv2d(128, 32, 1),\n",
    "            nn.PReLU(32),\n",
    "            FaceMeshBlock(32, 32),\n",
    "            nn.Conv2d(32, 1, 3)\n",
    "        )\n",
    "        # self.regression_head = nn.Sequential(\n",
    "        #     FaceMeshBlock(128, 128, stride=2),\n",
    "        #     FaceMeshBlock(128, 128),\n",
    "        #     FaceMeshBlock(128, 128),\n",
    "        #     nn.Conv2d(128, 32, 1),\n",
    "        #     nn.PReLU(32),\n",
    "        #     FaceMeshBlock(32, 32),\n",
    "        # )\n",
    "        # self.fc = nn.Linear(32 * 3 * 3, 2)\n",
    "        \n",
    "    def forward(self, x):\n",
    "        # TFLite uses slightly different padding on the first conv layer\n",
    "        # than PyTorch, so do it manually.\n",
    "        x = nn.ReflectionPad2d((1, 0, 1, 0))(x)\n",
    "        b = x.shape[0]      # batch size, needed for reshaping later\n",
    "\n",
    "        x = self.backbone(x)            # (b, 128, 6, 6)\n",
    "        \n",
    "        c = self.conf_head(x)           # (b, 1, 1, 1)\n",
    "        c = c.view(b, -1)               # (b, 1)\n",
    "        \n",
    "        r = self.coord_head(x)          # (b, 1404, 1, 1)\n",
    "        r = r.reshape(b, -1)            # (b, 1404)\n",
    "\n",
    "        # pred = self.regression_head(x)\n",
    "        # pred = pred.view(-1, 32 * 3 * 3)\n",
    "        # pred = self.fc(pred)\n",
    "        # return pred\n",
    "        return [r, c]\n",
    "\n",
    "    def _device(self):\n",
    "        \"\"\"Which device (CPU or GPU) is being used by this model?\"\"\"\n",
    "        return self.conf_head[1].weight.device\n",
    "    \n",
    "    def load_weights(self, path):\n",
    "        self.load_state_dict(torch.load(path))\n",
    "        self.eval()        \n",
    "    \n",
    "    def preprocess(self, x):\n",
    "        \"\"\"Converts the image pixels to the range [-1, 1].\"\"\"\n",
    "        return x.float() / 127.5 - 1.0\n",
    "\n",
    "    def predict_on_image(self, img):\n",
    "        \"\"\"Makes a prediction on a single image.\n",
    "\n",
    "        Arguments:\n",
    "            img: a NumPy array of shape (H, W, 3) or a PyTorch tensor of\n",
    "                 shape (3, H, W). The image's height and width should be \n",
    "                 128 pixels.\n",
    "\n",
    "        Returns:\n",
    "            A tensor with face detections.\n",
    "        \"\"\"\n",
    "        if isinstance(img, np.ndarray):\n",
    "            img = torch.from_numpy(img).permute((2, 0, 1))\n",
    "\n",
    "        return self.predict_on_batch(img.unsqueeze(0))[0]\n",
    "\n",
    "    def predict_on_batch(self, x):\n",
    "        \"\"\"Makes a prediction on a batch of images.\n",
    "\n",
    "        Arguments:\n",
    "            x: a NumPy array of shape (b, H, W, 3) or a PyTorch tensor of\n",
    "               shape (b, 3, H, W). The height and width should be 128 pixels.\n",
    "\n",
    "        Returns:\n",
    "            A list containing a tensor of face detections for each image in \n",
    "            the batch. If no faces are found for an image, returns a tensor\n",
    "            of shape (0, 17).\n",
    "\n",
    "        Each face detection is a PyTorch tensor consisting of 17 numbers:\n",
    "            - ymin, xmin, ymax, xmax\n",
    "            - x,y-coordinates for the 6 keypoints\n",
    "            - confidence score\n",
    "        \"\"\"\n",
    "        if isinstance(x, np.ndarray):\n",
    "            x = torch.from_numpy(x).permute((0, 3, 1, 2))\n",
    "\n",
    "        assert x.shape[1] == 3\n",
    "        assert x.shape[2] == 192\n",
    "        assert x.shape[3] == 192\n",
    "\n",
    "        # 1. Preprocess the images into tensors:\n",
    "        x = x.to(self._device())\n",
    "        x = self._preprocess(x)\n",
    "\n",
    "        # 2. Run the neural network:\n",
    "        with torch.no_grad():\n",
    "            out = self.__call__(x)\n",
    "\n",
    "        # 3. Postprocess the raw predictions:\n",
    "        detections, confidences = out\n",
    "        detections[0:-1:3] *= self.x_scale\n",
    "        detections[1:-1:3] *= self.y_scale\n",
    "\n",
    "        return detections.view(-1, 3), confidences"
   ]
  },
  {
   "cell_type": "code",
   "execution_count": 3,
   "id": "4aaaf887-e382-4bce-9d67-0da61e63c66f",
   "metadata": {},
   "outputs": [
    {
     "data": {
      "text/plain": [
       "'cuda:0'"
      ]
     },
     "execution_count": 3,
     "metadata": {},
     "output_type": "execute_result"
    }
   ],
   "source": [
    "device = \"cuda:0\" if torch.cuda.is_available() else \"cpu\"\n",
    "device"
   ]
  },
  {
   "cell_type": "code",
   "execution_count": 4,
   "id": "9aa9253b-0a28-46f5-bad1-4c648f9c20ec",
   "metadata": {},
   "outputs": [],
   "source": [
    "pretrained_model = FaceMesh()\n",
    "pretrained_model.load_weights(\"./weights/facemesh.pth\")"
   ]
  },
  {
   "cell_type": "code",
   "execution_count": 43,
   "id": "a4826dd2-1e36-4981-b4fc-1f0c4f8055b9",
   "metadata": {},
   "outputs": [],
   "source": [
    "class FineTuneModel(nn.Module):\n",
    "    def __init__(self, pretrained_model: nn.Module, use_face_coords: bool = False):\n",
    "        super(FineTuneModel, self).__init__()\n",
    "        self.backbone = pretrained_model.backbone\n",
    "        self.regression_head = nn.Sequential(\n",
    "            FaceMeshBlock(128, 128, stride=2),\n",
    "            FaceMeshBlock(128, 128),\n",
    "            FaceMeshBlock(128, 128),\n",
    "            nn.Conv2d(128, 32, 1),\n",
    "            nn.PReLU(32),\n",
    "            FaceMeshBlock(32, 32),\n",
    "        )\n",
    "        self.features_dim = 32 * 3 * 3\n",
    "        features_dim = self.features_dim + 2 if use_face_coords else self.features_dim\n",
    "        self.use_face_coords = use_face_coords\n",
    "        self.fc = nn.Linear(features_dim, 2)\n",
    "        model.fc.weight[:,-2 :].data.fill_(self.fc.weight.max() * 2)\n",
    "        print(self.fc.weight.max())\n",
    "        print(self.fc.weight[:,-4:])\n",
    "        \n",
    "\n",
    "    def _preprocess(self, x):\n",
    "        return x.to(torch.float32) * 2.0 - 1.0\n",
    "        \n",
    "    def forward(self, x, face_coords = None):\n",
    "        x = self._preprocess(x)\n",
    "        x = nn.ReflectionPad2d((1, 0, 1, 0))(x)\n",
    "        b = x.shape[0]      # batch size, needed for reshaping later\n",
    "        x = self.backbone(x)  # (b, 128, 6, 6)\n",
    "        x = self.regression_head(x)\n",
    "        x = x.view(-1, self.features_dim)\n",
    "        if self.use_face_coords:\n",
    "            x = torch.concat([x, face_coords], dim = 1)\n",
    "        x = self.fc(x)\n",
    "        return x"
   ]
  },
  {
   "cell_type": "code",
   "execution_count": 50,
   "id": "8f28b8d2-221e-4a96-9a6a-54982f7a7a01",
   "metadata": {},
   "outputs": [],
   "source": [
    "def init_weights(m):\n",
    "    if isinstance(m, nn.Linear):\n",
    "        torch.nn.init.xavier_uniform(m.weight)\n",
    "        model.fc.weight[:,-2 :].data.fill_(m.weight.max() * 2)"
   ]
  },
  {
   "cell_type": "code",
   "execution_count": 51,
   "id": "e440861a-d646-4a57-9339-8e3f7ae6fa5d",
   "metadata": {},
   "outputs": [],
   "source": [
    "# device = \"cpu\""
   ]
  },
  {
   "cell_type": "code",
   "execution_count": 52,
   "id": "1372b175-f163-4f06-861f-e6f903707a55",
   "metadata": {},
   "outputs": [
    {
     "name": "stdout",
     "output_type": "stream",
     "text": [
      "tensor(0.0585, grad_fn=<MaxBackward1>)\n",
      "tensor([[ 0.0481,  0.0038, -0.0034,  0.0198],\n",
      "        [ 0.0277,  0.0174, -0.0380,  0.0042]], grad_fn=<SliceBackward0>)\n"
     ]
    }
   ],
   "source": [
    "model = FineTuneModel(pretrained_model, use_face_coords = True).to(device)"
   ]
  },
  {
   "cell_type": "code",
   "execution_count": 53,
   "id": "f6e0a23b-ba3c-49f2-9586-ed08c60e4a6b",
   "metadata": {},
   "outputs": [
    {
     "data": {
      "text/plain": [
       "Linear(in_features=290, out_features=2, bias=True)"
      ]
     },
     "execution_count": 53,
     "metadata": {},
     "output_type": "execute_result"
    }
   ],
   "source": [
    "model.fc.apply(init_weights)"
   ]
  },
  {
   "cell_type": "code",
   "execution_count": 88,
   "id": "5681f32b-f9c7-475f-ae8b-f99e1833f84a",
   "metadata": {},
   "outputs": [],
   "source": [
    "rand_img = (np.random.randint(0, 255, (192,192, 3)) / 255.) * 2.0 - 1.0\n",
    "x = torch.from_numpy(rand_img).permute((2, 0, 1)).unsqueeze(0).to(device)\n",
    "face_coords = torch.from_numpy(np.array([0.51875, 0.39791667]).astype(np.float32)).unsqueeze(0).to(device)"
   ]
  },
  {
   "cell_type": "code",
   "execution_count": 89,
   "id": "90cba93c-bd2b-4b87-9c0c-32e4dfb0eb59",
   "metadata": {},
   "outputs": [
    {
     "name": "stdout",
     "output_type": "stream",
     "text": [
      "torch.Size([1, 288])\n",
      "torch.Size([1, 290])\n"
     ]
    },
    {
     "data": {
      "text/plain": [
       "tensor([[ 0.1240, -0.2186]], device='cuda:0', grad_fn=<AddmmBackward0>)"
      ]
     },
     "execution_count": 89,
     "metadata": {},
     "output_type": "execute_result"
    }
   ],
   "source": [
    "model(x, face_coords = face_coords)"
   ]
  },
  {
   "cell_type": "code",
   "execution_count": 90,
   "id": "c7ccd337-c57a-4f10-866e-d9d8a0fc9d77",
   "metadata": {},
   "outputs": [],
   "source": [
    "data = pd.read_csv(\"./data_tobii_names.csv\")"
   ]
  },
  {
   "cell_type": "code",
   "execution_count": 91,
   "id": "637edce4-ee23-48ae-99d3-b57546201933",
   "metadata": {},
   "outputs": [
    {
     "data": {
      "text/html": [
       "<div>\n",
       "<style scoped>\n",
       "    .dataframe tbody tr th:only-of-type {\n",
       "        vertical-align: middle;\n",
       "    }\n",
       "\n",
       "    .dataframe tbody tr th {\n",
       "        vertical-align: top;\n",
       "    }\n",
       "\n",
       "    .dataframe thead th {\n",
       "        text-align: right;\n",
       "    }\n",
       "</style>\n",
       "<table border=\"1\" class=\"dataframe\">\n",
       "  <thead>\n",
       "    <tr style=\"text-align: right;\">\n",
       "      <th></th>\n",
       "      <th>paths</th>\n",
       "      <th>x_normalized</th>\n",
       "      <th>y_normalized</th>\n",
       "      <th>full_name</th>\n",
       "    </tr>\n",
       "  </thead>\n",
       "  <tbody>\n",
       "    <tr>\n",
       "      <th>0</th>\n",
       "      <td>/home/ubuntu/projects/tweakle/data/tobii_image...</td>\n",
       "      <td>0.400634</td>\n",
       "      <td>0.371580</td>\n",
       "      <td>P_15#1491933738937_2_-study-dot_test_instructi...</td>\n",
       "    </tr>\n",
       "    <tr>\n",
       "      <th>1</th>\n",
       "      <td>/home/ubuntu/projects/tweakle/data/tobii_image...</td>\n",
       "      <td>0.402445</td>\n",
       "      <td>0.382982</td>\n",
       "      <td>P_15#1491933738937_2_-study-dot_test_instructi...</td>\n",
       "    </tr>\n",
       "    <tr>\n",
       "      <th>2</th>\n",
       "      <td>/home/ubuntu/projects/tweakle/data/tobii_image...</td>\n",
       "      <td>0.403391</td>\n",
       "      <td>0.378205</td>\n",
       "      <td>P_15#1491933738937_2_-study-dot_test_instructi...</td>\n",
       "    </tr>\n",
       "    <tr>\n",
       "      <th>3</th>\n",
       "      <td>/home/ubuntu/projects/tweakle/data/tobii_image...</td>\n",
       "      <td>0.401790</td>\n",
       "      <td>0.382480</td>\n",
       "      <td>P_15#1491933738937_2_-study-dot_test_instructi...</td>\n",
       "    </tr>\n",
       "    <tr>\n",
       "      <th>4</th>\n",
       "      <td>/home/ubuntu/projects/tweakle/data/tobii_image...</td>\n",
       "      <td>0.401127</td>\n",
       "      <td>0.379053</td>\n",
       "      <td>P_15#1491933738937_2_-study-dot_test_instructi...</td>\n",
       "    </tr>\n",
       "  </tbody>\n",
       "</table>\n",
       "</div>"
      ],
      "text/plain": [
       "                                               paths  x_normalized  \\\n",
       "0  /home/ubuntu/projects/tweakle/data/tobii_image...      0.400634   \n",
       "1  /home/ubuntu/projects/tweakle/data/tobii_image...      0.402445   \n",
       "2  /home/ubuntu/projects/tweakle/data/tobii_image...      0.403391   \n",
       "3  /home/ubuntu/projects/tweakle/data/tobii_image...      0.401790   \n",
       "4  /home/ubuntu/projects/tweakle/data/tobii_image...      0.401127   \n",
       "\n",
       "   y_normalized                                          full_name  \n",
       "0      0.371580  P_15#1491933738937_2_-study-dot_test_instructi...  \n",
       "1      0.382982  P_15#1491933738937_2_-study-dot_test_instructi...  \n",
       "2      0.378205  P_15#1491933738937_2_-study-dot_test_instructi...  \n",
       "3      0.382480  P_15#1491933738937_2_-study-dot_test_instructi...  \n",
       "4      0.379053  P_15#1491933738937_2_-study-dot_test_instructi...  "
      ]
     },
     "execution_count": 91,
     "metadata": {},
     "output_type": "execute_result"
    }
   ],
   "source": [
    "data.head()"
   ]
  },
  {
   "cell_type": "code",
   "execution_count": 11,
   "id": "7479e1b0-e2ce-4031-aa8c-47594580b90e",
   "metadata": {},
   "outputs": [],
   "source": [
    "# data[\"x_normalized\"] = (data[\"tob_right_x\"] + data[\"tob_left_x\"]) / 2\n",
    "# data[\"y_normalized\"] = (data[\"tob_right_y\"] + data[\"tob_left_y\"]) / 2"
   ]
  },
  {
   "cell_type": "code",
   "execution_count": 12,
   "id": "854d1425-68e2-4067-a878-3d6fff098459",
   "metadata": {},
   "outputs": [
    {
     "data": {
      "text/plain": [
       "0    /home/ubuntu/projects/tweakle/data/tobii_image...\n",
       "1    /home/ubuntu/projects/tweakle/data/tobii_image...\n",
       "2    /home/ubuntu/projects/tweakle/data/tobii_image...\n",
       "3    /home/ubuntu/projects/tweakle/data/tobii_image...\n",
       "4    /home/ubuntu/projects/tweakle/data/tobii_image...\n",
       "Name: paths, dtype: object"
      ]
     },
     "execution_count": 12,
     "metadata": {},
     "output_type": "execute_result"
    }
   ],
   "source": [
    "# import os\n",
    "# data[\"paths\"] = data[\"full_name\"].apply(lambda x: f\"/home/ubuntu/projects/tweakle/data/tobii_images/{x}\")\n",
    "# data[\"paths\"].head()"
   ]
  },
  {
   "cell_type": "code",
   "execution_count": 58,
   "id": "e3fade53-2d32-4137-a445-14e06ccfc466",
   "metadata": {},
   "outputs": [],
   "source": [
    "from typing import List, Optional\n",
    "\n",
    "class GazeDetectionDataset(Dataset):\n",
    "    \"\"\"Gaze detection dataset.\"\"\"\n",
    "\n",
    "    def __init__(\n",
    "        self,\n",
    "        data: pd.DataFrame,\n",
    "        transform_list: Optional[List]= None,\n",
    "        to_tensors: bool = False,\n",
    "        device: str = \"cpu\",\n",
    "        crop_face: bool = False,\n",
    "    ):\n",
    "        \"\"\"\n",
    "        Arguments:\n",
    "            csv_file (string): Path to the csv file with annotations.\n",
    "            transform (callable, optional): Optional transform to be applied\n",
    "                on a sample.\n",
    "        \"\"\"\n",
    "        self.df = data.copy()\n",
    "        self.to_tensors = to_tensors\n",
    "        transform_list_ = transform_list.copy()\n",
    "        if to_tensors:\n",
    "            transform_list_.append(ToTensorV2())\n",
    "        self.transform = A.Compose(transform_list_)\n",
    "        self.device = torch.device(device)\n",
    "        self.crop_face = crop_face\n",
    "        if crop_face:\n",
    "            self.faceCascade = cv2.CascadeClassifier(\"./weights/haarcascade_frontalface_alt.xml\")\n",
    "\n",
    "    \n",
    "    def __len__(self):\n",
    "        return len(self.df)\n",
    "\n",
    "    def get_face(self, frame: np.ndarray):\n",
    "        gray_frame = cv2.cvtColor(frame, cv2.COLOR_RGB2GRAY)\n",
    "        faces = self.faceCascade.detectMultiScale(\n",
    "            gray_frame,\n",
    "            scaleFactor=1.1,\n",
    "            minNeighbors=5,\n",
    "            minSize=(30, 30),\n",
    "        )\n",
    "        if len(faces) > 0:\n",
    "            if len(faces) > 1:\n",
    "                face_rect = sorted(faces, key = lambda x: x[2] * x[3])[-1]\n",
    "            else:\n",
    "                face_rect = faces[0]\n",
    "            face_center = np.array([\n",
    "                (face_rect[0] + face_rect[2] // 2) / frame.shape[1],\n",
    "                (face_rect[1] + face_rect[3] // 2) / frame.shape[0]\n",
    "            ]).astype(np.float32)\n",
    "            face_crop = frame[\n",
    "                max(face_rect[1] - face_rect[3] // 4, 0) : min(face_rect[1] + face_rect[3] + face_rect[3] // 4, frame.shape[0]),\n",
    "                max(face_rect[0] - face_rect[2] // 4, 0) : min(face_rect[0] + face_rect[2] + face_rect[2] // 4, frame.shape[1]), :\n",
    "            ]\n",
    "            return face_crop, face_center\n",
    "        else:\n",
    "            face_center = np.array([0.5, 0.5]).astype(np.float32)\n",
    "            return frame, face_center\n",
    "\n",
    "    def __getitem__(self, idx):\n",
    "        if torch.is_tensor(idx):\n",
    "            idx = idx.tolist()\n",
    "        row = self.df.iloc[idx]\n",
    "        img_name = row['paths']\n",
    "        try:\n",
    "            image = cv2.imread(img_name)\n",
    "            image = cv2.cvtColor(image, cv2.COLOR_BGR2RGB)\n",
    "            if self.crop_face:\n",
    "                image, face_center = self.get_face(image)\n",
    "            image = image / 255.\n",
    "        except Exception:\n",
    "            raise Exception(f\"Image {img_name} failed loading\")\n",
    "        coordinates = row[['x_normalized', 'y_normalized']].values.astype(np.float32)\n",
    "        \n",
    "        if self.transform:\n",
    "            image = self.transform(image = image)['image']\n",
    "            if self.to_tensors:\n",
    "                coordinates = torch.from_numpy(coordinates).to(self.device)\n",
    "                image = image.to(self.device)\n",
    "                if self.crop_face:\n",
    "                    face_center = torch.from_numpy(face_center).to(self.device)\n",
    "            \n",
    "        sample = {'image': image, 'coordinates': coordinates}\n",
    "        if self.crop_face:\n",
    "            sample['face_center'] = face_center\n",
    "        return sample"
   ]
  },
  {
   "cell_type": "code",
   "execution_count": 59,
   "id": "a4c27283-48f5-45dd-8eaa-fb21bf11037a",
   "metadata": {},
   "outputs": [],
   "source": [
    "trans_list = [\n",
    "        A.Resize(192, 192),\n",
    "        # ToTensorV2()\n",
    "    ]"
   ]
  },
  {
   "cell_type": "code",
   "execution_count": 94,
   "id": "8e6fc5dc-adbf-40cb-8903-52f104ffb283",
   "metadata": {},
   "outputs": [
    {
     "name": "stdout",
     "output_type": "stream",
     "text": [
      "0 (192, 192, 3) (2,)\n",
      "[0.51875    0.39791667]\n",
      "\n",
      "1 (192, 192, 3) (2,)\n",
      "[0.51875 0.4    ]\n",
      "\n",
      "2 (192, 192, 3) (2,)\n",
      "[0.51875    0.39583334]\n",
      "\n",
      "3 (192, 192, 3) (2,)\n",
      "[0.51875    0.39791667]\n",
      "\n"
     ]
    },
    {
     "data": {
      "image/png": "[encoded data removed]",
      "text/plain": [
       "<Figure size 640x480 with 4 Axes>"
      ]
     },
     "metadata": {},
     "output_type": "display_data"
    }
   ],
   "source": [
    "face_dataset = GazeDetectionDataset(data=data, transform_list=trans_list, crop_face=True)\n",
    "\n",
    "fig = plt.figure()\n",
    "\n",
    "for i, sample in enumerate(face_dataset):\n",
    "    print(i, sample['image'].shape, sample['coordinates'].shape)\n",
    "    print(sample['face_center'])\n",
    "    print()\n",
    "    ax = plt.subplot(1, 4, i + 1)\n",
    "    plt.tight_layout()\n",
    "    ax.set_title('Sample #{}'.format(i))\n",
    "    ax.axis('off')\n",
    "    ax.imshow(sample['image'])\n",
    "    if i == 3:\n",
    "        plt.show()\n",
    "        break"
   ]
  },
  {
   "cell_type": "code",
   "execution_count": 95,
   "id": "6d875de4-2e06-4160-b7d9-f0f300bd49a9",
   "metadata": {},
   "outputs": [],
   "source": [
    "face_dataset = GazeDetectionDataset(data = data, transform_list=trans_list, to_tensors=True, device=device, crop_face=True)"
   ]
  },
  {
   "cell_type": "code",
   "execution_count": 96,
   "id": "76d5d6b5-3ee6-40e4-8cdc-01b9cf0cf1b1",
   "metadata": {},
   "outputs": [
    {
     "name": "stdout",
     "output_type": "stream",
     "text": [
      "0 torch.Size([3, 192, 192]) torch.Size([2]) torch.Size([2])\n",
      "1 torch.Size([3, 192, 192]) torch.Size([2]) torch.Size([2])\n",
      "2 torch.Size([3, 192, 192]) torch.Size([2]) torch.Size([2])\n",
      "3 torch.Size([3, 192, 192]) torch.Size([2]) torch.Size([2])\n"
     ]
    }
   ],
   "source": [
    "for i, sample in enumerate(face_dataset):\n",
    "    print(i, sample['image'].size(), sample['coordinates'].size(), sample['face_center'].size())\n",
    "    if i == 3:\n",
    "        break"
   ]
  },
  {
   "cell_type": "code",
   "execution_count": 60,
   "id": "89112568-10af-4c99-b67d-b8987de6f303",
   "metadata": {},
   "outputs": [],
   "source": [
    "def train(model: FineTuneModel, dataloader_train: DataLoader, use_face_coords: bool = False):\n",
    "    total_loss = 0.0\n",
    "    model.train()\n",
    "    preds_list = []\n",
    "    labels_list = []\n",
    "    for i, data in enumerate(dataloader_train):\n",
    "        inputs, labels = data['image'], data['coordinates']\n",
    "        optimizer.zero_grad()\n",
    "        if use_face_coords:\n",
    "            face_coords = data['face_center']\n",
    "            outputs = model(inputs, face_coords)\n",
    "        else:\n",
    "            outputs = model(inputs)\n",
    "        loss = criterion(outputs, labels)\n",
    "        loss.backward()\n",
    "        torch.nn.utils.clip_grad_norm_(model.parameters(), 1)\n",
    "        optimizer.step()\n",
    "        preds_list += outputs.cpu().detach().tolist()\n",
    "        labels_list += labels.cpu().detach().tolist()\n",
    "        total_loss += loss.cpu().item()\n",
    "\n",
    "    loss = total_loss / (i + 1)\n",
    "    mape_value = mape(labels_list, preds_list)\n",
    "    return loss, mape_value"
   ]
  },
  {
   "cell_type": "code",
   "execution_count": 61,
   "id": "b33529ee-8369-4a28-9ae7-c816573d8784",
   "metadata": {},
   "outputs": [],
   "source": [
    "def eval(model: FineTuneModel, dataloader_val: DataLoader, use_face_coords: bool = False):\n",
    "    total_loss = 0.0\n",
    "    model.eval()\n",
    "    preds = []\n",
    "    preds_list = []\n",
    "    labels_list = []\n",
    "    for i, data in enumerate(dataloader_val):\n",
    "        inputs, labels = data['image'], data['coordinates']\n",
    "        with torch.no_grad():\n",
    "            if use_face_coords:\n",
    "                face_coords = data['face_center']\n",
    "                outputs = model(inputs, face_coords)\n",
    "            else:\n",
    "                outputs = model(inputs)\n",
    "        loss = criterion(outputs, labels)\n",
    "        total_loss += loss.cpu().item()\n",
    "        preds_list += outputs.cpu().detach().tolist()\n",
    "        labels_list += labels.cpu().detach().tolist()\n",
    "        \n",
    "    loss = total_loss / (i + 1)\n",
    "    mape_value = mape(labels_list, preds_list)\n",
    "    return loss, mape_value"
   ]
  },
  {
   "cell_type": "code",
   "execution_count": 62,
   "id": "4226e9a3-02f1-41aa-ae62-cd7a71f20ade",
   "metadata": {},
   "outputs": [],
   "source": [
    "from sklearn.model_selection import train_test_split"
   ]
  },
  {
   "cell_type": "code",
   "execution_count": 9,
   "id": "c8edc5f0-b4df-4686-924e-21dfc1a9e96b",
   "metadata": {},
   "outputs": [],
   "source": [
    "# data = pd.read_csv(\"../data/data_clicks.csv\")"
   ]
  },
  {
   "cell_type": "code",
   "execution_count": 72,
   "id": "ce07c9d3-0381-4415-b227-88d996cdb935",
   "metadata": {},
   "outputs": [],
   "source": [
    "df = pd.read_csv(\"./data_tobii_names.csv\")"
   ]
  },
  {
   "cell_type": "code",
   "execution_count": 74,
   "id": "fd63e601-cf6f-498a-b041-6a25441cb385",
   "metadata": {},
   "outputs": [],
   "source": [
    "# df_sub = df.sample(100_000)"
   ]
  },
  {
   "cell_type": "code",
   "execution_count": 11,
   "id": "f3b9c04f-7029-4461-8875-8e1c061da05e",
   "metadata": {},
   "outputs": [],
   "source": [
    "# df[\"x_normalized\"] = (df[\"tob_right_x\"] + df[\"tob_left_x\"]) / 2\n",
    "# df[\"y_normalized\"] = (df[\"tob_right_y\"] + df[\"tob_left_y\"]) / 2"
   ]
  },
  {
   "cell_type": "code",
   "execution_count": 12,
   "id": "f8b84f6d-18fa-4fed-b782-9ea4416ceb66",
   "metadata": {},
   "outputs": [],
   "source": [
    "# import os\n",
    "# df[\"paths\"] = df[\"full_name\"].apply(lambda x: f\"/home/ubuntu/projects/tweakle/data/tobii_images/{x}\")\n",
    "# df[\"paths\"].head()"
   ]
  },
  {
   "cell_type": "code",
   "execution_count": 71,
   "id": "40bbccb3-e339-4f20-b5db-22f4ff1cd375",
   "metadata": {},
   "outputs": [],
   "source": [
    "NUM_SAMPLES = None\n",
    "BATCH_SIZE = 1024\n",
    "LEARNING_RATE = 3e-4\n",
    "REDUCE_FACTOR = 0.5\n",
    "PATIENCE = 2\n",
    "NUM_EPOCHS = 20\n",
    "WEIGHT_DECAY = 1e-4\n",
    "CHECKPOINTS_PATH = \"./checkpoints/\"\n",
    "EXPERIMENT_NAME = \"face_position_less_data_weights_correctedv2\"\n",
    "USE_FACE_COORDS = True"
   ]
  },
  {
   "cell_type": "code",
   "execution_count": 88,
   "id": "d37a812c-a6b5-4f85-9df2-36e96b1d54da",
   "metadata": {},
   "outputs": [],
   "source": [
    "# train_df, test_df = train_test_split(df_sub.head(NUM_SAMPLES), test_size = 0.15, random_state=42, shuffle=True)\n",
    "# train_df, val_df = train_test_split(train_df, test_size = 0.1, random_state=42, shuffle=True)"
   ]
  },
  {
   "cell_type": "code",
   "execution_count": 90,
   "id": "e79692ab-68d8-45f0-9f74-549d4cad0a4a",
   "metadata": {},
   "outputs": [],
   "source": [
    "# test_df.to_csv(\"./tobii_test_sub.csv\", index = False)\n",
    "# val_df.to_csv(\"./tobii_val_sub.csv\", index = False)\n",
    "# train_df.to_csv(\"./tobii_train_sub.csv\", index = False)"
   ]
  },
  {
   "cell_type": "code",
   "execution_count": 64,
   "id": "98f3617b-dc41-4e0a-bfd2-08c98b5ff03c",
   "metadata": {},
   "outputs": [],
   "source": [
    "test_df = pd.read_csv(\"./tobii_test_sub_updv2.csv\")\n",
    "val_df = pd.read_csv(\"./tobii_val_sub_updv2.csv\")\n",
    "train_df = pd.read_csv(\"./tobii_train_sub_updv2.csv\")"
   ]
  },
  {
   "cell_type": "code",
   "execution_count": 65,
   "id": "40f66f8e-a474-4134-8c1b-1ac5b4c384f2",
   "metadata": {},
   "outputs": [],
   "source": [
    "dataset_train = GazeDetectionDataset(data = train_df, transform_list=trans_list, to_tensors=True, device=device, crop_face=True)\n",
    "dataloader_train = DataLoader(dataset_train, batch_size=BATCH_SIZE,\n",
    "                        shuffle=True, num_workers=0)\n",
    "dataset_val = GazeDetectionDataset(data = val_df, transform_list=trans_list, to_tensors=True, device=device, crop_face=True)\n",
    "dataloader_val = DataLoader(dataset_val, batch_size=BATCH_SIZE,\n",
    "                        shuffle=True, num_workers=0)"
   ]
  },
  {
   "cell_type": "code",
   "execution_count": 66,
   "id": "b2b503d7-3830-40ce-8a30-b4e0ff47c460",
   "metadata": {},
   "outputs": [],
   "source": [
    "class RMSELoss(nn.Module):\n",
    "    def __init__(self, eps=1e-6):\n",
    "        super().__init__()\n",
    "        self.mse = nn.MSELoss()\n",
    "        self.eps = eps\n",
    "        \n",
    "    def forward(self,yhat,y):\n",
    "        loss = torch.sqrt(self.mse(yhat,y) + self.eps)\n",
    "        return loss"
   ]
  },
  {
   "cell_type": "code",
   "execution_count": 72,
   "id": "ad3c1e66-4e6a-4de0-b6e8-582fe394aab6",
   "metadata": {},
   "outputs": [
    {
     "name": "stderr",
     "output_type": "stream",
     "text": [
      "\u001b[1;38;5;214mCOMET WARNING:\u001b[0m To get all data logged automatically, import comet_ml before the following modules: sklearn, torch.\n",
      "\u001b[1;38;5;39mCOMET INFO:\u001b[0m ---------------------------------------------------------------------------------------\n",
      "\u001b[1;38;5;39mCOMET INFO:\u001b[0m Comet.ml Experiment Summary\n",
      "\u001b[1;38;5;39mCOMET INFO:\u001b[0m ---------------------------------------------------------------------------------------\n",
      "\u001b[1;38;5;39mCOMET INFO:\u001b[0m   Data:\n",
      "\u001b[1;38;5;39mCOMET INFO:\u001b[0m     display_summary_level : 1\n",
      "\u001b[1;38;5;39mCOMET INFO:\u001b[0m     url                   : https://www.comet.com/kmisterios/tweakle-gaze-detection/6f5931d5c1f848c7bef14bf2dcb591c3\n",
      "\u001b[1;38;5;39mCOMET INFO:\u001b[0m   Others:\n",
      "\u001b[1;38;5;39mCOMET INFO:\u001b[0m     Name : face_position_less_data_correctedv2\n",
      "\u001b[1;38;5;39mCOMET INFO:\u001b[0m   Parameters:\n",
      "\u001b[1;38;5;39mCOMET INFO:\u001b[0m     batch_size      : 1024\n",
      "\u001b[1;38;5;39mCOMET INFO:\u001b[0m     experiment_name : face_position_less_data_correctedv2\n",
      "\u001b[1;38;5;39mCOMET INFO:\u001b[0m     gradient_clip   : True\n",
      "\u001b[1;38;5;39mCOMET INFO:\u001b[0m     learning_rate   : 0.0003\n",
      "\u001b[1;38;5;39mCOMET INFO:\u001b[0m     num_epochs      : 20\n",
      "\u001b[1;38;5;39mCOMET INFO:\u001b[0m     num_samples     : 1\n",
      "\u001b[1;38;5;39mCOMET INFO:\u001b[0m     optimizer       : Adam (\n",
      "Parameter Group 0\n",
      "    amsgrad: False\n",
      "    betas: (0.9, 0.999)\n",
      "    capturable: False\n",
      "    differentiable: False\n",
      "    eps: 1e-08\n",
      "    foreach: None\n",
      "    fused: None\n",
      "    lr: 0.0003\n",
      "    maximize: False\n",
      "    weight_decay: 0.0001\n",
      ")\n",
      "\u001b[1;38;5;39mCOMET INFO:\u001b[0m     patience        : 2\n",
      "\u001b[1;38;5;39mCOMET INFO:\u001b[0m     reduce_factor   : 0.5\n",
      "\u001b[1;38;5;39mCOMET INFO:\u001b[0m     scheduler       : <torch.optim.lr_scheduler.ReduceLROnPlateau object at 0x7f20ec385150>\n",
      "\u001b[1;38;5;39mCOMET INFO:\u001b[0m     use_face_coords : True\n",
      "\u001b[1;38;5;39mCOMET INFO:\u001b[0m   Uploads:\n",
      "\u001b[1;38;5;39mCOMET INFO:\u001b[0m     environment details      : 1\n",
      "\u001b[1;38;5;39mCOMET INFO:\u001b[0m     filename                 : 1\n",
      "\u001b[1;38;5;39mCOMET INFO:\u001b[0m     git metadata             : 1\n",
      "\u001b[1;38;5;39mCOMET INFO:\u001b[0m     git-patch (uncompressed) : 1 (61.20 KB)\n",
      "\u001b[1;38;5;39mCOMET INFO:\u001b[0m     installed packages       : 1\n",
      "\u001b[1;38;5;39mCOMET INFO:\u001b[0m     notebook                 : 1\n",
      "\u001b[1;38;5;39mCOMET INFO:\u001b[0m     os packages              : 1\n",
      "\u001b[1;38;5;39mCOMET INFO:\u001b[0m     source_code              : 1\n",
      "\u001b[1;38;5;39mCOMET INFO:\u001b[0m \n",
      "\u001b[1;38;5;214mCOMET WARNING:\u001b[0m To get all data logged automatically, import comet_ml before the following modules: sklearn, torch.\n",
      "\u001b[1;38;5;214mCOMET WARNING:\u001b[0m As you are running in a Jupyter environment, you will need to call `experiment.end()` when finished to ensure all metrics and code are logged before exiting.\n",
      "\u001b[1;38;5;39mCOMET INFO:\u001b[0m Experiment is live on comet.com https://www.comet.com/kmisterios/tweakle-gaze-detection/943a62a5465b48f0a3d6e6c545f7461c\n",
      "\n"
     ]
    }
   ],
   "source": [
    "from comet_ml import Experiment\n",
    "from comet_ml.integration.pytorch import log_model\n",
    "\n",
    "experiment = Experiment(\n",
    "  api_key=\"4qtNKAjcucKnOrwC4pRvPaHRv\",\n",
    "  project_name=\"tweakle-gaze-detection\",\n",
    "  workspace=\"kmisterios\"\n",
    ")"
   ]
  },
  {
   "cell_type": "code",
   "execution_count": 73,
   "id": "404cad47-0c9f-4915-b900-48bdbb76cc4b",
   "metadata": {},
   "outputs": [],
   "source": [
    "experiment.set_name(f\"{EXPERIMENT_NAME}\")"
   ]
  },
  {
   "cell_type": "code",
   "execution_count": 74,
   "id": "ff5e145f-1be9-4734-903c-9a2fad6fd8eb",
   "metadata": {},
   "outputs": [],
   "source": [
    "# model = FineTuneModel(pretrained_model, use_face_coords = USE_FACE_COORDS).to(device)\n",
    "criterion = RMSELoss()\n",
    "optimizer = optim.Adam(model.parameters(), lr = LEARNING_RATE, weight_decay = WEIGHT_DECAY)\n",
    "scheduler = ReduceLROnPlateau(optimizer, factor= REDUCE_FACTOR, patience=PATIENCE)"
   ]
  },
  {
   "cell_type": "code",
   "execution_count": 75,
   "id": "b5ad8065-c009-4344-b8d2-e891f20cbaeb",
   "metadata": {},
   "outputs": [],
   "source": [
    "hyper_params = {\n",
    "    \"learning_rate\": LEARNING_RATE,\n",
    "    \"batch_size\": BATCH_SIZE,\n",
    "    \"reduce_factor\": REDUCE_FACTOR,\n",
    "    \"patience\": PATIENCE,\n",
    "    \"num_epochs\": NUM_EPOCHS,\n",
    "    \"num_samples\": NUM_SAMPLES,\n",
    "    \"optimizer\": optimizer.__str__(),\n",
    "    \"scheduler\": scheduler.__str__(),\n",
    "    \"gradient_clip\": True,\n",
    "    \"experiment_name\": EXPERIMENT_NAME,\n",
    "    \"use_face_coords\": USE_FACE_COORDS,\n",
    "}\n",
    "experiment.log_parameters(hyper_params)"
   ]
  },
  {
   "cell_type": "code",
   "execution_count": null,
   "id": "55a81c44-6b5a-4306-81f9-3648d2cc8f85",
   "metadata": {},
   "outputs": [
    {
     "name": "stdout",
     "output_type": "stream",
     "text": [
      "\n",
      "Epoch: 0: Train loss: 0.254; Val loss: 0.16;\n",
      "Best model saved on epoch 0\n",
      "\n",
      "Epoch: 1: Train loss: 0.159; Val loss: 0.155;\n",
      "Best model saved on epoch 1\n",
      "\n",
      "Epoch: 2: Train loss: 0.159; Val loss: 0.154;\n",
      "Best model saved on epoch 2\n",
      "\n",
      "Epoch: 3: Train loss: 0.153; Val loss: 0.156;\n",
      "Best model saved on epoch 2\n",
      "\n",
      "Epoch: 4: Train loss: 0.155; Val loss: 0.149;\n",
      "Best model saved on epoch 4\n",
      "\n",
      "Epoch: 5: Train loss: 0.146; Val loss: 0.149;\n",
      "Best model saved on epoch 5\n",
      "\n",
      "Epoch: 6: Train loss: 0.142; Val loss: 0.144;\n",
      "Best model saved on epoch 6\n",
      "\n",
      "Epoch: 7: Train loss: 0.142; Val loss: 0.14;\n",
      "Best model saved on epoch 7\n",
      "\n",
      "Epoch: 8: Train loss: 0.144; Val loss: 0.139;\n",
      "Best model saved on epoch 8\n"
     ]
    }
   ],
   "source": [
    "val_loss_min = np.inf\n",
    "epoch_save = None\n",
    "\n",
    "for epoch in range(NUM_EPOCHS):\n",
    "    train_loss, train_mape = train(model, dataloader_train, use_face_coords = USE_FACE_COORDS)\n",
    "    val_loss, val_mape = train(model, dataloader_val, use_face_coords = USE_FACE_COORDS)\n",
    "    scheduler.step(val_loss)\n",
    "    current_lr = scheduler.optimizer.param_groups[0]['lr']\n",
    "    if val_loss_min > val_loss:\n",
    "        val_loss_min = val_loss\n",
    "        torch.save(model.state_dict(), os.path.join(CHECKPOINTS_PATH, f\"best_{EXPERIMENT_NAME}.pt\"))\n",
    "        epoch_save = epoch\n",
    "\n",
    "    print()\n",
    "    print(f'Epoch: {epoch}: Train loss: {round(train_loss, 3)}; Val loss: {round(val_loss, 3)};')\n",
    "    if epoch_save is not None:\n",
    "        print(f'Best model saved on epoch {epoch_save}')\n",
    "    experiment.log_metrics({\n",
    "        \"rmse_val\": val_loss,\n",
    "        \"rmse_train\": train_loss,\n",
    "        \"best_model_epoch\": epoch_save,\n",
    "        \"train_mape\": train_mape,\n",
    "        \"val_mape\": val_mape,\n",
    "        \"epoch\": epoch,\n",
    "        \"lr\": current_lr\n",
    "    })\n",
    "experiment.end()"
   ]
  },
  {
   "cell_type": "code",
   "execution_count": null,
   "id": "59dfcda4-666f-4722-82f3-b2787be89ede",
   "metadata": {},
   "outputs": [],
   "source": [
    "model = FineTuneModel(pretrained_model, use_face_coords = True).to(device)\n",
    "model.load_state_dict(torch.load(os.path.join(CHECKPOINTS_PATH, f\"best_{EXPERIMENT_NAME}.pt\")))\n",
    "# model.load_state_dict(torch.load(os.path.join(CHECKPOINTS_PATH, f\"best_raw_images.pt\")))\n",
    "criterion = RMSELoss()\n",
    "model.eval()"
   ]
  },
  {
   "cell_type": "code",
   "execution_count": null,
   "id": "731c594d-93fc-4f1f-9685-ff464911fb8d",
   "metadata": {},
   "outputs": [],
   "source": [
    "model.fc.weight[:,-4:]"
   ]
  },
  {
   "cell_type": "code",
   "execution_count": null,
   "id": "71141060-3912-4ece-8e52-e645b3442011",
   "metadata": {},
   "outputs": [],
   "source": [
    "dataset_test = GazeDetectionDataset(data = test_df, transform_list=trans_list, to_tensors=True, device=device, crop_face=True)\n",
    "dataloader_test = DataLoader(dataset_test, batch_size=BATCH_SIZE,\n",
    "                        shuffle=False, num_workers=0)"
   ]
  },
  {
   "cell_type": "code",
   "execution_count": null,
   "id": "39ff4ddc-52f8-4b8e-afab-a5333c5008e3",
   "metadata": {},
   "outputs": [],
   "source": [
    "preds = []\n",
    "labels_list = []\n",
    "losses = 0\n",
    "for i, data in tqdm(enumerate(dataloader_test), total = len(dataloader_test)):\n",
    "    inputs, labels = data['image'], data['coordinates']\n",
    "    with torch.no_grad():\n",
    "        if USE_FACE_COORDS:\n",
    "            face_coords = data['face_center']\n",
    "            outputs = model(inputs, face_coords)\n",
    "        else:\n",
    "            outputs = model(inputs)\n",
    "    loss = criterion(outputs, labels)\n",
    "    losses += loss.detach().cpu().item()\n",
    "    pred = outputs.cpu().numpy()\n",
    "    preds.append(pred)\n",
    "    labels_list.append(labels.cpu().numpy())\n",
    "\n",
    "print(f\"Test loss: {round(losses / (i + 1), 3)}\")"
   ]
  },
  {
   "cell_type": "code",
   "execution_count": 90,
   "id": "5b7cd1bc-be2b-4a22-9c8d-16cf42948bbb",
   "metadata": {},
   "outputs": [
    {
     "name": "stdout",
     "output_type": "stream",
     "text": [
      "Test loss: 0.137\n"
     ]
    }
   ],
   "source": [
    "print(f\"Test loss: {round(losses / (i + 1), 3)}\")"
   ]
  },
  {
   "cell_type": "code",
   "execution_count": 91,
   "id": "406cdd0c-6fe4-4889-8a80-cde146c2a968",
   "metadata": {},
   "outputs": [],
   "source": [
    "preds = np.vstack(preds)\n",
    "labels = np.vstack(labels_list)"
   ]
  },
  {
   "cell_type": "code",
   "execution_count": 92,
   "id": "21953511-bd76-4802-a144-d9eeb7aec893",
   "metadata": {},
   "outputs": [
    {
     "name": "stdout",
     "output_type": "stream",
     "text": [
      "Test MAPE: 0.4995642304420471\n"
     ]
    }
   ],
   "source": [
    "mape_value = mape(labels, preds)\n",
    "print(f\"Test MAPE: {mape_value}\")"
   ]
  },
  {
   "cell_type": "code",
   "execution_count": 93,
   "id": "969d7656-38be-41da-b4ab-8a653ed40b70",
   "metadata": {},
   "outputs": [],
   "source": [
    "test_df_copy = test_df.copy()"
   ]
  },
  {
   "cell_type": "code",
   "execution_count": 94,
   "id": "2764dda9-f366-4a8f-a102-1ccc723dba0e",
   "metadata": {},
   "outputs": [],
   "source": [
    "test_df_copy[\"pred_x\"] = preds.T[0]\n",
    "test_df_copy[\"pred_y\"] = preds.T[1]"
   ]
  },
  {
   "cell_type": "code",
   "execution_count": 95,
   "id": "5871508a-1b03-4b1d-a90d-1e26aec4ae99",
   "metadata": {
    "scrolled": true
   },
   "outputs": [
    {
     "data": {
      "text/html": [
       "<div>\n",
       "<style scoped>\n",
       "    .dataframe tbody tr th:only-of-type {\n",
       "        vertical-align: middle;\n",
       "    }\n",
       "\n",
       "    .dataframe tbody tr th {\n",
       "        vertical-align: top;\n",
       "    }\n",
       "\n",
       "    .dataframe thead th {\n",
       "        text-align: right;\n",
       "    }\n",
       "</style>\n",
       "<table border=\"1\" class=\"dataframe\">\n",
       "  <thead>\n",
       "    <tr style=\"text-align: right;\">\n",
       "      <th></th>\n",
       "      <th>x_normalized</th>\n",
       "      <th>y_normalized</th>\n",
       "      <th>pred_x</th>\n",
       "      <th>pred_y</th>\n",
       "    </tr>\n",
       "  </thead>\n",
       "  <tbody>\n",
       "    <tr>\n",
       "      <th>14116</th>\n",
       "      <td>0.641969</td>\n",
       "      <td>0.220104</td>\n",
       "      <td>0.416858</td>\n",
       "      <td>0.364160</td>\n",
       "    </tr>\n",
       "    <tr>\n",
       "      <th>14117</th>\n",
       "      <td>0.205234</td>\n",
       "      <td>0.479142</td>\n",
       "      <td>0.558063</td>\n",
       "      <td>0.510171</td>\n",
       "    </tr>\n",
       "    <tr>\n",
       "      <th>14118</th>\n",
       "      <td>0.633518</td>\n",
       "      <td>0.317813</td>\n",
       "      <td>0.371612</td>\n",
       "      <td>0.383607</td>\n",
       "    </tr>\n",
       "    <tr>\n",
       "      <th>14119</th>\n",
       "      <td>0.201264</td>\n",
       "      <td>0.289198</td>\n",
       "      <td>0.260676</td>\n",
       "      <td>0.369710</td>\n",
       "    </tr>\n",
       "    <tr>\n",
       "      <th>14120</th>\n",
       "      <td>0.969311</td>\n",
       "      <td>0.202355</td>\n",
       "      <td>0.538115</td>\n",
       "      <td>0.442927</td>\n",
       "    </tr>\n",
       "    <tr>\n",
       "      <th>14121</th>\n",
       "      <td>0.309948</td>\n",
       "      <td>0.525626</td>\n",
       "      <td>0.263269</td>\n",
       "      <td>0.454841</td>\n",
       "    </tr>\n",
       "    <tr>\n",
       "      <th>14122</th>\n",
       "      <td>0.634507</td>\n",
       "      <td>0.577160</td>\n",
       "      <td>0.549671</td>\n",
       "      <td>0.469107</td>\n",
       "    </tr>\n",
       "    <tr>\n",
       "      <th>14123</th>\n",
       "      <td>0.346729</td>\n",
       "      <td>0.279872</td>\n",
       "      <td>0.391493</td>\n",
       "      <td>0.505853</td>\n",
       "    </tr>\n",
       "    <tr>\n",
       "      <th>14124</th>\n",
       "      <td>0.218761</td>\n",
       "      <td>0.376791</td>\n",
       "      <td>0.320671</td>\n",
       "      <td>0.407579</td>\n",
       "    </tr>\n",
       "    <tr>\n",
       "      <th>14125</th>\n",
       "      <td>0.046543</td>\n",
       "      <td>0.188688</td>\n",
       "      <td>0.219192</td>\n",
       "      <td>0.385065</td>\n",
       "    </tr>\n",
       "    <tr>\n",
       "      <th>14126</th>\n",
       "      <td>0.275073</td>\n",
       "      <td>0.587330</td>\n",
       "      <td>0.364492</td>\n",
       "      <td>0.605454</td>\n",
       "    </tr>\n",
       "    <tr>\n",
       "      <th>14127</th>\n",
       "      <td>0.279597</td>\n",
       "      <td>0.313406</td>\n",
       "      <td>0.297537</td>\n",
       "      <td>0.345286</td>\n",
       "    </tr>\n",
       "    <tr>\n",
       "      <th>14128</th>\n",
       "      <td>0.222043</td>\n",
       "      <td>0.512854</td>\n",
       "      <td>0.359926</td>\n",
       "      <td>0.566722</td>\n",
       "    </tr>\n",
       "    <tr>\n",
       "      <th>14129</th>\n",
       "      <td>0.068314</td>\n",
       "      <td>0.126097</td>\n",
       "      <td>0.288813</td>\n",
       "      <td>0.183774</td>\n",
       "    </tr>\n",
       "    <tr>\n",
       "      <th>14130</th>\n",
       "      <td>0.262134</td>\n",
       "      <td>0.739203</td>\n",
       "      <td>0.322705</td>\n",
       "      <td>0.507841</td>\n",
       "    </tr>\n",
       "    <tr>\n",
       "      <th>14131</th>\n",
       "      <td>0.333417</td>\n",
       "      <td>0.239141</td>\n",
       "      <td>0.294337</td>\n",
       "      <td>0.463052</td>\n",
       "    </tr>\n",
       "    <tr>\n",
       "      <th>14132</th>\n",
       "      <td>0.374701</td>\n",
       "      <td>0.326779</td>\n",
       "      <td>0.414274</td>\n",
       "      <td>0.373148</td>\n",
       "    </tr>\n",
       "    <tr>\n",
       "      <th>14133</th>\n",
       "      <td>0.447774</td>\n",
       "      <td>0.517602</td>\n",
       "      <td>0.476683</td>\n",
       "      <td>0.537573</td>\n",
       "    </tr>\n",
       "    <tr>\n",
       "      <th>14134</th>\n",
       "      <td>0.287699</td>\n",
       "      <td>0.479375</td>\n",
       "      <td>0.248430</td>\n",
       "      <td>0.460163</td>\n",
       "    </tr>\n",
       "    <tr>\n",
       "      <th>14135</th>\n",
       "      <td>0.278735</td>\n",
       "      <td>0.364826</td>\n",
       "      <td>0.227858</td>\n",
       "      <td>0.413717</td>\n",
       "    </tr>\n",
       "    <tr>\n",
       "      <th>14136</th>\n",
       "      <td>0.128351</td>\n",
       "      <td>0.017153</td>\n",
       "      <td>0.376581</td>\n",
       "      <td>0.544171</td>\n",
       "    </tr>\n",
       "    <tr>\n",
       "      <th>14137</th>\n",
       "      <td>0.291686</td>\n",
       "      <td>0.502719</td>\n",
       "      <td>0.408134</td>\n",
       "      <td>0.514886</td>\n",
       "    </tr>\n",
       "    <tr>\n",
       "      <th>14138</th>\n",
       "      <td>0.506012</td>\n",
       "      <td>0.096737</td>\n",
       "      <td>0.363085</td>\n",
       "      <td>0.328042</td>\n",
       "    </tr>\n",
       "    <tr>\n",
       "      <th>14139</th>\n",
       "      <td>0.218910</td>\n",
       "      <td>0.444921</td>\n",
       "      <td>0.535864</td>\n",
       "      <td>0.392197</td>\n",
       "    </tr>\n",
       "    <tr>\n",
       "      <th>14140</th>\n",
       "      <td>0.396427</td>\n",
       "      <td>0.537800</td>\n",
       "      <td>0.443747</td>\n",
       "      <td>0.568455</td>\n",
       "    </tr>\n",
       "    <tr>\n",
       "      <th>14141</th>\n",
       "      <td>0.238645</td>\n",
       "      <td>0.369011</td>\n",
       "      <td>0.376356</td>\n",
       "      <td>0.344073</td>\n",
       "    </tr>\n",
       "    <tr>\n",
       "      <th>14142</th>\n",
       "      <td>0.360790</td>\n",
       "      <td>0.299275</td>\n",
       "      <td>0.304119</td>\n",
       "      <td>0.388368</td>\n",
       "    </tr>\n",
       "    <tr>\n",
       "      <th>14143</th>\n",
       "      <td>0.197269</td>\n",
       "      <td>0.657329</td>\n",
       "      <td>0.240629</td>\n",
       "      <td>0.348112</td>\n",
       "    </tr>\n",
       "    <tr>\n",
       "      <th>14144</th>\n",
       "      <td>0.351900</td>\n",
       "      <td>0.725899</td>\n",
       "      <td>0.416752</td>\n",
       "      <td>0.417557</td>\n",
       "    </tr>\n",
       "    <tr>\n",
       "      <th>14145</th>\n",
       "      <td>0.492351</td>\n",
       "      <td>0.455546</td>\n",
       "      <td>0.477376</td>\n",
       "      <td>0.405439</td>\n",
       "    </tr>\n",
       "    <tr>\n",
       "      <th>14146</th>\n",
       "      <td>0.473948</td>\n",
       "      <td>0.548207</td>\n",
       "      <td>0.406212</td>\n",
       "      <td>0.575925</td>\n",
       "    </tr>\n",
       "    <tr>\n",
       "      <th>14147</th>\n",
       "      <td>0.580919</td>\n",
       "      <td>0.178606</td>\n",
       "      <td>0.473512</td>\n",
       "      <td>0.497474</td>\n",
       "    </tr>\n",
       "    <tr>\n",
       "      <th>14148</th>\n",
       "      <td>0.152843</td>\n",
       "      <td>0.016634</td>\n",
       "      <td>0.180690</td>\n",
       "      <td>0.236620</td>\n",
       "    </tr>\n",
       "    <tr>\n",
       "      <th>14149</th>\n",
       "      <td>0.650829</td>\n",
       "      <td>0.389712</td>\n",
       "      <td>0.400519</td>\n",
       "      <td>0.591764</td>\n",
       "    </tr>\n",
       "    <tr>\n",
       "      <th>14150</th>\n",
       "      <td>0.280681</td>\n",
       "      <td>0.532170</td>\n",
       "      <td>0.278214</td>\n",
       "      <td>0.318813</td>\n",
       "    </tr>\n",
       "    <tr>\n",
       "      <th>14151</th>\n",
       "      <td>0.312990</td>\n",
       "      <td>0.490017</td>\n",
       "      <td>0.386918</td>\n",
       "      <td>0.549624</td>\n",
       "    </tr>\n",
       "    <tr>\n",
       "      <th>14152</th>\n",
       "      <td>0.518021</td>\n",
       "      <td>0.370366</td>\n",
       "      <td>0.503571</td>\n",
       "      <td>0.347662</td>\n",
       "    </tr>\n",
       "    <tr>\n",
       "      <th>14153</th>\n",
       "      <td>0.323022</td>\n",
       "      <td>0.353973</td>\n",
       "      <td>0.355161</td>\n",
       "      <td>0.496916</td>\n",
       "    </tr>\n",
       "    <tr>\n",
       "      <th>14154</th>\n",
       "      <td>0.964667</td>\n",
       "      <td>0.505924</td>\n",
       "      <td>0.631028</td>\n",
       "      <td>0.405032</td>\n",
       "    </tr>\n",
       "    <tr>\n",
       "      <th>14155</th>\n",
       "      <td>0.279734</td>\n",
       "      <td>0.334726</td>\n",
       "      <td>0.322287</td>\n",
       "      <td>0.356775</td>\n",
       "    </tr>\n",
       "  </tbody>\n",
       "</table>\n",
       "</div>"
      ],
      "text/plain": [
       "       x_normalized  y_normalized    pred_x    pred_y\n",
       "14116      0.641969      0.220104  0.416858  0.364160\n",
       "14117      0.205234      0.479142  0.558063  0.510171\n",
       "14118      0.633518      0.317813  0.371612  0.383607\n",
       "14119      0.201264      0.289198  0.260676  0.369710\n",
       "14120      0.969311      0.202355  0.538115  0.442927\n",
       "14121      0.309948      0.525626  0.263269  0.454841\n",
       "14122      0.634507      0.577160  0.549671  0.469107\n",
       "14123      0.346729      0.279872  0.391493  0.505853\n",
       "14124      0.218761      0.376791  0.320671  0.407579\n",
       "14125      0.046543      0.188688  0.219192  0.385065\n",
       "14126      0.275073      0.587330  0.364492  0.605454\n",
       "14127      0.279597      0.313406  0.297537  0.345286\n",
       "14128      0.222043      0.512854  0.359926  0.566722\n",
       "14129      0.068314      0.126097  0.288813  0.183774\n",
       "14130      0.262134      0.739203  0.322705  0.507841\n",
       "14131      0.333417      0.239141  0.294337  0.463052\n",
       "14132      0.374701      0.326779  0.414274  0.373148\n",
       "14133      0.447774      0.517602  0.476683  0.537573\n",
       "14134      0.287699      0.479375  0.248430  0.460163\n",
       "14135      0.278735      0.364826  0.227858  0.413717\n",
       "14136      0.128351      0.017153  0.376581  0.544171\n",
       "14137      0.291686      0.502719  0.408134  0.514886\n",
       "14138      0.506012      0.096737  0.363085  0.328042\n",
       "14139      0.218910      0.444921  0.535864  0.392197\n",
       "14140      0.396427      0.537800  0.443747  0.568455\n",
       "14141      0.238645      0.369011  0.376356  0.344073\n",
       "14142      0.360790      0.299275  0.304119  0.388368\n",
       "14143      0.197269      0.657329  0.240629  0.348112\n",
       "14144      0.351900      0.725899  0.416752  0.417557\n",
       "14145      0.492351      0.455546  0.477376  0.405439\n",
       "14146      0.473948      0.548207  0.406212  0.575925\n",
       "14147      0.580919      0.178606  0.473512  0.497474\n",
       "14148      0.152843      0.016634  0.180690  0.236620\n",
       "14149      0.650829      0.389712  0.400519  0.591764\n",
       "14150      0.280681      0.532170  0.278214  0.318813\n",
       "14151      0.312990      0.490017  0.386918  0.549624\n",
       "14152      0.518021      0.370366  0.503571  0.347662\n",
       "14153      0.323022      0.353973  0.355161  0.496916\n",
       "14154      0.964667      0.505924  0.631028  0.405032\n",
       "14155      0.279734      0.334726  0.322287  0.356775"
      ]
     },
     "execution_count": 95,
     "metadata": {},
     "output_type": "execute_result"
    }
   ],
   "source": [
    "test_df_copy[['x_normalized', 'y_normalized', 'pred_x', 'pred_y']].tail(40)"
   ]
  },
  {
   "cell_type": "code",
   "execution_count": 96,
   "id": "93e0881f-d37e-40a1-8802-641a6e3f1c58",
   "metadata": {},
   "outputs": [
    {
     "data": {
      "text/plain": [
       "(64402, 4)"
      ]
     },
     "execution_count": 96,
     "metadata": {},
     "output_type": "execute_result"
    }
   ],
   "source": [
    "train_df.shape"
   ]
  },
  {
   "cell_type": "code",
   "execution_count": 97,
   "id": "41c15b99-bbc9-4e19-8a85-055e30ce0b23",
   "metadata": {},
   "outputs": [
    {
     "data": {
      "text/plain": [
       "(14156, 4)"
      ]
     },
     "execution_count": 97,
     "metadata": {},
     "output_type": "execute_result"
    }
   ],
   "source": [
    "test_df.shape"
   ]
  },
  {
   "cell_type": "code",
   "execution_count": 98,
   "id": "83b10fb3-e998-4e60-895f-3eaebdcb254d",
   "metadata": {},
   "outputs": [],
   "source": [
    "test_df_copy.to_csv(\"./tobii_test_sub_pred_face_w_updv2.csv\", index = False)"
   ]
  },
  {
   "cell_type": "code",
   "execution_count": null,
   "id": "81b95d9f-8777-4dc6-b425-6c5c8961068a",
   "metadata": {},
   "outputs": [],
   "source": []
  }
 ],
 "metadata": {
  "kernelspec": {
   "display_name": "envGeneral",
   "language": "python",
   "name": "envgeneral"
  },
  "language_info": {
   "codemirror_mode": {
    "name": "ipython",
    "version": 3
   },
   "file_extension": ".py",
   "mimetype": "text/x-python",
   "name": "python",
   "nbconvert_exporter": "python",
   "pygments_lexer": "ipython3",
   "version": "3.10.10"
  }
 },
 "nbformat": 4,
 "nbformat_minor": 5
}
