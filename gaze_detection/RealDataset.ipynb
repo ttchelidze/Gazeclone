{
 "cells": [
  {
   "cell_type": "code",
   "execution_count": 13,
   "id": "d32fd2b7-4fce-4ba6-b816-c68a455d0add",
   "metadata": {},
   "outputs": [],
   "source": [
    "import pandas as pd\n",
    "import os\n",
    "from pathlib import Path\n",
    "from tqdm import tqdm\n",
    "import numpy as np\n",
    "import cv2"
   ]
  },
  {
   "cell_type": "code",
   "execution_count": 2,
   "id": "2529d675-3f9e-413d-acc0-32d8e241dbf6",
   "metadata": {},
   "outputs": [
    {
     "name": "stderr",
     "output_type": "stream",
     "text": [
      "100%|████████████████████████████████████████████| 8/8 [00:00<00:00, 107.46it/s]\n"
     ]
    }
   ],
   "source": [
    "base_folder = \"./real_experiment/calibration_dataset/\"\n",
    "frames_folder = \"frames\"\n",
    "annotations_folder = \"annotations\"\n",
    "frames_folders_path = os.path.join(base_folder, frames_folder)\n",
    "dfs = []\n",
    "for frames_name in tqdm(os.listdir(frames_folders_path)):\n",
    "    ann_path = os.path.join(base_folder, annotations_folder, f\"{frames_name}.txt\").replace(\"frames\", \"points\")\n",
    "    frames_path = os.path.join(frames_folders_path, frames_name)\n",
    "    p = Path(frames_path).glob('*.png')\n",
    "    paths = [str(path.absolute()) for path in p]\n",
    "    df_files = pd.DataFrame({\"paths\": paths})\n",
    "    df_files[\"ind\"] = df_files.paths.apply(lambda x: Path(x).stem)\n",
    "    df = pd.read_csv(\n",
    "        ann_path,\n",
    "        sep = \" \",\n",
    "        header=None\n",
    "    )\n",
    "    cols = [\n",
    "        \"timestamp\", \"x_gt\", \"y_gt\", \"x1\", \"y1\",\n",
    "        \"x2\", \"y2\", \"screen_w\", \"screen_h\"\n",
    "    ]\n",
    "    df.columns = cols\n",
    "    \n",
    "    df[\"x_normalized\"] = df[\"x_gt\"] / df[\"screen_w\"]\n",
    "    df[\"y_normalized\"] = df[\"y_gt\"] / df[\"screen_h\"]\n",
    "    df[\"timestamp\"] = df[\"timestamp\"].apply(str)\n",
    "    full_df = df_files.merge(df, left_on=\"ind\", right_on=\"timestamp\").drop(columns = [\"ind\"])\n",
    "    dfs.append(full_df)"
   ]
  },
  {
   "cell_type": "code",
   "execution_count": 3,
   "id": "df5ab8b8-f5f2-4b46-9dc0-43f84f8650ba",
   "metadata": {},
   "outputs": [],
   "source": [
    "full_df = pd.concat(dfs)"
   ]
  },
  {
   "cell_type": "code",
   "execution_count": 4,
   "id": "42a354b5-1c87-4a23-b0c1-d7d3b68f1ec3",
   "metadata": {},
   "outputs": [],
   "source": [
    "full_df[\"participant_name\"] = full_df[\"paths\"].apply(lambda x: x.split(\"/\")[-2].split(\"_\")[2])"
   ]
  },
  {
   "cell_type": "code",
   "execution_count": 5,
   "id": "063c6155-0f35-40dd-93ec-d18f3c7b3a80",
   "metadata": {},
   "outputs": [],
   "source": [
    "full_df_train = full_df[full_df[\"participant_name\"] != \"marina\"]"
   ]
  },
  {
   "cell_type": "code",
   "execution_count": 6,
   "id": "5a29720a-54f7-45d1-b597-5104ea857241",
   "metadata": {},
   "outputs": [
    {
     "data": {
      "text/plain": [
       "participant_name\n",
       "misha      227\n",
       "nikita     177\n",
       "vitalya    126\n",
       "nastya     100\n",
       "lilya       92\n",
       "Name: count, dtype: int64"
      ]
     },
     "execution_count": 6,
     "metadata": {},
     "output_type": "execute_result"
    }
   ],
   "source": [
    "full_df_train[\"participant_name\"].value_counts()"
   ]
  },
  {
   "cell_type": "code",
   "execution_count": 7,
   "id": "860b0a30-c7c8-4a9f-8e70-1673507879eb",
   "metadata": {},
   "outputs": [],
   "source": [
    "df_p = full_df_train[full_df_train[\"participant_name\"] == \"vitalya\"]"
   ]
  },
  {
   "cell_type": "code",
   "execution_count": 8,
   "id": "fec0be30-45cb-45fa-ab01-884574c3bfcd",
   "metadata": {},
   "outputs": [
    {
     "data": {
      "text/plain": [
       "(126, 13)"
      ]
     },
     "execution_count": 8,
     "metadata": {},
     "output_type": "execute_result"
    }
   ],
   "source": [
    "df_p.shape"
   ]
  },
  {
   "cell_type": "code",
   "execution_count": 9,
   "id": "a0b3606d-acf8-4a22-a7bc-9ccf59e336fb",
   "metadata": {},
   "outputs": [
    {
     "data": {
      "text/html": [
       "<style>#sk-container-id-1 {color: black;background-color: white;}#sk-container-id-1 pre{padding: 0;}#sk-container-id-1 div.sk-toggleable {background-color: white;}#sk-container-id-1 label.sk-toggleable__label {cursor: pointer;display: block;width: 100%;margin-bottom: 0;padding: 0.3em;box-sizing: border-box;text-align: center;}#sk-container-id-1 label.sk-toggleable__label-arrow:before {content: \"▸\";float: left;margin-right: 0.25em;color: #696969;}#sk-container-id-1 label.sk-toggleable__label-arrow:hover:before {color: black;}#sk-container-id-1 div.sk-estimator:hover label.sk-toggleable__label-arrow:before {color: black;}#sk-container-id-1 div.sk-toggleable__content {max-height: 0;max-width: 0;overflow: hidden;text-align: left;background-color: #f0f8ff;}#sk-container-id-1 div.sk-toggleable__content pre {margin: 0.2em;color: black;border-radius: 0.25em;background-color: #f0f8ff;}#sk-container-id-1 input.sk-toggleable__control:checked~div.sk-toggleable__content {max-height: 200px;max-width: 100%;overflow: auto;}#sk-container-id-1 input.sk-toggleable__control:checked~label.sk-toggleable__label-arrow:before {content: \"▾\";}#sk-container-id-1 div.sk-estimator input.sk-toggleable__control:checked~label.sk-toggleable__label {background-color: #d4ebff;}#sk-container-id-1 div.sk-label input.sk-toggleable__control:checked~label.sk-toggleable__label {background-color: #d4ebff;}#sk-container-id-1 input.sk-hidden--visually {border: 0;clip: rect(1px 1px 1px 1px);clip: rect(1px, 1px, 1px, 1px);height: 1px;margin: -1px;overflow: hidden;padding: 0;position: absolute;width: 1px;}#sk-container-id-1 div.sk-estimator {font-family: monospace;background-color: #f0f8ff;border: 1px dotted black;border-radius: 0.25em;box-sizing: border-box;margin-bottom: 0.5em;}#sk-container-id-1 div.sk-estimator:hover {background-color: #d4ebff;}#sk-container-id-1 div.sk-parallel-item::after {content: \"\";width: 100%;border-bottom: 1px solid gray;flex-grow: 1;}#sk-container-id-1 div.sk-label:hover label.sk-toggleable__label {background-color: #d4ebff;}#sk-container-id-1 div.sk-serial::before {content: \"\";position: absolute;border-left: 1px solid gray;box-sizing: border-box;top: 0;bottom: 0;left: 50%;z-index: 0;}#sk-container-id-1 div.sk-serial {display: flex;flex-direction: column;align-items: center;background-color: white;padding-right: 0.2em;padding-left: 0.2em;position: relative;}#sk-container-id-1 div.sk-item {position: relative;z-index: 1;}#sk-container-id-1 div.sk-parallel {display: flex;align-items: stretch;justify-content: center;background-color: white;position: relative;}#sk-container-id-1 div.sk-item::before, #sk-container-id-1 div.sk-parallel-item::before {content: \"\";position: absolute;border-left: 1px solid gray;box-sizing: border-box;top: 0;bottom: 0;left: 50%;z-index: -1;}#sk-container-id-1 div.sk-parallel-item {display: flex;flex-direction: column;z-index: 1;position: relative;background-color: white;}#sk-container-id-1 div.sk-parallel-item:first-child::after {align-self: flex-end;width: 50%;}#sk-container-id-1 div.sk-parallel-item:last-child::after {align-self: flex-start;width: 50%;}#sk-container-id-1 div.sk-parallel-item:only-child::after {width: 0;}#sk-container-id-1 div.sk-dashed-wrapped {border: 1px dashed gray;margin: 0 0.4em 0.5em 0.4em;box-sizing: border-box;padding-bottom: 0.4em;background-color: white;}#sk-container-id-1 div.sk-label label {font-family: monospace;font-weight: bold;display: inline-block;line-height: 1.2em;}#sk-container-id-1 div.sk-label-container {text-align: center;}#sk-container-id-1 div.sk-container {/* jupyter's `normalize.less` sets `[hidden] { display: none; }` but bootstrap.min.css set `[hidden] { display: none !important; }` so we also need the `!important` here to be able to override the default hidden behavior on the sphinx rendered scikit-learn.org. See: https://github.com/scikit-learn/scikit-learn/issues/21755 */display: inline-block !important;position: relative;}#sk-container-id-1 div.sk-text-repr-fallback {display: none;}</style><div id=\"sk-container-id-1\" class=\"sk-top-container\"><div class=\"sk-text-repr-fallback\"><pre>AgglomerativeClustering(distance_threshold=0.05, metric=&#x27;euclidean&#x27;,\n",
       "                        n_clusters=None)</pre><b>In a Jupyter environment, please rerun this cell to show the HTML representation or trust the notebook. <br />On GitHub, the HTML representation is unable to render, please try loading this page with nbviewer.org.</b></div><div class=\"sk-container\" hidden><div class=\"sk-item\"><div class=\"sk-estimator sk-toggleable\"><input class=\"sk-toggleable__control sk-hidden--visually\" id=\"sk-estimator-id-1\" type=\"checkbox\" checked><label for=\"sk-estimator-id-1\" class=\"sk-toggleable__label sk-toggleable__label-arrow\">AgglomerativeClustering</label><div class=\"sk-toggleable__content\"><pre>AgglomerativeClustering(distance_threshold=0.05, metric=&#x27;euclidean&#x27;,\n",
       "                        n_clusters=None)</pre></div></div></div></div></div>"
      ],
      "text/plain": [
       "AgglomerativeClustering(distance_threshold=0.05, metric='euclidean',\n",
       "                        n_clusters=None)"
      ]
     },
     "execution_count": 9,
     "metadata": {},
     "output_type": "execute_result"
    }
   ],
   "source": [
    "from sklearn.cluster import AgglomerativeClustering\n",
    "\n",
    "coords = df_p[[\"x_normalized\",\t\"y_normalized\"]].values\n",
    "aggl = AgglomerativeClustering(\n",
    "    n_clusters=None,\n",
    "    metric=\"euclidean\",\n",
    "    distance_threshold=0.05\n",
    ")\n",
    "aggl.fit(coords)"
   ]
  },
  {
   "cell_type": "code",
   "execution_count": 10,
   "id": "9f0442b4-da27-4f3d-9ea9-ff9c19d31909",
   "metadata": {},
   "outputs": [],
   "source": [
    "from itertools import cycle, islice\n",
    "colors = np.array(\n",
    "            list(\n",
    "                islice(\n",
    "                    cycle(\n",
    "                        [\n",
    "                            \"#377eb8\",\n",
    "                            \"#ff7f00\",\n",
    "                            \"#4daf4a\",\n",
    "                            \"#f781bf\",\n",
    "                            \"#a65628\",\n",
    "                            \"#984ea3\",\n",
    "                            \"#999999\",\n",
    "                            \"#e41a1c\",\n",
    "                            \"#dede00\",\n",
    "                            \"#357eb8\",\n",
    "                            \"#ff9f00\",\n",
    "                            \"#4daf5a\",\n",
    "                            \"#f741bf\",\n",
    "                            \"#a65328\",\n",
    "                            \"#914ea3\",\n",
    "                            \"#919999\",\n",
    "                            \"#e71a1c\",\n",
    "                            \"#dede10\"\n",
    "                        ]\n",
    "                    ),\n",
    "                    len(np.unique(aggl.labels_)),\n",
    "                )\n",
    "            )\n",
    "        )"
   ]
  },
  {
   "cell_type": "code",
   "execution_count": 11,
   "id": "3bc0cb2a-5251-4f95-9e59-c9486b7f2df1",
   "metadata": {},
   "outputs": [
    {
     "data": {
      "text/plain": [
       "55"
      ]
     },
     "execution_count": 11,
     "metadata": {},
     "output_type": "execute_result"
    }
   ],
   "source": [
    "len(colors)"
   ]
  },
  {
   "cell_type": "code",
   "execution_count": 12,
   "id": "8be70d9d-b5f8-4ad3-ad05-24cc2de4c0ca",
   "metadata": {},
   "outputs": [
    {
     "data": {
      "image/png": "[encoded data removed]",
      "text/plain": [
       "<Figure size 1000x1000 with 1 Axes>"
      ]
     },
     "metadata": {},
     "output_type": "display_data"
    }
   ],
   "source": [
    "import matplotlib.pyplot as plt\n",
    "\n",
    "plt.figure(figsize=(10, 10))\n",
    "plt.scatter(coords[:, 0], coords[:, 1], s=10, color=colors[aggl.labels_])\n",
    "for i, j, l in zip(coords[:, 0],coords[:, 1], aggl.labels_):\n",
    "    plt.text(i,j, l, ha='center', va='bottom')\n",
    "plt.show()"
   ]
  },
  {
   "cell_type": "code",
   "execution_count": 27,
   "id": "fbff2aa0-f0d0-4b31-821e-a2fba5ee023c",
   "metadata": {},
   "outputs": [
    {
     "name": "stderr",
     "output_type": "stream",
     "text": [
      "/tmp/ipykernel_86405/501989376.py:1: SettingWithCopyWarning: \n",
      "A value is trying to be set on a copy of a slice from a DataFrame.\n",
      "Try using .loc[row_indexer,col_indexer] = value instead\n",
      "\n",
      "See the caveats in the documentation: https://pandas.pydata.org/pandas-docs/stable/user_guide/indexing.html#returning-a-view-versus-a-copy\n",
      "  df_p[\"cluster\"] = aggl.labels_\n"
     ]
    }
   ],
   "source": [
    "df_p[\"cluster\"] = aggl.labels_"
   ]
  },
  {
   "cell_type": "code",
   "execution_count": 107,
   "id": "255f043f-5e6b-41ff-809b-45538c75d066",
   "metadata": {},
   "outputs": [],
   "source": [
    "def select_frame(input_):\n",
    "    imgs_cluster = []\n",
    "    for path in input_.values:\n",
    "        img = cv2.imread(path)\n",
    "        img = cv2.cvtColor(img, cv2.COLOR_BGR2GRAY)\n",
    "        img = cv2.resize(img, (128, 128))\n",
    "        img = (img - np.mean(img)) / img.std()\n",
    "        imgs_cluster.append(img.flatten())\n",
    "    imgs_cluster = np.vstack(imgs_cluster)\n",
    "    norms = np.expand_dims(np.linalg.norm(imgs_cluster, axis = 1), axis=1)\n",
    "    norms_matrix = norms @ norms.T\n",
    "    sims = np.matmul(imgs_cluster, imgs_cluster.T) / norms_matrix\n",
    "    sum_sim = np.sum(sims, axis = 0)\n",
    "    best_img_ind = np.argmax(sum_sim)\n",
    "    return input_.values[best_img_ind]"
   ]
  },
  {
   "cell_type": "code",
   "execution_count": 106,
   "id": "3d73cc03-57f3-4773-a3d3-f475ee606c09",
   "metadata": {},
   "outputs": [],
   "source": [
    "# for path in df_p[df_p[\"cluster\"] == 29][\"paths\"].values:\n",
    "#     img = cv2.imread(path)\n",
    "#     img = cv2.cvtColor(img, cv2.COLOR_BGR2GRAY)\n",
    "#     img = cv2.resize(img, (128, 128))\n",
    "#     plt.imshow(img, cmap=\"gray\")\n",
    "#     plt.show()"
   ]
  },
  {
   "cell_type": "code",
   "execution_count": 108,
   "id": "d0438ff3-ba51-4762-a96f-66caea20ac0a",
   "metadata": {},
   "outputs": [
    {
     "data": {
      "text/plain": [
       "{'paths': <function __main__.select_frame(input_)>,\n",
       " 'timestamp': 'first',\n",
       " 'screen_w': 'first',\n",
       " 'screen_h': 'first',\n",
       " 'participant_name': 'first',\n",
       " 'x_gt': 'mean',\n",
       " 'y_gt': 'mean',\n",
       " 'x1': 'mean',\n",
       " 'y1': 'mean',\n",
       " 'x2': 'mean',\n",
       " 'y2': 'mean',\n",
       " 'x_normalized': 'mean',\n",
       " 'y_normalized': 'mean'}"
      ]
     },
     "execution_count": 108,
     "metadata": {},
     "output_type": "execute_result"
    }
   ],
   "source": [
    "columns_first = [\"paths\", \"timestamp\", \"screen_w\", \"screen_h\", 'participant_name']\n",
    "agg_dict = {column : \"first\" for column in columns_first}\n",
    "agg_dict[\"paths\"] = select_frame\n",
    "for col in df_p.columns:\n",
    "    if col not in columns_first + [\"cluster\"]:\n",
    "        agg_dict[col] = \"mean\"\n",
    "agg_dict"
   ]
  },
  {
   "cell_type": "code",
   "execution_count": 109,
   "id": "dec5a2ed-88e4-45c3-815a-59341bc07394",
   "metadata": {},
   "outputs": [
    {
     "data": {
      "text/html": [
       "<div>\n",
       "<style scoped>\n",
       "    .dataframe tbody tr th:only-of-type {\n",
       "        vertical-align: middle;\n",
       "    }\n",
       "\n",
       "    .dataframe tbody tr th {\n",
       "        vertical-align: top;\n",
       "    }\n",
       "\n",
       "    .dataframe thead th {\n",
       "        text-align: right;\n",
       "    }\n",
       "</style>\n",
       "<table border=\"1\" class=\"dataframe\">\n",
       "  <thead>\n",
       "    <tr style=\"text-align: right;\">\n",
       "      <th></th>\n",
       "      <th>paths</th>\n",
       "      <th>timestamp</th>\n",
       "      <th>screen_w</th>\n",
       "      <th>screen_h</th>\n",
       "      <th>participant_name</th>\n",
       "      <th>x_gt</th>\n",
       "      <th>y_gt</th>\n",
       "      <th>x1</th>\n",
       "      <th>y1</th>\n",
       "      <th>x2</th>\n",
       "      <th>y2</th>\n",
       "      <th>x_normalized</th>\n",
       "      <th>y_normalized</th>\n",
       "    </tr>\n",
       "    <tr>\n",
       "      <th>cluster</th>\n",
       "      <th></th>\n",
       "      <th></th>\n",
       "      <th></th>\n",
       "      <th></th>\n",
       "      <th></th>\n",
       "      <th></th>\n",
       "      <th></th>\n",
       "      <th></th>\n",
       "      <th></th>\n",
       "      <th></th>\n",
       "      <th></th>\n",
       "      <th></th>\n",
       "      <th></th>\n",
       "    </tr>\n",
       "  </thead>\n",
       "  <tbody>\n",
       "    <tr>\n",
       "      <th>0</th>\n",
       "      <td>/home/ubuntu/projects/tweakle/gaze_detection/r...</td>\n",
       "      <td>1697649747.321322</td>\n",
       "      <td>2474</td>\n",
       "      <td>1520</td>\n",
       "      <td>vitalya</td>\n",
       "      <td>320.500000</td>\n",
       "      <td>1204.500000</td>\n",
       "      <td>240.500000</td>\n",
       "      <td>1124.500000</td>\n",
       "      <td>400.500000</td>\n",
       "      <td>1284.500000</td>\n",
       "      <td>0.129547</td>\n",
       "      <td>0.792434</td>\n",
       "    </tr>\n",
       "    <tr>\n",
       "      <th>1</th>\n",
       "      <td>/home/ubuntu/projects/tweakle/gaze_detection/r...</td>\n",
       "      <td>1697649682.013433</td>\n",
       "      <td>2474</td>\n",
       "      <td>1520</td>\n",
       "      <td>vitalya</td>\n",
       "      <td>1060.166667</td>\n",
       "      <td>259.666667</td>\n",
       "      <td>980.166667</td>\n",
       "      <td>179.666667</td>\n",
       "      <td>1140.166667</td>\n",
       "      <td>339.666667</td>\n",
       "      <td>0.428523</td>\n",
       "      <td>0.170833</td>\n",
       "    </tr>\n",
       "    <tr>\n",
       "      <th>2</th>\n",
       "      <td>/home/ubuntu/projects/tweakle/gaze_detection/r...</td>\n",
       "      <td>1697649731.226912</td>\n",
       "      <td>2474</td>\n",
       "      <td>1520</td>\n",
       "      <td>vitalya</td>\n",
       "      <td>1959.000000</td>\n",
       "      <td>1405.500000</td>\n",
       "      <td>1879.000000</td>\n",
       "      <td>1325.500000</td>\n",
       "      <td>2039.000000</td>\n",
       "      <td>1485.500000</td>\n",
       "      <td>0.791835</td>\n",
       "      <td>0.924671</td>\n",
       "    </tr>\n",
       "    <tr>\n",
       "      <th>3</th>\n",
       "      <td>/home/ubuntu/projects/tweakle/gaze_detection/r...</td>\n",
       "      <td>1697649760.6136498</td>\n",
       "      <td>2474</td>\n",
       "      <td>1520</td>\n",
       "      <td>vitalya</td>\n",
       "      <td>1122.500000</td>\n",
       "      <td>652.500000</td>\n",
       "      <td>1042.500000</td>\n",
       "      <td>572.500000</td>\n",
       "      <td>1202.500000</td>\n",
       "      <td>732.500000</td>\n",
       "      <td>0.453719</td>\n",
       "      <td>0.429276</td>\n",
       "    </tr>\n",
       "    <tr>\n",
       "      <th>4</th>\n",
       "      <td>/home/ubuntu/projects/tweakle/gaze_detection/r...</td>\n",
       "      <td>1697649762.448297</td>\n",
       "      <td>2474</td>\n",
       "      <td>1520</td>\n",
       "      <td>vitalya</td>\n",
       "      <td>1273.500000</td>\n",
       "      <td>669.500000</td>\n",
       "      <td>1193.500000</td>\n",
       "      <td>589.500000</td>\n",
       "      <td>1353.500000</td>\n",
       "      <td>749.500000</td>\n",
       "      <td>0.514753</td>\n",
       "      <td>0.440461</td>\n",
       "    </tr>\n",
       "  </tbody>\n",
       "</table>\n",
       "</div>"
      ],
      "text/plain": [
       "                                                     paths  \\\n",
       "cluster                                                      \n",
       "0        /home/ubuntu/projects/tweakle/gaze_detection/r...   \n",
       "1        /home/ubuntu/projects/tweakle/gaze_detection/r...   \n",
       "2        /home/ubuntu/projects/tweakle/gaze_detection/r...   \n",
       "3        /home/ubuntu/projects/tweakle/gaze_detection/r...   \n",
       "4        /home/ubuntu/projects/tweakle/gaze_detection/r...   \n",
       "\n",
       "                  timestamp  screen_w  screen_h participant_name         x_gt  \\\n",
       "cluster                                                                         \n",
       "0         1697649747.321322      2474      1520          vitalya   320.500000   \n",
       "1         1697649682.013433      2474      1520          vitalya  1060.166667   \n",
       "2         1697649731.226912      2474      1520          vitalya  1959.000000   \n",
       "3        1697649760.6136498      2474      1520          vitalya  1122.500000   \n",
       "4         1697649762.448297      2474      1520          vitalya  1273.500000   \n",
       "\n",
       "                y_gt           x1           y1           x2           y2  \\\n",
       "cluster                                                                    \n",
       "0        1204.500000   240.500000  1124.500000   400.500000  1284.500000   \n",
       "1         259.666667   980.166667   179.666667  1140.166667   339.666667   \n",
       "2        1405.500000  1879.000000  1325.500000  2039.000000  1485.500000   \n",
       "3         652.500000  1042.500000   572.500000  1202.500000   732.500000   \n",
       "4         669.500000  1193.500000   589.500000  1353.500000   749.500000   \n",
       "\n",
       "         x_normalized  y_normalized  \n",
       "cluster                              \n",
       "0            0.129547      0.792434  \n",
       "1            0.428523      0.170833  \n",
       "2            0.791835      0.924671  \n",
       "3            0.453719      0.429276  \n",
       "4            0.514753      0.440461  "
      ]
     },
     "execution_count": 109,
     "metadata": {},
     "output_type": "execute_result"
    }
   ],
   "source": [
    "df_cleaned_p = df_p.groupby(\"cluster\").agg(agg_dict)\n",
    "df_cleaned_p.head()"
   ]
  },
  {
   "cell_type": "code",
   "execution_count": 110,
   "id": "cc3334a7-be32-4c1a-85ba-8a8fa1f40e77",
   "metadata": {},
   "outputs": [
    {
     "name": "stderr",
     "output_type": "stream",
     "text": [
      "  0%|                                                     | 0/5 [00:00<?, ?it/s]/tmp/ipykernel_86405/2161703093.py:19: SettingWithCopyWarning: \n",
      "A value is trying to be set on a copy of a slice from a DataFrame.\n",
      "Try using .loc[row_indexer,col_indexer] = value instead\n",
      "\n",
      "See the caveats in the documentation: https://pandas.pydata.org/pandas-docs/stable/user_guide/indexing.html#returning-a-view-versus-a-copy\n",
      "  df_p[\"cluster\"] = aggl.labels_\n",
      " 20%|█████████                                    | 1/5 [00:06<00:27,  6.80s/it]/tmp/ipykernel_86405/2161703093.py:19: SettingWithCopyWarning: \n",
      "A value is trying to be set on a copy of a slice from a DataFrame.\n",
      "Try using .loc[row_indexer,col_indexer] = value instead\n",
      "\n",
      "See the caveats in the documentation: https://pandas.pydata.org/pandas-docs/stable/user_guide/indexing.html#returning-a-view-versus-a-copy\n",
      "  df_p[\"cluster\"] = aggl.labels_\n",
      " 40%|██████████████████                           | 2/5 [00:13<00:19,  6.53s/it]/tmp/ipykernel_86405/2161703093.py:19: SettingWithCopyWarning: \n",
      "A value is trying to be set on a copy of a slice from a DataFrame.\n",
      "Try using .loc[row_indexer,col_indexer] = value instead\n",
      "\n",
      "See the caveats in the documentation: https://pandas.pydata.org/pandas-docs/stable/user_guide/indexing.html#returning-a-view-versus-a-copy\n",
      "  df_p[\"cluster\"] = aggl.labels_\n",
      " 60%|███████████████████████████                  | 3/5 [00:16<00:10,  5.29s/it]/tmp/ipykernel_86405/2161703093.py:19: SettingWithCopyWarning: \n",
      "A value is trying to be set on a copy of a slice from a DataFrame.\n",
      "Try using .loc[row_indexer,col_indexer] = value instead\n",
      "\n",
      "See the caveats in the documentation: https://pandas.pydata.org/pandas-docs/stable/user_guide/indexing.html#returning-a-view-versus-a-copy\n",
      "  df_p[\"cluster\"] = aggl.labels_\n",
      " 80%|████████████████████████████████████         | 4/5 [00:20<00:04,  4.67s/it]/tmp/ipykernel_86405/2161703093.py:19: SettingWithCopyWarning: \n",
      "A value is trying to be set on a copy of a slice from a DataFrame.\n",
      "Try using .loc[row_indexer,col_indexer] = value instead\n",
      "\n",
      "See the caveats in the documentation: https://pandas.pydata.org/pandas-docs/stable/user_guide/indexing.html#returning-a-view-versus-a-copy\n",
      "  df_p[\"cluster\"] = aggl.labels_\n",
      "100%|█████████████████████████████████████████████| 5/5 [00:24<00:00,  4.93s/it]\n"
     ]
    }
   ],
   "source": [
    "new_dfs = []\n",
    "\n",
    "columns_first = [\"paths\", \"timestamp\", \"screen_w\", \"screen_h\", 'participant_name']\n",
    "agg_dict = {column : \"first\" for column in columns_first}\n",
    "agg_dict[\"paths\"] = select_frame\n",
    "for col in df_p.columns:\n",
    "    if col not in columns_first + [\"cluster\"]:\n",
    "        agg_dict[col] = \"mean\"\n",
    "\n",
    "for part in tqdm(full_df_train[\"participant_name\"].unique()):\n",
    "    df_p = full_df_train[full_df_train[\"participant_name\"] == part]\n",
    "    coords = df_p[[\"x_normalized\",\t\"y_normalized\"]].values\n",
    "    aggl = AgglomerativeClustering(\n",
    "        n_clusters=None,\n",
    "        metric=\"euclidean\",\n",
    "        distance_threshold=0.05\n",
    "    )\n",
    "    aggl.fit(coords)\n",
    "    df_p[\"cluster\"] = aggl.labels_\n",
    "    df_cleaned_p = df_p.groupby(\"cluster\").agg(agg_dict)\n",
    "    new_dfs.append(df_cleaned_p)"
   ]
  },
  {
   "cell_type": "code",
   "execution_count": 111,
   "id": "6aa01683-5c4e-44e7-902d-78672a94c471",
   "metadata": {},
   "outputs": [
    {
     "data": {
      "text/plain": [
       "participant_name\n",
       "nikita     109\n",
       "misha      102\n",
       "nastya      79\n",
       "lilya       72\n",
       "vitalya     55\n",
       "Name: count, dtype: int64"
      ]
     },
     "execution_count": 111,
     "metadata": {},
     "output_type": "execute_result"
    }
   ],
   "source": [
    "pd.concat(new_dfs).participant_name.value_counts()"
   ]
  },
  {
   "cell_type": "code",
   "execution_count": 112,
   "id": "111f9f49-867d-4a87-95ea-c66ca1d90ef6",
   "metadata": {},
   "outputs": [
    {
     "data": {
      "text/plain": [
       "participant_name\n",
       "misha      227\n",
       "nikita     177\n",
       "vitalya    126\n",
       "nastya     100\n",
       "lilya       92\n",
       "Name: count, dtype: int64"
      ]
     },
     "execution_count": 112,
     "metadata": {},
     "output_type": "execute_result"
    }
   ],
   "source": [
    "full_df_train.participant_name.value_counts()"
   ]
  },
  {
   "cell_type": "code",
   "execution_count": 113,
   "id": "4c3a4325-2136-46a3-841c-898bbb646b6f",
   "metadata": {},
   "outputs": [],
   "source": [
    "cleaned_train_df = pd.concat(new_dfs)"
   ]
  },
  {
   "cell_type": "code",
   "execution_count": 114,
   "id": "a0b1a08b-2381-40aa-8e1f-d14c3622e476",
   "metadata": {},
   "outputs": [],
   "source": [
    "cleaned_train_df.to_csv(\"real_experiment/calibration_dataset/cleaned_train.csv\", index = False)"
   ]
  },
  {
   "cell_type": "code",
   "execution_count": null,
   "id": "ac90c89e-191f-4445-9ae6-ec7308f79494",
   "metadata": {},
   "outputs": [],
   "source": []
  }
 ],
 "metadata": {
  "kernelspec": {
   "display_name": "envGeneral",
   "language": "python",
   "name": "envgeneral"
  },
  "language_info": {
   "codemirror_mode": {
    "name": "ipython",
    "version": 3
   },
   "file_extension": ".py",
   "mimetype": "text/x-python",
   "name": "python",
   "nbconvert_exporter": "python",
   "pygments_lexer": "ipython3",
   "version": "3.10.10"
  }
 },
 "nbformat": 4,
 "nbformat_minor": 5
}
