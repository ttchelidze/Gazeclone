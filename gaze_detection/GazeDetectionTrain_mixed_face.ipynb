{
 "cells": [
  {
   "cell_type": "code",
   "execution_count": 1,
   "id": "41f33541-d23d-4b59-9a54-77afd6b864a6",
   "metadata": {},
   "outputs": [],
   "source": [
    "%matplotlib inline\n",
    "\n",
    "import numpy as np\n",
    "import torch\n",
    "import os\n",
    "import torch.nn as nn\n",
    "import torch.nn.functional as F\n",
    "import matplotlib.pyplot as plt\n",
    "import pandas as pd\n",
    "import cv2\n",
    "import albumentations as A\n",
    "from albumentations.pytorch import ToTensorV2\n",
    "from torch.utils.data import Dataset, DataLoader\n",
    "import warnings\n",
    "import torch.optim as optim\n",
    "from torch.optim.lr_scheduler import ReduceLROnPlateau\n",
    "from sklearn.metrics import mean_absolute_percentage_error as mape\n",
    "from tqdm import tqdm\n",
    "from typing import List, Optional\n",
    "import glob\n",
    "from pathlib import Path\n",
    "\n",
    "from facemesh import FaceMeshBlock, FaceMesh\n",
    "from pupil_detection import IrisLM, IrisBlock\n",
    "from util_funcs import pad_image\n",
    "from face_detector import FaceDetector\n",
    "\n",
    "warnings.filterwarnings('ignore')\n",
    "tqdm.pandas()"
   ]
  },
  {
   "cell_type": "code",
   "execution_count": 3,
   "id": "4aaaf887-e382-4bce-9d67-0da61e63c66f",
   "metadata": {},
   "outputs": [
    {
     "data": {
      "text/plain": [
       "'cuda:0'"
      ]
     },
     "execution_count": 3,
     "metadata": {},
     "output_type": "execute_result"
    }
   ],
   "source": [
    "device = \"cuda:0\" if torch.cuda.is_available() else \"cpu\"\n",
    "device"
   ]
  },
  {
   "cell_type": "code",
   "execution_count": 4,
   "id": "9aa9253b-0a28-46f5-bad1-4c648f9c20ec",
   "metadata": {},
   "outputs": [
    {
     "data": {
      "text/plain": [
       "<All keys matched successfully>"
      ]
     },
     "execution_count": 4,
     "metadata": {},
     "output_type": "execute_result"
    }
   ],
   "source": [
    "pretrained_model_face = FaceMesh()\n",
    "pretrained_model_face.load_weights(\"./weights/facemesh.pth\")\n",
    "\n",
    "model_path = \"./weights/irislandmarks.pth\"\n",
    "pretrained_model_eyes = IrisLM()\n",
    "weights = torch.load(model_path)\n",
    "pretrained_model_eyes.load_state_dict(weights)"
   ]
  },
  {
   "cell_type": "code",
   "execution_count": 5,
   "id": "f3b5ed47-d7ef-40eb-b78b-9e774addfca5",
   "metadata": {},
   "outputs": [],
   "source": [
    "class FaceGridModel(nn.Module):\n",
    "    def __init__(self, gridSize = 25):\n",
    "        super(FaceGridModel, self).__init__()\n",
    "        self.fc = nn.Sequential(\n",
    "            nn.Linear(gridSize * gridSize, 256),\n",
    "            nn.ReLU(inplace=True),\n",
    "            nn.Linear(256, 128),\n",
    "            nn.ReLU(inplace=True),\n",
    "            )\n",
    "\n",
    "    def forward(self, x):\n",
    "        x = x.view(x.size(0), -1)\n",
    "        x = self.fc(x)\n",
    "        return x"
   ]
  },
  {
   "cell_type": "code",
   "execution_count": 6,
   "id": "fa2e1516-9652-4c9e-a01c-14e55b6af1f4",
   "metadata": {},
   "outputs": [],
   "source": [
    "class EyesModel(nn.Module):\n",
    "    def __init__(self, pretrained_model_eyes: nn.Module):\n",
    "        super(EyesModel, self).__init__()\n",
    "        self.backbone = pretrained_model_eyes.backbone\n",
    "        self.regression_head_eyes = nn.Sequential(\n",
    "            IrisBlock(128, 128), IrisBlock(128, 128),\n",
    "            IrisBlock(128, 128, stride=2),\n",
    "            IrisBlock(128, 128), IrisBlock(128, 128),\n",
    "            IrisBlock(128, 128, stride=2),\n",
    "            IrisBlock(128, 128), IrisBlock(128, 128),\n",
    "        )\n",
    "        # connect eyes\n",
    "        self.fc = nn.Sequential(\n",
    "            nn.Linear(2 * 128 * 1 * 1, 128),\n",
    "            nn.ReLU(inplace=True),\n",
    "        )\n",
    "\n",
    "    def forward(self, x_eye_l, x_eye_r):\n",
    "        x_eye_l = self.backbone(x_eye_l)\n",
    "        x_eye_l = self.regression_head_eyes(x_eye_l)\n",
    "        x_eye_l = x_eye_l.view(-1, 128 * 1 * 1)\n",
    "\n",
    "        x_eye_r = self.backbone(x_eye_r)\n",
    "        x_eye_r = self.regression_head_eyes(x_eye_r)\n",
    "        x_eye_r = x_eye_r.view(-1, 128 * 1 * 1)\n",
    "        x = torch.cat([x_eye_l, x_eye_r], 1)\n",
    "        x = self.fc(x)\n",
    "        return x"
   ]
  },
  {
   "cell_type": "code",
   "execution_count": 7,
   "id": "d530e4e7-1ee7-4688-a57c-6e63d086684e",
   "metadata": {},
   "outputs": [],
   "source": [
    "class FaceModel(nn.Module):\n",
    "    def __init__(self, pretrained_model_face: nn.Module):\n",
    "        super(FaceModel, self).__init__()\n",
    "        self.backbone = pretrained_model_face.backbone\n",
    "        self.regression_head_face = nn.Sequential(\n",
    "            FaceMeshBlock(128, 128, stride=2),\n",
    "            FaceMeshBlock(128, 128),\n",
    "            FaceMeshBlock(128, 128),\n",
    "            nn.Conv2d(128, 32, 1),\n",
    "            nn.PReLU(32),\n",
    "            FaceMeshBlock(32, 32),\n",
    "        )\n",
    "        self.fc = nn.Sequential(\n",
    "            nn.Linear(32 * 3 * 3, 128),\n",
    "            nn.ReLU(inplace=True),\n",
    "            nn.Linear(128, 64),\n",
    "            nn.ReLU(inplace=True),\n",
    "        )\n",
    "\n",
    "    def _preprocess(self, x):\n",
    "        return x.to(torch.float32) * 2.0 - 1.0\n",
    "\n",
    "    def forward(self, x_face):\n",
    "        x_face = self._preprocess(x_face)\n",
    "        x_face = nn.ReflectionPad2d((1, 0, 1, 0))(x_face)\n",
    "        x_face = self.backbone(x_face)\n",
    "        x_face = self.regression_head_face(x_face)\n",
    "        x_face = x_face.view(-1, 32 * 3 * 3)\n",
    "        x = self.fc(x_face)\n",
    "        return x"
   ]
  },
  {
   "cell_type": "code",
   "execution_count": 8,
   "id": "a4826dd2-1e36-4981-b4fc-1f0c4f8055b9",
   "metadata": {},
   "outputs": [],
   "source": [
    "class FineTuneModel(nn.Module):\n",
    "    def __init__(\n",
    "        self,\n",
    "        pretrained_model_face: nn.Module,\n",
    "        pretrained_model_eyes: nn.Module,\n",
    "        screen_features: bool = False,\n",
    "    ):\n",
    "        super(FineTuneModel, self).__init__()\n",
    "        self.face_model = FaceModel(pretrained_model_face)\n",
    "        self.eyes_model = EyesModel(pretrained_model_eyes)\n",
    "        self.face_grid_model = FaceGridModel()\n",
    "        self.screen_features = screen_features\n",
    "        if not screen_features:\n",
    "            self.fc = nn.Sequential(\n",
    "                nn.Linear(128+64+128, 128),\n",
    "                nn.ReLU(inplace=True),\n",
    "                nn.Linear(128, 2),\n",
    "            )\n",
    "        else:\n",
    "            self.fc1 = nn.Sequential(\n",
    "                nn.Linear(128+64+128, 128),\n",
    "                nn.ReLU(inplace=True),\n",
    "                nn.Linear(128, 13),\n",
    "                nn.ReLU(inplace=True),\n",
    "            )\n",
    "            self.layer_norm = nn.LayerNorm(16)\n",
    "            self.fc2 = nn.Linear(16, 2)\n",
    "            \n",
    "\n",
    "    def _preprocess(self, x):\n",
    "        return x.to(torch.float32) * 2.0 - 1.0\n",
    "        \n",
    "    def forward(self, x_face, x_eye_l, x_eye_r, x_grid, x_screen = None):\n",
    "        if self.screen_features and x_screen is None:\n",
    "            raise Exception(\"You should pass screen features\")\n",
    "        if not self.screen_features and x_screen is not None:\n",
    "            warnings.warn(\"Screen fearures won't be used\")\n",
    "        x_eyes = self.eyes_model(x_eye_l, x_eye_r)\n",
    "        x_face = self.face_model(x_face)\n",
    "        x_grid = self.face_grid_model(x_grid)\n",
    "        x = torch.cat([x_eyes, x_face, x_grid], axis = 1)\n",
    "        if not self.screen_features:\n",
    "            x = self.fc(x)\n",
    "        else:\n",
    "            x = self.fc1(x)\n",
    "            x = torch.cat([x, x_screen], axis = 1)\n",
    "            x = self.layer_norm(x)\n",
    "            x = self.fc2(x)\n",
    "        return x"
   ]
  },
  {
   "cell_type": "code",
   "execution_count": 9,
   "id": "4066c25c-f2ee-42c2-b207-ef7ef93ffbeb",
   "metadata": {},
   "outputs": [
    {
     "data": {
      "text/plain": [
       "tensor([[-0.20376, -1.11009,  1.31384],\n",
       "        [-0.20376, -1.11009,  1.31384]], device='cuda:0')"
      ]
     },
     "execution_count": 9,
     "metadata": {},
     "output_type": "execute_result"
    }
   ],
   "source": [
    "screen_feat = np.array([[33.17, 20.73, 54.0], [33.17, 20.73, 54.0]])\n",
    "screen_feat = torch.tensor((screen_feat - screen_feat.mean()) / screen_feat.std()).type(torch.float32).to(device)\n",
    "screen_feat"
   ]
  },
  {
   "cell_type": "code",
   "execution_count": 10,
   "id": "1372b175-f163-4f06-861f-e6f903707a55",
   "metadata": {},
   "outputs": [],
   "source": [
    "model = FineTuneModel(pretrained_model_face, pretrained_model_eyes, screen_features = True).to(device)"
   ]
  },
  {
   "cell_type": "code",
   "execution_count": 11,
   "id": "5681f32b-f9c7-475f-ae8b-f99e1833f84a",
   "metadata": {},
   "outputs": [],
   "source": [
    "rand_img = np.random.randint(0, 255, (2, 3, 192,192))\n",
    "x_face = torch.from_numpy(rand_img).to(device)\n",
    "rand_img = (np.random.randint(0, 255, (2, 3, 64, 64)) / 255.)\n",
    "x_eye = torch.from_numpy(rand_img).type(torch.float32).to(device)\n",
    "rand_grid = (np.random.randint(0, 255, (2, 25, 25)) / 255.)\n",
    "x_grid = torch.from_numpy(rand_grid).type(torch.float32).to(device)"
   ]
  },
  {
   "cell_type": "code",
   "execution_count": 12,
   "id": "90cba93c-bd2b-4b87-9c0c-32e4dfb0eb59",
   "metadata": {},
   "outputs": [
    {
     "data": {
      "text/plain": [
       "tensor([[-0.18822,  0.75986],\n",
       "        [-0.22484,  0.63052]], device='cuda:0', grad_fn=<AddmmBackward0>)"
      ]
     },
     "execution_count": 12,
     "metadata": {},
     "output_type": "execute_result"
    }
   ],
   "source": [
    "model(x_face, x_eye, x_eye, x_grid, screen_feat)"
   ]
  },
  {
   "cell_type": "code",
   "execution_count": 2,
   "id": "2229ac0c-c97f-4138-9b9e-e3f6656dc74c",
   "metadata": {},
   "outputs": [],
   "source": [
    "def get_screen_specs(df: pd.DataFrame):\n",
    "    user_specs_path = \"../data/participant_characteristics.csv\"\n",
    "    user_specs = pd.read_csv(user_specs_path)[[\n",
    "        'Participant ID', 'Screen Width (cm)', 'Screen Height (cm)',\n",
    "        'Distance From Screen (cm)'\n",
    "    ]]\n",
    "    fill_dict = user_specs.groupby(\"Screen Width (cm)\")[\"Distance From Screen (cm)\"].median().to_dict()\n",
    "    user_specs[\"Distance From Screen (cm)\"] = \\\n",
    "            user_specs[\"Distance From Screen (cm)\"].fillna(user_specs[\"Screen Width (cm)\"].map(fill_dict))\n",
    "    df[\"user_id\"] = df[\"full_name\"].apply(lambda x: x.split(\"#\")[0])\n",
    "    df = df.merge(\n",
    "        user_specs, left_on = \"user_id\",\n",
    "        right_on = 'Participant ID',\n",
    "        how = \"inner\"\n",
    "    ).drop(columns = ['Participant ID'])\n",
    "    return df"
   ]
  },
  {
   "cell_type": "code",
   "execution_count": 3,
   "id": "c7ccd337-c57a-4f10-866e-d9d8a0fc9d77",
   "metadata": {},
   "outputs": [],
   "source": [
    "data = pd.read_csv(\"./tobii_full_pred_final_updv2.csv\")"
   ]
  },
  {
   "cell_type": "code",
   "execution_count": 4,
   "id": "dac66c6a-8e0a-48d8-b362-ef76be61b734",
   "metadata": {},
   "outputs": [],
   "source": [
    "data = get_screen_specs(data)"
   ]
  },
  {
   "cell_type": "code",
   "execution_count": 6,
   "id": "9143ea39-ee8f-439a-83c7-033c8f85ca23",
   "metadata": {},
   "outputs": [
    {
     "data": {
      "text/plain": [
       "Screen Width (cm)  Screen Height (cm)\n",
       "51.70              32.31                 444044\n",
       "33.17              20.73                 233146\n",
       "Name: count, dtype: int64"
      ]
     },
     "execution_count": 6,
     "metadata": {},
     "output_type": "execute_result"
    }
   ],
   "source": [
    "data[['Screen Width (cm)', 'Screen Height (cm)']].value_counts()"
   ]
  },
  {
   "cell_type": "code",
   "execution_count": 20,
   "id": "637edce4-ee23-48ae-99d3-b57546201933",
   "metadata": {},
   "outputs": [
    {
     "data": {
      "text/html": [
       "<div>\n",
       "<style scoped>\n",
       "    .dataframe tbody tr th:only-of-type {\n",
       "        vertical-align: middle;\n",
       "    }\n",
       "\n",
       "    .dataframe tbody tr th {\n",
       "        vertical-align: top;\n",
       "    }\n",
       "\n",
       "    .dataframe thead th {\n",
       "        text-align: right;\n",
       "    }\n",
       "</style>\n",
       "<table border=\"1\" class=\"dataframe\">\n",
       "  <thead>\n",
       "    <tr style=\"text-align: right;\">\n",
       "      <th></th>\n",
       "      <th>paths</th>\n",
       "      <th>x_normalized</th>\n",
       "      <th>y_normalized</th>\n",
       "      <th>full_name</th>\n",
       "      <th>pred_x</th>\n",
       "      <th>pred_y</th>\n",
       "      <th>user_id</th>\n",
       "      <th>Screen Width (cm)</th>\n",
       "      <th>Screen Height (cm)</th>\n",
       "      <th>Distance From Screen (cm)</th>\n",
       "    </tr>\n",
       "  </thead>\n",
       "  <tbody>\n",
       "    <tr>\n",
       "      <th>0</th>\n",
       "      <td>/home/ubuntu/projects/tweakle/data/tobii_image...</td>\n",
       "      <td>0.400634</td>\n",
       "      <td>0.371580</td>\n",
       "      <td>P_15#1491933738937_2_-study-dot_test_instructi...</td>\n",
       "      <td>0.227233</td>\n",
       "      <td>0.248519</td>\n",
       "      <td>P_15</td>\n",
       "      <td>33.17</td>\n",
       "      <td>20.73</td>\n",
       "      <td>54.0</td>\n",
       "    </tr>\n",
       "    <tr>\n",
       "      <th>1</th>\n",
       "      <td>/home/ubuntu/projects/tweakle/data/tobii_image...</td>\n",
       "      <td>0.402445</td>\n",
       "      <td>0.382982</td>\n",
       "      <td>P_15#1491933738937_2_-study-dot_test_instructi...</td>\n",
       "      <td>0.207957</td>\n",
       "      <td>0.255719</td>\n",
       "      <td>P_15</td>\n",
       "      <td>33.17</td>\n",
       "      <td>20.73</td>\n",
       "      <td>54.0</td>\n",
       "    </tr>\n",
       "    <tr>\n",
       "      <th>2</th>\n",
       "      <td>/home/ubuntu/projects/tweakle/data/tobii_image...</td>\n",
       "      <td>0.403391</td>\n",
       "      <td>0.378205</td>\n",
       "      <td>P_15#1491933738937_2_-study-dot_test_instructi...</td>\n",
       "      <td>0.191822</td>\n",
       "      <td>0.256179</td>\n",
       "      <td>P_15</td>\n",
       "      <td>33.17</td>\n",
       "      <td>20.73</td>\n",
       "      <td>54.0</td>\n",
       "    </tr>\n",
       "    <tr>\n",
       "      <th>3</th>\n",
       "      <td>/home/ubuntu/projects/tweakle/data/tobii_image...</td>\n",
       "      <td>0.401790</td>\n",
       "      <td>0.382480</td>\n",
       "      <td>P_15#1491933738937_2_-study-dot_test_instructi...</td>\n",
       "      <td>0.289968</td>\n",
       "      <td>0.198733</td>\n",
       "      <td>P_15</td>\n",
       "      <td>33.17</td>\n",
       "      <td>20.73</td>\n",
       "      <td>54.0</td>\n",
       "    </tr>\n",
       "    <tr>\n",
       "      <th>4</th>\n",
       "      <td>/home/ubuntu/projects/tweakle/data/tobii_image...</td>\n",
       "      <td>0.401127</td>\n",
       "      <td>0.379053</td>\n",
       "      <td>P_15#1491933738937_2_-study-dot_test_instructi...</td>\n",
       "      <td>0.300984</td>\n",
       "      <td>0.192523</td>\n",
       "      <td>P_15</td>\n",
       "      <td>33.17</td>\n",
       "      <td>20.73</td>\n",
       "      <td>54.0</td>\n",
       "    </tr>\n",
       "  </tbody>\n",
       "</table>\n",
       "</div>"
      ],
      "text/plain": [
       "                                               paths  x_normalized  \\\n",
       "0  /home/ubuntu/projects/tweakle/data/tobii_image...      0.400634   \n",
       "1  /home/ubuntu/projects/tweakle/data/tobii_image...      0.402445   \n",
       "2  /home/ubuntu/projects/tweakle/data/tobii_image...      0.403391   \n",
       "3  /home/ubuntu/projects/tweakle/data/tobii_image...      0.401790   \n",
       "4  /home/ubuntu/projects/tweakle/data/tobii_image...      0.401127   \n",
       "\n",
       "   y_normalized                                          full_name    pred_x  \\\n",
       "0      0.371580  P_15#1491933738937_2_-study-dot_test_instructi...  0.227233   \n",
       "1      0.382982  P_15#1491933738937_2_-study-dot_test_instructi...  0.207957   \n",
       "2      0.378205  P_15#1491933738937_2_-study-dot_test_instructi...  0.191822   \n",
       "3      0.382480  P_15#1491933738937_2_-study-dot_test_instructi...  0.289968   \n",
       "4      0.379053  P_15#1491933738937_2_-study-dot_test_instructi...  0.300984   \n",
       "\n",
       "     pred_y user_id  Screen Width (cm)  Screen Height (cm)  \\\n",
       "0  0.248519    P_15              33.17               20.73   \n",
       "1  0.255719    P_15              33.17               20.73   \n",
       "2  0.256179    P_15              33.17               20.73   \n",
       "3  0.198733    P_15              33.17               20.73   \n",
       "4  0.192523    P_15              33.17               20.73   \n",
       "\n",
       "   Distance From Screen (cm)  \n",
       "0                       54.0  \n",
       "1                       54.0  \n",
       "2                       54.0  \n",
       "3                       54.0  \n",
       "4                       54.0  "
      ]
     },
     "execution_count": 20,
     "metadata": {},
     "output_type": "execute_result"
    }
   ],
   "source": [
    "data.head()"
   ]
  },
  {
   "cell_type": "code",
   "execution_count": 11,
   "id": "7479e1b0-e2ce-4031-aa8c-47594580b90e",
   "metadata": {},
   "outputs": [],
   "source": [
    "# data[\"x_normalized\"] = (data[\"tob_right_x\"] + data[\"tob_left_x\"]) / 2\n",
    "# data[\"y_normalized\"] = (data[\"tob_right_y\"] + data[\"tob_left_y\"]) / 2"
   ]
  },
  {
   "cell_type": "code",
   "execution_count": 12,
   "id": "854d1425-68e2-4067-a878-3d6fff098459",
   "metadata": {},
   "outputs": [
    {
     "data": {
      "text/plain": [
       "0    /home/ubuntu/projects/tweakle/data/tobii_image...\n",
       "1    /home/ubuntu/projects/tweakle/data/tobii_image...\n",
       "2    /home/ubuntu/projects/tweakle/data/tobii_image...\n",
       "3    /home/ubuntu/projects/tweakle/data/tobii_image...\n",
       "4    /home/ubuntu/projects/tweakle/data/tobii_image...\n",
       "Name: paths, dtype: object"
      ]
     },
     "execution_count": 12,
     "metadata": {},
     "output_type": "execute_result"
    }
   ],
   "source": [
    "# import os\n",
    "# data[\"paths\"] = data[\"full_name\"].apply(lambda x: f\"/home/ubuntu/projects/tweakle/data/tobii_images/{x}\")\n",
    "# data[\"paths\"].head()"
   ]
  },
  {
   "cell_type": "code",
   "execution_count": 14,
   "id": "367d8687-cf18-4ac0-ad25-fcddd46342d6",
   "metadata": {},
   "outputs": [],
   "source": [
    "class EyesExtractor:\n",
    "    def __init__(\n",
    "        self,\n",
    "        save_folder: Optional[str] = None,\n",
    "        facemesh_weights: str = \"./weights/facemesh.pth\",\n",
    "        device: str = \"cpu\"\n",
    "    ):\n",
    "        self.facemesh =  FaceMesh().to(device)\n",
    "        self.facemesh.load_weights(facemesh_weights)\n",
    "        self.left_eye_indices = [33, 7, 163, 144, 145, 153, 154, 155,\n",
    "                                 246, 161, 160, 159, 158, 157, 173, 133]\n",
    "        self.right_eye_indices = [249, 263, 362, 373, 374, 380, 381, 382,\n",
    "                                  384, 385, 386, 387, 388, 390, 398, 466]\n",
    "\n",
    "    def get_eye_crop(self, points: np.array, img: np.array, which_eye: str):\n",
    "        h, w, _ = img.shape\n",
    "        sorted_point_x = sorted(points, key = lambda x: x[0])\n",
    "        sorted_point_y = sorted(points, key = lambda x: x[1])\n",
    "        left_point = sorted_point_x[0]\n",
    "        right_point = sorted_point_x[-1]\n",
    "        up_point = sorted_point_y[0]\n",
    "        down_point = sorted_point_y[-1]\n",
    "        multiplicator = 1/2\n",
    "        margin_x_left = max(64 - (right_point[0] - left_point[0]), 0) * multiplicator\n",
    "        margin_x_right = max(64 - (right_point[0] - left_point[0]), 0) * (1 - multiplicator)\n",
    "        margin_y = max(64 - (down_point[1] - up_point[1]), 0) / 2\n",
    "        min_x, max_x = max(0, int(left_point[0] - margin_x_left)), min(w, int(right_point[0] + margin_x_right))\n",
    "        min_y, max_y = max(0, int(up_point[1] - margin_y)), min(h, int(down_point[1] + margin_y))\n",
    "        img_eye = img[min_y: max_y, min_x: max_x, :]\n",
    "        left_top_point = (min_x, min_y) \n",
    "        return img_eye, left_top_point\n",
    "\n",
    "\n",
    "    def extract_eyes(self, face_crop: np.ndarray):\n",
    "        face_crop = cv2.resize(face_crop, (192, 192), interpolation = cv2.INTER_LINEAR)\n",
    "        face_crop = cv2.flip(face_crop, 1)\n",
    "        facemesh_points = self.facemesh.predict_on_image(face_crop).cpu().numpy()\n",
    "        left_eye_points = facemesh_points[self.left_eye_indices]\n",
    "        right_eye_points = facemesh_points[self.right_eye_indices]\n",
    "        img_eye_left, _ = self.get_eye_crop(left_eye_points, face_crop, which_eye = \"left\")\n",
    "        img_eye_right, _ = self.get_eye_crop(right_eye_points, face_crop, which_eye = \"right\")\n",
    "        return img_eye_left, img_eye_right"
   ]
  },
  {
   "cell_type": "code",
   "execution_count": 15,
   "id": "e3fade53-2d32-4137-a445-14e06ccfc466",
   "metadata": {},
   "outputs": [],
   "source": [
    "class GazeDetectionDataset(Dataset):\n",
    "    \"\"\"Gaze detection dataset.\"\"\"\n",
    "\n",
    "    def __init__(\n",
    "        self,\n",
    "        data: pd.DataFrame,\n",
    "        transform_list: Optional[List]= None,\n",
    "        to_tensors: bool = False,\n",
    "        device: str = \"cpu\",\n",
    "        inference: bool = False,\n",
    "        screen_features: bool = False,\n",
    "        precompute_folder: str = \"./data_precompute\"\n",
    "    ):\n",
    "        \"\"\"\n",
    "        Arguments:\n",
    "            csv_file (string): Path to the csv file with annotations.\n",
    "            transform (callable, optional): Optional transform to be applied\n",
    "                on a sample.\n",
    "        \"\"\"\n",
    "        self.df = data.copy()\n",
    "        self.to_tensors = to_tensors\n",
    "        transform_list_ = transform_list.copy()\n",
    "        if to_tensors:\n",
    "            transform_list_.append(ToTensorV2())\n",
    "        transform_list_eyes = []\n",
    "        if to_tensors:\n",
    "            transform_list_eyes.append(ToTensorV2())\n",
    "        self.transform = A.Compose(transform_list_)\n",
    "        self.transform_eyes = A.Compose(transform_list_eyes)\n",
    "        transform_list_mask = [A.Resize(25, 25)]\n",
    "        if to_tensors:\n",
    "            transform_list_mask.append(ToTensorV2())\n",
    "        self.transform_mask = A.Compose(transform_list_mask)\n",
    "        self.device = torch.device(device)\n",
    "        self.faceCascade = cv2.CascadeClassifier(\"./weights/haarcascade_frontalface_alt.xml\")\n",
    "        self.eyesExtractor = EyesExtractor(device = device)\n",
    "        self.inference = inference\n",
    "        if device != \"cpu\":\n",
    "            device = str(0)\n",
    "        self.face_detector = FaceDetector(device = device)\n",
    "        self.screen_features = screen_features\n",
    "        self.precompute_folder = precompute_folder\n",
    "        if not os.path.exists(precompute_folder):\n",
    "            os.mkdir(precompute_folder)\n",
    "            os.mkdir(os.path.join(precompute_folder, \"faces\"))\n",
    "            os.mkdir(os.path.join(precompute_folder, \"eyes\"))\n",
    "            os.mkdir(os.path.join(precompute_folder, \"bboxes\"))\n",
    "\n",
    "\n",
    "    def get_face_mask(self, frame, face_rect):\n",
    "        mask = np.zeros((frame.shape[0], frame.shape[1]))\n",
    "        if face_rect is None:\n",
    "            return mask\n",
    "        mask[\n",
    "            face_rect[1] : face_rect[1] + face_rect[3],\n",
    "            face_rect[0] : face_rect[0] + face_rect[2]\n",
    "        ] = 1\n",
    "        return mask\n",
    "\n",
    "    def __len__(self):\n",
    "        return len(self.df)\n",
    "\n",
    "    def __getitem__(self, idx):\n",
    "        if torch.is_tensor(idx):\n",
    "            idx = idx.tolist()\n",
    "        row = self.df.iloc[idx]\n",
    "        img_path = row['paths']\n",
    "        try:\n",
    "            image_orig = cv2.imread(img_path)\n",
    "            image_orig = cv2.cvtColor(image_orig, cv2.COLOR_BGR2RGB)\n",
    "            img_path_ = Path(img_path)\n",
    "            face_path = os.path.join(self.precompute_folder, \"faces\", img_path_.name)\n",
    "            face_rect_path = face_path.replace(\"faces\", \"bboxes\").replace(\".png\", \".npy\")\n",
    "            if not os.path.exists(face_path):\n",
    "                image, face_rect = self.face_detector.detect_face(img_path)\n",
    "                cv2.imwrite(face_path, image)\n",
    "                np.save(face_rect_path, np.array(face_rect))\n",
    "            else:\n",
    "                try:\n",
    "                    image = cv2.imread(face_path)\n",
    "                    face_rect = np.load(face_rect_path, allow_pickle=True)\n",
    "                    if face_rect.dtype.__str__() == \"object\":\n",
    "                        face_rect = None\n",
    "                except Exception:\n",
    "                    image, face_rect = self.face_detector.detect_face(img_path)\n",
    "                    cv2.imwrite(face_path, image)\n",
    "                    np.save(face_rect_path, np.array(face_rect))\n",
    "            image = cv2.cvtColor(image, cv2.COLOR_BGR2RGB)\n",
    "            face_mask = self.get_face_mask(image_orig, face_rect)\n",
    "            eyes_path_l = face_path.replace(\"faces\", \"eyes\").replace(\".png\", \"_left.png\")\n",
    "            eyes_path_r = face_path.replace(\"faces\", \"eyes\").replace(\".png\", \"_right.png\")\n",
    "            if not os.path.exists(eyes_path_l):\n",
    "                image_eye_l, image_eye_r = self.eyesExtractor.extract_eyes(image)\n",
    "                image_eye_l_ = cv2.cvtColor(image_eye_l, cv2.COLOR_RGB2BGR)\n",
    "                image_eye_r_ = cv2.cvtColor(image_eye_r, cv2.COLOR_RGB2BGR)\n",
    "                cv2.imwrite(eyes_path_l, image_eye_l_)\n",
    "                cv2.imwrite(eyes_path_r, image_eye_r_)\n",
    "            else:\n",
    "                try:\n",
    "                    image_eye_l = cv2.imread(eyes_path_l)\n",
    "                    image_eye_l = cv2.cvtColor(image_eye_l, cv2.COLOR_BGR2RGB)\n",
    "                    image_eye_r = cv2.imread(eyes_path_r)\n",
    "                    image_eye_r = cv2.cvtColor(image_eye_r, cv2.COLOR_BGR2RGB)\n",
    "                except Exception:\n",
    "                    image_eye_l, image_eye_r = self.eyesExtractor.extract_eyes(image)\n",
    "                    image_eye_l_ = cv2.cvtColor(image_eye_l, cv2.COLOR_RGB2BGR)\n",
    "                    image_eye_r_ = cv2.cvtColor(image_eye_r, cv2.COLOR_RGB2BGR)\n",
    "                    cv2.imwrite(eyes_path_l, image_eye_l_)\n",
    "                    cv2.imwrite(eyes_path_r, image_eye_r_)\n",
    "            image = image / 255.\n",
    "            image_eye_l = image_eye_l / 255.\n",
    "            image_eye_r = image_eye_r / 255.\n",
    "        except Exception:\n",
    "            raise Exception(f\"Image {img_path}, {eye_left_path} failed loading\")\n",
    "        if not self.inference:\n",
    "            coordinates = row[['x_normalized', 'y_normalized']].values.astype(np.float32)\n",
    "        if self.screen_features:\n",
    "            screen_feat = row[[\n",
    "                'Screen Width (cm)',\n",
    "                'Screen Height (cm)',\n",
    "                'Distance From Screen (cm)'\n",
    "            ]].values.astype(np.float32)\n",
    "            screen_feat = (screen_feat - screen_feat.mean()) / screen_feat.std()\n",
    "        \n",
    "        if self.transform:\n",
    "            image = self.transform(image = image)['image']\n",
    "            face_mask = self.transform_mask(image = face_mask)['image']\n",
    "            image_eye_l = self.transform_eyes(image = image_eye_l)['image']\n",
    "            image_eye_r = self.transform_eyes(image = image_eye_r)['image']\n",
    "            if self.to_tensors:\n",
    "                if not self.inference:\n",
    "                    coordinates = torch.from_numpy(coordinates).to(self.device)\n",
    "                if self.screen_features:\n",
    "                    screen_feat = torch.from_numpy(screen_feat).to(self.device)\n",
    "                image = image.type(torch.float32).to(self.device)\n",
    "                image_eye_l = image_eye_l.type(torch.float32).to(self.device)\n",
    "                image_eye_r = image_eye_r.type(torch.float32).to(self.device)\n",
    "                face_mask = face_mask.type(torch.float32).to(self.device)\n",
    "            \n",
    "        sample = {'image': image, \"eye_l\": image_eye_l,\n",
    "                  \"eye_r\": image_eye_r, \"face_mask\": face_mask}\n",
    "        if not self.inference:\n",
    "            sample['coordinates'] = coordinates\n",
    "        if self.screen_features:\n",
    "            sample['screen_features'] = screen_feat\n",
    "        return sample"
   ]
  },
  {
   "cell_type": "code",
   "execution_count": 16,
   "id": "a4c27283-48f5-45dd-8eaa-fb21bf11037a",
   "metadata": {},
   "outputs": [],
   "source": [
    "trans_list = [\n",
    "        A.Resize(192, 192),\n",
    "        # ToTensorV2()\n",
    "    ]"
   ]
  },
  {
   "cell_type": "code",
   "execution_count": 29,
   "id": "8e6fc5dc-adbf-40cb-8903-52f104ffb283",
   "metadata": {},
   "outputs": [
    {
     "name": "stdout",
     "output_type": "stream",
     "text": [
      "Fusing layers... \n",
      "0 (192, 192, 3) (2,) (3,)\n"
     ]
    },
    {
     "data": {
      "image/png": "[encoded data removed]",
      "text/plain": [
       "<Figure size 640x480 with 1 Axes>"
      ]
     },
     "metadata": {},
     "output_type": "display_data"
    },
    {
     "data": {
      "image/png": "[encoded data removed]",
      "text/plain": [
       "<Figure size 640x480 with 1 Axes>"
      ]
     },
     "metadata": {},
     "output_type": "display_data"
    },
    {
     "data": {
      "image/png": "[encoded data removed]",
      "text/plain": [
       "<Figure size 640x480 with 1 Axes>"
      ]
     },
     "metadata": {},
     "output_type": "display_data"
    },
    {
     "data": {
      "image/png": "[encoded data removed]",
      "text/plain": [
       "<Figure size 640x480 with 1 Axes>"
      ]
     },
     "metadata": {},
     "output_type": "display_data"
    },
    {
     "name": "stdout",
     "output_type": "stream",
     "text": [
      "1 (192, 192, 3) (2,) (3,)\n"
     ]
    },
    {
     "data": {
      "image/png": "[encoded data removed]",
      "text/plain": [
       "<Figure size 640x480 with 1 Axes>"
      ]
     },
     "metadata": {},
     "output_type": "display_data"
    },
    {
     "data": {
      "image/png": "[encoded data removed]",
      "text/plain": [
       "<Figure size 640x480 with 1 Axes>"
      ]
     },
     "metadata": {},
     "output_type": "display_data"
    },
    {
     "data": {
      "image/png": "[encoded data removed]",
      "text/plain": [
       "<Figure size 640x480 with 1 Axes>"
      ]
     },
     "metadata": {},
     "output_type": "display_data"
    },
    {
     "data": {
      "image/png": "[encoded data removed]",
      "text/plain": [
       "<Figure size 640x480 with 1 Axes>"
      ]
     },
     "metadata": {},
     "output_type": "display_data"
    },
    {
     "name": "stdout",
     "output_type": "stream",
     "text": [
      "2 (192, 192, 3) (2,) (3,)\n"
     ]
    },
    {
     "data": {
      "image/png": "[encoded data removed]",
      "text/plain": [
       "<Figure size 640x480 with 1 Axes>"
      ]
     },
     "metadata": {},
     "output_type": "display_data"
    },
    {
     "data": {
      "image/png": "[encoded data removed]",
      "text/plain": [
       "<Figure size 640x480 with 1 Axes>"
      ]
     },
     "metadata": {},
     "output_type": "display_data"
    },
    {
     "data": {
      "image/png": "[encoded data removed]",
      "text/plain": [
       "<Figure size 640x480 with 1 Axes>"
      ]
     },
     "metadata": {},
     "output_type": "display_data"
    },
    {
     "data": {
      "image/png": "[encoded data removed]",
      "text/plain": [
       "<Figure size 640x480 with 1 Axes>"
      ]
     },
     "metadata": {},
     "output_type": "display_data"
    },
    {
     "name": "stdout",
     "output_type": "stream",
     "text": [
      "3 (192, 192, 3) (2,) (3,)\n"
     ]
    },
    {
     "data": {
      "image/png": "[encoded data removed]",
      "text/plain": [
       "<Figure size 640x480 with 1 Axes>"
      ]
     },
     "metadata": {},
     "output_type": "display_data"
    },
    {
     "data": {
      "image/png": "[encoded data removed]",
      "text/plain": [
       "<Figure size 640x480 with 1 Axes>"
      ]
     },
     "metadata": {},
     "output_type": "display_data"
    },
    {
     "data": {
      "image/png": "[encoded data removed]",
      "text/plain": [
       "<Figure size 640x480 with 1 Axes>"
      ]
     },
     "metadata": {},
     "output_type": "display_data"
    },
    {
     "data": {
      "image/png": "[encoded data removed]",
      "text/plain": [
       "<Figure size 640x480 with 1 Axes>"
      ]
     },
     "metadata": {},
     "output_type": "display_data"
    }
   ],
   "source": [
    "face_dataset = GazeDetectionDataset(data=data.tail(100), transform_list=trans_list, screen_features=True)\n",
    "\n",
    "fig = plt.figure()\n",
    "\n",
    "for i, sample in enumerate(face_dataset):\n",
    "    print(\n",
    "        i, \n",
    "        sample['image'].shape, \n",
    "        sample['coordinates'].shape, \n",
    "        sample['screen_features'].shape\n",
    "    )\n",
    "\n",
    "    ax = plt.subplot(1, 4, i + 1)\n",
    "    plt.tight_layout()\n",
    "    ax.set_title('Sample #{}'.format(i))\n",
    "    ax.axis('off')\n",
    "    ax.imshow(sample['image'])\n",
    "    plt.show()\n",
    "    ax = plt.subplot(1, 4, i + 1)\n",
    "    plt.tight_layout()\n",
    "    ax.set_title('Sample #{}'.format(i))\n",
    "    ax.axis('off')\n",
    "    ax.imshow(sample['eye_l'])\n",
    "    plt.show()\n",
    "    ax = plt.subplot(1, 4, i + 1)\n",
    "    plt.tight_layout()\n",
    "    ax.set_title('Sample #{}'.format(i))\n",
    "    ax.axis('off')\n",
    "    ax.imshow(sample['eye_r'])\n",
    "    plt.show()\n",
    "    ax = plt.subplot(1, 4, i + 1)\n",
    "    plt.tight_layout()\n",
    "    ax.set_title('Sample #{}'.format(i))\n",
    "    ax.axis('off')\n",
    "    ax.imshow(sample['face_mask'], cmap = \"gray\")\n",
    "    plt.show()\n",
    "    if i == 3:\n",
    "        plt.show()\n",
    "        break"
   ]
  },
  {
   "cell_type": "code",
   "execution_count": 31,
   "id": "6d875de4-2e06-4160-b7d9-f0f300bd49a9",
   "metadata": {},
   "outputs": [
    {
     "name": "stdout",
     "output_type": "stream",
     "text": [
      "Fusing layers... \n"
     ]
    }
   ],
   "source": [
    "face_dataset = GazeDetectionDataset(data = data, transform_list=trans_list, to_tensors=True, device=device, screen_features=True)"
   ]
  },
  {
   "cell_type": "code",
   "execution_count": 32,
   "id": "76d5d6b5-3ee6-40e4-8cdc-01b9cf0cf1b1",
   "metadata": {},
   "outputs": [
    {
     "name": "stdout",
     "output_type": "stream",
     "text": [
      "0 torch.Size([3, 192, 192]) torch.Size([2]) torch.Size([3, 64, 64]) torch.Size([1, 25, 25]) torch.Size([3])\n",
      "1 torch.Size([3, 192, 192]) torch.Size([2]) torch.Size([3, 64, 64]) torch.Size([1, 25, 25]) torch.Size([3])\n",
      "2 torch.Size([3, 192, 192]) torch.Size([2]) torch.Size([3, 64, 64]) torch.Size([1, 25, 25]) torch.Size([3])\n",
      "3 torch.Size([3, 192, 192]) torch.Size([2]) torch.Size([3, 64, 64]) torch.Size([1, 25, 25]) torch.Size([3])\n"
     ]
    }
   ],
   "source": [
    "for i, sample in enumerate(face_dataset):\n",
    "    print(i,\n",
    "          sample['image'].size(), \n",
    "          sample['coordinates'].size(), \n",
    "          sample['eye_l'].size(), \n",
    "          sample['face_mask'].size(),\n",
    "          sample['screen_features'].size(),\n",
    "         )\n",
    "    if i == 3:\n",
    "        break"
   ]
  },
  {
   "cell_type": "code",
   "execution_count": 17,
   "id": "89112568-10af-4c99-b67d-b8987de6f303",
   "metadata": {},
   "outputs": [],
   "source": [
    "def train(model: FineTuneModel, dataloader_train: DataLoader):\n",
    "    total_loss = 0.0\n",
    "    model.train()\n",
    "    preds_list = []\n",
    "    labels_list = []\n",
    "    for i, data in enumerate(dataloader_train):\n",
    "        inputs, labels, inputs_eye_l, inputs_eye_r, inputs_mask, inputs_screen = data['image'], data['coordinates'], \\\n",
    "                                                     data['eye_l'], data['eye_r'], data['face_mask'], data['screen_features']\n",
    "\n",
    "        optimizer.zero_grad()\n",
    "\n",
    "        outputs = model(inputs, inputs_eye_l, inputs_eye_r, inputs_mask, inputs_screen)\n",
    "        loss = criterion(outputs, labels)\n",
    "        loss.backward()\n",
    "        torch.nn.utils.clip_grad_norm_(model.parameters(), 1)\n",
    "        optimizer.step()\n",
    "        preds_list += outputs.cpu().detach().tolist()\n",
    "        labels_list += labels.cpu().detach().tolist()\n",
    "        total_loss += loss.cpu().item()\n",
    "\n",
    "    loss = total_loss / (i + 1)\n",
    "    mape_value = mape(labels_list, preds_list)\n",
    "    return loss, mape_value"
   ]
  },
  {
   "cell_type": "code",
   "execution_count": 18,
   "id": "b33529ee-8369-4a28-9ae7-c816573d8784",
   "metadata": {},
   "outputs": [],
   "source": [
    "def eval(model: FineTuneModel, dataloader_val: DataLoader):\n",
    "    total_loss = 0.0\n",
    "    model.eval()\n",
    "    preds = []\n",
    "    preds_list = []\n",
    "    labels_list = []\n",
    "    for i, data in enumerate(dataloader_val):\n",
    "        inputs, labels, inputs_eye_l, inputs_eye_r, inputs_mask, inputs_screen = data['image'], data['coordinates'], \\\n",
    "                                                     data['eye_l'], data['eye_r'], data['face_mask'], data['screen_features']\n",
    "        with torch.no_grad():\n",
    "            outputs = model(inputs, inputs_eye_l, inputs_eye_r, inputs_mask, inputs_screen)\n",
    "        loss = criterion(outputs, labels)\n",
    "        total_loss += loss.cpu().item()\n",
    "        preds_list += outputs.cpu().detach().tolist()\n",
    "        labels_list += labels.cpu().detach().tolist()\n",
    "        \n",
    "    loss = total_loss / (i + 1)\n",
    "    mape_value = mape(labels_list, preds_list)\n",
    "    return loss, mape_value"
   ]
  },
  {
   "cell_type": "code",
   "execution_count": 19,
   "id": "4226e9a3-02f1-41aa-ae62-cd7a71f20ade",
   "metadata": {},
   "outputs": [],
   "source": [
    "from sklearn.model_selection import train_test_split"
   ]
  },
  {
   "cell_type": "code",
   "execution_count": 9,
   "id": "c8edc5f0-b4df-4686-924e-21dfc1a9e96b",
   "metadata": {},
   "outputs": [],
   "source": [
    "# data = pd.read_csv(\"../data/data_clicks.csv\")"
   ]
  },
  {
   "cell_type": "code",
   "execution_count": 24,
   "id": "ce07c9d3-0381-4415-b227-88d996cdb935",
   "metadata": {},
   "outputs": [],
   "source": [
    "df = pd.read_csv(\"./tobii_full_pred_final_updv2.csv\")"
   ]
  },
  {
   "cell_type": "code",
   "execution_count": 74,
   "id": "fd63e601-cf6f-498a-b041-6a25441cb385",
   "metadata": {},
   "outputs": [],
   "source": [
    "# df_sub = df.sample(100_000)"
   ]
  },
  {
   "cell_type": "code",
   "execution_count": 11,
   "id": "f3b9c04f-7029-4461-8875-8e1c061da05e",
   "metadata": {},
   "outputs": [],
   "source": [
    "# df[\"x_normalized\"] = (df[\"tob_right_x\"] + df[\"tob_left_x\"]) / 2\n",
    "# df[\"y_normalized\"] = (df[\"tob_right_y\"] + df[\"tob_left_y\"]) / 2"
   ]
  },
  {
   "cell_type": "code",
   "execution_count": 12,
   "id": "f8b84f6d-18fa-4fed-b782-9ea4416ceb66",
   "metadata": {},
   "outputs": [],
   "source": [
    "# import os\n",
    "# df[\"paths\"] = df[\"full_name\"].apply(lambda x: f\"/home/ubuntu/projects/tweakle/data/tobii_images/{x}\")\n",
    "# df[\"paths\"].head()"
   ]
  },
  {
   "cell_type": "code",
   "execution_count": 20,
   "id": "40bbccb3-e339-4f20-b5db-22f4ff1cd375",
   "metadata": {},
   "outputs": [],
   "source": [
    "NUM_SAMPLES = None\n",
    "BATCH_SIZE = 1024\n",
    "LEARNING_RATE = 3e-4\n",
    "REDUCE_FACTOR = 0.5\n",
    "PATIENCE = 2\n",
    "NUM_EPOCHS = 25\n",
    "WEIGHT_DECAY = 1e-4\n",
    "CHECKPOINTS_PATH = \"./checkpoints/\"\n",
    "EXPERIMENT_NAME = \"face_eyes_mask_screen_feat_correctedv2_balanced\""
   ]
  },
  {
   "cell_type": "code",
   "execution_count": 45,
   "id": "d37a812c-a6b5-4f85-9df2-36e96b1d54da",
   "metadata": {},
   "outputs": [],
   "source": [
    "# train_df, test_df = train_test_split(df.head(NUM_SAMPLES), test_size = 14000, random_state=42, shuffle=True)\n",
    "# train_df, val_df = train_test_split(train_df, test_size = 7000, random_state=42, shuffle=True)"
   ]
  },
  {
   "cell_type": "code",
   "execution_count": 46,
   "id": "e79692ab-68d8-45f0-9f74-549d4cad0a4a",
   "metadata": {},
   "outputs": [],
   "source": [
    "# test_df.to_csv(\"./tobii_test_full.csv\", index = False)\n",
    "# val_df.to_csv(\"./tobii_val_full.csv\", index = False)\n",
    "# train_df.to_csv(\"./tobii_train_full.csv\", index = False)"
   ]
  },
  {
   "cell_type": "code",
   "execution_count": 7,
   "id": "98f3617b-dc41-4e0a-bfd2-08c98b5ff03c",
   "metadata": {},
   "outputs": [],
   "source": [
    "test_df = pd.read_csv(\"./tobii_test_full.csv\").drop(columns = [\"pred_x\", \"pred_y\"])\n",
    "val_df = pd.read_csv(\"./tobii_val_full.csv\").drop(columns = [\"pred_x\", \"pred_y\"])\n",
    "train_df = pd.read_csv(\"./tobii_train_full_balanced.csv\").drop(columns = [\"pred_x\", \"pred_y\"])"
   ]
  },
  {
   "cell_type": "code",
   "execution_count": 8,
   "id": "943f495c-ed2c-48d9-872e-077ffdacd75d",
   "metadata": {},
   "outputs": [],
   "source": [
    "test_df = get_screen_specs(test_df)\n",
    "val_df = get_screen_specs(val_df)\n",
    "train_df = get_screen_specs(train_df)"
   ]
  },
  {
   "cell_type": "code",
   "execution_count": 9,
   "id": "66850e46-e4d9-4ead-9c79-933615e44627",
   "metadata": {},
   "outputs": [
    {
     "data": {
      "text/plain": [
       "Screen Width (cm)  Screen Height (cm)\n",
       "51.70              32.31                 51208\n",
       "33.17              20.73                 32318\n",
       "Name: count, dtype: int64"
      ]
     },
     "execution_count": 9,
     "metadata": {},
     "output_type": "execute_result"
    }
   ],
   "source": [
    "train_df[['Screen Width (cm)', 'Screen Height (cm)']].value_counts()"
   ]
  },
  {
   "cell_type": "code",
   "execution_count": 23,
   "id": "74f162c6-8d3c-486a-954e-4a1ffc273e1b",
   "metadata": {},
   "outputs": [
    {
     "data": {
      "text/plain": [
       "(83526, 8)"
      ]
     },
     "execution_count": 23,
     "metadata": {},
     "output_type": "execute_result"
    }
   ],
   "source": [
    "train_df.shape"
   ]
  },
  {
   "cell_type": "code",
   "execution_count": 24,
   "id": "afd54fcf-d1f2-424d-af1f-5385d1a1aac7",
   "metadata": {},
   "outputs": [
    {
     "data": {
      "text/plain": [
       "(7000, 8)"
      ]
     },
     "execution_count": 24,
     "metadata": {},
     "output_type": "execute_result"
    }
   ],
   "source": [
    "val_df.shape"
   ]
  },
  {
   "cell_type": "code",
   "execution_count": 25,
   "id": "9056f32d-5a80-4489-b2af-28b539a00872",
   "metadata": {},
   "outputs": [
    {
     "data": {
      "text/plain": [
       "(14000, 8)"
      ]
     },
     "execution_count": 25,
     "metadata": {},
     "output_type": "execute_result"
    }
   ],
   "source": [
    "test_df.shape"
   ]
  },
  {
   "cell_type": "code",
   "execution_count": 47,
   "id": "e547390a-c8f4-4a65-b643-8f9ad667792a",
   "metadata": {},
   "outputs": [],
   "source": [
    "# def try_load(img_path):\n",
    "#     try:\n",
    "#         eyes_path = img_path.replace(\"tobii_images\", \"eyes_images\")\n",
    "#         eye_left_path = eyes_path.replace(\".png\", \"_left.png\")\n",
    "#         image_eye_l = cv2.imread(eye_left_path)\n",
    "#         image_eye_l = cv2.cvtColor(image_eye_l, cv2.COLOR_BGR2RGB) / 255.\n",
    "#         return True\n",
    "#     except:\n",
    "#         return False"
   ]
  },
  {
   "cell_type": "code",
   "execution_count": 48,
   "id": "95fc2cae-dc66-4a9f-ba64-ff6cd9294368",
   "metadata": {},
   "outputs": [],
   "source": [
    "# test_df[\"eyes_exist\"] = test_df.paths.apply(try_load)\n",
    "# val_df[\"eyes_exist\"] = val_df.paths.apply(try_load)\n",
    "# train_df[\"eyes_exist\"] = train_df.paths.apply(try_load)"
   ]
  },
  {
   "cell_type": "code",
   "execution_count": 49,
   "id": "77487e7d-d457-437d-b2eb-975f200af018",
   "metadata": {},
   "outputs": [],
   "source": [
    "# test_df = test_df[test_df[\"eyes_exist\"]]\n",
    "# val_df = val_df[val_df[\"eyes_exist\"]]\n",
    "# train_df = train_df[train_df[\"eyes_exist\"]]"
   ]
  },
  {
   "cell_type": "code",
   "execution_count": 59,
   "id": "40f66f8e-a474-4134-8c1b-1ac5b4c384f2",
   "metadata": {},
   "outputs": [
    {
     "name": "stdout",
     "output_type": "stream",
     "text": [
      "Fusing layers... \n",
      "Fusing layers... \n"
     ]
    }
   ],
   "source": [
    "dataset_train = GazeDetectionDataset(data = train_df, transform_list=trans_list,\n",
    "                                     to_tensors=True, device=device, screen_features=True)\n",
    "dataloader_train = DataLoader(dataset_train, batch_size=BATCH_SIZE,\n",
    "                        shuffle=True, num_workers=0)\n",
    "dataset_val = GazeDetectionDataset(data = val_df, transform_list=trans_list,\n",
    "                                   to_tensors=True, device=device, screen_features=True)\n",
    "dataloader_val = DataLoader(dataset_val, batch_size=BATCH_SIZE,\n",
    "                        shuffle=True, num_workers=0)"
   ]
  },
  {
   "cell_type": "code",
   "execution_count": 26,
   "id": "b2b503d7-3830-40ce-8a30-b4e0ff47c460",
   "metadata": {},
   "outputs": [],
   "source": [
    "class RMSELoss(nn.Module):\n",
    "    def __init__(self, eps=1e-6):\n",
    "        super().__init__()\n",
    "        self.mse = nn.MSELoss()\n",
    "        self.eps = eps\n",
    "        \n",
    "    def forward(self,yhat,y):\n",
    "        loss = torch.sqrt(self.mse(yhat,y) + self.eps)\n",
    "        return loss"
   ]
  },
  {
   "cell_type": "code",
   "execution_count": 61,
   "id": "ad3c1e66-4e6a-4de0-b6e8-582fe394aab6",
   "metadata": {},
   "outputs": [
    {
     "name": "stderr",
     "output_type": "stream",
     "text": [
      "\u001b[1;38;5;214mCOMET WARNING:\u001b[0m To get all data logged automatically, import comet_ml before the following modules: sklearn, torch.\n",
      "\u001b[1;38;5;39mCOMET INFO:\u001b[0m ---------------------------------------------------------------------------------------\n",
      "\u001b[1;38;5;39mCOMET INFO:\u001b[0m Comet.ml Experiment Summary\n",
      "\u001b[1;38;5;39mCOMET INFO:\u001b[0m ---------------------------------------------------------------------------------------\n",
      "\u001b[1;38;5;39mCOMET INFO:\u001b[0m   Data:\n",
      "\u001b[1;38;5;39mCOMET INFO:\u001b[0m     display_summary_level : 1\n",
      "\u001b[1;38;5;39mCOMET INFO:\u001b[0m     url                   : https://www.comet.com/kmisterios/tweakle-gaze-detection/0c18af1dbbd743b594e3446544ed592c\n",
      "\u001b[1;38;5;39mCOMET INFO:\u001b[0m   Others:\n",
      "\u001b[1;38;5;39mCOMET INFO:\u001b[0m     Name : face_eyes_mask_screen_feat_correctedv2_balanced\n",
      "\u001b[1;38;5;39mCOMET INFO:\u001b[0m   Parameters:\n",
      "\u001b[1;38;5;39mCOMET INFO:\u001b[0m     batch_size      : 1024\n",
      "\u001b[1;38;5;39mCOMET INFO:\u001b[0m     experiment_name : face_eyes_mask_screen_feat_correctedv2_balanced\n",
      "\u001b[1;38;5;39mCOMET INFO:\u001b[0m     gradient_clip   : True\n",
      "\u001b[1;38;5;39mCOMET INFO:\u001b[0m     learning_rate   : 0.0003\n",
      "\u001b[1;38;5;39mCOMET INFO:\u001b[0m     num_epochs      : 25\n",
      "\u001b[1;38;5;39mCOMET INFO:\u001b[0m     num_samples     : 1\n",
      "\u001b[1;38;5;39mCOMET INFO:\u001b[0m     optimizer       : Adam (\n",
      "Parameter Group 0\n",
      "    amsgrad: False\n",
      "    betas: (0.9, 0.999)\n",
      "    capturable: False\n",
      "    differentiable: False\n",
      "    eps: 1e-08\n",
      "    foreach: None\n",
      "    fused: None\n",
      "    lr: 0.0003\n",
      "    maximize: False\n",
      "    weight_decay: 0.0001\n",
      ")\n",
      "\u001b[1;38;5;39mCOMET INFO:\u001b[0m     patience        : 2\n",
      "\u001b[1;38;5;39mCOMET INFO:\u001b[0m     reduce_factor   : 0.5\n",
      "\u001b[1;38;5;39mCOMET INFO:\u001b[0m     scheduler       : <torch.optim.lr_scheduler.ReduceLROnPlateau object at 0x7fc9fdf75210>\n",
      "\u001b[1;38;5;39mCOMET INFO:\u001b[0m   Uploads:\n",
      "\u001b[1;38;5;39mCOMET INFO:\u001b[0m     environment details      : 1\n",
      "\u001b[1;38;5;39mCOMET INFO:\u001b[0m     filename                 : 1\n",
      "\u001b[1;38;5;39mCOMET INFO:\u001b[0m     git metadata             : 1\n",
      "\u001b[1;38;5;39mCOMET INFO:\u001b[0m     git-patch (uncompressed) : 1 (803.37 KB)\n",
      "\u001b[1;38;5;39mCOMET INFO:\u001b[0m     installed packages       : 1\n",
      "\u001b[1;38;5;39mCOMET INFO:\u001b[0m     notebook                 : 1\n",
      "\u001b[1;38;5;39mCOMET INFO:\u001b[0m     os packages              : 1\n",
      "\u001b[1;38;5;39mCOMET INFO:\u001b[0m     source_code              : 1\n",
      "\u001b[1;38;5;39mCOMET INFO:\u001b[0m \n",
      "\u001b[1;38;5;214mCOMET WARNING:\u001b[0m To get all data logged automatically, import comet_ml before the following modules: sklearn, torch.\n",
      "\u001b[1;38;5;214mCOMET WARNING:\u001b[0m As you are running in a Jupyter environment, you will need to call `experiment.end()` when finished to ensure all metrics and code are logged before exiting.\n",
      "\u001b[1;38;5;39mCOMET INFO:\u001b[0m Experiment is live on comet.com https://www.comet.com/kmisterios/tweakle-gaze-detection/2cc7df2a582e438b885d28f9949e673a\n",
      "\n"
     ]
    }
   ],
   "source": [
    "from comet_ml import Experiment\n",
    "from comet_ml.integration.pytorch import log_model\n",
    "\n",
    "experiment = Experiment(\n",
    "  api_key=\"4qtNKAjcucKnOrwC4pRvPaHRv\",\n",
    "  project_name=\"tweakle-gaze-detection\",\n",
    "  workspace=\"kmisterios\"\n",
    ")"
   ]
  },
  {
   "cell_type": "code",
   "execution_count": 62,
   "id": "404cad47-0c9f-4915-b900-48bdbb76cc4b",
   "metadata": {},
   "outputs": [],
   "source": [
    "experiment.set_name(f\"{EXPERIMENT_NAME}\")"
   ]
  },
  {
   "cell_type": "code",
   "execution_count": 63,
   "id": "ff5e145f-1be9-4734-903c-9a2fad6fd8eb",
   "metadata": {},
   "outputs": [],
   "source": [
    "# model = FineTuneModel(pretrained_model_face, pretrained_model_eyes, screen_features=True).to(device)\n",
    "criterion = RMSELoss()\n",
    "optimizer = optim.Adam(model.parameters(), lr = LEARNING_RATE, weight_decay = WEIGHT_DECAY)\n",
    "scheduler = ReduceLROnPlateau(optimizer, factor= REDUCE_FACTOR, patience=PATIENCE)"
   ]
  },
  {
   "cell_type": "code",
   "execution_count": 64,
   "id": "b5ad8065-c009-4344-b8d2-e891f20cbaeb",
   "metadata": {},
   "outputs": [],
   "source": [
    "hyper_params = {\n",
    "    \"learning_rate\": LEARNING_RATE,\n",
    "    \"batch_size\": BATCH_SIZE,\n",
    "    \"reduce_factor\": REDUCE_FACTOR,\n",
    "    \"patience\": PATIENCE,\n",
    "    \"num_epochs\": NUM_EPOCHS,\n",
    "    \"num_samples\": NUM_SAMPLES,\n",
    "    \"optimizer\": optimizer.__str__(),\n",
    "    \"scheduler\": scheduler.__str__(),\n",
    "    \"gradient_clip\": True,\n",
    "    \"experiment_name\": EXPERIMENT_NAME\n",
    "}\n",
    "experiment.log_parameters(hyper_params)"
   ]
  },
  {
   "cell_type": "code",
   "execution_count": 65,
   "id": "730808be-8751-4886-bc2e-5efd729b4e34",
   "metadata": {},
   "outputs": [
    {
     "name": "stderr",
     "output_type": "stream",
     "text": [
      "libpng warning: Invalid image width in IHDR\n",
      "libpng warning: Image width exceeds user limit in IHDR\n",
      "libpng warning: Invalid image height in IHDR\n",
      "libpng warning: Image height exceeds user limit in IHDR\n",
      "libpng error: Invalid IHDR data\n",
      "libpng warning: Invalid image width in IHDR\n",
      "libpng warning: Image width exceeds user limit in IHDR\n",
      "libpng warning: Invalid image height in IHDR\n",
      "libpng warning: Image height exceeds user limit in IHDR\n",
      "libpng error: Invalid IHDR data\n"
     ]
    },
    {
     "name": "stdout",
     "output_type": "stream",
     "text": [
      "\n",
      "Epoch: 0: Train loss: 0.137; Val loss: 0.127;\n",
      "Best model saved on epoch 0\n"
     ]
    },
    {
     "name": "stderr",
     "output_type": "stream",
     "text": [
      "libpng warning: Invalid image width in IHDR\n",
      "libpng warning: Image width exceeds user limit in IHDR\n",
      "libpng warning: Invalid image height in IHDR\n",
      "libpng warning: Image height exceeds user limit in IHDR\n",
      "libpng error: Invalid IHDR data\n",
      "libpng warning: Invalid image width in IHDR\n",
      "libpng warning: Image width exceeds user limit in IHDR\n",
      "libpng warning: Invalid image height in IHDR\n",
      "libpng warning: Image height exceeds user limit in IHDR\n",
      "libpng error: Invalid IHDR data\n"
     ]
    },
    {
     "name": "stdout",
     "output_type": "stream",
     "text": [
      "\n",
      "Epoch: 1: Train loss: 0.128; Val loss: 0.132;\n",
      "Best model saved on epoch 0\n"
     ]
    },
    {
     "name": "stderr",
     "output_type": "stream",
     "text": [
      "libpng warning: Invalid image width in IHDR\n",
      "libpng warning: Image width exceeds user limit in IHDR\n",
      "libpng warning: Invalid image height in IHDR\n",
      "libpng warning: Image height exceeds user limit in IHDR\n",
      "libpng error: Invalid IHDR data\n",
      "libpng warning: Invalid image width in IHDR\n",
      "libpng warning: Image width exceeds user limit in IHDR\n",
      "libpng warning: Invalid image height in IHDR\n",
      "libpng warning: Image height exceeds user limit in IHDR\n",
      "libpng error: Invalid IHDR data\n"
     ]
    },
    {
     "name": "stdout",
     "output_type": "stream",
     "text": [
      "\n",
      "Epoch: 2: Train loss: 0.126; Val loss: 0.126;\n",
      "Best model saved on epoch 2\n"
     ]
    },
    {
     "name": "stderr",
     "output_type": "stream",
     "text": [
      "libpng warning: Invalid image width in IHDR\n",
      "libpng warning: Image width exceeds user limit in IHDR\n",
      "libpng warning: Invalid image height in IHDR\n",
      "libpng warning: Image height exceeds user limit in IHDR\n",
      "libpng error: Invalid IHDR data\n",
      "libpng warning: Invalid image width in IHDR\n",
      "libpng warning: Image width exceeds user limit in IHDR\n",
      "libpng warning: Invalid image height in IHDR\n",
      "libpng warning: Image height exceeds user limit in IHDR\n",
      "libpng error: Invalid IHDR data\n"
     ]
    },
    {
     "name": "stdout",
     "output_type": "stream",
     "text": [
      "\n",
      "Epoch: 3: Train loss: 0.126; Val loss: 0.13;\n",
      "Best model saved on epoch 2\n"
     ]
    },
    {
     "name": "stderr",
     "output_type": "stream",
     "text": [
      "libpng warning: Invalid image width in IHDR\n",
      "libpng warning: Image width exceeds user limit in IHDR\n",
      "libpng warning: Invalid image height in IHDR\n",
      "libpng warning: Image height exceeds user limit in IHDR\n",
      "libpng error: Invalid IHDR data\n",
      "libpng warning: Invalid image width in IHDR\n",
      "libpng warning: Image width exceeds user limit in IHDR\n",
      "libpng warning: Invalid image height in IHDR\n",
      "libpng warning: Image height exceeds user limit in IHDR\n",
      "libpng error: Invalid IHDR data\n"
     ]
    },
    {
     "name": "stdout",
     "output_type": "stream",
     "text": [
      "\n",
      "Epoch: 4: Train loss: 0.126; Val loss: 0.126;\n",
      "Best model saved on epoch 4\n"
     ]
    },
    {
     "name": "stderr",
     "output_type": "stream",
     "text": [
      "libpng warning: Invalid image width in IHDR\n",
      "libpng warning: Image width exceeds user limit in IHDR\n",
      "libpng warning: Invalid image height in IHDR\n",
      "libpng warning: Image height exceeds user limit in IHDR\n",
      "libpng error: Invalid IHDR data\n",
      "libpng warning: Invalid image width in IHDR\n",
      "libpng warning: Image width exceeds user limit in IHDR\n",
      "libpng warning: Invalid image height in IHDR\n",
      "libpng warning: Image height exceeds user limit in IHDR\n",
      "libpng error: Invalid IHDR data\n"
     ]
    },
    {
     "name": "stdout",
     "output_type": "stream",
     "text": [
      "\n",
      "Epoch: 5: Train loss: 0.123; Val loss: 0.126;\n",
      "Best model saved on epoch 4\n"
     ]
    },
    {
     "name": "stderr",
     "output_type": "stream",
     "text": [
      "libpng warning: Invalid image width in IHDR\n",
      "libpng warning: Image width exceeds user limit in IHDR\n",
      "libpng warning: Invalid image height in IHDR\n",
      "libpng warning: Image height exceeds user limit in IHDR\n",
      "libpng error: Invalid IHDR data\n",
      "libpng warning: Invalid image width in IHDR\n",
      "libpng warning: Image width exceeds user limit in IHDR\n",
      "libpng warning: Invalid image height in IHDR\n",
      "libpng warning: Image height exceeds user limit in IHDR\n",
      "libpng error: Invalid IHDR data\n"
     ]
    },
    {
     "name": "stdout",
     "output_type": "stream",
     "text": [
      "\n",
      "Epoch: 6: Train loss: 0.122; Val loss: 0.123;\n",
      "Best model saved on epoch 6\n"
     ]
    },
    {
     "name": "stderr",
     "output_type": "stream",
     "text": [
      "libpng warning: Invalid image width in IHDR\n",
      "libpng warning: Image width exceeds user limit in IHDR\n",
      "libpng warning: Invalid image height in IHDR\n",
      "libpng warning: Image height exceeds user limit in IHDR\n",
      "libpng error: Invalid IHDR data\n",
      "libpng warning: Invalid image width in IHDR\n",
      "libpng warning: Image width exceeds user limit in IHDR\n",
      "libpng warning: Invalid image height in IHDR\n",
      "libpng warning: Image height exceeds user limit in IHDR\n",
      "libpng error: Invalid IHDR data\n"
     ]
    },
    {
     "name": "stdout",
     "output_type": "stream",
     "text": [
      "\n",
      "Epoch: 7: Train loss: 0.12; Val loss: 0.12;\n",
      "Best model saved on epoch 7\n"
     ]
    },
    {
     "name": "stderr",
     "output_type": "stream",
     "text": [
      "libpng warning: Invalid image width in IHDR\n",
      "libpng warning: Image width exceeds user limit in IHDR\n",
      "libpng warning: Invalid image height in IHDR\n",
      "libpng warning: Image height exceeds user limit in IHDR\n",
      "libpng error: Invalid IHDR data\n",
      "libpng warning: Invalid image width in IHDR\n",
      "libpng warning: Image width exceeds user limit in IHDR\n",
      "libpng warning: Invalid image height in IHDR\n",
      "libpng warning: Image height exceeds user limit in IHDR\n",
      "libpng error: Invalid IHDR data\n"
     ]
    },
    {
     "name": "stdout",
     "output_type": "stream",
     "text": [
      "\n",
      "Epoch: 8: Train loss: 0.12; Val loss: 0.123;\n",
      "Best model saved on epoch 7\n"
     ]
    },
    {
     "name": "stderr",
     "output_type": "stream",
     "text": [
      "libpng warning: Invalid image width in IHDR\n",
      "libpng warning: Image width exceeds user limit in IHDR\n",
      "libpng warning: Invalid image height in IHDR\n",
      "libpng warning: Image height exceeds user limit in IHDR\n",
      "libpng error: Invalid IHDR data\n",
      "libpng warning: Invalid image width in IHDR\n",
      "libpng warning: Image width exceeds user limit in IHDR\n",
      "libpng warning: Invalid image height in IHDR\n",
      "libpng warning: Image height exceeds user limit in IHDR\n",
      "libpng error: Invalid IHDR data\n"
     ]
    },
    {
     "name": "stdout",
     "output_type": "stream",
     "text": [
      "\n",
      "Epoch: 9: Train loss: 0.119; Val loss: 0.12;\n",
      "Best model saved on epoch 7\n"
     ]
    },
    {
     "name": "stderr",
     "output_type": "stream",
     "text": [
      "libpng warning: Invalid image width in IHDR\n",
      "libpng warning: Image width exceeds user limit in IHDR\n",
      "libpng warning: Invalid image height in IHDR\n",
      "libpng warning: Image height exceeds user limit in IHDR\n",
      "libpng error: Invalid IHDR data\n",
      "libpng warning: Invalid image width in IHDR\n",
      "libpng warning: Image width exceeds user limit in IHDR\n",
      "libpng warning: Invalid image height in IHDR\n",
      "libpng warning: Image height exceeds user limit in IHDR\n",
      "libpng error: Invalid IHDR data\n"
     ]
    },
    {
     "name": "stdout",
     "output_type": "stream",
     "text": [
      "\n",
      "Epoch: 10: Train loss: 0.119; Val loss: 0.127;\n",
      "Best model saved on epoch 7\n"
     ]
    },
    {
     "name": "stderr",
     "output_type": "stream",
     "text": [
      "libpng warning: Invalid image width in IHDR\n",
      "libpng warning: Image width exceeds user limit in IHDR\n",
      "libpng warning: Invalid image height in IHDR\n",
      "libpng warning: Image height exceeds user limit in IHDR\n",
      "libpng error: Invalid IHDR data\n",
      "libpng warning: Invalid image width in IHDR\n",
      "libpng warning: Image width exceeds user limit in IHDR\n",
      "libpng warning: Invalid image height in IHDR\n",
      "libpng warning: Image height exceeds user limit in IHDR\n",
      "libpng error: Invalid IHDR data\n"
     ]
    },
    {
     "name": "stdout",
     "output_type": "stream",
     "text": [
      "\n",
      "Epoch: 11: Train loss: 0.115; Val loss: 0.118;\n",
      "Best model saved on epoch 11\n"
     ]
    },
    {
     "name": "stderr",
     "output_type": "stream",
     "text": [
      "libpng warning: Invalid image width in IHDR\n",
      "libpng warning: Image width exceeds user limit in IHDR\n",
      "libpng warning: Invalid image height in IHDR\n",
      "libpng warning: Image height exceeds user limit in IHDR\n",
      "libpng error: Invalid IHDR data\n",
      "libpng warning: Invalid image width in IHDR\n",
      "libpng warning: Image width exceeds user limit in IHDR\n",
      "libpng warning: Invalid image height in IHDR\n",
      "libpng warning: Image height exceeds user limit in IHDR\n",
      "libpng error: Invalid IHDR data\n"
     ]
    },
    {
     "name": "stdout",
     "output_type": "stream",
     "text": [
      "\n",
      "Epoch: 12: Train loss: 0.114; Val loss: 0.119;\n",
      "Best model saved on epoch 11\n"
     ]
    },
    {
     "name": "stderr",
     "output_type": "stream",
     "text": [
      "libpng warning: Invalid image width in IHDR\n",
      "libpng warning: Image width exceeds user limit in IHDR\n",
      "libpng warning: Invalid image height in IHDR\n",
      "libpng warning: Image height exceeds user limit in IHDR\n",
      "libpng error: Invalid IHDR data\n",
      "libpng warning: Invalid image width in IHDR\n",
      "libpng warning: Image width exceeds user limit in IHDR\n",
      "libpng warning: Invalid image height in IHDR\n",
      "libpng warning: Image height exceeds user limit in IHDR\n",
      "libpng error: Invalid IHDR data\n"
     ]
    },
    {
     "name": "stdout",
     "output_type": "stream",
     "text": [
      "\n",
      "Epoch: 13: Train loss: 0.114; Val loss: 0.119;\n",
      "Best model saved on epoch 11\n"
     ]
    },
    {
     "name": "stderr",
     "output_type": "stream",
     "text": [
      "libpng warning: Invalid image width in IHDR\n",
      "libpng warning: Image width exceeds user limit in IHDR\n",
      "libpng warning: Invalid image height in IHDR\n",
      "libpng warning: Image height exceeds user limit in IHDR\n",
      "libpng error: Invalid IHDR data\n"
     ]
    },
    {
     "name": "stdout",
     "output_type": "stream",
     "text": [
      "\n",
      "Epoch: 14: Train loss: 0.114; Val loss: 0.118;\n",
      "Best model saved on epoch 14\n"
     ]
    },
    {
     "name": "stderr",
     "output_type": "stream",
     "text": [
      "libpng warning: Invalid image width in IHDR\n",
      "libpng warning: Image width exceeds user limit in IHDR\n",
      "libpng warning: Invalid image height in IHDR\n",
      "libpng warning: Image height exceeds user limit in IHDR\n",
      "libpng error: Invalid IHDR data\n",
      "libpng warning: Invalid image width in IHDR\n",
      "libpng warning: Image width exceeds user limit in IHDR\n",
      "libpng warning: Invalid image height in IHDR\n",
      "libpng warning: Image height exceeds user limit in IHDR\n",
      "libpng error: Invalid IHDR data\n"
     ]
    },
    {
     "name": "stdout",
     "output_type": "stream",
     "text": [
      "\n",
      "Epoch: 15: Train loss: 0.113; Val loss: 0.117;\n",
      "Best model saved on epoch 15\n"
     ]
    },
    {
     "name": "stderr",
     "output_type": "stream",
     "text": [
      "libpng warning: Invalid image width in IHDR\n",
      "libpng warning: Image width exceeds user limit in IHDR\n",
      "libpng warning: Invalid image height in IHDR\n",
      "libpng warning: Image height exceeds user limit in IHDR\n",
      "libpng error: Invalid IHDR data\n",
      "libpng warning: Invalid image width in IHDR\n",
      "libpng warning: Image width exceeds user limit in IHDR\n",
      "libpng warning: Invalid image height in IHDR\n",
      "libpng warning: Image height exceeds user limit in IHDR\n",
      "libpng error: Invalid IHDR data\n"
     ]
    },
    {
     "name": "stdout",
     "output_type": "stream",
     "text": [
      "\n",
      "Epoch: 16: Train loss: 0.112; Val loss: 0.118;\n",
      "Best model saved on epoch 15\n"
     ]
    },
    {
     "name": "stderr",
     "output_type": "stream",
     "text": [
      "libpng warning: Invalid image width in IHDR\n",
      "libpng warning: Image width exceeds user limit in IHDR\n",
      "libpng warning: Invalid image height in IHDR\n",
      "libpng warning: Image height exceeds user limit in IHDR\n",
      "libpng error: Invalid IHDR data\n",
      "libpng warning: Invalid image width in IHDR\n",
      "libpng warning: Image width exceeds user limit in IHDR\n",
      "libpng warning: Invalid image height in IHDR\n",
      "libpng warning: Image height exceeds user limit in IHDR\n",
      "libpng error: Invalid IHDR data\n"
     ]
    },
    {
     "name": "stdout",
     "output_type": "stream",
     "text": [
      "\n",
      "Epoch: 17: Train loss: 0.112; Val loss: 0.118;\n",
      "Best model saved on epoch 15\n"
     ]
    },
    {
     "name": "stderr",
     "output_type": "stream",
     "text": [
      "libpng warning: Invalid image width in IHDR\n",
      "libpng warning: Image width exceeds user limit in IHDR\n",
      "libpng warning: Invalid image height in IHDR\n",
      "libpng warning: Image height exceeds user limit in IHDR\n",
      "libpng error: Invalid IHDR data\n",
      "libpng warning: Invalid image width in IHDR\n",
      "libpng warning: Image width exceeds user limit in IHDR\n",
      "libpng warning: Invalid image height in IHDR\n",
      "libpng warning: Image height exceeds user limit in IHDR\n",
      "libpng error: Invalid IHDR data\n"
     ]
    },
    {
     "name": "stdout",
     "output_type": "stream",
     "text": [
      "\n",
      "Epoch: 18: Train loss: 0.111; Val loss: 0.117;\n",
      "Best model saved on epoch 15\n"
     ]
    },
    {
     "name": "stderr",
     "output_type": "stream",
     "text": [
      "libpng warning: Invalid image width in IHDR\n",
      "libpng warning: Image width exceeds user limit in IHDR\n",
      "libpng warning: Invalid image height in IHDR\n",
      "libpng warning: Image height exceeds user limit in IHDR\n",
      "libpng error: Invalid IHDR data\n",
      "libpng warning: Invalid image width in IHDR\n",
      "libpng warning: Image width exceeds user limit in IHDR\n",
      "libpng warning: Invalid image height in IHDR\n",
      "libpng warning: Image height exceeds user limit in IHDR\n",
      "libpng error: Invalid IHDR data\n"
     ]
    },
    {
     "name": "stdout",
     "output_type": "stream",
     "text": [
      "\n",
      "Epoch: 19: Train loss: 0.11; Val loss: 0.116;\n",
      "Best model saved on epoch 19\n"
     ]
    },
    {
     "name": "stderr",
     "output_type": "stream",
     "text": [
      "libpng warning: Invalid image width in IHDR\n",
      "libpng warning: Image width exceeds user limit in IHDR\n",
      "libpng warning: Invalid image height in IHDR\n",
      "libpng warning: Image height exceeds user limit in IHDR\n",
      "libpng error: Invalid IHDR data\n",
      "libpng warning: Invalid image width in IHDR\n",
      "libpng warning: Image width exceeds user limit in IHDR\n",
      "libpng warning: Invalid image height in IHDR\n",
      "libpng warning: Image height exceeds user limit in IHDR\n",
      "libpng error: Invalid IHDR data\n"
     ]
    },
    {
     "name": "stdout",
     "output_type": "stream",
     "text": [
      "\n",
      "Epoch: 20: Train loss: 0.11; Val loss: 0.115;\n",
      "Best model saved on epoch 20\n"
     ]
    },
    {
     "name": "stderr",
     "output_type": "stream",
     "text": [
      "libpng warning: Invalid image width in IHDR\n",
      "libpng warning: Image width exceeds user limit in IHDR\n",
      "libpng warning: Invalid image height in IHDR\n",
      "libpng warning: Image height exceeds user limit in IHDR\n",
      "libpng error: Invalid IHDR data\n",
      "libpng warning: Invalid image width in IHDR\n",
      "libpng warning: Image width exceeds user limit in IHDR\n",
      "libpng warning: Invalid image height in IHDR\n",
      "libpng warning: Image height exceeds user limit in IHDR\n",
      "libpng error: Invalid IHDR data\n"
     ]
    },
    {
     "name": "stdout",
     "output_type": "stream",
     "text": [
      "\n",
      "Epoch: 21: Train loss: 0.109; Val loss: 0.115;\n",
      "Best model saved on epoch 21\n"
     ]
    },
    {
     "name": "stderr",
     "output_type": "stream",
     "text": [
      "libpng warning: Invalid image width in IHDR\n",
      "libpng warning: Image width exceeds user limit in IHDR\n",
      "libpng warning: Invalid image height in IHDR\n",
      "libpng warning: Image height exceeds user limit in IHDR\n",
      "libpng error: Invalid IHDR data\n",
      "libpng warning: Invalid image width in IHDR\n",
      "libpng warning: Image width exceeds user limit in IHDR\n",
      "libpng warning: Invalid image height in IHDR\n",
      "libpng warning: Image height exceeds user limit in IHDR\n",
      "libpng error: Invalid IHDR data\n"
     ]
    },
    {
     "name": "stdout",
     "output_type": "stream",
     "text": [
      "\n",
      "Epoch: 22: Train loss: 0.109; Val loss: 0.114;\n",
      "Best model saved on epoch 22\n"
     ]
    },
    {
     "name": "stderr",
     "output_type": "stream",
     "text": [
      "libpng warning: Invalid image width in IHDR\n",
      "libpng warning: Image width exceeds user limit in IHDR\n",
      "libpng warning: Invalid image height in IHDR\n",
      "libpng warning: Image height exceeds user limit in IHDR\n",
      "libpng error: Invalid IHDR data\n",
      "libpng warning: Invalid image width in IHDR\n",
      "libpng warning: Image width exceeds user limit in IHDR\n",
      "libpng warning: Invalid image height in IHDR\n",
      "libpng warning: Image height exceeds user limit in IHDR\n",
      "libpng error: Invalid IHDR data\n"
     ]
    },
    {
     "name": "stdout",
     "output_type": "stream",
     "text": [
      "\n",
      "Epoch: 23: Train loss: 0.109; Val loss: 0.114;\n",
      "Best model saved on epoch 22\n"
     ]
    },
    {
     "name": "stderr",
     "output_type": "stream",
     "text": [
      "libpng warning: Invalid image width in IHDR\n",
      "libpng warning: Image width exceeds user limit in IHDR\n",
      "libpng warning: Invalid image height in IHDR\n",
      "libpng warning: Image height exceeds user limit in IHDR\n",
      "libpng error: Invalid IHDR data\n",
      "libpng warning: Invalid image width in IHDR\n",
      "libpng warning: Image width exceeds user limit in IHDR\n",
      "libpng warning: Invalid image height in IHDR\n",
      "libpng warning: Image height exceeds user limit in IHDR\n",
      "libpng error: Invalid IHDR data\n",
      "\u001b[1;38;5;39mCOMET INFO:\u001b[0m ---------------------------------------------------------------------------------------\n",
      "\u001b[1;38;5;39mCOMET INFO:\u001b[0m Comet.ml Experiment Summary\n",
      "\u001b[1;38;5;39mCOMET INFO:\u001b[0m ---------------------------------------------------------------------------------------\n",
      "\u001b[1;38;5;39mCOMET INFO:\u001b[0m   Data:\n",
      "\u001b[1;38;5;39mCOMET INFO:\u001b[0m     display_summary_level : 1\n",
      "\u001b[1;38;5;39mCOMET INFO:\u001b[0m     url                   : https://www.comet.com/kmisterios/tweakle-gaze-detection/2cc7df2a582e438b885d28f9949e673a\n",
      "\u001b[1;38;5;39mCOMET INFO:\u001b[0m   Metrics [count] (min, max):\n",
      "\u001b[1;38;5;39mCOMET INFO:\u001b[0m     best_model_epoch [25] : (0, 22)\n",
      "\u001b[1;38;5;39mCOMET INFO:\u001b[0m     epoch [25]            : (0, 24)\n",
      "\u001b[1;38;5;39mCOMET INFO:\u001b[0m     lr [25]               : (7.5e-05, 0.0003)\n",
      "\u001b[1;38;5;39mCOMET INFO:\u001b[0m     rmse_train [25]       : (0.10838982299333666, 0.13748752216740354)\n",
      "\u001b[1;38;5;39mCOMET INFO:\u001b[0m     rmse_val [25]         : (0.11363619778837476, 0.13195897106613433)\n",
      "\u001b[1;38;5;39mCOMET INFO:\u001b[0m     train_mape [25]       : (0.30154217645059456, 0.38919220989156345)\n",
      "\u001b[1;38;5;39mCOMET INFO:\u001b[0m     val_mape [25]         : (0.4549962901984924, 0.5406066325922478)\n",
      "\u001b[1;38;5;39mCOMET INFO:\u001b[0m   Others:\n",
      "\u001b[1;38;5;39mCOMET INFO:\u001b[0m     Name : face_eyes_mask_screen_feat_correctedv2_balanced\n",
      "\u001b[1;38;5;39mCOMET INFO:\u001b[0m   Parameters:\n",
      "\u001b[1;38;5;39mCOMET INFO:\u001b[0m     batch_size      : 1024\n",
      "\u001b[1;38;5;39mCOMET INFO:\u001b[0m     experiment_name : face_eyes_mask_screen_feat_correctedv2_balanced\n",
      "\u001b[1;38;5;39mCOMET INFO:\u001b[0m     gradient_clip   : True\n",
      "\u001b[1;38;5;39mCOMET INFO:\u001b[0m     learning_rate   : 0.0003\n",
      "\u001b[1;38;5;39mCOMET INFO:\u001b[0m     num_epochs      : 25\n",
      "\u001b[1;38;5;39mCOMET INFO:\u001b[0m     num_samples     : 1\n",
      "\u001b[1;38;5;39mCOMET INFO:\u001b[0m     optimizer       : Adam (\n",
      "Parameter Group 0\n",
      "    amsgrad: False\n",
      "    betas: (0.9, 0.999)\n",
      "    capturable: False\n",
      "    differentiable: False\n",
      "    eps: 1e-08\n",
      "    foreach: None\n",
      "    fused: None\n",
      "    lr: 0.0003\n",
      "    maximize: False\n",
      "    weight_decay: 0.0001\n",
      ")\n",
      "\u001b[1;38;5;39mCOMET INFO:\u001b[0m     patience        : 2\n",
      "\u001b[1;38;5;39mCOMET INFO:\u001b[0m     reduce_factor   : 0.5\n",
      "\u001b[1;38;5;39mCOMET INFO:\u001b[0m     scheduler       : <torch.optim.lr_scheduler.ReduceLROnPlateau object at 0x7fc901e474f0>\n",
      "\u001b[1;38;5;39mCOMET INFO:\u001b[0m   Uploads:\n",
      "\u001b[1;38;5;39mCOMET INFO:\u001b[0m     environment details      : 1\n",
      "\u001b[1;38;5;39mCOMET INFO:\u001b[0m     filename                 : 1\n",
      "\u001b[1;38;5;39mCOMET INFO:\u001b[0m     git metadata             : 1\n",
      "\u001b[1;38;5;39mCOMET INFO:\u001b[0m     git-patch (uncompressed) : 1 (797.09 KB)\n",
      "\u001b[1;38;5;39mCOMET INFO:\u001b[0m     installed packages       : 1\n",
      "\u001b[1;38;5;39mCOMET INFO:\u001b[0m     notebook                 : 1\n",
      "\u001b[1;38;5;39mCOMET INFO:\u001b[0m     os packages              : 1\n",
      "\u001b[1;38;5;39mCOMET INFO:\u001b[0m     source_code              : 1\n",
      "\u001b[1;38;5;39mCOMET INFO:\u001b[0m \n",
      "\u001b[1;38;5;214mCOMET WARNING:\u001b[0m To get all data logged automatically, import comet_ml before the following modules: sklearn, torch.\n"
     ]
    },
    {
     "name": "stdout",
     "output_type": "stream",
     "text": [
      "\n",
      "Epoch: 24: Train loss: 0.108; Val loss: 0.116;\n",
      "Best model saved on epoch 22\n"
     ]
    },
    {
     "name": "stderr",
     "output_type": "stream",
     "text": [
      "\u001b[1;38;5;39mCOMET INFO:\u001b[0m Please wait for metadata to finish uploading (timeout is 3600 seconds)\n"
     ]
    }
   ],
   "source": [
    "val_loss_min = np.inf\n",
    "epoch_save = None\n",
    "\n",
    "for epoch in range(NUM_EPOCHS):\n",
    "    train_loss, train_mape = train(model, dataloader_train)\n",
    "    val_loss, val_mape = train(model, dataloader_val)\n",
    "    scheduler.step(val_loss)\n",
    "    current_lr = scheduler.optimizer.param_groups[0]['lr']\n",
    "    if val_loss_min > val_loss:\n",
    "        val_loss_min = val_loss\n",
    "        torch.save(model.state_dict(), os.path.join(CHECKPOINTS_PATH, f\"best_{EXPERIMENT_NAME}.pt\"))\n",
    "        epoch_save = epoch\n",
    "\n",
    "    print()\n",
    "    print(f'Epoch: {epoch}: Train loss: {round(train_loss, 3)}; Val loss: {round(val_loss, 3)};')\n",
    "    if epoch_save is not None:\n",
    "        print(f'Best model saved on epoch {epoch_save}')\n",
    "    experiment.log_metrics({\n",
    "        \"rmse_val\": val_loss,\n",
    "        \"rmse_train\": train_loss,\n",
    "        \"best_model_epoch\": epoch_save,\n",
    "        \"train_mape\": train_mape,\n",
    "        \"val_mape\": val_mape,\n",
    "        \"epoch\": epoch,\n",
    "        \"lr\": current_lr\n",
    "    })\n",
    "experiment.end()"
   ]
  },
  {
   "cell_type": "code",
   "execution_count": 27,
   "id": "59dfcda4-666f-4722-82f3-b2787be89ede",
   "metadata": {},
   "outputs": [
    {
     "data": {
      "text/plain": [
       "FineTuneModel(\n",
       "  (face_model): FaceModel(\n",
       "    (backbone): Sequential(\n",
       "      (0): Conv2d(3, 16, kernel_size=(3, 3), stride=(2, 2))\n",
       "      (1): PReLU(num_parameters=16)\n",
       "      (2): FaceMeshBlock(\n",
       "        (convs): Sequential(\n",
       "          (0): Conv2d(16, 16, kernel_size=(3, 3), stride=(1, 1), padding=(1, 1), groups=16)\n",
       "          (1): Conv2d(16, 16, kernel_size=(1, 1), stride=(1, 1))\n",
       "        )\n",
       "        (act): PReLU(num_parameters=16)\n",
       "      )\n",
       "      (3): FaceMeshBlock(\n",
       "        (convs): Sequential(\n",
       "          (0): Conv2d(16, 16, kernel_size=(3, 3), stride=(1, 1), padding=(1, 1), groups=16)\n",
       "          (1): Conv2d(16, 16, kernel_size=(1, 1), stride=(1, 1))\n",
       "        )\n",
       "        (act): PReLU(num_parameters=16)\n",
       "      )\n",
       "      (4): FaceMeshBlock(\n",
       "        (max_pool): MaxPool2d(kernel_size=2, stride=2, padding=0, dilation=1, ceil_mode=False)\n",
       "        (convs): Sequential(\n",
       "          (0): Conv2d(16, 16, kernel_size=(3, 3), stride=(2, 2), groups=16)\n",
       "          (1): Conv2d(16, 32, kernel_size=(1, 1), stride=(1, 1))\n",
       "        )\n",
       "        (act): PReLU(num_parameters=32)\n",
       "      )\n",
       "      (5): FaceMeshBlock(\n",
       "        (convs): Sequential(\n",
       "          (0): Conv2d(32, 32, kernel_size=(3, 3), stride=(1, 1), padding=(1, 1), groups=32)\n",
       "          (1): Conv2d(32, 32, kernel_size=(1, 1), stride=(1, 1))\n",
       "        )\n",
       "        (act): PReLU(num_parameters=32)\n",
       "      )\n",
       "      (6): FaceMeshBlock(\n",
       "        (convs): Sequential(\n",
       "          (0): Conv2d(32, 32, kernel_size=(3, 3), stride=(1, 1), padding=(1, 1), groups=32)\n",
       "          (1): Conv2d(32, 32, kernel_size=(1, 1), stride=(1, 1))\n",
       "        )\n",
       "        (act): PReLU(num_parameters=32)\n",
       "      )\n",
       "      (7): FaceMeshBlock(\n",
       "        (max_pool): MaxPool2d(kernel_size=2, stride=2, padding=0, dilation=1, ceil_mode=False)\n",
       "        (convs): Sequential(\n",
       "          (0): Conv2d(32, 32, kernel_size=(3, 3), stride=(2, 2), groups=32)\n",
       "          (1): Conv2d(32, 64, kernel_size=(1, 1), stride=(1, 1))\n",
       "        )\n",
       "        (act): PReLU(num_parameters=64)\n",
       "      )\n",
       "      (8): FaceMeshBlock(\n",
       "        (convs): Sequential(\n",
       "          (0): Conv2d(64, 64, kernel_size=(3, 3), stride=(1, 1), padding=(1, 1), groups=64)\n",
       "          (1): Conv2d(64, 64, kernel_size=(1, 1), stride=(1, 1))\n",
       "        )\n",
       "        (act): PReLU(num_parameters=64)\n",
       "      )\n",
       "      (9): FaceMeshBlock(\n",
       "        (convs): Sequential(\n",
       "          (0): Conv2d(64, 64, kernel_size=(3, 3), stride=(1, 1), padding=(1, 1), groups=64)\n",
       "          (1): Conv2d(64, 64, kernel_size=(1, 1), stride=(1, 1))\n",
       "        )\n",
       "        (act): PReLU(num_parameters=64)\n",
       "      )\n",
       "      (10): FaceMeshBlock(\n",
       "        (max_pool): MaxPool2d(kernel_size=2, stride=2, padding=0, dilation=1, ceil_mode=False)\n",
       "        (convs): Sequential(\n",
       "          (0): Conv2d(64, 64, kernel_size=(3, 3), stride=(2, 2), groups=64)\n",
       "          (1): Conv2d(64, 128, kernel_size=(1, 1), stride=(1, 1))\n",
       "        )\n",
       "        (act): PReLU(num_parameters=128)\n",
       "      )\n",
       "      (11): FaceMeshBlock(\n",
       "        (convs): Sequential(\n",
       "          (0): Conv2d(128, 128, kernel_size=(3, 3), stride=(1, 1), padding=(1, 1), groups=128)\n",
       "          (1): Conv2d(128, 128, kernel_size=(1, 1), stride=(1, 1))\n",
       "        )\n",
       "        (act): PReLU(num_parameters=128)\n",
       "      )\n",
       "      (12): FaceMeshBlock(\n",
       "        (convs): Sequential(\n",
       "          (0): Conv2d(128, 128, kernel_size=(3, 3), stride=(1, 1), padding=(1, 1), groups=128)\n",
       "          (1): Conv2d(128, 128, kernel_size=(1, 1), stride=(1, 1))\n",
       "        )\n",
       "        (act): PReLU(num_parameters=128)\n",
       "      )\n",
       "      (13): FaceMeshBlock(\n",
       "        (max_pool): MaxPool2d(kernel_size=2, stride=2, padding=0, dilation=1, ceil_mode=False)\n",
       "        (convs): Sequential(\n",
       "          (0): Conv2d(128, 128, kernel_size=(3, 3), stride=(2, 2), groups=128)\n",
       "          (1): Conv2d(128, 128, kernel_size=(1, 1), stride=(1, 1))\n",
       "        )\n",
       "        (act): PReLU(num_parameters=128)\n",
       "      )\n",
       "      (14): FaceMeshBlock(\n",
       "        (convs): Sequential(\n",
       "          (0): Conv2d(128, 128, kernel_size=(3, 3), stride=(1, 1), padding=(1, 1), groups=128)\n",
       "          (1): Conv2d(128, 128, kernel_size=(1, 1), stride=(1, 1))\n",
       "        )\n",
       "        (act): PReLU(num_parameters=128)\n",
       "      )\n",
       "      (15): FaceMeshBlock(\n",
       "        (convs): Sequential(\n",
       "          (0): Conv2d(128, 128, kernel_size=(3, 3), stride=(1, 1), padding=(1, 1), groups=128)\n",
       "          (1): Conv2d(128, 128, kernel_size=(1, 1), stride=(1, 1))\n",
       "        )\n",
       "        (act): PReLU(num_parameters=128)\n",
       "      )\n",
       "    )\n",
       "    (regression_head_face): Sequential(\n",
       "      (0): FaceMeshBlock(\n",
       "        (max_pool): MaxPool2d(kernel_size=2, stride=2, padding=0, dilation=1, ceil_mode=False)\n",
       "        (convs): Sequential(\n",
       "          (0): Conv2d(128, 128, kernel_size=(3, 3), stride=(2, 2), groups=128)\n",
       "          (1): Conv2d(128, 128, kernel_size=(1, 1), stride=(1, 1))\n",
       "        )\n",
       "        (act): PReLU(num_parameters=128)\n",
       "      )\n",
       "      (1): FaceMeshBlock(\n",
       "        (convs): Sequential(\n",
       "          (0): Conv2d(128, 128, kernel_size=(3, 3), stride=(1, 1), padding=(1, 1), groups=128)\n",
       "          (1): Conv2d(128, 128, kernel_size=(1, 1), stride=(1, 1))\n",
       "        )\n",
       "        (act): PReLU(num_parameters=128)\n",
       "      )\n",
       "      (2): FaceMeshBlock(\n",
       "        (convs): Sequential(\n",
       "          (0): Conv2d(128, 128, kernel_size=(3, 3), stride=(1, 1), padding=(1, 1), groups=128)\n",
       "          (1): Conv2d(128, 128, kernel_size=(1, 1), stride=(1, 1))\n",
       "        )\n",
       "        (act): PReLU(num_parameters=128)\n",
       "      )\n",
       "      (3): Conv2d(128, 32, kernel_size=(1, 1), stride=(1, 1))\n",
       "      (4): PReLU(num_parameters=32)\n",
       "      (5): FaceMeshBlock(\n",
       "        (convs): Sequential(\n",
       "          (0): Conv2d(32, 32, kernel_size=(3, 3), stride=(1, 1), padding=(1, 1), groups=32)\n",
       "          (1): Conv2d(32, 32, kernel_size=(1, 1), stride=(1, 1))\n",
       "        )\n",
       "        (act): PReLU(num_parameters=32)\n",
       "      )\n",
       "    )\n",
       "    (fc): Sequential(\n",
       "      (0): Linear(in_features=288, out_features=128, bias=True)\n",
       "      (1): ReLU(inplace=True)\n",
       "      (2): Linear(in_features=128, out_features=64, bias=True)\n",
       "      (3): ReLU(inplace=True)\n",
       "    )\n",
       "  )\n",
       "  (eyes_model): EyesModel(\n",
       "    (backbone): Sequential(\n",
       "      (0): Conv2d(3, 64, kernel_size=(3, 3), stride=(2, 2))\n",
       "      (1): PReLU(num_parameters=64)\n",
       "      (2): IrisBlock(\n",
       "        (conv_prelu): Sequential(\n",
       "          (0): Conv2d(64, 32, kernel_size=(1, 1), stride=(1, 1))\n",
       "          (1): PReLU(num_parameters=32)\n",
       "        )\n",
       "        (depthwiseconv_conv): Sequential(\n",
       "          (0): Conv2d(32, 32, kernel_size=(3, 3), stride=(1, 1), padding=(1, 1), groups=32)\n",
       "          (1): Conv2d(32, 64, kernel_size=(1, 1), stride=(1, 1))\n",
       "        )\n",
       "        (prelu): PReLU(num_parameters=64)\n",
       "      )\n",
       "      (3): IrisBlock(\n",
       "        (conv_prelu): Sequential(\n",
       "          (0): Conv2d(64, 32, kernel_size=(1, 1), stride=(1, 1))\n",
       "          (1): PReLU(num_parameters=32)\n",
       "        )\n",
       "        (depthwiseconv_conv): Sequential(\n",
       "          (0): Conv2d(32, 32, kernel_size=(3, 3), stride=(1, 1), padding=(1, 1), groups=32)\n",
       "          (1): Conv2d(32, 64, kernel_size=(1, 1), stride=(1, 1))\n",
       "        )\n",
       "        (prelu): PReLU(num_parameters=64)\n",
       "      )\n",
       "      (4): IrisBlock(\n",
       "        (conv_prelu): Sequential(\n",
       "          (0): Conv2d(64, 32, kernel_size=(1, 1), stride=(1, 1))\n",
       "          (1): PReLU(num_parameters=32)\n",
       "        )\n",
       "        (depthwiseconv_conv): Sequential(\n",
       "          (0): Conv2d(32, 32, kernel_size=(3, 3), stride=(1, 1), padding=(1, 1), groups=32)\n",
       "          (1): Conv2d(32, 64, kernel_size=(1, 1), stride=(1, 1))\n",
       "        )\n",
       "        (prelu): PReLU(num_parameters=64)\n",
       "      )\n",
       "      (5): IrisBlock(\n",
       "        (conv_prelu): Sequential(\n",
       "          (0): Conv2d(64, 32, kernel_size=(1, 1), stride=(1, 1))\n",
       "          (1): PReLU(num_parameters=32)\n",
       "        )\n",
       "        (depthwiseconv_conv): Sequential(\n",
       "          (0): Conv2d(32, 32, kernel_size=(3, 3), stride=(1, 1), padding=(1, 1), groups=32)\n",
       "          (1): Conv2d(32, 64, kernel_size=(1, 1), stride=(1, 1))\n",
       "        )\n",
       "        (prelu): PReLU(num_parameters=64)\n",
       "      )\n",
       "      (6): IrisBlock(\n",
       "        (conv_prelu): Sequential(\n",
       "          (0): Conv2d(64, 64, kernel_size=(2, 2), stride=(2, 2))\n",
       "          (1): PReLU(num_parameters=64)\n",
       "        )\n",
       "        (depthwiseconv_conv): Sequential(\n",
       "          (0): Conv2d(64, 64, kernel_size=(3, 3), stride=(1, 1), padding=(1, 1), groups=64)\n",
       "          (1): Conv2d(64, 128, kernel_size=(1, 1), stride=(1, 1))\n",
       "        )\n",
       "        (max_pool): MaxPool2d(kernel_size=2, stride=2, padding=0, dilation=1, ceil_mode=False)\n",
       "        (prelu): PReLU(num_parameters=128)\n",
       "      )\n",
       "      (7): IrisBlock(\n",
       "        (conv_prelu): Sequential(\n",
       "          (0): Conv2d(128, 64, kernel_size=(1, 1), stride=(1, 1))\n",
       "          (1): PReLU(num_parameters=64)\n",
       "        )\n",
       "        (depthwiseconv_conv): Sequential(\n",
       "          (0): Conv2d(64, 64, kernel_size=(3, 3), stride=(1, 1), padding=(1, 1), groups=64)\n",
       "          (1): Conv2d(64, 128, kernel_size=(1, 1), stride=(1, 1))\n",
       "        )\n",
       "        (prelu): PReLU(num_parameters=128)\n",
       "      )\n",
       "      (8): IrisBlock(\n",
       "        (conv_prelu): Sequential(\n",
       "          (0): Conv2d(128, 64, kernel_size=(1, 1), stride=(1, 1))\n",
       "          (1): PReLU(num_parameters=64)\n",
       "        )\n",
       "        (depthwiseconv_conv): Sequential(\n",
       "          (0): Conv2d(64, 64, kernel_size=(3, 3), stride=(1, 1), padding=(1, 1), groups=64)\n",
       "          (1): Conv2d(64, 128, kernel_size=(1, 1), stride=(1, 1))\n",
       "        )\n",
       "        (prelu): PReLU(num_parameters=128)\n",
       "      )\n",
       "      (9): IrisBlock(\n",
       "        (conv_prelu): Sequential(\n",
       "          (0): Conv2d(128, 64, kernel_size=(1, 1), stride=(1, 1))\n",
       "          (1): PReLU(num_parameters=64)\n",
       "        )\n",
       "        (depthwiseconv_conv): Sequential(\n",
       "          (0): Conv2d(64, 64, kernel_size=(3, 3), stride=(1, 1), padding=(1, 1), groups=64)\n",
       "          (1): Conv2d(64, 128, kernel_size=(1, 1), stride=(1, 1))\n",
       "        )\n",
       "        (prelu): PReLU(num_parameters=128)\n",
       "      )\n",
       "      (10): IrisBlock(\n",
       "        (conv_prelu): Sequential(\n",
       "          (0): Conv2d(128, 64, kernel_size=(1, 1), stride=(1, 1))\n",
       "          (1): PReLU(num_parameters=64)\n",
       "        )\n",
       "        (depthwiseconv_conv): Sequential(\n",
       "          (0): Conv2d(64, 64, kernel_size=(3, 3), stride=(1, 1), padding=(1, 1), groups=64)\n",
       "          (1): Conv2d(64, 128, kernel_size=(1, 1), stride=(1, 1))\n",
       "        )\n",
       "        (prelu): PReLU(num_parameters=128)\n",
       "      )\n",
       "      (11): IrisBlock(\n",
       "        (conv_prelu): Sequential(\n",
       "          (0): Conv2d(128, 64, kernel_size=(2, 2), stride=(2, 2))\n",
       "          (1): PReLU(num_parameters=64)\n",
       "        )\n",
       "        (depthwiseconv_conv): Sequential(\n",
       "          (0): Conv2d(64, 64, kernel_size=(3, 3), stride=(1, 1), padding=(1, 1), groups=64)\n",
       "          (1): Conv2d(64, 128, kernel_size=(1, 1), stride=(1, 1))\n",
       "        )\n",
       "        (max_pool): MaxPool2d(kernel_size=2, stride=2, padding=0, dilation=1, ceil_mode=False)\n",
       "        (prelu): PReLU(num_parameters=128)\n",
       "      )\n",
       "    )\n",
       "    (regression_head_eyes): Sequential(\n",
       "      (0): IrisBlock(\n",
       "        (conv_prelu): Sequential(\n",
       "          (0): Conv2d(128, 64, kernel_size=(1, 1), stride=(1, 1))\n",
       "          (1): PReLU(num_parameters=64)\n",
       "        )\n",
       "        (depthwiseconv_conv): Sequential(\n",
       "          (0): Conv2d(64, 64, kernel_size=(3, 3), stride=(1, 1), padding=(1, 1), groups=64)\n",
       "          (1): Conv2d(64, 128, kernel_size=(1, 1), stride=(1, 1))\n",
       "        )\n",
       "        (prelu): PReLU(num_parameters=128)\n",
       "      )\n",
       "      (1): IrisBlock(\n",
       "        (conv_prelu): Sequential(\n",
       "          (0): Conv2d(128, 64, kernel_size=(1, 1), stride=(1, 1))\n",
       "          (1): PReLU(num_parameters=64)\n",
       "        )\n",
       "        (depthwiseconv_conv): Sequential(\n",
       "          (0): Conv2d(64, 64, kernel_size=(3, 3), stride=(1, 1), padding=(1, 1), groups=64)\n",
       "          (1): Conv2d(64, 128, kernel_size=(1, 1), stride=(1, 1))\n",
       "        )\n",
       "        (prelu): PReLU(num_parameters=128)\n",
       "      )\n",
       "      (2): IrisBlock(\n",
       "        (conv_prelu): Sequential(\n",
       "          (0): Conv2d(128, 64, kernel_size=(2, 2), stride=(2, 2))\n",
       "          (1): PReLU(num_parameters=64)\n",
       "        )\n",
       "        (depthwiseconv_conv): Sequential(\n",
       "          (0): Conv2d(64, 64, kernel_size=(3, 3), stride=(1, 1), padding=(1, 1), groups=64)\n",
       "          (1): Conv2d(64, 128, kernel_size=(1, 1), stride=(1, 1))\n",
       "        )\n",
       "        (max_pool): MaxPool2d(kernel_size=2, stride=2, padding=0, dilation=1, ceil_mode=False)\n",
       "        (prelu): PReLU(num_parameters=128)\n",
       "      )\n",
       "      (3): IrisBlock(\n",
       "        (conv_prelu): Sequential(\n",
       "          (0): Conv2d(128, 64, kernel_size=(1, 1), stride=(1, 1))\n",
       "          (1): PReLU(num_parameters=64)\n",
       "        )\n",
       "        (depthwiseconv_conv): Sequential(\n",
       "          (0): Conv2d(64, 64, kernel_size=(3, 3), stride=(1, 1), padding=(1, 1), groups=64)\n",
       "          (1): Conv2d(64, 128, kernel_size=(1, 1), stride=(1, 1))\n",
       "        )\n",
       "        (prelu): PReLU(num_parameters=128)\n",
       "      )\n",
       "      (4): IrisBlock(\n",
       "        (conv_prelu): Sequential(\n",
       "          (0): Conv2d(128, 64, kernel_size=(1, 1), stride=(1, 1))\n",
       "          (1): PReLU(num_parameters=64)\n",
       "        )\n",
       "        (depthwiseconv_conv): Sequential(\n",
       "          (0): Conv2d(64, 64, kernel_size=(3, 3), stride=(1, 1), padding=(1, 1), groups=64)\n",
       "          (1): Conv2d(64, 128, kernel_size=(1, 1), stride=(1, 1))\n",
       "        )\n",
       "        (prelu): PReLU(num_parameters=128)\n",
       "      )\n",
       "      (5): IrisBlock(\n",
       "        (conv_prelu): Sequential(\n",
       "          (0): Conv2d(128, 64, kernel_size=(2, 2), stride=(2, 2))\n",
       "          (1): PReLU(num_parameters=64)\n",
       "        )\n",
       "        (depthwiseconv_conv): Sequential(\n",
       "          (0): Conv2d(64, 64, kernel_size=(3, 3), stride=(1, 1), padding=(1, 1), groups=64)\n",
       "          (1): Conv2d(64, 128, kernel_size=(1, 1), stride=(1, 1))\n",
       "        )\n",
       "        (max_pool): MaxPool2d(kernel_size=2, stride=2, padding=0, dilation=1, ceil_mode=False)\n",
       "        (prelu): PReLU(num_parameters=128)\n",
       "      )\n",
       "      (6): IrisBlock(\n",
       "        (conv_prelu): Sequential(\n",
       "          (0): Conv2d(128, 64, kernel_size=(1, 1), stride=(1, 1))\n",
       "          (1): PReLU(num_parameters=64)\n",
       "        )\n",
       "        (depthwiseconv_conv): Sequential(\n",
       "          (0): Conv2d(64, 64, kernel_size=(3, 3), stride=(1, 1), padding=(1, 1), groups=64)\n",
       "          (1): Conv2d(64, 128, kernel_size=(1, 1), stride=(1, 1))\n",
       "        )\n",
       "        (prelu): PReLU(num_parameters=128)\n",
       "      )\n",
       "      (7): IrisBlock(\n",
       "        (conv_prelu): Sequential(\n",
       "          (0): Conv2d(128, 64, kernel_size=(1, 1), stride=(1, 1))\n",
       "          (1): PReLU(num_parameters=64)\n",
       "        )\n",
       "        (depthwiseconv_conv): Sequential(\n",
       "          (0): Conv2d(64, 64, kernel_size=(3, 3), stride=(1, 1), padding=(1, 1), groups=64)\n",
       "          (1): Conv2d(64, 128, kernel_size=(1, 1), stride=(1, 1))\n",
       "        )\n",
       "        (prelu): PReLU(num_parameters=128)\n",
       "      )\n",
       "    )\n",
       "    (fc): Sequential(\n",
       "      (0): Linear(in_features=256, out_features=128, bias=True)\n",
       "      (1): ReLU(inplace=True)\n",
       "    )\n",
       "  )\n",
       "  (face_grid_model): FaceGridModel(\n",
       "    (fc): Sequential(\n",
       "      (0): Linear(in_features=625, out_features=256, bias=True)\n",
       "      (1): ReLU(inplace=True)\n",
       "      (2): Linear(in_features=256, out_features=128, bias=True)\n",
       "      (3): ReLU(inplace=True)\n",
       "    )\n",
       "  )\n",
       "  (fc1): Sequential(\n",
       "    (0): Linear(in_features=320, out_features=128, bias=True)\n",
       "    (1): ReLU(inplace=True)\n",
       "    (2): Linear(in_features=128, out_features=13, bias=True)\n",
       "    (3): ReLU(inplace=True)\n",
       "  )\n",
       "  (layer_norm): LayerNorm((16,), eps=1e-05, elementwise_affine=True)\n",
       "  (fc2): Linear(in_features=16, out_features=2, bias=True)\n",
       ")"
      ]
     },
     "execution_count": 27,
     "metadata": {},
     "output_type": "execute_result"
    }
   ],
   "source": [
    "model = FineTuneModel(pretrained_model_face, pretrained_model_eyes, screen_features=True).to(device)\n",
    "model.load_state_dict(torch.load(os.path.join(CHECKPOINTS_PATH, f\"best_{EXPERIMENT_NAME}.pt\")))\n",
    "# model.load_state_dict(torch.load(os.path.join(CHECKPOINTS_PATH, f\"best_raw_images.pt\")))\n",
    "criterion = RMSELoss()\n",
    "model.eval()"
   ]
  },
  {
   "cell_type": "code",
   "execution_count": 28,
   "id": "71141060-3912-4ece-8e52-e645b3442011",
   "metadata": {},
   "outputs": [
    {
     "name": "stdout",
     "output_type": "stream",
     "text": [
      "Fusing layers... \n"
     ]
    }
   ],
   "source": [
    "dataset_test = GazeDetectionDataset(data = test_df, transform_list=trans_list, to_tensors=True, device=device, screen_features=True)\n",
    "dataloader_test = DataLoader(dataset_test, batch_size=BATCH_SIZE,\n",
    "                        shuffle=False, num_workers=0)"
   ]
  },
  {
   "cell_type": "code",
   "execution_count": 29,
   "id": "39ff4ddc-52f8-4b8e-afab-a5333c5008e3",
   "metadata": {},
   "outputs": [
    {
     "name": "stderr",
     "output_type": "stream",
     "text": [
      "  0%|                                                    | 0/14 [00:00<?, ?it/s]libpng warning: Invalid image width in IHDR\n",
      "libpng warning: Image width exceeds user limit in IHDR\n",
      "libpng warning: Invalid image height in IHDR\n",
      "libpng warning: Image height exceeds user limit in IHDR\n",
      "libpng error: Invalid IHDR data\n",
      "libpng warning: Invalid image width in IHDR\n",
      "libpng warning: Image width exceeds user limit in IHDR\n",
      "libpng warning: Invalid image height in IHDR\n",
      "libpng warning: Image height exceeds user limit in IHDR\n",
      "libpng error: Invalid IHDR data\n",
      "100%|███████████████████████████████████████████| 14/14 [09:36<00:00, 41.15s/it]"
     ]
    },
    {
     "name": "stdout",
     "output_type": "stream",
     "text": [
      "Test loss: 0.117\n"
     ]
    },
    {
     "name": "stderr",
     "output_type": "stream",
     "text": [
      "\n"
     ]
    }
   ],
   "source": [
    "preds = []\n",
    "labels_list = []\n",
    "losses = 0\n",
    "for i, data in tqdm(enumerate(dataloader_test), total = len(dataloader_test)):\n",
    "    inputs, labels, inputs_eye_l, inputs_eye_r, inputs_mask, inputs_screen = data['image'], data['coordinates'], \\\n",
    "                                                     data['eye_l'], data['eye_r'], data['face_mask'], data['screen_features']\n",
    "    with torch.no_grad():\n",
    "        outputs = model(inputs, inputs_eye_l, inputs_eye_r, inputs_mask, inputs_screen)\n",
    "    loss = criterion(outputs, labels)\n",
    "    losses += loss.detach().cpu().item()\n",
    "    pred = outputs.cpu().numpy()\n",
    "    preds.append(pred)\n",
    "    labels_list.append(labels.cpu().numpy())\n",
    "\n",
    "print(f\"Test loss: {round(losses / (i + 1), 3)}\")"
   ]
  },
  {
   "cell_type": "code",
   "execution_count": 30,
   "id": "5b7cd1bc-be2b-4a22-9c8d-16cf42948bbb",
   "metadata": {},
   "outputs": [
    {
     "name": "stdout",
     "output_type": "stream",
     "text": [
      "Test loss: 0.117\n"
     ]
    }
   ],
   "source": [
    "print(f\"Test loss: {round(losses / (i + 1), 3)}\")"
   ]
  },
  {
   "cell_type": "code",
   "execution_count": 31,
   "id": "406cdd0c-6fe4-4889-8a80-cde146c2a968",
   "metadata": {},
   "outputs": [],
   "source": [
    "preds = np.vstack(preds)\n",
    "labels = np.vstack(labels_list)"
   ]
  },
  {
   "cell_type": "code",
   "execution_count": 32,
   "id": "21953511-bd76-4802-a144-d9eeb7aec893",
   "metadata": {},
   "outputs": [
    {
     "name": "stdout",
     "output_type": "stream",
     "text": [
      "Test MAPE: 0.45024290680885315\n"
     ]
    }
   ],
   "source": [
    "mape_value = mape(labels, preds)\n",
    "print(f\"Test MAPE: {mape_value}\")"
   ]
  },
  {
   "cell_type": "code",
   "execution_count": 33,
   "id": "969d7656-38be-41da-b4ab-8a653ed40b70",
   "metadata": {},
   "outputs": [],
   "source": [
    "test_df_copy = test_df.copy()"
   ]
  },
  {
   "cell_type": "code",
   "execution_count": 34,
   "id": "2764dda9-f366-4a8f-a102-1ccc723dba0e",
   "metadata": {},
   "outputs": [],
   "source": [
    "test_df_copy[\"pred_x\"] = preds.T[0]\n",
    "test_df_copy[\"pred_y\"] = preds.T[1]"
   ]
  },
  {
   "cell_type": "code",
   "execution_count": 35,
   "id": "5871508a-1b03-4b1d-a90d-1e26aec4ae99",
   "metadata": {
    "scrolled": true
   },
   "outputs": [
    {
     "data": {
      "text/html": [
       "<div>\n",
       "<style scoped>\n",
       "    .dataframe tbody tr th:only-of-type {\n",
       "        vertical-align: middle;\n",
       "    }\n",
       "\n",
       "    .dataframe tbody tr th {\n",
       "        vertical-align: top;\n",
       "    }\n",
       "\n",
       "    .dataframe thead th {\n",
       "        text-align: right;\n",
       "    }\n",
       "</style>\n",
       "<table border=\"1\" class=\"dataframe\">\n",
       "  <thead>\n",
       "    <tr style=\"text-align: right;\">\n",
       "      <th></th>\n",
       "      <th>x_normalized</th>\n",
       "      <th>y_normalized</th>\n",
       "      <th>pred_x</th>\n",
       "      <th>pred_y</th>\n",
       "    </tr>\n",
       "  </thead>\n",
       "  <tbody>\n",
       "    <tr>\n",
       "      <th>13960</th>\n",
       "      <td>0.289531</td>\n",
       "      <td>0.447940</td>\n",
       "      <td>0.315406</td>\n",
       "      <td>0.444950</td>\n",
       "    </tr>\n",
       "    <tr>\n",
       "      <th>13961</th>\n",
       "      <td>0.186415</td>\n",
       "      <td>0.411102</td>\n",
       "      <td>0.351822</td>\n",
       "      <td>0.669539</td>\n",
       "    </tr>\n",
       "    <tr>\n",
       "      <th>13962</th>\n",
       "      <td>0.366938</td>\n",
       "      <td>0.551427</td>\n",
       "      <td>0.399667</td>\n",
       "      <td>0.605237</td>\n",
       "    </tr>\n",
       "    <tr>\n",
       "      <th>13963</th>\n",
       "      <td>0.769112</td>\n",
       "      <td>0.503062</td>\n",
       "      <td>0.584475</td>\n",
       "      <td>0.391746</td>\n",
       "    </tr>\n",
       "    <tr>\n",
       "      <th>13964</th>\n",
       "      <td>0.374805</td>\n",
       "      <td>0.733435</td>\n",
       "      <td>0.535983</td>\n",
       "      <td>0.727726</td>\n",
       "    </tr>\n",
       "    <tr>\n",
       "      <th>13965</th>\n",
       "      <td>0.590999</td>\n",
       "      <td>0.256828</td>\n",
       "      <td>0.530169</td>\n",
       "      <td>0.593757</td>\n",
       "    </tr>\n",
       "    <tr>\n",
       "      <th>13966</th>\n",
       "      <td>0.472062</td>\n",
       "      <td>0.809387</td>\n",
       "      <td>0.398535</td>\n",
       "      <td>0.687643</td>\n",
       "    </tr>\n",
       "    <tr>\n",
       "      <th>13967</th>\n",
       "      <td>0.270549</td>\n",
       "      <td>0.556352</td>\n",
       "      <td>0.232675</td>\n",
       "      <td>0.466458</td>\n",
       "    </tr>\n",
       "    <tr>\n",
       "      <th>13968</th>\n",
       "      <td>0.473201</td>\n",
       "      <td>0.522423</td>\n",
       "      <td>0.386055</td>\n",
       "      <td>0.535691</td>\n",
       "    </tr>\n",
       "    <tr>\n",
       "      <th>13969</th>\n",
       "      <td>0.138919</td>\n",
       "      <td>0.538875</td>\n",
       "      <td>0.195119</td>\n",
       "      <td>0.569630</td>\n",
       "    </tr>\n",
       "    <tr>\n",
       "      <th>13970</th>\n",
       "      <td>0.248975</td>\n",
       "      <td>0.539008</td>\n",
       "      <td>0.260769</td>\n",
       "      <td>0.500104</td>\n",
       "    </tr>\n",
       "    <tr>\n",
       "      <th>13971</th>\n",
       "      <td>0.287133</td>\n",
       "      <td>0.638419</td>\n",
       "      <td>0.262231</td>\n",
       "      <td>0.596611</td>\n",
       "    </tr>\n",
       "    <tr>\n",
       "      <th>13972</th>\n",
       "      <td>0.167308</td>\n",
       "      <td>0.469754</td>\n",
       "      <td>0.474630</td>\n",
       "      <td>0.501609</td>\n",
       "    </tr>\n",
       "    <tr>\n",
       "      <th>13973</th>\n",
       "      <td>0.362611</td>\n",
       "      <td>0.581517</td>\n",
       "      <td>0.206508</td>\n",
       "      <td>0.500230</td>\n",
       "    </tr>\n",
       "    <tr>\n",
       "      <th>13974</th>\n",
       "      <td>0.848744</td>\n",
       "      <td>0.537907</td>\n",
       "      <td>0.756697</td>\n",
       "      <td>0.491332</td>\n",
       "    </tr>\n",
       "    <tr>\n",
       "      <th>13975</th>\n",
       "      <td>0.377316</td>\n",
       "      <td>0.468724</td>\n",
       "      <td>0.537728</td>\n",
       "      <td>0.543797</td>\n",
       "    </tr>\n",
       "    <tr>\n",
       "      <th>13976</th>\n",
       "      <td>0.172134</td>\n",
       "      <td>0.649239</td>\n",
       "      <td>0.187611</td>\n",
       "      <td>0.411413</td>\n",
       "    </tr>\n",
       "    <tr>\n",
       "      <th>13977</th>\n",
       "      <td>0.388974</td>\n",
       "      <td>0.669301</td>\n",
       "      <td>0.451173</td>\n",
       "      <td>0.530568</td>\n",
       "    </tr>\n",
       "    <tr>\n",
       "      <th>13978</th>\n",
       "      <td>0.390994</td>\n",
       "      <td>0.517046</td>\n",
       "      <td>0.366952</td>\n",
       "      <td>0.564603</td>\n",
       "    </tr>\n",
       "    <tr>\n",
       "      <th>13979</th>\n",
       "      <td>0.341765</td>\n",
       "      <td>0.542327</td>\n",
       "      <td>0.231217</td>\n",
       "      <td>0.499918</td>\n",
       "    </tr>\n",
       "    <tr>\n",
       "      <th>13980</th>\n",
       "      <td>0.466374</td>\n",
       "      <td>0.234942</td>\n",
       "      <td>0.421559</td>\n",
       "      <td>0.726627</td>\n",
       "    </tr>\n",
       "    <tr>\n",
       "      <th>13981</th>\n",
       "      <td>0.979588</td>\n",
       "      <td>0.529807</td>\n",
       "      <td>0.818391</td>\n",
       "      <td>0.454388</td>\n",
       "    </tr>\n",
       "    <tr>\n",
       "      <th>13982</th>\n",
       "      <td>0.318994</td>\n",
       "      <td>0.450195</td>\n",
       "      <td>0.325234</td>\n",
       "      <td>0.575415</td>\n",
       "    </tr>\n",
       "    <tr>\n",
       "      <th>13983</th>\n",
       "      <td>0.956371</td>\n",
       "      <td>0.818376</td>\n",
       "      <td>0.653235</td>\n",
       "      <td>0.776297</td>\n",
       "    </tr>\n",
       "    <tr>\n",
       "      <th>13984</th>\n",
       "      <td>0.235824</td>\n",
       "      <td>0.687978</td>\n",
       "      <td>0.263649</td>\n",
       "      <td>0.629585</td>\n",
       "    </tr>\n",
       "    <tr>\n",
       "      <th>13985</th>\n",
       "      <td>0.125129</td>\n",
       "      <td>0.544112</td>\n",
       "      <td>0.167874</td>\n",
       "      <td>0.615800</td>\n",
       "    </tr>\n",
       "    <tr>\n",
       "      <th>13986</th>\n",
       "      <td>0.113618</td>\n",
       "      <td>0.461316</td>\n",
       "      <td>0.278205</td>\n",
       "      <td>0.553786</td>\n",
       "    </tr>\n",
       "    <tr>\n",
       "      <th>13987</th>\n",
       "      <td>0.719174</td>\n",
       "      <td>0.547844</td>\n",
       "      <td>0.679842</td>\n",
       "      <td>0.561191</td>\n",
       "    </tr>\n",
       "    <tr>\n",
       "      <th>13988</th>\n",
       "      <td>0.292063</td>\n",
       "      <td>0.402310</td>\n",
       "      <td>0.235873</td>\n",
       "      <td>0.492024</td>\n",
       "    </tr>\n",
       "    <tr>\n",
       "      <th>13989</th>\n",
       "      <td>0.455886</td>\n",
       "      <td>0.563919</td>\n",
       "      <td>0.511581</td>\n",
       "      <td>0.601104</td>\n",
       "    </tr>\n",
       "    <tr>\n",
       "      <th>13990</th>\n",
       "      <td>0.620103</td>\n",
       "      <td>0.452848</td>\n",
       "      <td>0.549816</td>\n",
       "      <td>0.509309</td>\n",
       "    </tr>\n",
       "    <tr>\n",
       "      <th>13991</th>\n",
       "      <td>0.542559</td>\n",
       "      <td>0.569658</td>\n",
       "      <td>0.381114</td>\n",
       "      <td>0.557954</td>\n",
       "    </tr>\n",
       "    <tr>\n",
       "      <th>13992</th>\n",
       "      <td>0.482409</td>\n",
       "      <td>0.842667</td>\n",
       "      <td>0.397679</td>\n",
       "      <td>0.852626</td>\n",
       "    </tr>\n",
       "    <tr>\n",
       "      <th>13993</th>\n",
       "      <td>0.234325</td>\n",
       "      <td>0.522695</td>\n",
       "      <td>0.232758</td>\n",
       "      <td>0.472093</td>\n",
       "    </tr>\n",
       "    <tr>\n",
       "      <th>13994</th>\n",
       "      <td>0.389370</td>\n",
       "      <td>0.879089</td>\n",
       "      <td>0.245165</td>\n",
       "      <td>0.555276</td>\n",
       "    </tr>\n",
       "    <tr>\n",
       "      <th>13995</th>\n",
       "      <td>0.501120</td>\n",
       "      <td>0.496880</td>\n",
       "      <td>0.503955</td>\n",
       "      <td>0.664730</td>\n",
       "    </tr>\n",
       "    <tr>\n",
       "      <th>13996</th>\n",
       "      <td>0.213703</td>\n",
       "      <td>0.559497</td>\n",
       "      <td>0.265791</td>\n",
       "      <td>0.518283</td>\n",
       "    </tr>\n",
       "    <tr>\n",
       "      <th>13997</th>\n",
       "      <td>0.314716</td>\n",
       "      <td>0.605750</td>\n",
       "      <td>0.312688</td>\n",
       "      <td>0.509686</td>\n",
       "    </tr>\n",
       "    <tr>\n",
       "      <th>13998</th>\n",
       "      <td>0.359148</td>\n",
       "      <td>0.529073</td>\n",
       "      <td>0.383948</td>\n",
       "      <td>0.442252</td>\n",
       "    </tr>\n",
       "    <tr>\n",
       "      <th>13999</th>\n",
       "      <td>0.487183</td>\n",
       "      <td>0.565791</td>\n",
       "      <td>0.438648</td>\n",
       "      <td>0.504749</td>\n",
       "    </tr>\n",
       "  </tbody>\n",
       "</table>\n",
       "</div>"
      ],
      "text/plain": [
       "       x_normalized  y_normalized    pred_x    pred_y\n",
       "13960      0.289531      0.447940  0.315406  0.444950\n",
       "13961      0.186415      0.411102  0.351822  0.669539\n",
       "13962      0.366938      0.551427  0.399667  0.605237\n",
       "13963      0.769112      0.503062  0.584475  0.391746\n",
       "13964      0.374805      0.733435  0.535983  0.727726\n",
       "13965      0.590999      0.256828  0.530169  0.593757\n",
       "13966      0.472062      0.809387  0.398535  0.687643\n",
       "13967      0.270549      0.556352  0.232675  0.466458\n",
       "13968      0.473201      0.522423  0.386055  0.535691\n",
       "13969      0.138919      0.538875  0.195119  0.569630\n",
       "13970      0.248975      0.539008  0.260769  0.500104\n",
       "13971      0.287133      0.638419  0.262231  0.596611\n",
       "13972      0.167308      0.469754  0.474630  0.501609\n",
       "13973      0.362611      0.581517  0.206508  0.500230\n",
       "13974      0.848744      0.537907  0.756697  0.491332\n",
       "13975      0.377316      0.468724  0.537728  0.543797\n",
       "13976      0.172134      0.649239  0.187611  0.411413\n",
       "13977      0.388974      0.669301  0.451173  0.530568\n",
       "13978      0.390994      0.517046  0.366952  0.564603\n",
       "13979      0.341765      0.542327  0.231217  0.499918\n",
       "13980      0.466374      0.234942  0.421559  0.726627\n",
       "13981      0.979588      0.529807  0.818391  0.454388\n",
       "13982      0.318994      0.450195  0.325234  0.575415\n",
       "13983      0.956371      0.818376  0.653235  0.776297\n",
       "13984      0.235824      0.687978  0.263649  0.629585\n",
       "13985      0.125129      0.544112  0.167874  0.615800\n",
       "13986      0.113618      0.461316  0.278205  0.553786\n",
       "13987      0.719174      0.547844  0.679842  0.561191\n",
       "13988      0.292063      0.402310  0.235873  0.492024\n",
       "13989      0.455886      0.563919  0.511581  0.601104\n",
       "13990      0.620103      0.452848  0.549816  0.509309\n",
       "13991      0.542559      0.569658  0.381114  0.557954\n",
       "13992      0.482409      0.842667  0.397679  0.852626\n",
       "13993      0.234325      0.522695  0.232758  0.472093\n",
       "13994      0.389370      0.879089  0.245165  0.555276\n",
       "13995      0.501120      0.496880  0.503955  0.664730\n",
       "13996      0.213703      0.559497  0.265791  0.518283\n",
       "13997      0.314716      0.605750  0.312688  0.509686\n",
       "13998      0.359148      0.529073  0.383948  0.442252\n",
       "13999      0.487183      0.565791  0.438648  0.504749"
      ]
     },
     "execution_count": 35,
     "metadata": {},
     "output_type": "execute_result"
    }
   ],
   "source": [
    "test_df_copy[['x_normalized', 'y_normalized', 'pred_x', 'pred_y']].tail(40)"
   ]
  },
  {
   "cell_type": "code",
   "execution_count": 36,
   "id": "83b10fb3-e998-4e60-895f-3eaebdcb254d",
   "metadata": {},
   "outputs": [],
   "source": [
    "test_df_copy.to_csv(\"./tobii_test_updv2_mixed_face_screen_feat_balanced_pred.csv\", index = False)"
   ]
  },
  {
   "cell_type": "code",
   "execution_count": null,
   "id": "81b95d9f-8777-4dc6-b425-6c5c8961068a",
   "metadata": {},
   "outputs": [],
   "source": []
  },
  {
   "cell_type": "code",
   "execution_count": 42,
   "id": "d89e1ba4-581a-458e-b3d7-da9620d7f8c3",
   "metadata": {},
   "outputs": [
    {
     "name": "stderr",
     "output_type": "stream",
     "text": [
      "100%|█████████████████████████████████████████████| 9/9 [01:20<00:00,  8.95s/it]"
     ]
    },
    {
     "name": "stdout",
     "output_type": "stream",
     "text": [
      "Test loss: 0.175\n"
     ]
    },
    {
     "name": "stderr",
     "output_type": "stream",
     "text": [
      "\n"
     ]
    }
   ],
   "source": [
    "preds = []\n",
    "labels_list = []\n",
    "losses = 0\n",
    "for i, data in tqdm(enumerate(dataloader_val), total = len(dataloader_val)):\n",
    "    inputs, labels = data['image'], data['coordinates']\n",
    "    with torch.no_grad():\n",
    "        outputs = model(inputs)\n",
    "    loss = criterion(outputs, labels)\n",
    "    losses += loss.detach().cpu().item()\n",
    "    pred = outputs.cpu().numpy()\n",
    "    preds.append(pred)\n",
    "    labels_list.append(labels.cpu().numpy())\n",
    "\n",
    "print(f\"Test loss: {round(losses / (i + 1), 3)}\")"
   ]
  },
  {
   "cell_type": "code",
   "execution_count": 122,
   "id": "1c65e055-a897-4bdf-8509-afe3d97feae0",
   "metadata": {},
   "outputs": [
    {
     "ename": "NameError",
     "evalue": "name 'losses' is not defined",
     "output_type": "error",
     "traceback": [
      "\u001b[0;31m---------------------------------------------------------------------------\u001b[0m",
      "\u001b[0;31mNameError\u001b[0m                                 Traceback (most recent call last)",
      "Cell \u001b[0;32mIn[122], line 1\u001b[0m\n\u001b[0;32m----> 1\u001b[0m \u001b[38;5;28mprint\u001b[39m(\u001b[38;5;124mf\u001b[39m\u001b[38;5;124m\"\u001b[39m\u001b[38;5;124mVal loss: \u001b[39m\u001b[38;5;132;01m{\u001b[39;00m\u001b[38;5;28mround\u001b[39m(\u001b[43mlosses\u001b[49m\u001b[38;5;250m \u001b[39m\u001b[38;5;241m/\u001b[39m\u001b[38;5;250m \u001b[39m(i\u001b[38;5;250m \u001b[39m\u001b[38;5;241m+\u001b[39m\u001b[38;5;250m \u001b[39m\u001b[38;5;241m1\u001b[39m),\u001b[38;5;250m \u001b[39m\u001b[38;5;241m3\u001b[39m)\u001b[38;5;132;01m}\u001b[39;00m\u001b[38;5;124m\"\u001b[39m)\n",
      "\u001b[0;31mNameError\u001b[0m: name 'losses' is not defined"
     ]
    }
   ],
   "source": [
    "print(f\"Val loss: {round(losses / (i + 1), 3)}\")"
   ]
  },
  {
   "cell_type": "code",
   "execution_count": 44,
   "id": "8415d8b0-5101-451b-8fcf-9f6fe0b4fa19",
   "metadata": {},
   "outputs": [],
   "source": [
    "preds = np.vstack(preds)\n",
    "labels = np.vstack(labels_list)"
   ]
  },
  {
   "cell_type": "code",
   "execution_count": 45,
   "id": "947adf27-0759-460d-a3bc-21742660c552",
   "metadata": {},
   "outputs": [
    {
     "name": "stdout",
     "output_type": "stream",
     "text": [
      "Val MAPE: 0.4815107583999634\n"
     ]
    }
   ],
   "source": [
    "mape_value = mape(labels, preds)\n",
    "print(f\"Val MAPE: {mape_value}\")"
   ]
  },
  {
   "cell_type": "code",
   "execution_count": 50,
   "id": "98a18f8c-e203-4999-a2d3-0570243eba34",
   "metadata": {},
   "outputs": [
    {
     "name": "stdout",
     "output_type": "stream",
     "text": [
      "Val RMSE: 0.030162379145622253\n"
     ]
    }
   ],
   "source": [
    "rmse_value = mse(labels, preds, squared=True)\n",
    "print(f\"Val RMSE: {rmse_value}\")"
   ]
  },
  {
   "cell_type": "code",
   "execution_count": 46,
   "id": "cad58d02-1601-44d5-b38c-a737e211da83",
   "metadata": {},
   "outputs": [],
   "source": [
    "val_df_copy = val_df.copy()"
   ]
  },
  {
   "cell_type": "code",
   "execution_count": 47,
   "id": "bf303eee-f289-4f2f-b031-6d948df94d64",
   "metadata": {},
   "outputs": [],
   "source": [
    "val_df_copy[\"pred_x\"] = preds.T[0]\n",
    "val_df_copy[\"pred_y\"] = preds.T[1]"
   ]
  },
  {
   "cell_type": "code",
   "execution_count": 54,
   "id": "4e2c8f16-495c-4028-bee7-4d5388893df5",
   "metadata": {},
   "outputs": [],
   "source": [
    "test1 = val_df_copy[(val_df_copy[\"x_normalized\"] < 1.2) & (val_df_copy[\"y_normalized\"] < 1.1)]\n",
    "condition = ((test1[\"x_normalized\"] > 0.6) & (test1[\"pred_x\"] < 0.4)) | \\\n",
    "            ((test1[\"x_normalized\"] < 0.4) & (test1[\"pred_x\"] > 0.6))\n",
    "test2 = test1[~condition]"
   ]
  },
  {
   "cell_type": "code",
   "execution_count": 55,
   "id": "28d2aadd-ea42-4b38-bcfe-f6a290851260",
   "metadata": {},
   "outputs": [],
   "source": [
    "preds = test2[[\"pred_x\", \"pred_y\"]].values\n",
    "labels = test2[[\"x_normalized\", \"y_normalized\"]].values"
   ]
  },
  {
   "cell_type": "code",
   "execution_count": 56,
   "id": "702260aa-4adb-43d0-bc9a-54b2a20313a5",
   "metadata": {},
   "outputs": [
    {
     "name": "stdout",
     "output_type": "stream",
     "text": [
      "Test MAPE: 0.8610942596087398\n"
     ]
    }
   ],
   "source": [
    "mape_value = mape(labels, preds)\n",
    "print(f\"Test MAPE: {mape_value}\")"
   ]
  },
  {
   "cell_type": "code",
   "execution_count": 57,
   "id": "8694c4f8-43bd-42cd-96c8-e4399eb967b4",
   "metadata": {},
   "outputs": [
    {
     "name": "stdout",
     "output_type": "stream",
     "text": [
      "Test RMSE: 0.047016402471560886\n"
     ]
    }
   ],
   "source": [
    "rmse_value = mse(labels, preds, squared=True)\n",
    "print(f\"Test RMSE: {rmse_value}\")"
   ]
  },
  {
   "cell_type": "code",
   "execution_count": 58,
   "id": "384ae482-6134-41e5-9cad-5a354a835527",
   "metadata": {},
   "outputs": [],
   "source": [
    "test2.drop(columns = [\"pred_x\", \"pred_y\"]).to_csv(\"./tobii_val_sub_updv2.csv\", index = False)"
   ]
  },
  {
   "cell_type": "code",
   "execution_count": null,
   "id": "5867bcae-a6ac-4d9a-9e22-a2433ccbfd4e",
   "metadata": {},
   "outputs": [],
   "source": []
  },
  {
   "cell_type": "code",
   "execution_count": 59,
   "id": "d7f7d01c-bd32-4993-952f-02d88ad31b25",
   "metadata": {},
   "outputs": [
    {
     "name": "stderr",
     "output_type": "stream",
     "text": [
      "100%|███████████████████████████████████████████| 75/75 [12:09<00:00,  9.73s/it]"
     ]
    },
    {
     "name": "stdout",
     "output_type": "stream",
     "text": [
      "Test loss: 0.166\n"
     ]
    },
    {
     "name": "stderr",
     "output_type": "stream",
     "text": [
      "\n"
     ]
    }
   ],
   "source": [
    "preds = []\n",
    "labels_list = []\n",
    "losses = 0\n",
    "for i, data in tqdm(enumerate(dataloader_train), total = len(dataloader_train)):\n",
    "    inputs, labels = data['image'], data['coordinates']\n",
    "    with torch.no_grad():\n",
    "        outputs = model(inputs)\n",
    "    loss = criterion(outputs, labels)\n",
    "    losses += loss.detach().cpu().item()\n",
    "    pred = outputs.cpu().numpy()\n",
    "    preds.append(pred)\n",
    "    labels_list.append(labels.cpu().numpy())\n",
    "\n",
    "print(f\"Test loss: {round(losses / (i + 1), 3)}\")"
   ]
  },
  {
   "cell_type": "code",
   "execution_count": 121,
   "id": "f35d20a2-acbb-44ab-8945-e9e3890233ce",
   "metadata": {},
   "outputs": [
    {
     "ename": "NameError",
     "evalue": "name 'losses' is not defined",
     "output_type": "error",
     "traceback": [
      "\u001b[0;31m---------------------------------------------------------------------------\u001b[0m",
      "\u001b[0;31mNameError\u001b[0m                                 Traceback (most recent call last)",
      "Cell \u001b[0;32mIn[121], line 1\u001b[0m\n\u001b[0;32m----> 1\u001b[0m \u001b[38;5;28mprint\u001b[39m(\u001b[38;5;124mf\u001b[39m\u001b[38;5;124m\"\u001b[39m\u001b[38;5;124mVal loss: \u001b[39m\u001b[38;5;132;01m{\u001b[39;00m\u001b[38;5;28mround\u001b[39m(\u001b[43mlosses\u001b[49m\u001b[38;5;250m \u001b[39m\u001b[38;5;241m/\u001b[39m\u001b[38;5;250m \u001b[39m(i\u001b[38;5;250m \u001b[39m\u001b[38;5;241m+\u001b[39m\u001b[38;5;250m \u001b[39m\u001b[38;5;241m1\u001b[39m),\u001b[38;5;250m \u001b[39m\u001b[38;5;241m3\u001b[39m)\u001b[38;5;132;01m}\u001b[39;00m\u001b[38;5;124m\"\u001b[39m)\n",
      "\u001b[0;31mNameError\u001b[0m: name 'losses' is not defined"
     ]
    }
   ],
   "source": [
    "print(f\"Val loss: {round(losses / (i + 1), 3)}\")"
   ]
  },
  {
   "cell_type": "code",
   "execution_count": 61,
   "id": "4cbe13a7-7e5a-4ab8-a6f4-c36581b26cda",
   "metadata": {},
   "outputs": [],
   "source": [
    "preds = np.vstack(preds)\n",
    "labels = np.vstack(labels_list)"
   ]
  },
  {
   "cell_type": "code",
   "execution_count": 62,
   "id": "76b48445-ce23-43bd-8eac-e025bc0c381e",
   "metadata": {},
   "outputs": [
    {
     "name": "stdout",
     "output_type": "stream",
     "text": [
      "Val MAPE: 0.4815669059753418\n"
     ]
    }
   ],
   "source": [
    "mape_value = mape(labels, preds)\n",
    "print(f\"Val MAPE: {mape_value}\")"
   ]
  },
  {
   "cell_type": "code",
   "execution_count": 63,
   "id": "48f0f5c9-5ea7-4049-863c-997fb78228c1",
   "metadata": {},
   "outputs": [
    {
     "name": "stdout",
     "output_type": "stream",
     "text": [
      "Val RMSE: 0.02777956984937191\n"
     ]
    }
   ],
   "source": [
    "rmse_value = mse(labels, preds, squared=True)\n",
    "print(f\"Val RMSE: {rmse_value}\")"
   ]
  },
  {
   "cell_type": "code",
   "execution_count": 64,
   "id": "1580f8e2-4009-4910-96b3-9e383a8ded28",
   "metadata": {},
   "outputs": [],
   "source": [
    "train_df_copy = train_df.copy()"
   ]
  },
  {
   "cell_type": "code",
   "execution_count": 65,
   "id": "0389e0b1-bc2f-44c7-8337-6a89a516ec08",
   "metadata": {},
   "outputs": [],
   "source": [
    "train_df_copy[\"pred_x\"] = preds.T[0]\n",
    "train_df_copy[\"pred_y\"] = preds.T[1]"
   ]
  },
  {
   "cell_type": "code",
   "execution_count": 66,
   "id": "896eaeeb-9c39-4d5a-b04f-b3869f248af8",
   "metadata": {},
   "outputs": [],
   "source": [
    "test1 = train_df_copy[(train_df_copy[\"x_normalized\"] < 1.2) & (train_df_copy[\"y_normalized\"] < 1.1)]\n",
    "condition = ((test1[\"x_normalized\"] > 0.6) & (test1[\"pred_x\"] < 0.4)) | \\\n",
    "            ((test1[\"x_normalized\"] < 0.4) & (test1[\"pred_x\"] > 0.6))\n",
    "test2 = test1[~condition]"
   ]
  },
  {
   "cell_type": "code",
   "execution_count": 67,
   "id": "9f60894c-1eaf-4ec7-8edf-4fac5ba1bab5",
   "metadata": {},
   "outputs": [],
   "source": [
    "preds = test2[[\"pred_x\", \"pred_y\"]].values\n",
    "labels = test2[[\"x_normalized\", \"y_normalized\"]].values"
   ]
  },
  {
   "cell_type": "code",
   "execution_count": 68,
   "id": "6a242aae-8133-4702-8d4f-a99ba95f67cb",
   "metadata": {},
   "outputs": [
    {
     "name": "stdout",
     "output_type": "stream",
     "text": [
      "Test MAPE: 0.8352110407623952\n"
     ]
    }
   ],
   "source": [
    "mape_value = mape(labels, preds)\n",
    "print(f\"Test MAPE: {mape_value}\")"
   ]
  },
  {
   "cell_type": "code",
   "execution_count": 69,
   "id": "09536ae9-8de4-4bf0-ae35-7dd44ac4aaec",
   "metadata": {},
   "outputs": [
    {
     "name": "stdout",
     "output_type": "stream",
     "text": [
      "Test RMSE: 0.0466036837919723\n"
     ]
    }
   ],
   "source": [
    "rmse_value = mse(labels, preds, squared=True)\n",
    "print(f\"Test RMSE: {rmse_value}\")"
   ]
  },
  {
   "cell_type": "code",
   "execution_count": 70,
   "id": "58f235fa-ce76-4cfe-87db-6b05f5943d96",
   "metadata": {},
   "outputs": [],
   "source": [
    "test2.drop(columns = [\"pred_x\", \"pred_y\"]).to_csv(\"./tobii_train_sub_updv2.csv\", index = False)"
   ]
  },
  {
   "cell_type": "code",
   "execution_count": null,
   "id": "d63eb35d-90ed-4f54-a4e6-f51b2c477408",
   "metadata": {},
   "outputs": [],
   "source": []
  }
 ],
 "metadata": {
  "kernelspec": {
   "display_name": "envGeneral",
   "language": "python",
   "name": "envgeneral"
  },
  "language_info": {
   "codemirror_mode": {
    "name": "ipython",
    "version": 3
   },
   "file_extension": ".py",
   "mimetype": "text/x-python",
   "name": "python",
   "nbconvert_exporter": "python",
   "pygments_lexer": "ipython3",
   "version": "3.10.10"
  }
 },
 "nbformat": 4,
 "nbformat_minor": 5
}
