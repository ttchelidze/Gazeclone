{
 "cells": [
  {
   "cell_type": "code",
   "execution_count": 120,
   "id": "41f33541-d23d-4b59-9a54-77afd6b864a6",
   "metadata": {},
   "outputs": [],
   "source": [
    "import numpy as np\n",
    "import torch\n",
    "import os\n",
    "import torch.nn as nn\n",
    "import torch.nn.functional as F\n",
    "import matplotlib.pyplot as plt\n",
    "import pandas as pd\n",
    "import cv2\n",
    "import albumentations as A\n",
    "from albumentations.pytorch import ToTensorV2\n",
    "from torch.utils.data import Dataset, DataLoader\n",
    "from warnings import filterwarnings\n",
    "import torch.optim as optim\n",
    "from torch.optim.lr_scheduler import ReduceLROnPlateau\n",
    "from sklearn.metrics import mean_absolute_percentage_error as mape\n",
    "from tqdm import tqdm\n",
    "\n",
    "from facemesh import FaceMeshBlock\n",
    "from pupil_detection import IrisLM, IrisBlock\n",
    "from utils import pad_image\n",
    "\n",
    "filterwarnings('ignore')\n",
    "tqdm.pandas()"
   ]
  },
  {
   "cell_type": "code",
   "execution_count": 10,
   "id": "6dee5e77-74e9-4661-99a5-c0533783806e",
   "metadata": {},
   "outputs": [],
   "source": [
    "class FaceMesh(nn.Module):\n",
    "    \"\"\"The FaceMesh face landmark model from MediaPipe.\n",
    "\n",
    "    Because we won't be training this model, it doesn't need to have\n",
    "    batchnorm layers. These have already been \"folded\" into the conv \n",
    "    weights by TFLite.\n",
    "\n",
    "    The conversion to PyTorch is fairly straightforward, but there are \n",
    "    some small differences between TFLite and PyTorch in how they handle\n",
    "    padding on conv layers with stride 2.\n",
    "\n",
    "    This version works on batches, while the MediaPipe version can only\n",
    "    handle a single image at a time.\n",
    "    \"\"\"\n",
    "    def __init__(self):\n",
    "        super(FaceMesh, self).__init__()\n",
    "\n",
    "        self.num_coords = 468\n",
    "        self.x_scale = 192.0\n",
    "        self.y_scale = 192.0\n",
    "        self.min_score_thresh = 0.75\n",
    "\n",
    "        self._define_layers()\n",
    "\n",
    "    def _define_layers(self):\n",
    "        self.backbone = nn.Sequential(\n",
    "            nn.Conv2d(in_channels=3, out_channels=16, kernel_size=3, stride=2, padding=0, bias=True),\n",
    "            nn.PReLU(16),\n",
    "\n",
    "            FaceMeshBlock(16, 16),\n",
    "            FaceMeshBlock(16, 16),\n",
    "            FaceMeshBlock(16, 32, stride=2),\n",
    "            FaceMeshBlock(32, 32),\n",
    "            FaceMeshBlock(32, 32),\n",
    "            FaceMeshBlock(32, 64, stride=2),\n",
    "            FaceMeshBlock(64, 64),\n",
    "            FaceMeshBlock(64, 64),\n",
    "            FaceMeshBlock(64, 128, stride=2),\n",
    "            FaceMeshBlock(128, 128),\n",
    "            FaceMeshBlock(128, 128),\n",
    "            FaceMeshBlock(128, 128, stride=2),\n",
    "            FaceMeshBlock(128, 128),\n",
    "            FaceMeshBlock(128, 128),\n",
    "        )\n",
    "        \n",
    "        self.coord_head = nn.Sequential(\n",
    "            FaceMeshBlock(128, 128, stride=2),\n",
    "            FaceMeshBlock(128, 128),\n",
    "            FaceMeshBlock(128, 128),\n",
    "            nn.Conv2d(128, 32, 1),\n",
    "            nn.PReLU(32),\n",
    "            FaceMeshBlock(32, 32),\n",
    "            nn.Conv2d(32, 1404, 3)\n",
    "        )\n",
    "        \n",
    "        self.conf_head = nn.Sequential(\n",
    "            FaceMeshBlock(128, 128, stride=2),\n",
    "            nn.Conv2d(128, 32, 1),\n",
    "            nn.PReLU(32),\n",
    "            FaceMeshBlock(32, 32),\n",
    "            nn.Conv2d(32, 1, 3)\n",
    "        )\n",
    "        # self.regression_head = nn.Sequential(\n",
    "        #     FaceMeshBlock(128, 128, stride=2),\n",
    "        #     FaceMeshBlock(128, 128),\n",
    "        #     FaceMeshBlock(128, 128),\n",
    "        #     nn.Conv2d(128, 32, 1),\n",
    "        #     nn.PReLU(32),\n",
    "        #     FaceMeshBlock(32, 32),\n",
    "        # )\n",
    "        # self.fc = nn.Linear(32 * 3 * 3, 2)\n",
    "        \n",
    "    def forward(self, x):\n",
    "        # TFLite uses slightly different padding on the first conv layer\n",
    "        # than PyTorch, so do it manually.\n",
    "        x = nn.ReflectionPad2d((1, 0, 1, 0))(x)\n",
    "        b = x.shape[0]      # batch size, needed for reshaping later\n",
    "\n",
    "        x = self.backbone(x)            # (b, 128, 6, 6)\n",
    "        \n",
    "        c = self.conf_head(x)           # (b, 1, 1, 1)\n",
    "        c = c.view(b, -1)               # (b, 1)\n",
    "        \n",
    "        r = self.coord_head(x)          # (b, 1404, 1, 1)\n",
    "        r = r.reshape(b, -1)            # (b, 1404)\n",
    "\n",
    "        # pred = self.regression_head(x)\n",
    "        # pred = pred.view(-1, 32 * 3 * 3)\n",
    "        # pred = self.fc(pred)\n",
    "        # return pred\n",
    "        return [r, c]\n",
    "\n",
    "    def _device(self):\n",
    "        \"\"\"Which device (CPU or GPU) is being used by this model?\"\"\"\n",
    "        return self.conf_head[1].weight.device\n",
    "    \n",
    "    def load_weights(self, path):\n",
    "        self.load_state_dict(torch.load(path))\n",
    "        self.eval()        \n",
    "    \n",
    "    def preprocess(self, x):\n",
    "        \"\"\"Converts the image pixels to the range [-1, 1].\"\"\"\n",
    "        return x.float() / 127.5 - 1.0\n",
    "\n",
    "    def predict_on_image(self, img):\n",
    "        \"\"\"Makes a prediction on a single image.\n",
    "\n",
    "        Arguments:\n",
    "            img: a NumPy array of shape (H, W, 3) or a PyTorch tensor of\n",
    "                 shape (3, H, W). The image's height and width should be \n",
    "                 128 pixels.\n",
    "\n",
    "        Returns:\n",
    "            A tensor with face detections.\n",
    "        \"\"\"\n",
    "        if isinstance(img, np.ndarray):\n",
    "            img = torch.from_numpy(img).permute((2, 0, 1))\n",
    "\n",
    "        return self.predict_on_batch(img.unsqueeze(0))[0]\n",
    "\n",
    "    def predict_on_batch(self, x):\n",
    "        \"\"\"Makes a prediction on a batch of images.\n",
    "\n",
    "        Arguments:\n",
    "            x: a NumPy array of shape (b, H, W, 3) or a PyTorch tensor of\n",
    "               shape (b, 3, H, W). The height and width should be 128 pixels.\n",
    "\n",
    "        Returns:\n",
    "            A list containing a tensor of face detections for each image in \n",
    "            the batch. If no faces are found for an image, returns a tensor\n",
    "            of shape (0, 17).\n",
    "\n",
    "        Each face detection is a PyTorch tensor consisting of 17 numbers:\n",
    "            - ymin, xmin, ymax, xmax\n",
    "            - x,y-coordinates for the 6 keypoints\n",
    "            - confidence score\n",
    "        \"\"\"\n",
    "        if isinstance(x, np.ndarray):\n",
    "            x = torch.from_numpy(x).permute((0, 3, 1, 2))\n",
    "\n",
    "        assert x.shape[1] == 3\n",
    "        assert x.shape[2] == 192\n",
    "        assert x.shape[3] == 192\n",
    "\n",
    "        # 1. Preprocess the images into tensors:\n",
    "        x = x.to(self._device())\n",
    "        x = self._preprocess(x)\n",
    "\n",
    "        # 2. Run the neural network:\n",
    "        with torch.no_grad():\n",
    "            out = self.__call__(x)\n",
    "\n",
    "        # 3. Postprocess the raw predictions:\n",
    "        detections, confidences = out\n",
    "        detections[0:-1:3] *= self.x_scale\n",
    "        detections[1:-1:3] *= self.y_scale\n",
    "\n",
    "        return detections.view(-1, 3), confidences"
   ]
  },
  {
   "cell_type": "code",
   "execution_count": 11,
   "id": "4aaaf887-e382-4bce-9d67-0da61e63c66f",
   "metadata": {},
   "outputs": [
    {
     "data": {
      "text/plain": [
       "'cuda:0'"
      ]
     },
     "execution_count": 11,
     "metadata": {},
     "output_type": "execute_result"
    }
   ],
   "source": [
    "device = \"cuda:0\" if torch.cuda.is_available() else \"cpu\"\n",
    "device"
   ]
  },
  {
   "cell_type": "code",
   "execution_count": 12,
   "id": "9aa9253b-0a28-46f5-bad1-4c648f9c20ec",
   "metadata": {},
   "outputs": [
    {
     "data": {
      "text/plain": [
       "<All keys matched successfully>"
      ]
     },
     "execution_count": 12,
     "metadata": {},
     "output_type": "execute_result"
    }
   ],
   "source": [
    "pretrained_model_face = FaceMesh()\n",
    "pretrained_model_face.load_weights(\"./weights/facemesh.pth\")\n",
    "\n",
    "model_path = \"./weights/irislandmarks.pth\"\n",
    "pretrained_model_eyes = IrisLM()\n",
    "weights = torch.load(model_path)\n",
    "pretrained_model_eyes.load_state_dict(weights)"
   ]
  },
  {
   "cell_type": "code",
   "execution_count": 67,
   "id": "a4826dd2-1e36-4981-b4fc-1f0c4f8055b9",
   "metadata": {},
   "outputs": [],
   "source": [
    "class FineTuneModel(nn.Module):\n",
    "    def __init__(self, pretrained_model_face: nn.Module, pretrained_model_eyes: nn.Module):\n",
    "        super(FineTuneModel, self).__init__()\n",
    "        self.backbone_face = pretrained_model_face.backbone\n",
    "        self.backbone_eyes = pretrained_model_eyes.backbone\n",
    "        \n",
    "        self.regression_head_face = nn.Sequential(\n",
    "            FaceMeshBlock(128, 128, stride=2),\n",
    "            FaceMeshBlock(128, 128),\n",
    "            FaceMeshBlock(128, 128),\n",
    "            nn.Conv2d(128, 32, 1),\n",
    "            nn.PReLU(32),\n",
    "            FaceMeshBlock(32, 32),\n",
    "        )\n",
    "        self.regression_head_eyes = nn.Sequential(\n",
    "            IrisBlock(128, 128), IrisBlock(128, 128),\n",
    "            IrisBlock(128, 128, stride=2),\n",
    "            IrisBlock(128, 128), IrisBlock(128, 128),\n",
    "            IrisBlock(128, 128, stride=2),\n",
    "            IrisBlock(128, 128), IrisBlock(128, 128),\n",
    "        )\n",
    "        self.fc = nn.Linear(32 * 3 * 3 + 128 * 1 * 1 * 2, 2)\n",
    "\n",
    "    def _preprocess(self, x):\n",
    "        return x.to(torch.float32) * 2.0 - 1.0\n",
    "        \n",
    "    def forward(self, x_face, x_eye_l, x_eye_r):\n",
    "        x_face = self._preprocess(x_face)\n",
    "        x_face = nn.ReflectionPad2d((1, 0, 1, 0))(x_face)\n",
    "        x_face = self.backbone_face(x_face)\n",
    "        x_face = self.regression_head_face(x_face)\n",
    "        x_face = x_face.view(-1, 32 * 3 * 3)\n",
    "\n",
    "        x_eye_l = self.backbone_eyes(x_eye_l)\n",
    "        x_eye_l = self.regression_head_eyes(x_eye_l)\n",
    "        x_eye_l = x_eye_l.view(-1, 128 * 1 * 1)\n",
    "\n",
    "        x_eye_r = self.backbone_eyes(x_eye_r)\n",
    "        x_eye_r = self.regression_head_eyes(x_eye_r)\n",
    "        x_eye_r = x_eye_r.view(-1, 128 * 1 * 1)\n",
    "\n",
    "        x = torch.concat([x_face, x_eye_l, x_eye_r], axis = 1)\n",
    "        x = self.fc(x)\n",
    "        return x"
   ]
  },
  {
   "cell_type": "code",
   "execution_count": 68,
   "id": "1372b175-f163-4f06-861f-e6f903707a55",
   "metadata": {},
   "outputs": [],
   "source": [
    "model = FineTuneModel(pretrained_model_face,pretrained_model_eyes).to(device)"
   ]
  },
  {
   "cell_type": "code",
   "execution_count": 69,
   "id": "5681f32b-f9c7-475f-ae8b-f99e1833f84a",
   "metadata": {},
   "outputs": [],
   "source": [
    "rand_img = np.random.randint(0, 255, (2, 3, 192,192))\n",
    "x_face = torch.from_numpy(rand_img).to(device)\n",
    "rand_img = (np.random.randint(0, 255, (2, 3, 64, 64)) / 255.)\n",
    "x_eye = torch.from_numpy(rand_img).type(torch.float32).to(device)"
   ]
  },
  {
   "cell_type": "code",
   "execution_count": 70,
   "id": "90cba93c-bd2b-4b87-9c0c-32e4dfb0eb59",
   "metadata": {},
   "outputs": [
    {
     "data": {
      "text/plain": [
       "tensor([[-16.2775, -21.2024],\n",
       "        [-12.1597, -25.9373]], device='cuda:0', grad_fn=<AddmmBackward0>)"
      ]
     },
     "execution_count": 70,
     "metadata": {},
     "output_type": "execute_result"
    }
   ],
   "source": [
    "model(x_face, x_eye, x_eye)"
   ]
  },
  {
   "cell_type": "code",
   "execution_count": 52,
   "id": "c7ccd337-c57a-4f10-866e-d9d8a0fc9d77",
   "metadata": {},
   "outputs": [],
   "source": [
    "data = pd.read_csv(\"./tobii_train_sub_updv2.csv\")"
   ]
  },
  {
   "cell_type": "code",
   "execution_count": 53,
   "id": "637edce4-ee23-48ae-99d3-b57546201933",
   "metadata": {},
   "outputs": [
    {
     "data": {
      "text/html": [
       "<div>\n",
       "<style scoped>\n",
       "    .dataframe tbody tr th:only-of-type {\n",
       "        vertical-align: middle;\n",
       "    }\n",
       "\n",
       "    .dataframe tbody tr th {\n",
       "        vertical-align: top;\n",
       "    }\n",
       "\n",
       "    .dataframe thead th {\n",
       "        text-align: right;\n",
       "    }\n",
       "</style>\n",
       "<table border=\"1\" class=\"dataframe\">\n",
       "  <thead>\n",
       "    <tr style=\"text-align: right;\">\n",
       "      <th></th>\n",
       "      <th>paths</th>\n",
       "      <th>x_normalized</th>\n",
       "      <th>y_normalized</th>\n",
       "      <th>full_name</th>\n",
       "    </tr>\n",
       "  </thead>\n",
       "  <tbody>\n",
       "    <tr>\n",
       "      <th>0</th>\n",
       "      <td>/home/ubuntu/projects/tweakle/data/tobii_image...</td>\n",
       "      <td>0.412840</td>\n",
       "      <td>0.290486</td>\n",
       "      <td>P_06#1491573819193_21_-study-where_to_find_mor...</td>\n",
       "    </tr>\n",
       "    <tr>\n",
       "      <th>1</th>\n",
       "      <td>/home/ubuntu/projects/tweakle/data/tobii_image...</td>\n",
       "      <td>0.273776</td>\n",
       "      <td>0.422115</td>\n",
       "      <td>P_57#1493143714690_2_-study-dot_test_instructi...</td>\n",
       "    </tr>\n",
       "    <tr>\n",
       "      <th>2</th>\n",
       "      <td>/home/ubuntu/projects/tweakle/data/tobii_image...</td>\n",
       "      <td>0.331355</td>\n",
       "      <td>0.406230</td>\n",
       "      <td>P_52#1493064746365_25_-study-tooth_abscess#fra...</td>\n",
       "    </tr>\n",
       "    <tr>\n",
       "      <th>3</th>\n",
       "      <td>/home/ubuntu/projects/tweakle/data/tobii_image...</td>\n",
       "      <td>0.338654</td>\n",
       "      <td>0.359082</td>\n",
       "      <td>P_46#1492780566148_16_-study-where_to_find_mor...</td>\n",
       "    </tr>\n",
       "    <tr>\n",
       "      <th>4</th>\n",
       "      <td>/home/ubuntu/projects/tweakle/data/tobii_image...</td>\n",
       "      <td>0.320225</td>\n",
       "      <td>0.340346</td>\n",
       "      <td>P_13#1491923431229_24_-study-where_to_find_mor...</td>\n",
       "    </tr>\n",
       "  </tbody>\n",
       "</table>\n",
       "</div>"
      ],
      "text/plain": [
       "                                               paths  x_normalized  \\\n",
       "0  /home/ubuntu/projects/tweakle/data/tobii_image...      0.412840   \n",
       "1  /home/ubuntu/projects/tweakle/data/tobii_image...      0.273776   \n",
       "2  /home/ubuntu/projects/tweakle/data/tobii_image...      0.331355   \n",
       "3  /home/ubuntu/projects/tweakle/data/tobii_image...      0.338654   \n",
       "4  /home/ubuntu/projects/tweakle/data/tobii_image...      0.320225   \n",
       "\n",
       "   y_normalized                                          full_name  \n",
       "0      0.290486  P_06#1491573819193_21_-study-where_to_find_mor...  \n",
       "1      0.422115  P_57#1493143714690_2_-study-dot_test_instructi...  \n",
       "2      0.406230  P_52#1493064746365_25_-study-tooth_abscess#fra...  \n",
       "3      0.359082  P_46#1492780566148_16_-study-where_to_find_mor...  \n",
       "4      0.340346  P_13#1491923431229_24_-study-where_to_find_mor...  "
      ]
     },
     "execution_count": 53,
     "metadata": {},
     "output_type": "execute_result"
    }
   ],
   "source": [
    "data.head()"
   ]
  },
  {
   "cell_type": "code",
   "execution_count": 11,
   "id": "7479e1b0-e2ce-4031-aa8c-47594580b90e",
   "metadata": {},
   "outputs": [],
   "source": [
    "# data[\"x_normalized\"] = (data[\"tob_right_x\"] + data[\"tob_left_x\"]) / 2\n",
    "# data[\"y_normalized\"] = (data[\"tob_right_y\"] + data[\"tob_left_y\"]) / 2"
   ]
  },
  {
   "cell_type": "code",
   "execution_count": 12,
   "id": "854d1425-68e2-4067-a878-3d6fff098459",
   "metadata": {},
   "outputs": [
    {
     "data": {
      "text/plain": [
       "0    /home/ubuntu/projects/tweakle/data/tobii_image...\n",
       "1    /home/ubuntu/projects/tweakle/data/tobii_image...\n",
       "2    /home/ubuntu/projects/tweakle/data/tobii_image...\n",
       "3    /home/ubuntu/projects/tweakle/data/tobii_image...\n",
       "4    /home/ubuntu/projects/tweakle/data/tobii_image...\n",
       "Name: paths, dtype: object"
      ]
     },
     "execution_count": 12,
     "metadata": {},
     "output_type": "execute_result"
    }
   ],
   "source": [
    "# import os\n",
    "# data[\"paths\"] = data[\"full_name\"].apply(lambda x: f\"/home/ubuntu/projects/tweakle/data/tobii_images/{x}\")\n",
    "# data[\"paths\"].head()"
   ]
  },
  {
   "cell_type": "code",
   "execution_count": 108,
   "id": "e3fade53-2d32-4137-a445-14e06ccfc466",
   "metadata": {},
   "outputs": [],
   "source": [
    "from typing import List, Optional\n",
    "\n",
    "class GazeDetectionDataset(Dataset):\n",
    "    \"\"\"Gaze detection dataset.\"\"\"\n",
    "\n",
    "    def __init__(\n",
    "        self,\n",
    "        data: pd.DataFrame,\n",
    "        transform_list: Optional[List]= None,\n",
    "        to_tensors: bool = False,\n",
    "        device: str = \"cpu\",\n",
    "    ):\n",
    "        \"\"\"\n",
    "        Arguments:\n",
    "            csv_file (string): Path to the csv file with annotations.\n",
    "            transform (callable, optional): Optional transform to be applied\n",
    "                on a sample.\n",
    "        \"\"\"\n",
    "        self.df = data.copy()\n",
    "        self.to_tensors = to_tensors\n",
    "        transform_list_ = transform_list.copy()\n",
    "        if to_tensors:\n",
    "            transform_list_.append(ToTensorV2())\n",
    "        transform_list_eyes = []\n",
    "        if to_tensors:\n",
    "            transform_list_eyes.append(ToTensorV2())\n",
    "        self.transform = A.Compose(transform_list_)\n",
    "        self.transform_eyes = A.Compose(transform_list_eyes)\n",
    "        self.device = torch.device(device)\n",
    "\n",
    "    def __len__(self):\n",
    "        return len(self.df)\n",
    "\n",
    "    def __getitem__(self, idx):\n",
    "        if torch.is_tensor(idx):\n",
    "            idx = idx.tolist()\n",
    "        row = self.df.iloc[idx]\n",
    "        img_path = row['paths']\n",
    "        try:\n",
    "            image = cv2.imread(img_path)\n",
    "            image = cv2.cvtColor(image, cv2.COLOR_BGR2RGB) / 255.\n",
    "            eyes_path = img_path.replace(\"tobii_images\", \"eyes_images\")\n",
    "            eye_left_path = eyes_path.replace(\".png\", \"_left.png\")\n",
    "            eye_right_path = eyes_path.replace(\".png\", \"_right.png\")\n",
    "            image_eye_l = cv2.imread(eye_left_path)\n",
    "            image_eye_l = cv2.cvtColor(image_eye_l, cv2.COLOR_BGR2RGB) / 255.\n",
    "            image_eye_r = cv2.imread(eye_right_path)\n",
    "            image_eye_r = cv2.cvtColor(image_eye_r, cv2.COLOR_BGR2RGB) / 255.\n",
    "        except Exception:\n",
    "            raise Exception(f\"Image {img_path}, {eye_left_path} failed loading\")\n",
    "        coordinates = row[['x_normalized', 'y_normalized']].values.astype(np.float32)\n",
    "        \n",
    "        if self.transform:\n",
    "            image = self.transform(image = image)['image']\n",
    "            image_eye_l = self.transform_eyes(image = image_eye_l)['image']\n",
    "            image_eye_r = self.transform_eyes(image = image_eye_r)['image']\n",
    "            if self.to_tensors:\n",
    "                coordinates = torch.from_numpy(coordinates).to(self.device)\n",
    "                image = image.type(torch.float32).to(self.device)\n",
    "                image_eye_l = image_eye_l.type(torch.float32).to(self.device)\n",
    "                image_eye_r = image_eye_r.type(torch.float32).to(self.device)\n",
    "            \n",
    "        sample = {'image': image, 'coordinates': coordinates, \"eye_l\": image_eye_l, \"eye_r\": image_eye_r}\n",
    "        return sample"
   ]
  },
  {
   "cell_type": "code",
   "execution_count": 63,
   "id": "a4c27283-48f5-45dd-8eaa-fb21bf11037a",
   "metadata": {},
   "outputs": [],
   "source": [
    "trans_list = [\n",
    "        A.Resize(192, 192),\n",
    "        # ToTensorV2()\n",
    "    ]"
   ]
  },
  {
   "cell_type": "code",
   "execution_count": 64,
   "id": "8e6fc5dc-adbf-40cb-8903-52f104ffb283",
   "metadata": {
    "scrolled": true
   },
   "outputs": [
    {
     "name": "stdout",
     "output_type": "stream",
     "text": [
      "0 (192, 192, 3) (2,)\n"
     ]
    },
    {
     "data": {
      "image/png": "[encoded data removed]",
      "text/plain": [
       "<Figure size 640x480 with 1 Axes>"
      ]
     },
     "metadata": {},
     "output_type": "display_data"
    },
    {
     "data": {
      "image/png": "[encoded data removed]",
      "text/plain": [
       "<Figure size 640x480 with 1 Axes>"
      ]
     },
     "metadata": {},
     "output_type": "display_data"
    },
    {
     "data": {
      "image/png": "[encoded data removed]",
      "text/plain": [
       "<Figure size 640x480 with 1 Axes>"
      ]
     },
     "metadata": {},
     "output_type": "display_data"
    },
    {
     "name": "stdout",
     "output_type": "stream",
     "text": [
      "1 (192, 192, 3) (2,)\n"
     ]
    },
    {
     "data": {
      "image/png": "[encoded data removed]",
      "text/plain": [
       "<Figure size 640x480 with 1 Axes>"
      ]
     },
     "metadata": {},
     "output_type": "display_data"
    },
    {
     "data": {
      "image/png": "[encoded data removed]",
      "text/plain": [
       "<Figure size 640x480 with 1 Axes>"
      ]
     },
     "metadata": {},
     "output_type": "display_data"
    },
    {
     "data": {
      "image/png": "[encoded data removed]",
      "text/plain": [
       "<Figure size 640x480 with 1 Axes>"
      ]
     },
     "metadata": {},
     "output_type": "display_data"
    },
    {
     "name": "stdout",
     "output_type": "stream",
     "text": [
      "2 (192, 192, 3) (2,)\n"
     ]
    },
    {
     "data": {
      "image/png": "[encoded data removed]",
      "text/plain": [
       "<Figure size 640x480 with 1 Axes>"
      ]
     },
     "metadata": {},
     "output_type": "display_data"
    },
    {
     "data": {
      "image/png": "[encoded data removed]",
      "text/plain": [
       "<Figure size 640x480 with 1 Axes>"
      ]
     },
     "metadata": {},
     "output_type": "display_data"
    },
    {
     "data": {
      "image/png": "[encoded data removed]",
      "text/plain": [
       "<Figure size 640x480 with 1 Axes>"
      ]
     },
     "metadata": {},
     "output_type": "display_data"
    },
    {
     "name": "stdout",
     "output_type": "stream",
     "text": [
      "3 (192, 192, 3) (2,)\n"
     ]
    },
    {
     "data": {
      "image/png": "[encoded data removed]",
      "text/plain": [
       "<Figure size 640x480 with 1 Axes>"
      ]
     },
     "metadata": {},
     "output_type": "display_data"
    },
    {
     "data": {
      "image/png": "[encoded data removed]",
      "text/plain": [
       "<Figure size 640x480 with 1 Axes>"
      ]
     },
     "metadata": {},
     "output_type": "display_data"
    },
    {
     "data": {
      "image/png": "[encoded data removed]",
      "text/plain": [
       "<Figure size 640x480 with 1 Axes>"
      ]
     },
     "metadata": {},
     "output_type": "display_data"
    }
   ],
   "source": [
    "face_dataset = GazeDetectionDataset(data=data, transform_list=trans_list)\n",
    "\n",
    "fig = plt.figure()\n",
    "\n",
    "for i, sample in enumerate(face_dataset):\n",
    "    print(i, sample['image'].shape, sample['coordinates'].shape)\n",
    "\n",
    "    ax = plt.subplot(1, 4, i + 1)\n",
    "    plt.tight_layout()\n",
    "    ax.set_title('Sample #{}'.format(i))\n",
    "    ax.axis('off')\n",
    "    ax.imshow(sample['image'])\n",
    "    plt.show()\n",
    "    ax = plt.subplot(1, 4, i + 1)\n",
    "    plt.tight_layout()\n",
    "    ax.set_title('Sample #{}'.format(i))\n",
    "    ax.axis('off')\n",
    "    ax.imshow(sample['eye_l'])\n",
    "    plt.show()\n",
    "    ax = plt.subplot(1, 4, i + 1)\n",
    "    plt.tight_layout()\n",
    "    ax.set_title('Sample #{}'.format(i))\n",
    "    ax.axis('off')\n",
    "    ax.imshow(sample['eye_r'])\n",
    "    plt.show()\n",
    "    if i == 3:\n",
    "        plt.show()\n",
    "        break"
   ]
  },
  {
   "cell_type": "code",
   "execution_count": 65,
   "id": "6d875de4-2e06-4160-b7d9-f0f300bd49a9",
   "metadata": {},
   "outputs": [],
   "source": [
    "face_dataset = GazeDetectionDataset(data = data, transform_list=trans_list, to_tensors=True, device=device)"
   ]
  },
  {
   "cell_type": "code",
   "execution_count": 66,
   "id": "76d5d6b5-3ee6-40e4-8cdc-01b9cf0cf1b1",
   "metadata": {},
   "outputs": [
    {
     "name": "stdout",
     "output_type": "stream",
     "text": [
      "0 torch.Size([3, 192, 192]) torch.Size([2]) torch.Size([3, 64, 64])\n",
      "1 torch.Size([3, 192, 192]) torch.Size([2]) torch.Size([3, 64, 64])\n",
      "2 torch.Size([3, 192, 192]) torch.Size([2]) torch.Size([3, 64, 64])\n",
      "3 torch.Size([3, 192, 192]) torch.Size([2]) torch.Size([3, 64, 64])\n"
     ]
    }
   ],
   "source": [
    "for i, sample in enumerate(face_dataset):\n",
    "    print(i, sample['image'].size(), sample['coordinates'].size(), sample['eye_l'].size())\n",
    "    if i == 3:\n",
    "        break"
   ]
  },
  {
   "cell_type": "code",
   "execution_count": 71,
   "id": "89112568-10af-4c99-b67d-b8987de6f303",
   "metadata": {},
   "outputs": [],
   "source": [
    "def train(model: FineTuneModel, dataloader_train: DataLoader):\n",
    "    total_loss = 0.0\n",
    "    model.train()\n",
    "    preds_list = []\n",
    "    labels_list = []\n",
    "    for i, data in enumerate(dataloader_train):\n",
    "        inputs, labels, inputs_eye_l, inputs_eye_r = data['image'], data['coordinates'], \\\n",
    "                                                     data['eye_l'], data['eye_r']\n",
    "\n",
    "        optimizer.zero_grad()\n",
    "\n",
    "        outputs = model(inputs, inputs_eye_l, inputs_eye_r)\n",
    "        loss = criterion(outputs, labels)\n",
    "        loss.backward()\n",
    "        torch.nn.utils.clip_grad_norm_(model.parameters(), 1)\n",
    "        optimizer.step()\n",
    "        preds_list += outputs.cpu().detach().tolist()\n",
    "        labels_list += labels.cpu().detach().tolist()\n",
    "        total_loss += loss.cpu().item()\n",
    "\n",
    "    loss = total_loss / (i + 1)\n",
    "    mape_value = mape(labels_list, preds_list)\n",
    "    return loss, mape_value"
   ]
  },
  {
   "cell_type": "code",
   "execution_count": 72,
   "id": "b33529ee-8369-4a28-9ae7-c816573d8784",
   "metadata": {},
   "outputs": [],
   "source": [
    "def eval(model: FineTuneModel, dataloader_val: DataLoader):\n",
    "    total_loss = 0.0\n",
    "    model.eval()\n",
    "    preds = []\n",
    "    preds_list = []\n",
    "    labels_list = []\n",
    "    for i, data in enumerate(dataloader_val):\n",
    "        inputs, labels, inputs_eye_l, inputs_eye_r = data['image'], data['coordinates'], \\\n",
    "                                                     data['eye_l'], data['eye_r']\n",
    "        with torch.no_grad():\n",
    "            outputs = model(inputs, inputs_eye_l, inputs_eye_r)\n",
    "        loss = criterion(outputs, labels)\n",
    "        total_loss += loss.cpu().item()\n",
    "        preds_list += outputs.cpu().detach().tolist()\n",
    "        labels_list += labels.cpu().detach().tolist()\n",
    "        \n",
    "    loss = total_loss / (i + 1)\n",
    "    mape_value = mape(labels_list, preds_list)\n",
    "    return loss, mape_value"
   ]
  },
  {
   "cell_type": "code",
   "execution_count": 73,
   "id": "4226e9a3-02f1-41aa-ae62-cd7a71f20ade",
   "metadata": {},
   "outputs": [],
   "source": [
    "from sklearn.model_selection import train_test_split"
   ]
  },
  {
   "cell_type": "code",
   "execution_count": 9,
   "id": "c8edc5f0-b4df-4686-924e-21dfc1a9e96b",
   "metadata": {},
   "outputs": [],
   "source": [
    "# data = pd.read_csv(\"../data/data_clicks.csv\")"
   ]
  },
  {
   "cell_type": "code",
   "execution_count": 74,
   "id": "ce07c9d3-0381-4415-b227-88d996cdb935",
   "metadata": {},
   "outputs": [],
   "source": [
    "# df = pd.read_csv(\"./data_tobii_names.csv\")"
   ]
  },
  {
   "cell_type": "code",
   "execution_count": 74,
   "id": "fd63e601-cf6f-498a-b041-6a25441cb385",
   "metadata": {},
   "outputs": [],
   "source": [
    "# df_sub = df.sample(100_000)"
   ]
  },
  {
   "cell_type": "code",
   "execution_count": 11,
   "id": "f3b9c04f-7029-4461-8875-8e1c061da05e",
   "metadata": {},
   "outputs": [],
   "source": [
    "# df[\"x_normalized\"] = (df[\"tob_right_x\"] + df[\"tob_left_x\"]) / 2\n",
    "# df[\"y_normalized\"] = (df[\"tob_right_y\"] + df[\"tob_left_y\"]) / 2"
   ]
  },
  {
   "cell_type": "code",
   "execution_count": 12,
   "id": "f8b84f6d-18fa-4fed-b782-9ea4416ceb66",
   "metadata": {},
   "outputs": [],
   "source": [
    "# import os\n",
    "# df[\"paths\"] = df[\"full_name\"].apply(lambda x: f\"/home/ubuntu/projects/tweakle/data/tobii_images/{x}\")\n",
    "# df[\"paths\"].head()"
   ]
  },
  {
   "cell_type": "code",
   "execution_count": 155,
   "id": "40bbccb3-e339-4f20-b5db-22f4ff1cd375",
   "metadata": {},
   "outputs": [],
   "source": [
    "NUM_SAMPLES = None\n",
    "BATCH_SIZE = 1024\n",
    "LEARNING_RATE = 8e-5\n",
    "REDUCE_FACTOR = 0.5\n",
    "PATIENCE = 1\n",
    "NUM_EPOCHS = 10\n",
    "WEIGHT_DECAY = 1e-4\n",
    "CHECKPOINTS_PATH = \"./checkpoints/\"\n",
    "EXPERIMENT_NAME = \"raw_images_eyes_less_data_correctedv2_tune\""
   ]
  },
  {
   "cell_type": "code",
   "execution_count": 88,
   "id": "d37a812c-a6b5-4f85-9df2-36e96b1d54da",
   "metadata": {},
   "outputs": [],
   "source": [
    "# train_df, test_df = train_test_split(df_sub.head(NUM_SAMPLES), test_size = 0.15, random_state=42, shuffle=True)\n",
    "# train_df, val_df = train_test_split(train_df, test_size = 0.1, random_state=42, shuffle=True)"
   ]
  },
  {
   "cell_type": "code",
   "execution_count": 90,
   "id": "e79692ab-68d8-45f0-9f74-549d4cad0a4a",
   "metadata": {},
   "outputs": [],
   "source": [
    "# test_df.to_csv(\"./tobii_test_sub.csv\", index = False)\n",
    "# val_df.to_csv(\"./tobii_val_sub.csv\", index = False)\n",
    "# train_df.to_csv(\"./tobii_train_sub.csv\", index = False)"
   ]
  },
  {
   "cell_type": "code",
   "execution_count": 76,
   "id": "98f3617b-dc41-4e0a-bfd2-08c98b5ff03c",
   "metadata": {},
   "outputs": [],
   "source": [
    "test_df = pd.read_csv(\"./tobii_test_sub_updv2.csv\")\n",
    "val_df = pd.read_csv(\"./tobii_val_sub_updv2.csv\")\n",
    "train_df = pd.read_csv(\"./tobii_train_sub_updv2.csv\")"
   ]
  },
  {
   "cell_type": "code",
   "execution_count": 89,
   "id": "e547390a-c8f4-4a65-b643-8f9ad667792a",
   "metadata": {},
   "outputs": [],
   "source": [
    "def try_load(img_path):\n",
    "    try:\n",
    "        eyes_path = img_path.replace(\"tobii_images\", \"eyes_images\")\n",
    "        eye_left_path = eyes_path.replace(\".png\", \"_left.png\")\n",
    "        image_eye_l = cv2.imread(eye_left_path)\n",
    "        image_eye_l = cv2.cvtColor(image_eye_l, cv2.COLOR_BGR2RGB) / 255.\n",
    "        return True\n",
    "    except:\n",
    "        return False"
   ]
  },
  {
   "cell_type": "code",
   "execution_count": 96,
   "id": "95fc2cae-dc66-4a9f-ba64-ff6cd9294368",
   "metadata": {},
   "outputs": [],
   "source": [
    "test_df[\"eyes_exist\"] = test_df.paths.progress_apply(try_load)\n",
    "val_df[\"eyes_exist\"] = val_df.paths.progress_apply(try_load)\n",
    "train_df[\"eyes_exist\"] = train_df.paths.progress_apply(try_load)"
   ]
  },
  {
   "cell_type": "code",
   "execution_count": 100,
   "id": "77487e7d-d457-437d-b2eb-975f200af018",
   "metadata": {},
   "outputs": [],
   "source": [
    "test_df = test_df[test_df[\"eyes_exist\"]]\n",
    "val_df = val_df[val_df[\"eyes_exist\"]]\n",
    "train_df = train_df[train_df[\"eyes_exist\"]]"
   ]
  },
  {
   "cell_type": "code",
   "execution_count": 144,
   "id": "0c464695-c54d-4929-9247-5baa4c82c4ea",
   "metadata": {},
   "outputs": [
    {
     "data": {
      "text/plain": [
       "((13789, 5), (62786, 5))"
      ]
     },
     "execution_count": 144,
     "metadata": {},
     "output_type": "execute_result"
    }
   ],
   "source": [
    "test_df.shape, train_df.shape"
   ]
  },
  {
   "cell_type": "code",
   "execution_count": 156,
   "id": "40f66f8e-a474-4134-8c1b-1ac5b4c384f2",
   "metadata": {},
   "outputs": [],
   "source": [
    "dataset_train = GazeDetectionDataset(data = train_df, transform_list=trans_list, to_tensors=True, device=device)\n",
    "dataloader_train = DataLoader(dataset_train, batch_size=BATCH_SIZE,\n",
    "                        shuffle=True, num_workers=0)\n",
    "dataset_val = GazeDetectionDataset(data = val_df, transform_list=trans_list, to_tensors=True, device=device)\n",
    "dataloader_val = DataLoader(dataset_val, batch_size=BATCH_SIZE,\n",
    "                        shuffle=True, num_workers=0)"
   ]
  },
  {
   "cell_type": "code",
   "execution_count": 157,
   "id": "b2b503d7-3830-40ce-8a30-b4e0ff47c460",
   "metadata": {},
   "outputs": [],
   "source": [
    "class RMSELoss(nn.Module):\n",
    "    def __init__(self, eps=1e-6):\n",
    "        super().__init__()\n",
    "        self.mse = nn.MSELoss()\n",
    "        self.eps = eps\n",
    "        \n",
    "    def forward(self,yhat,y):\n",
    "        loss = torch.sqrt(self.mse(yhat,y) + self.eps)\n",
    "        return loss"
   ]
  },
  {
   "cell_type": "code",
   "execution_count": 158,
   "id": "ad3c1e66-4e6a-4de0-b6e8-582fe394aab6",
   "metadata": {},
   "outputs": [
    {
     "name": "stderr",
     "output_type": "stream",
     "text": [
      "\u001b[1;38;5;214mCOMET WARNING:\u001b[0m To get all data logged automatically, import comet_ml before the following modules: sklearn, torch.\n",
      "\u001b[1;38;5;39mCOMET INFO:\u001b[0m ---------------------------------------------------------------------------------------\n",
      "\u001b[1;38;5;39mCOMET INFO:\u001b[0m Comet.ml Experiment Summary\n",
      "\u001b[1;38;5;39mCOMET INFO:\u001b[0m ---------------------------------------------------------------------------------------\n",
      "\u001b[1;38;5;39mCOMET INFO:\u001b[0m   Data:\n",
      "\u001b[1;38;5;39mCOMET INFO:\u001b[0m     display_summary_level : 1\n",
      "\u001b[1;38;5;39mCOMET INFO:\u001b[0m     url                   : https://www.comet.com/kmisterios/tweakle-gaze-detection/9e5d551737dc481a8a369cb5eda3a5b8\n",
      "\u001b[1;38;5;39mCOMET INFO:\u001b[0m   Others:\n",
      "\u001b[1;38;5;39mCOMET INFO:\u001b[0m     Name : raw_images_eyes_less_data_correctedv2_tune\n",
      "\u001b[1;38;5;39mCOMET INFO:\u001b[0m   Parameters:\n",
      "\u001b[1;38;5;39mCOMET INFO:\u001b[0m     batch_size      : 1024\n",
      "\u001b[1;38;5;39mCOMET INFO:\u001b[0m     experiment_name : raw_images_eyes_less_data_correctedv2_tune\n",
      "\u001b[1;38;5;39mCOMET INFO:\u001b[0m     gradient_clip   : True\n",
      "\u001b[1;38;5;39mCOMET INFO:\u001b[0m     learning_rate   : 0.0003\n",
      "\u001b[1;38;5;39mCOMET INFO:\u001b[0m     num_epochs      : 20\n",
      "\u001b[1;38;5;39mCOMET INFO:\u001b[0m     num_samples     : 1\n",
      "\u001b[1;38;5;39mCOMET INFO:\u001b[0m     optimizer       : Adam (\n",
      "Parameter Group 0\n",
      "    amsgrad: False\n",
      "    betas: (0.9, 0.999)\n",
      "    capturable: False\n",
      "    differentiable: False\n",
      "    eps: 1e-08\n",
      "    foreach: None\n",
      "    fused: None\n",
      "    lr: 0.0003\n",
      "    maximize: False\n",
      "    weight_decay: 0.0001\n",
      ")\n",
      "\u001b[1;38;5;39mCOMET INFO:\u001b[0m     patience        : 2\n",
      "\u001b[1;38;5;39mCOMET INFO:\u001b[0m     reduce_factor   : 0.5\n",
      "\u001b[1;38;5;39mCOMET INFO:\u001b[0m     scheduler       : <torch.optim.lr_scheduler.ReduceLROnPlateau object at 0x7f131971b3d0>\n",
      "\u001b[1;38;5;39mCOMET INFO:\u001b[0m   Uploads:\n",
      "\u001b[1;38;5;39mCOMET INFO:\u001b[0m     environment details      : 1\n",
      "\u001b[1;38;5;39mCOMET INFO:\u001b[0m     filename                 : 1\n",
      "\u001b[1;38;5;39mCOMET INFO:\u001b[0m     git metadata             : 1\n",
      "\u001b[1;38;5;39mCOMET INFO:\u001b[0m     git-patch (uncompressed) : 1 (61.20 KB)\n",
      "\u001b[1;38;5;39mCOMET INFO:\u001b[0m     installed packages       : 1\n",
      "\u001b[1;38;5;39mCOMET INFO:\u001b[0m     notebook                 : 1\n",
      "\u001b[1;38;5;39mCOMET INFO:\u001b[0m     os packages              : 1\n",
      "\u001b[1;38;5;39mCOMET INFO:\u001b[0m     source_code              : 1\n",
      "\u001b[1;38;5;39mCOMET INFO:\u001b[0m \n",
      "\u001b[1;38;5;214mCOMET WARNING:\u001b[0m To get all data logged automatically, import comet_ml before the following modules: sklearn, torch.\n",
      "\u001b[1;38;5;214mCOMET WARNING:\u001b[0m As you are running in a Jupyter environment, you will need to call `experiment.end()` when finished to ensure all metrics and code are logged before exiting.\n",
      "\u001b[1;38;5;39mCOMET INFO:\u001b[0m Experiment is live on comet.com https://www.comet.com/kmisterios/tweakle-gaze-detection/cdcc3e71ac0446f68cb60f925f84370a\n",
      "\n"
     ]
    }
   ],
   "source": [
    "from comet_ml import Experiment\n",
    "from comet_ml.integration.pytorch import log_model\n",
    "\n",
    "experiment = Experiment(\n",
    "  api_key=\"4qtNKAjcucKnOrwC4pRvPaHRv\",\n",
    "  project_name=\"tweakle-gaze-detection\",\n",
    "  workspace=\"kmisterios\"\n",
    ")"
   ]
  },
  {
   "cell_type": "code",
   "execution_count": 159,
   "id": "404cad47-0c9f-4915-b900-48bdbb76cc4b",
   "metadata": {},
   "outputs": [],
   "source": [
    "experiment.set_name(f\"{EXPERIMENT_NAME}\")"
   ]
  },
  {
   "cell_type": "code",
   "execution_count": 160,
   "id": "ff5e145f-1be9-4734-903c-9a2fad6fd8eb",
   "metadata": {},
   "outputs": [],
   "source": [
    "model = FineTuneModel(pretrained_model_face, pretrained_model_eyes).to(device)\n",
    "criterion = RMSELoss()\n",
    "optimizer = optim.Adam(model.parameters(), lr = LEARNING_RATE, weight_decay = WEIGHT_DECAY)\n",
    "scheduler = ReduceLROnPlateau(optimizer, factor= REDUCE_FACTOR, patience=PATIENCE)"
   ]
  },
  {
   "cell_type": "code",
   "execution_count": 161,
   "id": "b5ad8065-c009-4344-b8d2-e891f20cbaeb",
   "metadata": {},
   "outputs": [],
   "source": [
    "hyper_params = {\n",
    "    \"learning_rate\": LEARNING_RATE,\n",
    "    \"batch_size\": BATCH_SIZE,\n",
    "    \"reduce_factor\": REDUCE_FACTOR,\n",
    "    \"patience\": PATIENCE,\n",
    "    \"num_epochs\": NUM_EPOCHS,\n",
    "    \"num_samples\": NUM_SAMPLES,\n",
    "    \"optimizer\": optimizer.__str__(),\n",
    "    \"scheduler\": scheduler.__str__(),\n",
    "    \"gradient_clip\": True,\n",
    "    \"experiment_name\": EXPERIMENT_NAME\n",
    "}\n",
    "experiment.log_parameters(hyper_params)"
   ]
  },
  {
   "cell_type": "code",
   "execution_count": 162,
   "id": "55a81c44-6b5a-4306-81f9-3648d2cc8f85",
   "metadata": {
    "scrolled": true
   },
   "outputs": [
    {
     "name": "stdout",
     "output_type": "stream",
     "text": [
      "\n",
      "Epoch: 0: Train loss: 0.142; Val loss: 0.142;\n",
      "Best model saved on epoch 0\n",
      "\n",
      "Epoch: 1: Train loss: 0.14; Val loss: 0.141;\n",
      "Best model saved on epoch 1\n",
      "\n",
      "Epoch: 2: Train loss: 0.14; Val loss: 0.142;\n",
      "Best model saved on epoch 1\n",
      "\n",
      "Epoch: 3: Train loss: 0.139; Val loss: 0.14;\n",
      "Best model saved on epoch 3\n",
      "\n",
      "Epoch: 4: Train loss: 0.139; Val loss: 0.139;\n",
      "Best model saved on epoch 4\n",
      "\n",
      "Epoch: 5: Train loss: 0.138; Val loss: 0.139;\n",
      "Best model saved on epoch 5\n",
      "\n",
      "Epoch: 6: Train loss: 0.137; Val loss: 0.138;\n",
      "Best model saved on epoch 6\n",
      "\n",
      "Epoch: 7: Train loss: 0.137; Val loss: 0.138;\n",
      "Best model saved on epoch 7\n",
      "\n",
      "Epoch: 8: Train loss: 0.137; Val loss: 0.138;\n",
      "Best model saved on epoch 8\n"
     ]
    },
    {
     "name": "stderr",
     "output_type": "stream",
     "text": [
      "\u001b[1;38;5;39mCOMET INFO:\u001b[0m ---------------------------------------------------------------------------------------\n",
      "\u001b[1;38;5;39mCOMET INFO:\u001b[0m Comet.ml Experiment Summary\n",
      "\u001b[1;38;5;39mCOMET INFO:\u001b[0m ---------------------------------------------------------------------------------------\n",
      "\u001b[1;38;5;39mCOMET INFO:\u001b[0m   Data:\n",
      "\u001b[1;38;5;39mCOMET INFO:\u001b[0m     display_summary_level : 1\n",
      "\u001b[1;38;5;39mCOMET INFO:\u001b[0m     url                   : https://www.comet.com/kmisterios/tweakle-gaze-detection/cdcc3e71ac0446f68cb60f925f84370a\n",
      "\u001b[1;38;5;39mCOMET INFO:\u001b[0m   Metrics [count] (min, max):\n",
      "\u001b[1;38;5;39mCOMET INFO:\u001b[0m     best_model_epoch [10] : (0, 9)\n",
      "\u001b[1;38;5;39mCOMET INFO:\u001b[0m     epoch [10]            : (0, 9)\n",
      "\u001b[1;38;5;39mCOMET INFO:\u001b[0m     lr                    : 8e-05\n",
      "\u001b[1;38;5;39mCOMET INFO:\u001b[0m     rmse_train [10]       : (0.136028521243603, 0.1418588221553833)\n",
      "\u001b[1;38;5;39mCOMET INFO:\u001b[0m     rmse_val [10]         : (0.1367381513118744, 0.1420203936951501)\n",
      "\u001b[1;38;5;39mCOMET INFO:\u001b[0m     train_mape [10]       : (0.5074716045936929, 0.5282669348806655)\n",
      "\u001b[1;38;5;39mCOMET INFO:\u001b[0m     val_mape [10]         : (0.5194534558370478, 0.5452492766660898)\n",
      "\u001b[1;38;5;39mCOMET INFO:\u001b[0m   Others:\n",
      "\u001b[1;38;5;39mCOMET INFO:\u001b[0m     Name : raw_images_eyes_less_data_correctedv2_tune\n",
      "\u001b[1;38;5;39mCOMET INFO:\u001b[0m   Parameters:\n",
      "\u001b[1;38;5;39mCOMET INFO:\u001b[0m     batch_size      : 1024\n",
      "\u001b[1;38;5;39mCOMET INFO:\u001b[0m     experiment_name : raw_images_eyes_less_data_correctedv2_tune\n",
      "\u001b[1;38;5;39mCOMET INFO:\u001b[0m     gradient_clip   : True\n",
      "\u001b[1;38;5;39mCOMET INFO:\u001b[0m     learning_rate   : 8e-05\n",
      "\u001b[1;38;5;39mCOMET INFO:\u001b[0m     num_epochs      : 10\n",
      "\u001b[1;38;5;39mCOMET INFO:\u001b[0m     num_samples     : 1\n",
      "\u001b[1;38;5;39mCOMET INFO:\u001b[0m     optimizer       : Adam (\n",
      "Parameter Group 0\n",
      "    amsgrad: False\n",
      "    betas: (0.9, 0.999)\n",
      "    capturable: False\n",
      "    differentiable: False\n",
      "    eps: 1e-08\n",
      "    foreach: None\n",
      "    fused: None\n",
      "    lr: 8e-05\n",
      "    maximize: False\n",
      "    weight_decay: 0.0001\n",
      ")\n",
      "\u001b[1;38;5;39mCOMET INFO:\u001b[0m     patience        : 1\n",
      "\u001b[1;38;5;39mCOMET INFO:\u001b[0m     reduce_factor   : 0.5\n",
      "\u001b[1;38;5;39mCOMET INFO:\u001b[0m     scheduler       : <torch.optim.lr_scheduler.ReduceLROnPlateau object at 0x7f13172477c0>\n",
      "\u001b[1;38;5;39mCOMET INFO:\u001b[0m   Uploads:\n",
      "\u001b[1;38;5;39mCOMET INFO:\u001b[0m     environment details      : 1\n",
      "\u001b[1;38;5;39mCOMET INFO:\u001b[0m     filename                 : 1\n",
      "\u001b[1;38;5;39mCOMET INFO:\u001b[0m     git metadata             : 1\n",
      "\u001b[1;38;5;39mCOMET INFO:\u001b[0m     git-patch (uncompressed) : 1 (61.20 KB)\n",
      "\u001b[1;38;5;39mCOMET INFO:\u001b[0m     installed packages       : 1\n",
      "\u001b[1;38;5;39mCOMET INFO:\u001b[0m     notebook                 : 1\n",
      "\u001b[1;38;5;39mCOMET INFO:\u001b[0m     os packages              : 1\n",
      "\u001b[1;38;5;39mCOMET INFO:\u001b[0m     source_code              : 1\n",
      "\u001b[1;38;5;39mCOMET INFO:\u001b[0m \n",
      "\u001b[1;38;5;214mCOMET WARNING:\u001b[0m To get all data logged automatically, import comet_ml before the following modules: sklearn, torch.\n"
     ]
    },
    {
     "name": "stdout",
     "output_type": "stream",
     "text": [
      "\n",
      "Epoch: 9: Train loss: 0.136; Val loss: 0.137;\n",
      "Best model saved on epoch 9\n"
     ]
    },
    {
     "name": "stderr",
     "output_type": "stream",
     "text": [
      "\u001b[1;38;5;39mCOMET INFO:\u001b[0m Uploading 1 metrics, params and output messages\n"
     ]
    }
   ],
   "source": [
    "val_loss_min = np.inf\n",
    "epoch_save = None\n",
    "\n",
    "for epoch in range(NUM_EPOCHS):\n",
    "    train_loss, train_mape = train(model, dataloader_train)\n",
    "    val_loss, val_mape = train(model, dataloader_val)\n",
    "    scheduler.step(val_loss)\n",
    "    current_lr = scheduler.optimizer.param_groups[0]['lr']\n",
    "    if val_loss_min > val_loss:\n",
    "        val_loss_min = val_loss\n",
    "        torch.save(model.state_dict(), os.path.join(CHECKPOINTS_PATH, f\"best_{EXPERIMENT_NAME}.pt\"))\n",
    "        epoch_save = epoch\n",
    "\n",
    "    print()\n",
    "    print(f'Epoch: {epoch}: Train loss: {round(train_loss, 3)}; Val loss: {round(val_loss, 3)};')\n",
    "    if epoch_save is not None:\n",
    "        print(f'Best model saved on epoch {epoch_save}')\n",
    "    experiment.log_metrics({\n",
    "        \"rmse_val\": val_loss,\n",
    "        \"rmse_train\": train_loss,\n",
    "        \"best_model_epoch\": epoch_save,\n",
    "        \"train_mape\": train_mape,\n",
    "        \"val_mape\": val_mape,\n",
    "        \"epoch\": epoch,\n",
    "        \"lr\": current_lr\n",
    "    })\n",
    "experiment.end()"
   ]
  },
  {
   "cell_type": "code",
   "execution_count": 163,
   "id": "59dfcda4-666f-4722-82f3-b2787be89ede",
   "metadata": {},
   "outputs": [
    {
     "data": {
      "text/plain": [
       "FineTuneModel(\n",
       "  (backbone_face): Sequential(\n",
       "    (0): Conv2d(3, 16, kernel_size=(3, 3), stride=(2, 2))\n",
       "    (1): PReLU(num_parameters=16)\n",
       "    (2): FaceMeshBlock(\n",
       "      (convs): Sequential(\n",
       "        (0): Conv2d(16, 16, kernel_size=(3, 3), stride=(1, 1), padding=(1, 1), groups=16)\n",
       "        (1): Conv2d(16, 16, kernel_size=(1, 1), stride=(1, 1))\n",
       "      )\n",
       "      (act): PReLU(num_parameters=16)\n",
       "    )\n",
       "    (3): FaceMeshBlock(\n",
       "      (convs): Sequential(\n",
       "        (0): Conv2d(16, 16, kernel_size=(3, 3), stride=(1, 1), padding=(1, 1), groups=16)\n",
       "        (1): Conv2d(16, 16, kernel_size=(1, 1), stride=(1, 1))\n",
       "      )\n",
       "      (act): PReLU(num_parameters=16)\n",
       "    )\n",
       "    (4): FaceMeshBlock(\n",
       "      (max_pool): MaxPool2d(kernel_size=2, stride=2, padding=0, dilation=1, ceil_mode=False)\n",
       "      (convs): Sequential(\n",
       "        (0): Conv2d(16, 16, kernel_size=(3, 3), stride=(2, 2), groups=16)\n",
       "        (1): Conv2d(16, 32, kernel_size=(1, 1), stride=(1, 1))\n",
       "      )\n",
       "      (act): PReLU(num_parameters=32)\n",
       "    )\n",
       "    (5): FaceMeshBlock(\n",
       "      (convs): Sequential(\n",
       "        (0): Conv2d(32, 32, kernel_size=(3, 3), stride=(1, 1), padding=(1, 1), groups=32)\n",
       "        (1): Conv2d(32, 32, kernel_size=(1, 1), stride=(1, 1))\n",
       "      )\n",
       "      (act): PReLU(num_parameters=32)\n",
       "    )\n",
       "    (6): FaceMeshBlock(\n",
       "      (convs): Sequential(\n",
       "        (0): Conv2d(32, 32, kernel_size=(3, 3), stride=(1, 1), padding=(1, 1), groups=32)\n",
       "        (1): Conv2d(32, 32, kernel_size=(1, 1), stride=(1, 1))\n",
       "      )\n",
       "      (act): PReLU(num_parameters=32)\n",
       "    )\n",
       "    (7): FaceMeshBlock(\n",
       "      (max_pool): MaxPool2d(kernel_size=2, stride=2, padding=0, dilation=1, ceil_mode=False)\n",
       "      (convs): Sequential(\n",
       "        (0): Conv2d(32, 32, kernel_size=(3, 3), stride=(2, 2), groups=32)\n",
       "        (1): Conv2d(32, 64, kernel_size=(1, 1), stride=(1, 1))\n",
       "      )\n",
       "      (act): PReLU(num_parameters=64)\n",
       "    )\n",
       "    (8): FaceMeshBlock(\n",
       "      (convs): Sequential(\n",
       "        (0): Conv2d(64, 64, kernel_size=(3, 3), stride=(1, 1), padding=(1, 1), groups=64)\n",
       "        (1): Conv2d(64, 64, kernel_size=(1, 1), stride=(1, 1))\n",
       "      )\n",
       "      (act): PReLU(num_parameters=64)\n",
       "    )\n",
       "    (9): FaceMeshBlock(\n",
       "      (convs): Sequential(\n",
       "        (0): Conv2d(64, 64, kernel_size=(3, 3), stride=(1, 1), padding=(1, 1), groups=64)\n",
       "        (1): Conv2d(64, 64, kernel_size=(1, 1), stride=(1, 1))\n",
       "      )\n",
       "      (act): PReLU(num_parameters=64)\n",
       "    )\n",
       "    (10): FaceMeshBlock(\n",
       "      (max_pool): MaxPool2d(kernel_size=2, stride=2, padding=0, dilation=1, ceil_mode=False)\n",
       "      (convs): Sequential(\n",
       "        (0): Conv2d(64, 64, kernel_size=(3, 3), stride=(2, 2), groups=64)\n",
       "        (1): Conv2d(64, 128, kernel_size=(1, 1), stride=(1, 1))\n",
       "      )\n",
       "      (act): PReLU(num_parameters=128)\n",
       "    )\n",
       "    (11): FaceMeshBlock(\n",
       "      (convs): Sequential(\n",
       "        (0): Conv2d(128, 128, kernel_size=(3, 3), stride=(1, 1), padding=(1, 1), groups=128)\n",
       "        (1): Conv2d(128, 128, kernel_size=(1, 1), stride=(1, 1))\n",
       "      )\n",
       "      (act): PReLU(num_parameters=128)\n",
       "    )\n",
       "    (12): FaceMeshBlock(\n",
       "      (convs): Sequential(\n",
       "        (0): Conv2d(128, 128, kernel_size=(3, 3), stride=(1, 1), padding=(1, 1), groups=128)\n",
       "        (1): Conv2d(128, 128, kernel_size=(1, 1), stride=(1, 1))\n",
       "      )\n",
       "      (act): PReLU(num_parameters=128)\n",
       "    )\n",
       "    (13): FaceMeshBlock(\n",
       "      (max_pool): MaxPool2d(kernel_size=2, stride=2, padding=0, dilation=1, ceil_mode=False)\n",
       "      (convs): Sequential(\n",
       "        (0): Conv2d(128, 128, kernel_size=(3, 3), stride=(2, 2), groups=128)\n",
       "        (1): Conv2d(128, 128, kernel_size=(1, 1), stride=(1, 1))\n",
       "      )\n",
       "      (act): PReLU(num_parameters=128)\n",
       "    )\n",
       "    (14): FaceMeshBlock(\n",
       "      (convs): Sequential(\n",
       "        (0): Conv2d(128, 128, kernel_size=(3, 3), stride=(1, 1), padding=(1, 1), groups=128)\n",
       "        (1): Conv2d(128, 128, kernel_size=(1, 1), stride=(1, 1))\n",
       "      )\n",
       "      (act): PReLU(num_parameters=128)\n",
       "    )\n",
       "    (15): FaceMeshBlock(\n",
       "      (convs): Sequential(\n",
       "        (0): Conv2d(128, 128, kernel_size=(3, 3), stride=(1, 1), padding=(1, 1), groups=128)\n",
       "        (1): Conv2d(128, 128, kernel_size=(1, 1), stride=(1, 1))\n",
       "      )\n",
       "      (act): PReLU(num_parameters=128)\n",
       "    )\n",
       "  )\n",
       "  (backbone_eyes): Sequential(\n",
       "    (0): Conv2d(3, 64, kernel_size=(3, 3), stride=(2, 2))\n",
       "    (1): PReLU(num_parameters=64)\n",
       "    (2): IrisBlock(\n",
       "      (conv_prelu): Sequential(\n",
       "        (0): Conv2d(64, 32, kernel_size=(1, 1), stride=(1, 1))\n",
       "        (1): PReLU(num_parameters=32)\n",
       "      )\n",
       "      (depthwiseconv_conv): Sequential(\n",
       "        (0): Conv2d(32, 32, kernel_size=(3, 3), stride=(1, 1), padding=(1, 1), groups=32)\n",
       "        (1): Conv2d(32, 64, kernel_size=(1, 1), stride=(1, 1))\n",
       "      )\n",
       "      (prelu): PReLU(num_parameters=64)\n",
       "    )\n",
       "    (3): IrisBlock(\n",
       "      (conv_prelu): Sequential(\n",
       "        (0): Conv2d(64, 32, kernel_size=(1, 1), stride=(1, 1))\n",
       "        (1): PReLU(num_parameters=32)\n",
       "      )\n",
       "      (depthwiseconv_conv): Sequential(\n",
       "        (0): Conv2d(32, 32, kernel_size=(3, 3), stride=(1, 1), padding=(1, 1), groups=32)\n",
       "        (1): Conv2d(32, 64, kernel_size=(1, 1), stride=(1, 1))\n",
       "      )\n",
       "      (prelu): PReLU(num_parameters=64)\n",
       "    )\n",
       "    (4): IrisBlock(\n",
       "      (conv_prelu): Sequential(\n",
       "        (0): Conv2d(64, 32, kernel_size=(1, 1), stride=(1, 1))\n",
       "        (1): PReLU(num_parameters=32)\n",
       "      )\n",
       "      (depthwiseconv_conv): Sequential(\n",
       "        (0): Conv2d(32, 32, kernel_size=(3, 3), stride=(1, 1), padding=(1, 1), groups=32)\n",
       "        (1): Conv2d(32, 64, kernel_size=(1, 1), stride=(1, 1))\n",
       "      )\n",
       "      (prelu): PReLU(num_parameters=64)\n",
       "    )\n",
       "    (5): IrisBlock(\n",
       "      (conv_prelu): Sequential(\n",
       "        (0): Conv2d(64, 32, kernel_size=(1, 1), stride=(1, 1))\n",
       "        (1): PReLU(num_parameters=32)\n",
       "      )\n",
       "      (depthwiseconv_conv): Sequential(\n",
       "        (0): Conv2d(32, 32, kernel_size=(3, 3), stride=(1, 1), padding=(1, 1), groups=32)\n",
       "        (1): Conv2d(32, 64, kernel_size=(1, 1), stride=(1, 1))\n",
       "      )\n",
       "      (prelu): PReLU(num_parameters=64)\n",
       "    )\n",
       "    (6): IrisBlock(\n",
       "      (conv_prelu): Sequential(\n",
       "        (0): Conv2d(64, 64, kernel_size=(2, 2), stride=(2, 2))\n",
       "        (1): PReLU(num_parameters=64)\n",
       "      )\n",
       "      (depthwiseconv_conv): Sequential(\n",
       "        (0): Conv2d(64, 64, kernel_size=(3, 3), stride=(1, 1), padding=(1, 1), groups=64)\n",
       "        (1): Conv2d(64, 128, kernel_size=(1, 1), stride=(1, 1))\n",
       "      )\n",
       "      (max_pool): MaxPool2d(kernel_size=2, stride=2, padding=0, dilation=1, ceil_mode=False)\n",
       "      (prelu): PReLU(num_parameters=128)\n",
       "    )\n",
       "    (7): IrisBlock(\n",
       "      (conv_prelu): Sequential(\n",
       "        (0): Conv2d(128, 64, kernel_size=(1, 1), stride=(1, 1))\n",
       "        (1): PReLU(num_parameters=64)\n",
       "      )\n",
       "      (depthwiseconv_conv): Sequential(\n",
       "        (0): Conv2d(64, 64, kernel_size=(3, 3), stride=(1, 1), padding=(1, 1), groups=64)\n",
       "        (1): Conv2d(64, 128, kernel_size=(1, 1), stride=(1, 1))\n",
       "      )\n",
       "      (prelu): PReLU(num_parameters=128)\n",
       "    )\n",
       "    (8): IrisBlock(\n",
       "      (conv_prelu): Sequential(\n",
       "        (0): Conv2d(128, 64, kernel_size=(1, 1), stride=(1, 1))\n",
       "        (1): PReLU(num_parameters=64)\n",
       "      )\n",
       "      (depthwiseconv_conv): Sequential(\n",
       "        (0): Conv2d(64, 64, kernel_size=(3, 3), stride=(1, 1), padding=(1, 1), groups=64)\n",
       "        (1): Conv2d(64, 128, kernel_size=(1, 1), stride=(1, 1))\n",
       "      )\n",
       "      (prelu): PReLU(num_parameters=128)\n",
       "    )\n",
       "    (9): IrisBlock(\n",
       "      (conv_prelu): Sequential(\n",
       "        (0): Conv2d(128, 64, kernel_size=(1, 1), stride=(1, 1))\n",
       "        (1): PReLU(num_parameters=64)\n",
       "      )\n",
       "      (depthwiseconv_conv): Sequential(\n",
       "        (0): Conv2d(64, 64, kernel_size=(3, 3), stride=(1, 1), padding=(1, 1), groups=64)\n",
       "        (1): Conv2d(64, 128, kernel_size=(1, 1), stride=(1, 1))\n",
       "      )\n",
       "      (prelu): PReLU(num_parameters=128)\n",
       "    )\n",
       "    (10): IrisBlock(\n",
       "      (conv_prelu): Sequential(\n",
       "        (0): Conv2d(128, 64, kernel_size=(1, 1), stride=(1, 1))\n",
       "        (1): PReLU(num_parameters=64)\n",
       "      )\n",
       "      (depthwiseconv_conv): Sequential(\n",
       "        (0): Conv2d(64, 64, kernel_size=(3, 3), stride=(1, 1), padding=(1, 1), groups=64)\n",
       "        (1): Conv2d(64, 128, kernel_size=(1, 1), stride=(1, 1))\n",
       "      )\n",
       "      (prelu): PReLU(num_parameters=128)\n",
       "    )\n",
       "    (11): IrisBlock(\n",
       "      (conv_prelu): Sequential(\n",
       "        (0): Conv2d(128, 64, kernel_size=(2, 2), stride=(2, 2))\n",
       "        (1): PReLU(num_parameters=64)\n",
       "      )\n",
       "      (depthwiseconv_conv): Sequential(\n",
       "        (0): Conv2d(64, 64, kernel_size=(3, 3), stride=(1, 1), padding=(1, 1), groups=64)\n",
       "        (1): Conv2d(64, 128, kernel_size=(1, 1), stride=(1, 1))\n",
       "      )\n",
       "      (max_pool): MaxPool2d(kernel_size=2, stride=2, padding=0, dilation=1, ceil_mode=False)\n",
       "      (prelu): PReLU(num_parameters=128)\n",
       "    )\n",
       "  )\n",
       "  (regression_head_face): Sequential(\n",
       "    (0): FaceMeshBlock(\n",
       "      (max_pool): MaxPool2d(kernel_size=2, stride=2, padding=0, dilation=1, ceil_mode=False)\n",
       "      (convs): Sequential(\n",
       "        (0): Conv2d(128, 128, kernel_size=(3, 3), stride=(2, 2), groups=128)\n",
       "        (1): Conv2d(128, 128, kernel_size=(1, 1), stride=(1, 1))\n",
       "      )\n",
       "      (act): PReLU(num_parameters=128)\n",
       "    )\n",
       "    (1): FaceMeshBlock(\n",
       "      (convs): Sequential(\n",
       "        (0): Conv2d(128, 128, kernel_size=(3, 3), stride=(1, 1), padding=(1, 1), groups=128)\n",
       "        (1): Conv2d(128, 128, kernel_size=(1, 1), stride=(1, 1))\n",
       "      )\n",
       "      (act): PReLU(num_parameters=128)\n",
       "    )\n",
       "    (2): FaceMeshBlock(\n",
       "      (convs): Sequential(\n",
       "        (0): Conv2d(128, 128, kernel_size=(3, 3), stride=(1, 1), padding=(1, 1), groups=128)\n",
       "        (1): Conv2d(128, 128, kernel_size=(1, 1), stride=(1, 1))\n",
       "      )\n",
       "      (act): PReLU(num_parameters=128)\n",
       "    )\n",
       "    (3): Conv2d(128, 32, kernel_size=(1, 1), stride=(1, 1))\n",
       "    (4): PReLU(num_parameters=32)\n",
       "    (5): FaceMeshBlock(\n",
       "      (convs): Sequential(\n",
       "        (0): Conv2d(32, 32, kernel_size=(3, 3), stride=(1, 1), padding=(1, 1), groups=32)\n",
       "        (1): Conv2d(32, 32, kernel_size=(1, 1), stride=(1, 1))\n",
       "      )\n",
       "      (act): PReLU(num_parameters=32)\n",
       "    )\n",
       "  )\n",
       "  (regression_head_eyes): Sequential(\n",
       "    (0): IrisBlock(\n",
       "      (conv_prelu): Sequential(\n",
       "        (0): Conv2d(128, 64, kernel_size=(1, 1), stride=(1, 1))\n",
       "        (1): PReLU(num_parameters=64)\n",
       "      )\n",
       "      (depthwiseconv_conv): Sequential(\n",
       "        (0): Conv2d(64, 64, kernel_size=(3, 3), stride=(1, 1), padding=(1, 1), groups=64)\n",
       "        (1): Conv2d(64, 128, kernel_size=(1, 1), stride=(1, 1))\n",
       "      )\n",
       "      (prelu): PReLU(num_parameters=128)\n",
       "    )\n",
       "    (1): IrisBlock(\n",
       "      (conv_prelu): Sequential(\n",
       "        (0): Conv2d(128, 64, kernel_size=(1, 1), stride=(1, 1))\n",
       "        (1): PReLU(num_parameters=64)\n",
       "      )\n",
       "      (depthwiseconv_conv): Sequential(\n",
       "        (0): Conv2d(64, 64, kernel_size=(3, 3), stride=(1, 1), padding=(1, 1), groups=64)\n",
       "        (1): Conv2d(64, 128, kernel_size=(1, 1), stride=(1, 1))\n",
       "      )\n",
       "      (prelu): PReLU(num_parameters=128)\n",
       "    )\n",
       "    (2): IrisBlock(\n",
       "      (conv_prelu): Sequential(\n",
       "        (0): Conv2d(128, 64, kernel_size=(2, 2), stride=(2, 2))\n",
       "        (1): PReLU(num_parameters=64)\n",
       "      )\n",
       "      (depthwiseconv_conv): Sequential(\n",
       "        (0): Conv2d(64, 64, kernel_size=(3, 3), stride=(1, 1), padding=(1, 1), groups=64)\n",
       "        (1): Conv2d(64, 128, kernel_size=(1, 1), stride=(1, 1))\n",
       "      )\n",
       "      (max_pool): MaxPool2d(kernel_size=2, stride=2, padding=0, dilation=1, ceil_mode=False)\n",
       "      (prelu): PReLU(num_parameters=128)\n",
       "    )\n",
       "    (3): IrisBlock(\n",
       "      (conv_prelu): Sequential(\n",
       "        (0): Conv2d(128, 64, kernel_size=(1, 1), stride=(1, 1))\n",
       "        (1): PReLU(num_parameters=64)\n",
       "      )\n",
       "      (depthwiseconv_conv): Sequential(\n",
       "        (0): Conv2d(64, 64, kernel_size=(3, 3), stride=(1, 1), padding=(1, 1), groups=64)\n",
       "        (1): Conv2d(64, 128, kernel_size=(1, 1), stride=(1, 1))\n",
       "      )\n",
       "      (prelu): PReLU(num_parameters=128)\n",
       "    )\n",
       "    (4): IrisBlock(\n",
       "      (conv_prelu): Sequential(\n",
       "        (0): Conv2d(128, 64, kernel_size=(1, 1), stride=(1, 1))\n",
       "        (1): PReLU(num_parameters=64)\n",
       "      )\n",
       "      (depthwiseconv_conv): Sequential(\n",
       "        (0): Conv2d(64, 64, kernel_size=(3, 3), stride=(1, 1), padding=(1, 1), groups=64)\n",
       "        (1): Conv2d(64, 128, kernel_size=(1, 1), stride=(1, 1))\n",
       "      )\n",
       "      (prelu): PReLU(num_parameters=128)\n",
       "    )\n",
       "    (5): IrisBlock(\n",
       "      (conv_prelu): Sequential(\n",
       "        (0): Conv2d(128, 64, kernel_size=(2, 2), stride=(2, 2))\n",
       "        (1): PReLU(num_parameters=64)\n",
       "      )\n",
       "      (depthwiseconv_conv): Sequential(\n",
       "        (0): Conv2d(64, 64, kernel_size=(3, 3), stride=(1, 1), padding=(1, 1), groups=64)\n",
       "        (1): Conv2d(64, 128, kernel_size=(1, 1), stride=(1, 1))\n",
       "      )\n",
       "      (max_pool): MaxPool2d(kernel_size=2, stride=2, padding=0, dilation=1, ceil_mode=False)\n",
       "      (prelu): PReLU(num_parameters=128)\n",
       "    )\n",
       "    (6): IrisBlock(\n",
       "      (conv_prelu): Sequential(\n",
       "        (0): Conv2d(128, 64, kernel_size=(1, 1), stride=(1, 1))\n",
       "        (1): PReLU(num_parameters=64)\n",
       "      )\n",
       "      (depthwiseconv_conv): Sequential(\n",
       "        (0): Conv2d(64, 64, kernel_size=(3, 3), stride=(1, 1), padding=(1, 1), groups=64)\n",
       "        (1): Conv2d(64, 128, kernel_size=(1, 1), stride=(1, 1))\n",
       "      )\n",
       "      (prelu): PReLU(num_parameters=128)\n",
       "    )\n",
       "    (7): IrisBlock(\n",
       "      (conv_prelu): Sequential(\n",
       "        (0): Conv2d(128, 64, kernel_size=(1, 1), stride=(1, 1))\n",
       "        (1): PReLU(num_parameters=64)\n",
       "      )\n",
       "      (depthwiseconv_conv): Sequential(\n",
       "        (0): Conv2d(64, 64, kernel_size=(3, 3), stride=(1, 1), padding=(1, 1), groups=64)\n",
       "        (1): Conv2d(64, 128, kernel_size=(1, 1), stride=(1, 1))\n",
       "      )\n",
       "      (prelu): PReLU(num_parameters=128)\n",
       "    )\n",
       "  )\n",
       "  (fc): Linear(in_features=544, out_features=2, bias=True)\n",
       ")"
      ]
     },
     "execution_count": 163,
     "metadata": {},
     "output_type": "execute_result"
    }
   ],
   "source": [
    "model = FineTuneModel(pretrained_model_face, pretrained_model_eyes).to(device)\n",
    "model.load_state_dict(torch.load(os.path.join(CHECKPOINTS_PATH, f\"best_{EXPERIMENT_NAME}.pt\")))\n",
    "# model.load_state_dict(torch.load(os.path.join(CHECKPOINTS_PATH, f\"best_raw_images.pt\")))\n",
    "criterion = RMSELoss()\n",
    "model.eval()"
   ]
  },
  {
   "cell_type": "code",
   "execution_count": 164,
   "id": "71141060-3912-4ece-8e52-e645b3442011",
   "metadata": {},
   "outputs": [],
   "source": [
    "dataset_test = GazeDetectionDataset(data = test_df, transform_list=trans_list, to_tensors=True, device=device)\n",
    "dataloader_test = DataLoader(dataset_test, batch_size=BATCH_SIZE,\n",
    "                        shuffle=False, num_workers=0)"
   ]
  },
  {
   "cell_type": "code",
   "execution_count": 165,
   "id": "39ff4ddc-52f8-4b8e-afab-a5333c5008e3",
   "metadata": {},
   "outputs": [
    {
     "name": "stderr",
     "output_type": "stream",
     "text": [
      "100%|███████████████████████████████████████████| 14/14 [02:24<00:00, 10.29s/it]"
     ]
    },
    {
     "name": "stdout",
     "output_type": "stream",
     "text": [
      "Test loss: 0.143\n"
     ]
    },
    {
     "name": "stderr",
     "output_type": "stream",
     "text": [
      "\n"
     ]
    }
   ],
   "source": [
    "preds = []\n",
    "labels_list = []\n",
    "losses = 0\n",
    "for i, data in tqdm(enumerate(dataloader_test), total = len(dataloader_test)):\n",
    "    inputs, labels, inputs_eye_l, inputs_eye_r = data['image'], data['coordinates'], \\\n",
    "                                                     data['eye_l'], data['eye_r']\n",
    "    with torch.no_grad():\n",
    "        outputs = model(inputs, inputs_eye_l, inputs_eye_r)\n",
    "    loss = criterion(outputs, labels)\n",
    "    losses += loss.detach().cpu().item()\n",
    "    pred = outputs.cpu().numpy()\n",
    "    preds.append(pred)\n",
    "    labels_list.append(labels.cpu().numpy())\n",
    "\n",
    "print(f\"Test loss: {round(losses / (i + 1), 3)}\")"
   ]
  },
  {
   "cell_type": "code",
   "execution_count": 172,
   "id": "5b7cd1bc-be2b-4a22-9c8d-16cf42948bbb",
   "metadata": {},
   "outputs": [
    {
     "name": "stdout",
     "output_type": "stream",
     "text": [
      "Test loss: 0.143\n"
     ]
    }
   ],
   "source": [
    "print(f\"Test loss: {round(losses / (i + 1), 3)}\")"
   ]
  },
  {
   "cell_type": "code",
   "execution_count": 167,
   "id": "406cdd0c-6fe4-4889-8a80-cde146c2a968",
   "metadata": {},
   "outputs": [],
   "source": [
    "preds = np.vstack(preds)\n",
    "labels = np.vstack(labels_list)"
   ]
  },
  {
   "cell_type": "code",
   "execution_count": 173,
   "id": "21953511-bd76-4802-a144-d9eeb7aec893",
   "metadata": {},
   "outputs": [
    {
     "name": "stdout",
     "output_type": "stream",
     "text": [
      "Test MAPE: 0.47852182388305664\n"
     ]
    }
   ],
   "source": [
    "mape_value = mape(labels, preds)\n",
    "print(f\"Test MAPE: {mape_value}\")"
   ]
  },
  {
   "cell_type": "code",
   "execution_count": 174,
   "id": "969d7656-38be-41da-b4ab-8a653ed40b70",
   "metadata": {},
   "outputs": [],
   "source": [
    "test_df_copy = test_df.copy()"
   ]
  },
  {
   "cell_type": "code",
   "execution_count": 175,
   "id": "2764dda9-f366-4a8f-a102-1ccc723dba0e",
   "metadata": {},
   "outputs": [],
   "source": [
    "test_df_copy[\"pred_x\"] = preds.T[0]\n",
    "test_df_copy[\"pred_y\"] = preds.T[1]"
   ]
  },
  {
   "cell_type": "code",
   "execution_count": 176,
   "id": "5871508a-1b03-4b1d-a90d-1e26aec4ae99",
   "metadata": {
    "scrolled": true
   },
   "outputs": [
    {
     "data": {
      "text/html": [
       "<div>\n",
       "<style scoped>\n",
       "    .dataframe tbody tr th:only-of-type {\n",
       "        vertical-align: middle;\n",
       "    }\n",
       "\n",
       "    .dataframe tbody tr th {\n",
       "        vertical-align: top;\n",
       "    }\n",
       "\n",
       "    .dataframe thead th {\n",
       "        text-align: right;\n",
       "    }\n",
       "</style>\n",
       "<table border=\"1\" class=\"dataframe\">\n",
       "  <thead>\n",
       "    <tr style=\"text-align: right;\">\n",
       "      <th></th>\n",
       "      <th>x_normalized</th>\n",
       "      <th>y_normalized</th>\n",
       "      <th>pred_x</th>\n",
       "      <th>pred_y</th>\n",
       "    </tr>\n",
       "  </thead>\n",
       "  <tbody>\n",
       "    <tr>\n",
       "      <th>14116</th>\n",
       "      <td>0.641969</td>\n",
       "      <td>0.220104</td>\n",
       "      <td>0.349730</td>\n",
       "      <td>0.345627</td>\n",
       "    </tr>\n",
       "    <tr>\n",
       "      <th>14117</th>\n",
       "      <td>0.205234</td>\n",
       "      <td>0.479142</td>\n",
       "      <td>0.594664</td>\n",
       "      <td>0.464571</td>\n",
       "    </tr>\n",
       "    <tr>\n",
       "      <th>14118</th>\n",
       "      <td>0.633518</td>\n",
       "      <td>0.317813</td>\n",
       "      <td>0.381147</td>\n",
       "      <td>0.376710</td>\n",
       "    </tr>\n",
       "    <tr>\n",
       "      <th>14119</th>\n",
       "      <td>0.201264</td>\n",
       "      <td>0.289198</td>\n",
       "      <td>0.265521</td>\n",
       "      <td>0.273719</td>\n",
       "    </tr>\n",
       "    <tr>\n",
       "      <th>14120</th>\n",
       "      <td>0.969311</td>\n",
       "      <td>0.202355</td>\n",
       "      <td>0.538792</td>\n",
       "      <td>0.316665</td>\n",
       "    </tr>\n",
       "    <tr>\n",
       "      <th>14121</th>\n",
       "      <td>0.309948</td>\n",
       "      <td>0.525626</td>\n",
       "      <td>0.324809</td>\n",
       "      <td>0.573165</td>\n",
       "    </tr>\n",
       "    <tr>\n",
       "      <th>14122</th>\n",
       "      <td>0.634507</td>\n",
       "      <td>0.577160</td>\n",
       "      <td>0.541727</td>\n",
       "      <td>0.407596</td>\n",
       "    </tr>\n",
       "    <tr>\n",
       "      <th>14123</th>\n",
       "      <td>0.346729</td>\n",
       "      <td>0.279872</td>\n",
       "      <td>0.292529</td>\n",
       "      <td>0.362103</td>\n",
       "    </tr>\n",
       "    <tr>\n",
       "      <th>14124</th>\n",
       "      <td>0.218761</td>\n",
       "      <td>0.376791</td>\n",
       "      <td>0.339502</td>\n",
       "      <td>0.366650</td>\n",
       "    </tr>\n",
       "    <tr>\n",
       "      <th>14125</th>\n",
       "      <td>0.046543</td>\n",
       "      <td>0.188688</td>\n",
       "      <td>0.211088</td>\n",
       "      <td>0.488866</td>\n",
       "    </tr>\n",
       "    <tr>\n",
       "      <th>14126</th>\n",
       "      <td>0.275073</td>\n",
       "      <td>0.587330</td>\n",
       "      <td>0.312513</td>\n",
       "      <td>0.531485</td>\n",
       "    </tr>\n",
       "    <tr>\n",
       "      <th>14127</th>\n",
       "      <td>0.279597</td>\n",
       "      <td>0.313406</td>\n",
       "      <td>0.311799</td>\n",
       "      <td>0.249311</td>\n",
       "    </tr>\n",
       "    <tr>\n",
       "      <th>14128</th>\n",
       "      <td>0.222043</td>\n",
       "      <td>0.512854</td>\n",
       "      <td>0.242503</td>\n",
       "      <td>0.375306</td>\n",
       "    </tr>\n",
       "    <tr>\n",
       "      <th>14129</th>\n",
       "      <td>0.068314</td>\n",
       "      <td>0.126097</td>\n",
       "      <td>0.173132</td>\n",
       "      <td>0.308272</td>\n",
       "    </tr>\n",
       "    <tr>\n",
       "      <th>14130</th>\n",
       "      <td>0.262134</td>\n",
       "      <td>0.739203</td>\n",
       "      <td>0.144564</td>\n",
       "      <td>0.409657</td>\n",
       "    </tr>\n",
       "    <tr>\n",
       "      <th>14131</th>\n",
       "      <td>0.333417</td>\n",
       "      <td>0.239141</td>\n",
       "      <td>0.340877</td>\n",
       "      <td>0.512175</td>\n",
       "    </tr>\n",
       "    <tr>\n",
       "      <th>14132</th>\n",
       "      <td>0.374701</td>\n",
       "      <td>0.326779</td>\n",
       "      <td>0.485365</td>\n",
       "      <td>0.355520</td>\n",
       "    </tr>\n",
       "    <tr>\n",
       "      <th>14133</th>\n",
       "      <td>0.447774</td>\n",
       "      <td>0.517602</td>\n",
       "      <td>0.365111</td>\n",
       "      <td>0.468654</td>\n",
       "    </tr>\n",
       "    <tr>\n",
       "      <th>14134</th>\n",
       "      <td>0.287699</td>\n",
       "      <td>0.479375</td>\n",
       "      <td>0.309655</td>\n",
       "      <td>0.328615</td>\n",
       "    </tr>\n",
       "    <tr>\n",
       "      <th>14135</th>\n",
       "      <td>0.278735</td>\n",
       "      <td>0.364826</td>\n",
       "      <td>0.253413</td>\n",
       "      <td>0.346011</td>\n",
       "    </tr>\n",
       "    <tr>\n",
       "      <th>14136</th>\n",
       "      <td>0.128351</td>\n",
       "      <td>0.017153</td>\n",
       "      <td>0.375998</td>\n",
       "      <td>0.524113</td>\n",
       "    </tr>\n",
       "    <tr>\n",
       "      <th>14137</th>\n",
       "      <td>0.291686</td>\n",
       "      <td>0.502719</td>\n",
       "      <td>0.395680</td>\n",
       "      <td>0.445511</td>\n",
       "    </tr>\n",
       "    <tr>\n",
       "      <th>14138</th>\n",
       "      <td>0.506012</td>\n",
       "      <td>0.096737</td>\n",
       "      <td>0.302492</td>\n",
       "      <td>0.377683</td>\n",
       "    </tr>\n",
       "    <tr>\n",
       "      <th>14139</th>\n",
       "      <td>0.218910</td>\n",
       "      <td>0.444921</td>\n",
       "      <td>0.466342</td>\n",
       "      <td>0.319289</td>\n",
       "    </tr>\n",
       "    <tr>\n",
       "      <th>14140</th>\n",
       "      <td>0.396427</td>\n",
       "      <td>0.537800</td>\n",
       "      <td>0.317522</td>\n",
       "      <td>0.521497</td>\n",
       "    </tr>\n",
       "    <tr>\n",
       "      <th>14141</th>\n",
       "      <td>0.238645</td>\n",
       "      <td>0.369011</td>\n",
       "      <td>0.440834</td>\n",
       "      <td>0.331610</td>\n",
       "    </tr>\n",
       "    <tr>\n",
       "      <th>14142</th>\n",
       "      <td>0.360790</td>\n",
       "      <td>0.299275</td>\n",
       "      <td>0.300306</td>\n",
       "      <td>0.408252</td>\n",
       "    </tr>\n",
       "    <tr>\n",
       "      <th>14143</th>\n",
       "      <td>0.197269</td>\n",
       "      <td>0.657329</td>\n",
       "      <td>0.338011</td>\n",
       "      <td>0.373435</td>\n",
       "    </tr>\n",
       "    <tr>\n",
       "      <th>14144</th>\n",
       "      <td>0.351900</td>\n",
       "      <td>0.725899</td>\n",
       "      <td>0.460470</td>\n",
       "      <td>0.522392</td>\n",
       "    </tr>\n",
       "    <tr>\n",
       "      <th>14145</th>\n",
       "      <td>0.492351</td>\n",
       "      <td>0.455546</td>\n",
       "      <td>0.468531</td>\n",
       "      <td>0.419820</td>\n",
       "    </tr>\n",
       "    <tr>\n",
       "      <th>14146</th>\n",
       "      <td>0.473948</td>\n",
       "      <td>0.548207</td>\n",
       "      <td>0.294616</td>\n",
       "      <td>0.459110</td>\n",
       "    </tr>\n",
       "    <tr>\n",
       "      <th>14147</th>\n",
       "      <td>0.580919</td>\n",
       "      <td>0.178606</td>\n",
       "      <td>0.467312</td>\n",
       "      <td>0.485999</td>\n",
       "    </tr>\n",
       "    <tr>\n",
       "      <th>14148</th>\n",
       "      <td>0.152843</td>\n",
       "      <td>0.016634</td>\n",
       "      <td>0.220493</td>\n",
       "      <td>0.168694</td>\n",
       "    </tr>\n",
       "    <tr>\n",
       "      <th>14149</th>\n",
       "      <td>0.650829</td>\n",
       "      <td>0.389712</td>\n",
       "      <td>0.459630</td>\n",
       "      <td>0.591042</td>\n",
       "    </tr>\n",
       "    <tr>\n",
       "      <th>14150</th>\n",
       "      <td>0.280681</td>\n",
       "      <td>0.532170</td>\n",
       "      <td>0.315553</td>\n",
       "      <td>0.358646</td>\n",
       "    </tr>\n",
       "    <tr>\n",
       "      <th>14151</th>\n",
       "      <td>0.312990</td>\n",
       "      <td>0.490017</td>\n",
       "      <td>0.348801</td>\n",
       "      <td>0.490058</td>\n",
       "    </tr>\n",
       "    <tr>\n",
       "      <th>14152</th>\n",
       "      <td>0.518021</td>\n",
       "      <td>0.370366</td>\n",
       "      <td>0.457480</td>\n",
       "      <td>0.310300</td>\n",
       "    </tr>\n",
       "    <tr>\n",
       "      <th>14153</th>\n",
       "      <td>0.323022</td>\n",
       "      <td>0.353973</td>\n",
       "      <td>0.297054</td>\n",
       "      <td>0.405879</td>\n",
       "    </tr>\n",
       "    <tr>\n",
       "      <th>14154</th>\n",
       "      <td>0.964667</td>\n",
       "      <td>0.505924</td>\n",
       "      <td>0.447963</td>\n",
       "      <td>0.535571</td>\n",
       "    </tr>\n",
       "    <tr>\n",
       "      <th>14155</th>\n",
       "      <td>0.279734</td>\n",
       "      <td>0.334726</td>\n",
       "      <td>0.411903</td>\n",
       "      <td>0.387655</td>\n",
       "    </tr>\n",
       "  </tbody>\n",
       "</table>\n",
       "</div>"
      ],
      "text/plain": [
       "       x_normalized  y_normalized    pred_x    pred_y\n",
       "14116      0.641969      0.220104  0.349730  0.345627\n",
       "14117      0.205234      0.479142  0.594664  0.464571\n",
       "14118      0.633518      0.317813  0.381147  0.376710\n",
       "14119      0.201264      0.289198  0.265521  0.273719\n",
       "14120      0.969311      0.202355  0.538792  0.316665\n",
       "14121      0.309948      0.525626  0.324809  0.573165\n",
       "14122      0.634507      0.577160  0.541727  0.407596\n",
       "14123      0.346729      0.279872  0.292529  0.362103\n",
       "14124      0.218761      0.376791  0.339502  0.366650\n",
       "14125      0.046543      0.188688  0.211088  0.488866\n",
       "14126      0.275073      0.587330  0.312513  0.531485\n",
       "14127      0.279597      0.313406  0.311799  0.249311\n",
       "14128      0.222043      0.512854  0.242503  0.375306\n",
       "14129      0.068314      0.126097  0.173132  0.308272\n",
       "14130      0.262134      0.739203  0.144564  0.409657\n",
       "14131      0.333417      0.239141  0.340877  0.512175\n",
       "14132      0.374701      0.326779  0.485365  0.355520\n",
       "14133      0.447774      0.517602  0.365111  0.468654\n",
       "14134      0.287699      0.479375  0.309655  0.328615\n",
       "14135      0.278735      0.364826  0.253413  0.346011\n",
       "14136      0.128351      0.017153  0.375998  0.524113\n",
       "14137      0.291686      0.502719  0.395680  0.445511\n",
       "14138      0.506012      0.096737  0.302492  0.377683\n",
       "14139      0.218910      0.444921  0.466342  0.319289\n",
       "14140      0.396427      0.537800  0.317522  0.521497\n",
       "14141      0.238645      0.369011  0.440834  0.331610\n",
       "14142      0.360790      0.299275  0.300306  0.408252\n",
       "14143      0.197269      0.657329  0.338011  0.373435\n",
       "14144      0.351900      0.725899  0.460470  0.522392\n",
       "14145      0.492351      0.455546  0.468531  0.419820\n",
       "14146      0.473948      0.548207  0.294616  0.459110\n",
       "14147      0.580919      0.178606  0.467312  0.485999\n",
       "14148      0.152843      0.016634  0.220493  0.168694\n",
       "14149      0.650829      0.389712  0.459630  0.591042\n",
       "14150      0.280681      0.532170  0.315553  0.358646\n",
       "14151      0.312990      0.490017  0.348801  0.490058\n",
       "14152      0.518021      0.370366  0.457480  0.310300\n",
       "14153      0.323022      0.353973  0.297054  0.405879\n",
       "14154      0.964667      0.505924  0.447963  0.535571\n",
       "14155      0.279734      0.334726  0.411903  0.387655"
      ]
     },
     "execution_count": 176,
     "metadata": {},
     "output_type": "execute_result"
    }
   ],
   "source": [
    "test_df_copy[['x_normalized', 'y_normalized', 'pred_x', 'pred_y']].tail(40)"
   ]
  },
  {
   "cell_type": "code",
   "execution_count": null,
   "id": "c0539c32-9b83-4d61-8b29-948cac19c9f0",
   "metadata": {},
   "outputs": [],
   "source": []
  },
  {
   "cell_type": "code",
   "execution_count": 30,
   "id": "0ee85007-7d27-40d0-8745-8f53cbe2963a",
   "metadata": {},
   "outputs": [],
   "source": [
    "from sklearn.metrics import mean_squared_error as mse"
   ]
  },
  {
   "cell_type": "code",
   "execution_count": 25,
   "id": "79b66fec-49fe-4713-911a-542c86b855ad",
   "metadata": {},
   "outputs": [],
   "source": [
    "test1 = test_df_copy[(test_df_copy[\"x_normalized\"] < 1.2) & (test_df_copy[\"y_normalized\"] < 1.1)]\n",
    "condition = ((test1[\"x_normalized\"] > 0.6) & (test1[\"pred_x\"] < 0.4)) | \\\n",
    "            ((test1[\"x_normalized\"] < 0.4) & (test1[\"pred_x\"] > 0.6))\n",
    "test2 = test1[~condition]"
   ]
  },
  {
   "cell_type": "code",
   "execution_count": 35,
   "id": "0d26ae39-f5c4-422f-b1de-191bada809af",
   "metadata": {},
   "outputs": [],
   "source": [
    "preds = test_df_copy[[\"pred_x\", \"pred_y\"]].values\n",
    "labels = test_df_copy[[\"x_normalized\", \"y_normalized\"]].values"
   ]
  },
  {
   "cell_type": "code",
   "execution_count": 36,
   "id": "35fc51b3-47b7-40a6-aba9-24433a02b4d7",
   "metadata": {},
   "outputs": [
    {
     "name": "stdout",
     "output_type": "stream",
     "text": [
      "Test MAPE: 0.49439073762864705\n"
     ]
    }
   ],
   "source": [
    "mape_value = mape(labels, preds)\n",
    "print(f\"Test MAPE: {mape_value}\")"
   ]
  },
  {
   "cell_type": "code",
   "execution_count": 37,
   "id": "81913c16-5ed9-4df4-8545-def687e51fe5",
   "metadata": {},
   "outputs": [
    {
     "name": "stdout",
     "output_type": "stream",
     "text": [
      "Test RMSE: 0.030252860148658117\n"
     ]
    }
   ],
   "source": [
    "rmse_value = mse(labels, preds, squared=True)\n",
    "print(f\"Test RMSE: {rmse_value}\")"
   ]
  },
  {
   "cell_type": "code",
   "execution_count": 38,
   "id": "b956fe1b-acdb-48f5-aafd-5efabb4eaa83",
   "metadata": {},
   "outputs": [],
   "source": [
    "preds = test2[[\"pred_x\", \"pred_y\"]].values\n",
    "labels = test2[[\"x_normalized\", \"y_normalized\"]].values"
   ]
  },
  {
   "cell_type": "code",
   "execution_count": 39,
   "id": "55edc0cc-c7bb-4fbd-8d4d-84e8dd1d6662",
   "metadata": {},
   "outputs": [
    {
     "name": "stdout",
     "output_type": "stream",
     "text": [
      "Test MAPE: 0.4947499885250973\n"
     ]
    }
   ],
   "source": [
    "mape_value = mape(labels, preds)\n",
    "print(f\"Test MAPE: {mape_value}\")"
   ]
  },
  {
   "cell_type": "code",
   "execution_count": 40,
   "id": "3cc216a9-bcbd-497f-ac51-5a03ea6b0379",
   "metadata": {},
   "outputs": [
    {
     "name": "stdout",
     "output_type": "stream",
     "text": [
      "Test RMSE: 0.019516443613114616\n"
     ]
    }
   ],
   "source": [
    "rmse_value = mse(labels, preds, squared=True)\n",
    "print(f\"Test RMSE: {rmse_value}\")"
   ]
  },
  {
   "cell_type": "code",
   "execution_count": 132,
   "id": "9f468f1e-9b26-4728-a0f8-1c7a689fd668",
   "metadata": {},
   "outputs": [
    {
     "ename": "NameError",
     "evalue": "name 'test2' is not defined",
     "output_type": "error",
     "traceback": [
      "\u001b[0;31m---------------------------------------------------------------------------\u001b[0m",
      "\u001b[0;31mNameError\u001b[0m                                 Traceback (most recent call last)",
      "Cell \u001b[0;32mIn[132], line 1\u001b[0m\n\u001b[0;32m----> 1\u001b[0m \u001b[43mtest2\u001b[49m\u001b[38;5;241m.\u001b[39mdrop(columns \u001b[38;5;241m=\u001b[39m [\u001b[38;5;124m\"\u001b[39m\u001b[38;5;124mpred_x\u001b[39m\u001b[38;5;124m\"\u001b[39m, \u001b[38;5;124m\"\u001b[39m\u001b[38;5;124mpred_y\u001b[39m\u001b[38;5;124m\"\u001b[39m])\u001b[38;5;241m.\u001b[39mto_csv(\u001b[38;5;124m\"\u001b[39m\u001b[38;5;124m./tobii_test_sub_updv2.csv\u001b[39m\u001b[38;5;124m\"\u001b[39m, index \u001b[38;5;241m=\u001b[39m \u001b[38;5;28;01mFalse\u001b[39;00m)\n",
      "\u001b[0;31mNameError\u001b[0m: name 'test2' is not defined"
     ]
    }
   ],
   "source": [
    "test2.drop(columns = [\"pred_x\", \"pred_y\"]).to_csv(\"./tobii_test_sub_updv2.csv\", index = False)"
   ]
  },
  {
   "cell_type": "code",
   "execution_count": 133,
   "id": "93e0881f-d37e-40a1-8802-641a6e3f1c58",
   "metadata": {},
   "outputs": [
    {
     "data": {
      "text/plain": [
       "(62786, 5)"
      ]
     },
     "execution_count": 133,
     "metadata": {},
     "output_type": "execute_result"
    }
   ],
   "source": [
    "train_df.shape"
   ]
  },
  {
   "cell_type": "code",
   "execution_count": 134,
   "id": "41c15b99-bbc9-4e19-8a85-055e30ce0b23",
   "metadata": {},
   "outputs": [
    {
     "data": {
      "text/plain": [
       "(13789, 5)"
      ]
     },
     "execution_count": 134,
     "metadata": {},
     "output_type": "execute_result"
    }
   ],
   "source": [
    "test_df.shape"
   ]
  },
  {
   "cell_type": "code",
   "execution_count": 177,
   "id": "83b10fb3-e998-4e60-895f-3eaebdcb254d",
   "metadata": {},
   "outputs": [],
   "source": [
    "test_df_copy.to_csv(\"./tobii_test_sub_updv2_mixed_pred.csv\", index = False)"
   ]
  },
  {
   "cell_type": "code",
   "execution_count": null,
   "id": "81b95d9f-8777-4dc6-b425-6c5c8961068a",
   "metadata": {},
   "outputs": [],
   "source": []
  },
  {
   "cell_type": "code",
   "execution_count": 42,
   "id": "d89e1ba4-581a-458e-b3d7-da9620d7f8c3",
   "metadata": {},
   "outputs": [
    {
     "name": "stderr",
     "output_type": "stream",
     "text": [
      "100%|█████████████████████████████████████████████| 9/9 [01:20<00:00,  8.95s/it]"
     ]
    },
    {
     "name": "stdout",
     "output_type": "stream",
     "text": [
      "Test loss: 0.175\n"
     ]
    },
    {
     "name": "stderr",
     "output_type": "stream",
     "text": [
      "\n"
     ]
    }
   ],
   "source": [
    "preds = []\n",
    "labels_list = []\n",
    "losses = 0\n",
    "for i, data in tqdm(enumerate(dataloader_val), total = len(dataloader_val)):\n",
    "    inputs, labels = data['image'], data['coordinates']\n",
    "    with torch.no_grad():\n",
    "        outputs = model(inputs)\n",
    "    loss = criterion(outputs, labels)\n",
    "    losses += loss.detach().cpu().item()\n",
    "    pred = outputs.cpu().numpy()\n",
    "    preds.append(pred)\n",
    "    labels_list.append(labels.cpu().numpy())\n",
    "\n",
    "print(f\"Test loss: {round(losses / (i + 1), 3)}\")"
   ]
  },
  {
   "cell_type": "code",
   "execution_count": 122,
   "id": "1c65e055-a897-4bdf-8509-afe3d97feae0",
   "metadata": {},
   "outputs": [
    {
     "ename": "NameError",
     "evalue": "name 'losses' is not defined",
     "output_type": "error",
     "traceback": [
      "\u001b[0;31m---------------------------------------------------------------------------\u001b[0m",
      "\u001b[0;31mNameError\u001b[0m                                 Traceback (most recent call last)",
      "Cell \u001b[0;32mIn[122], line 1\u001b[0m\n\u001b[0;32m----> 1\u001b[0m \u001b[38;5;28mprint\u001b[39m(\u001b[38;5;124mf\u001b[39m\u001b[38;5;124m\"\u001b[39m\u001b[38;5;124mVal loss: \u001b[39m\u001b[38;5;132;01m{\u001b[39;00m\u001b[38;5;28mround\u001b[39m(\u001b[43mlosses\u001b[49m\u001b[38;5;250m \u001b[39m\u001b[38;5;241m/\u001b[39m\u001b[38;5;250m \u001b[39m(i\u001b[38;5;250m \u001b[39m\u001b[38;5;241m+\u001b[39m\u001b[38;5;250m \u001b[39m\u001b[38;5;241m1\u001b[39m),\u001b[38;5;250m \u001b[39m\u001b[38;5;241m3\u001b[39m)\u001b[38;5;132;01m}\u001b[39;00m\u001b[38;5;124m\"\u001b[39m)\n",
      "\u001b[0;31mNameError\u001b[0m: name 'losses' is not defined"
     ]
    }
   ],
   "source": [
    "print(f\"Val loss: {round(losses / (i + 1), 3)}\")"
   ]
  },
  {
   "cell_type": "code",
   "execution_count": 44,
   "id": "8415d8b0-5101-451b-8fcf-9f6fe0b4fa19",
   "metadata": {},
   "outputs": [],
   "source": [
    "preds = np.vstack(preds)\n",
    "labels = np.vstack(labels_list)"
   ]
  },
  {
   "cell_type": "code",
   "execution_count": 45,
   "id": "947adf27-0759-460d-a3bc-21742660c552",
   "metadata": {},
   "outputs": [
    {
     "name": "stdout",
     "output_type": "stream",
     "text": [
      "Val MAPE: 0.4815107583999634\n"
     ]
    }
   ],
   "source": [
    "mape_value = mape(labels, preds)\n",
    "print(f\"Val MAPE: {mape_value}\")"
   ]
  },
  {
   "cell_type": "code",
   "execution_count": 50,
   "id": "98a18f8c-e203-4999-a2d3-0570243eba34",
   "metadata": {},
   "outputs": [
    {
     "name": "stdout",
     "output_type": "stream",
     "text": [
      "Val RMSE: 0.030162379145622253\n"
     ]
    }
   ],
   "source": [
    "rmse_value = mse(labels, preds, squared=True)\n",
    "print(f\"Val RMSE: {rmse_value}\")"
   ]
  },
  {
   "cell_type": "code",
   "execution_count": 46,
   "id": "cad58d02-1601-44d5-b38c-a737e211da83",
   "metadata": {},
   "outputs": [],
   "source": [
    "val_df_copy = val_df.copy()"
   ]
  },
  {
   "cell_type": "code",
   "execution_count": 47,
   "id": "bf303eee-f289-4f2f-b031-6d948df94d64",
   "metadata": {},
   "outputs": [],
   "source": [
    "val_df_copy[\"pred_x\"] = preds.T[0]\n",
    "val_df_copy[\"pred_y\"] = preds.T[1]"
   ]
  },
  {
   "cell_type": "code",
   "execution_count": 54,
   "id": "4e2c8f16-495c-4028-bee7-4d5388893df5",
   "metadata": {},
   "outputs": [],
   "source": [
    "test1 = val_df_copy[(val_df_copy[\"x_normalized\"] < 1.2) & (val_df_copy[\"y_normalized\"] < 1.1)]\n",
    "condition = ((test1[\"x_normalized\"] > 0.6) & (test1[\"pred_x\"] < 0.4)) | \\\n",
    "            ((test1[\"x_normalized\"] < 0.4) & (test1[\"pred_x\"] > 0.6))\n",
    "test2 = test1[~condition]"
   ]
  },
  {
   "cell_type": "code",
   "execution_count": 55,
   "id": "28d2aadd-ea42-4b38-bcfe-f6a290851260",
   "metadata": {},
   "outputs": [],
   "source": [
    "preds = test2[[\"pred_x\", \"pred_y\"]].values\n",
    "labels = test2[[\"x_normalized\", \"y_normalized\"]].values"
   ]
  },
  {
   "cell_type": "code",
   "execution_count": 56,
   "id": "702260aa-4adb-43d0-bc9a-54b2a20313a5",
   "metadata": {},
   "outputs": [
    {
     "name": "stdout",
     "output_type": "stream",
     "text": [
      "Test MAPE: 0.8610942596087398\n"
     ]
    }
   ],
   "source": [
    "mape_value = mape(labels, preds)\n",
    "print(f\"Test MAPE: {mape_value}\")"
   ]
  },
  {
   "cell_type": "code",
   "execution_count": 57,
   "id": "8694c4f8-43bd-42cd-96c8-e4399eb967b4",
   "metadata": {},
   "outputs": [
    {
     "name": "stdout",
     "output_type": "stream",
     "text": [
      "Test RMSE: 0.047016402471560886\n"
     ]
    }
   ],
   "source": [
    "rmse_value = mse(labels, preds, squared=True)\n",
    "print(f\"Test RMSE: {rmse_value}\")"
   ]
  },
  {
   "cell_type": "code",
   "execution_count": 58,
   "id": "384ae482-6134-41e5-9cad-5a354a835527",
   "metadata": {},
   "outputs": [],
   "source": [
    "test2.drop(columns = [\"pred_x\", \"pred_y\"]).to_csv(\"./tobii_val_sub_updv2.csv\", index = False)"
   ]
  },
  {
   "cell_type": "code",
   "execution_count": null,
   "id": "5867bcae-a6ac-4d9a-9e22-a2433ccbfd4e",
   "metadata": {},
   "outputs": [],
   "source": []
  },
  {
   "cell_type": "code",
   "execution_count": 59,
   "id": "d7f7d01c-bd32-4993-952f-02d88ad31b25",
   "metadata": {},
   "outputs": [
    {
     "name": "stderr",
     "output_type": "stream",
     "text": [
      "100%|███████████████████████████████████████████| 75/75 [12:09<00:00,  9.73s/it]"
     ]
    },
    {
     "name": "stdout",
     "output_type": "stream",
     "text": [
      "Test loss: 0.166\n"
     ]
    },
    {
     "name": "stderr",
     "output_type": "stream",
     "text": [
      "\n"
     ]
    }
   ],
   "source": [
    "preds = []\n",
    "labels_list = []\n",
    "losses = 0\n",
    "for i, data in tqdm(enumerate(dataloader_train), total = len(dataloader_train)):\n",
    "    inputs, labels = data['image'], data['coordinates']\n",
    "    with torch.no_grad():\n",
    "        outputs = model(inputs)\n",
    "    loss = criterion(outputs, labels)\n",
    "    losses += loss.detach().cpu().item()\n",
    "    pred = outputs.cpu().numpy()\n",
    "    preds.append(pred)\n",
    "    labels_list.append(labels.cpu().numpy())\n",
    "\n",
    "print(f\"Test loss: {round(losses / (i + 1), 3)}\")"
   ]
  },
  {
   "cell_type": "code",
   "execution_count": 121,
   "id": "f35d20a2-acbb-44ab-8945-e9e3890233ce",
   "metadata": {},
   "outputs": [
    {
     "ename": "NameError",
     "evalue": "name 'losses' is not defined",
     "output_type": "error",
     "traceback": [
      "\u001b[0;31m---------------------------------------------------------------------------\u001b[0m",
      "\u001b[0;31mNameError\u001b[0m                                 Traceback (most recent call last)",
      "Cell \u001b[0;32mIn[121], line 1\u001b[0m\n\u001b[0;32m----> 1\u001b[0m \u001b[38;5;28mprint\u001b[39m(\u001b[38;5;124mf\u001b[39m\u001b[38;5;124m\"\u001b[39m\u001b[38;5;124mVal loss: \u001b[39m\u001b[38;5;132;01m{\u001b[39;00m\u001b[38;5;28mround\u001b[39m(\u001b[43mlosses\u001b[49m\u001b[38;5;250m \u001b[39m\u001b[38;5;241m/\u001b[39m\u001b[38;5;250m \u001b[39m(i\u001b[38;5;250m \u001b[39m\u001b[38;5;241m+\u001b[39m\u001b[38;5;250m \u001b[39m\u001b[38;5;241m1\u001b[39m),\u001b[38;5;250m \u001b[39m\u001b[38;5;241m3\u001b[39m)\u001b[38;5;132;01m}\u001b[39;00m\u001b[38;5;124m\"\u001b[39m)\n",
      "\u001b[0;31mNameError\u001b[0m: name 'losses' is not defined"
     ]
    }
   ],
   "source": [
    "print(f\"Val loss: {round(losses / (i + 1), 3)}\")"
   ]
  },
  {
   "cell_type": "code",
   "execution_count": 61,
   "id": "4cbe13a7-7e5a-4ab8-a6f4-c36581b26cda",
   "metadata": {},
   "outputs": [],
   "source": [
    "preds = np.vstack(preds)\n",
    "labels = np.vstack(labels_list)"
   ]
  },
  {
   "cell_type": "code",
   "execution_count": 62,
   "id": "76b48445-ce23-43bd-8eac-e025bc0c381e",
   "metadata": {},
   "outputs": [
    {
     "name": "stdout",
     "output_type": "stream",
     "text": [
      "Val MAPE: 0.4815669059753418\n"
     ]
    }
   ],
   "source": [
    "mape_value = mape(labels, preds)\n",
    "print(f\"Val MAPE: {mape_value}\")"
   ]
  },
  {
   "cell_type": "code",
   "execution_count": 63,
   "id": "48f0f5c9-5ea7-4049-863c-997fb78228c1",
   "metadata": {},
   "outputs": [
    {
     "name": "stdout",
     "output_type": "stream",
     "text": [
      "Val RMSE: 0.02777956984937191\n"
     ]
    }
   ],
   "source": [
    "rmse_value = mse(labels, preds, squared=True)\n",
    "print(f\"Val RMSE: {rmse_value}\")"
   ]
  },
  {
   "cell_type": "code",
   "execution_count": 64,
   "id": "1580f8e2-4009-4910-96b3-9e383a8ded28",
   "metadata": {},
   "outputs": [],
   "source": [
    "train_df_copy = train_df.copy()"
   ]
  },
  {
   "cell_type": "code",
   "execution_count": 65,
   "id": "0389e0b1-bc2f-44c7-8337-6a89a516ec08",
   "metadata": {},
   "outputs": [],
   "source": [
    "train_df_copy[\"pred_x\"] = preds.T[0]\n",
    "train_df_copy[\"pred_y\"] = preds.T[1]"
   ]
  },
  {
   "cell_type": "code",
   "execution_count": 66,
   "id": "896eaeeb-9c39-4d5a-b04f-b3869f248af8",
   "metadata": {},
   "outputs": [],
   "source": [
    "test1 = train_df_copy[(train_df_copy[\"x_normalized\"] < 1.2) & (train_df_copy[\"y_normalized\"] < 1.1)]\n",
    "condition = ((test1[\"x_normalized\"] > 0.6) & (test1[\"pred_x\"] < 0.4)) | \\\n",
    "            ((test1[\"x_normalized\"] < 0.4) & (test1[\"pred_x\"] > 0.6))\n",
    "test2 = test1[~condition]"
   ]
  },
  {
   "cell_type": "code",
   "execution_count": 67,
   "id": "9f60894c-1eaf-4ec7-8edf-4fac5ba1bab5",
   "metadata": {},
   "outputs": [],
   "source": [
    "preds = test2[[\"pred_x\", \"pred_y\"]].values\n",
    "labels = test2[[\"x_normalized\", \"y_normalized\"]].values"
   ]
  },
  {
   "cell_type": "code",
   "execution_count": 68,
   "id": "6a242aae-8133-4702-8d4f-a99ba95f67cb",
   "metadata": {},
   "outputs": [
    {
     "name": "stdout",
     "output_type": "stream",
     "text": [
      "Test MAPE: 0.8352110407623952\n"
     ]
    }
   ],
   "source": [
    "mape_value = mape(labels, preds)\n",
    "print(f\"Test MAPE: {mape_value}\")"
   ]
  },
  {
   "cell_type": "code",
   "execution_count": 69,
   "id": "09536ae9-8de4-4bf0-ae35-7dd44ac4aaec",
   "metadata": {},
   "outputs": [
    {
     "name": "stdout",
     "output_type": "stream",
     "text": [
      "Test RMSE: 0.0466036837919723\n"
     ]
    }
   ],
   "source": [
    "rmse_value = mse(labels, preds, squared=True)\n",
    "print(f\"Test RMSE: {rmse_value}\")"
   ]
  },
  {
   "cell_type": "code",
   "execution_count": 70,
   "id": "58f235fa-ce76-4cfe-87db-6b05f5943d96",
   "metadata": {},
   "outputs": [],
   "source": [
    "test2.drop(columns = [\"pred_x\", \"pred_y\"]).to_csv(\"./tobii_train_sub_updv2.csv\", index = False)"
   ]
  },
  {
   "cell_type": "code",
   "execution_count": null,
   "id": "d63eb35d-90ed-4f54-a4e6-f51b2c477408",
   "metadata": {},
   "outputs": [],
   "source": []
  }
 ],
 "metadata": {
  "kernelspec": {
   "display_name": "envGeneral",
   "language": "python",
   "name": "envgeneral"
  },
  "language_info": {
   "codemirror_mode": {
    "name": "ipython",
    "version": 3
   },
   "file_extension": ".py",
   "mimetype": "text/x-python",
   "name": "python",
   "nbconvert_exporter": "python",
   "pygments_lexer": "ipython3",
   "version": "3.10.10"
  }
 },
 "nbformat": 4,
 "nbformat_minor": 5
}
