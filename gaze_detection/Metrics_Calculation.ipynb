{
 "cells": [
  {
   "cell_type": "code",
   "execution_count": 1,
   "id": "0305cb11-6e90-4100-b89d-c81fe9bfdc4d",
   "metadata": {},
   "outputs": [],
   "source": [
    "import pandas as pd\n",
    "import numpy as np\n",
    "from sklearn.metrics import mean_absolute_percentage_error as mape\n",
    "from sklearn.metrics import mean_squared_error as mse"
   ]
  },
  {
   "cell_type": "code",
   "execution_count": 2,
   "id": "118f260b-04a3-48c7-acb1-5d5263835aa5",
   "metadata": {},
   "outputs": [],
   "source": [
    "def distance(x1, y1, x2, y2):\n",
    "    return np.sqrt((x1 - x2)**2 + (y1 - y2)**2)"
   ]
  },
  {
   "cell_type": "code",
   "execution_count": 17,
   "id": "8a4a4df1-c3c6-442b-be9a-18326b5dd0f6",
   "metadata": {},
   "outputs": [],
   "source": [
    "df_path = \"./tobii_test_updv2_mixed_face_screen_feat_balanced_pred.csv\"\n",
    "df_path_golden = \"./golden_test.csv\"\n",
    "user_specs_path = \"../data/participant_characteristics.csv\"\n",
    "user_specs = pd.read_csv(user_specs_path)[[\n",
    "    \"Display Height (pixels)\", \"Display Width (pixels)\", 'Participant ID',\n",
    "    'Screen Width (cm)', 'Screen Height (cm)', 'Distance From Screen (cm)',\n",
    "    'Self-Reported Vision'\n",
    "]]\n",
    "df_pred = pd.read_csv(df_path)\n",
    "df_pred[\"distances\"] = df_pred[['x_normalized', 'y_normalized', 'pred_x', 'pred_y']].apply(lambda x: distance(*x), axis = 1)\n",
    "df_pred[\"user_id\"] = df_pred[\"full_name\"].apply(lambda x: x.split(\"#\")[0])\n",
    "df_pred = df_pred.merge(user_specs, left_on = \"user_id\", right_on = 'Participant ID', how = \"inner\", suffixes=[\"\", \"_\"]).drop(columns = ['Participant ID'])\n",
    "\n",
    "df_golden = pd.read_csv(df_path_golden)\n",
    "df_pred_golden = df_golden.merge(df_pred, on = \"paths\", how = \"inner\", suffixes=[\"\", \"_\"])"
   ]
  },
  {
   "cell_type": "code",
   "execution_count": 18,
   "id": "e7314541-fe21-4a96-95fb-b6a76ddd075e",
   "metadata": {},
   "outputs": [
    {
     "data": {
      "text/html": [
       "<div>\n",
       "<style scoped>\n",
       "    .dataframe tbody tr th:only-of-type {\n",
       "        vertical-align: middle;\n",
       "    }\n",
       "\n",
       "    .dataframe tbody tr th {\n",
       "        vertical-align: top;\n",
       "    }\n",
       "\n",
       "    .dataframe thead th {\n",
       "        text-align: right;\n",
       "    }\n",
       "</style>\n",
       "<table border=\"1\" class=\"dataframe\">\n",
       "  <thead>\n",
       "    <tr style=\"text-align: right;\">\n",
       "      <th></th>\n",
       "      <th>paths</th>\n",
       "      <th>x_normalized</th>\n",
       "      <th>y_normalized</th>\n",
       "      <th>full_name</th>\n",
       "      <th>user_id</th>\n",
       "      <th>Screen Width (cm)</th>\n",
       "      <th>Screen Height (cm)</th>\n",
       "      <th>Distance From Screen (cm)</th>\n",
       "      <th>pred_x</th>\n",
       "      <th>pred_y</th>\n",
       "      <th>distances</th>\n",
       "      <th>Display Height (pixels)</th>\n",
       "      <th>Display Width (pixels)</th>\n",
       "      <th>Screen Width (cm)_</th>\n",
       "      <th>Screen Height (cm)_</th>\n",
       "      <th>Distance From Screen (cm)_</th>\n",
       "      <th>Self-Reported Vision</th>\n",
       "    </tr>\n",
       "  </thead>\n",
       "  <tbody>\n",
       "    <tr>\n",
       "      <th>0</th>\n",
       "      <td>/home/ubuntu/projects/tweakle/data/tobii_image...</td>\n",
       "      <td>0.194715</td>\n",
       "      <td>0.582539</td>\n",
       "      <td>P_38#1492618354027_23_-study-tooth_abscess_wri...</td>\n",
       "      <td>P_38</td>\n",
       "      <td>33.17</td>\n",
       "      <td>20.73</td>\n",
       "      <td>50.0</td>\n",
       "      <td>0.234828</td>\n",
       "      <td>0.533801</td>\n",
       "      <td>0.063123</td>\n",
       "      <td>900</td>\n",
       "      <td>1440</td>\n",
       "      <td>33.17</td>\n",
       "      <td>20.73</td>\n",
       "      <td>50.0</td>\n",
       "      <td>Normal</td>\n",
       "    </tr>\n",
       "    <tr>\n",
       "      <th>1</th>\n",
       "      <td>/home/ubuntu/projects/tweakle/data/tobii_image...</td>\n",
       "      <td>0.200532</td>\n",
       "      <td>0.493025</td>\n",
       "      <td>P_38#1492618354027_16_-study-educational_advan...</td>\n",
       "      <td>P_38</td>\n",
       "      <td>33.17</td>\n",
       "      <td>20.73</td>\n",
       "      <td>50.0</td>\n",
       "      <td>0.276412</td>\n",
       "      <td>0.409475</td>\n",
       "      <td>0.112864</td>\n",
       "      <td>900</td>\n",
       "      <td>1440</td>\n",
       "      <td>33.17</td>\n",
       "      <td>20.73</td>\n",
       "      <td>50.0</td>\n",
       "      <td>Normal</td>\n",
       "    </tr>\n",
       "    <tr>\n",
       "      <th>2</th>\n",
       "      <td>/home/ubuntu/projects/tweakle/data/tobii_image...</td>\n",
       "      <td>0.247674</td>\n",
       "      <td>0.453015</td>\n",
       "      <td>P_38#1492618354027_24_-study-dot_test_final_in...</td>\n",
       "      <td>P_38</td>\n",
       "      <td>33.17</td>\n",
       "      <td>20.73</td>\n",
       "      <td>50.0</td>\n",
       "      <td>0.232039</td>\n",
       "      <td>0.495984</td>\n",
       "      <td>0.045725</td>\n",
       "      <td>900</td>\n",
       "      <td>1440</td>\n",
       "      <td>33.17</td>\n",
       "      <td>20.73</td>\n",
       "      <td>50.0</td>\n",
       "      <td>Normal</td>\n",
       "    </tr>\n",
       "    <tr>\n",
       "      <th>3</th>\n",
       "      <td>/home/ubuntu/projects/tweakle/data/tobii_image...</td>\n",
       "      <td>0.217074</td>\n",
       "      <td>0.442437</td>\n",
       "      <td>P_38#1492618354027_7_-study-benefits_of_runnin...</td>\n",
       "      <td>P_38</td>\n",
       "      <td>33.17</td>\n",
       "      <td>20.73</td>\n",
       "      <td>50.0</td>\n",
       "      <td>0.249681</td>\n",
       "      <td>0.423664</td>\n",
       "      <td>0.037625</td>\n",
       "      <td>900</td>\n",
       "      <td>1440</td>\n",
       "      <td>33.17</td>\n",
       "      <td>20.73</td>\n",
       "      <td>50.0</td>\n",
       "      <td>Normal</td>\n",
       "    </tr>\n",
       "    <tr>\n",
       "      <th>4</th>\n",
       "      <td>/home/ubuntu/projects/tweakle/data/tobii_image...</td>\n",
       "      <td>0.123454</td>\n",
       "      <td>0.445198</td>\n",
       "      <td>P_38#1492618354027_9_-study-benefits_of_runnin...</td>\n",
       "      <td>P_38</td>\n",
       "      <td>33.17</td>\n",
       "      <td>20.73</td>\n",
       "      <td>50.0</td>\n",
       "      <td>0.146342</td>\n",
       "      <td>0.461879</td>\n",
       "      <td>0.028321</td>\n",
       "      <td>900</td>\n",
       "      <td>1440</td>\n",
       "      <td>33.17</td>\n",
       "      <td>20.73</td>\n",
       "      <td>50.0</td>\n",
       "      <td>Normal</td>\n",
       "    </tr>\n",
       "  </tbody>\n",
       "</table>\n",
       "</div>"
      ],
      "text/plain": [
       "                                               paths  x_normalized  \\\n",
       "0  /home/ubuntu/projects/tweakle/data/tobii_image...      0.194715   \n",
       "1  /home/ubuntu/projects/tweakle/data/tobii_image...      0.200532   \n",
       "2  /home/ubuntu/projects/tweakle/data/tobii_image...      0.247674   \n",
       "3  /home/ubuntu/projects/tweakle/data/tobii_image...      0.217074   \n",
       "4  /home/ubuntu/projects/tweakle/data/tobii_image...      0.123454   \n",
       "\n",
       "   y_normalized                                          full_name user_id  \\\n",
       "0      0.582539  P_38#1492618354027_23_-study-tooth_abscess_wri...    P_38   \n",
       "1      0.493025  P_38#1492618354027_16_-study-educational_advan...    P_38   \n",
       "2      0.453015  P_38#1492618354027_24_-study-dot_test_final_in...    P_38   \n",
       "3      0.442437  P_38#1492618354027_7_-study-benefits_of_runnin...    P_38   \n",
       "4      0.445198  P_38#1492618354027_9_-study-benefits_of_runnin...    P_38   \n",
       "\n",
       "   Screen Width (cm)  Screen Height (cm)  Distance From Screen (cm)    pred_x  \\\n",
       "0              33.17               20.73                       50.0  0.234828   \n",
       "1              33.17               20.73                       50.0  0.276412   \n",
       "2              33.17               20.73                       50.0  0.232039   \n",
       "3              33.17               20.73                       50.0  0.249681   \n",
       "4              33.17               20.73                       50.0  0.146342   \n",
       "\n",
       "     pred_y  distances  Display Height (pixels)  Display Width (pixels)  \\\n",
       "0  0.533801   0.063123                      900                    1440   \n",
       "1  0.409475   0.112864                      900                    1440   \n",
       "2  0.495984   0.045725                      900                    1440   \n",
       "3  0.423664   0.037625                      900                    1440   \n",
       "4  0.461879   0.028321                      900                    1440   \n",
       "\n",
       "   Screen Width (cm)_  Screen Height (cm)_  Distance From Screen (cm)_  \\\n",
       "0               33.17                20.73                        50.0   \n",
       "1               33.17                20.73                        50.0   \n",
       "2               33.17                20.73                        50.0   \n",
       "3               33.17                20.73                        50.0   \n",
       "4               33.17                20.73                        50.0   \n",
       "\n",
       "  Self-Reported Vision  \n",
       "0               Normal  \n",
       "1               Normal  \n",
       "2               Normal  \n",
       "3               Normal  \n",
       "4               Normal  "
      ]
     },
     "execution_count": 18,
     "metadata": {},
     "output_type": "execute_result"
    }
   ],
   "source": [
    "df_pred.head()"
   ]
  },
  {
   "cell_type": "code",
   "execution_count": 19,
   "id": "060fc7b3-7c44-4abf-8fc2-dc2979584635",
   "metadata": {},
   "outputs": [
    {
     "data": {
      "text/plain": [
       "Self-Reported Vision\n",
       "Normal      8078\n",
       "Glasses     4426\n",
       "Contacts    1496\n",
       "Name: count, dtype: int64"
      ]
     },
     "execution_count": 19,
     "metadata": {},
     "output_type": "execute_result"
    }
   ],
   "source": [
    "df_pred[\"Self-Reported Vision\"].value_counts()"
   ]
  },
  {
   "cell_type": "code",
   "execution_count": 20,
   "id": "6a9f665e-cd2a-45f4-8cfb-75bd52bb01e8",
   "metadata": {},
   "outputs": [],
   "source": [
    "def average_angle(df):\n",
    "    df_ = df.copy()\n",
    "    df_[\"x\"] = df_[\"x_normalized\"] * df_[\"Screen Width (cm)\"]\n",
    "    df_[\"pred_x_\"] = df_[\"pred_x\"] * df_[\"Screen Width (cm)\"]\n",
    "    df_[\"y\"] = df_[\"y_normalized\"] * df_[\"Screen Height (cm)\"]\n",
    "    df_[\"pred_y_\"] = df_[\"pred_y\"] * df_[\"Screen Height (cm)\"]\n",
    "    df_[\"center_y\"] = df_[\"Screen Height (cm)\"] * 0.5\n",
    "    df_[\"center_x\"] = df_[\"Screen Width (cm)\"] * 0.5\n",
    "    df_[\"distances_center_pred\"] = df_[['center_x', 'center_y', 'pred_x_', 'pred_y_']].apply(lambda x: distance(*x), axis = 1)\n",
    "    df_[\"distances_center_gt\"] = df_[['center_x', 'center_y', 'x', 'y']].apply(lambda x: distance(*x), axis = 1)\n",
    "    df_[\"tg_center_gt\"] = df_[\"distances_center_gt\"] / df_[\"Distance From Screen (cm)\"]\n",
    "    df_[\"tg_center_pred\"] = df_[\"distances_center_pred\"] / df_[\"Distance From Screen (cm)\"]\n",
    "    df_[\"angle_gt\"] = np.arctan(df_[\"tg_center_gt\"].values) * 180 / np.pi\n",
    "    df_[\"angle_pred\"] = np.arctan(df_[\"tg_center_pred\"].values) * 180 / np.pi\n",
    "    angles = (df_[\"angle_gt\"] - df_[\"angle_pred\"]).abs()\n",
    "    return angles.mean(), angles.std()"
   ]
  },
  {
   "cell_type": "code",
   "execution_count": 21,
   "id": "bd818354-02a0-42c3-8c4e-6547e063f34e",
   "metadata": {},
   "outputs": [],
   "source": [
    "def average_pixel_distance(df):\n",
    "    df_ = df.copy()\n",
    "    df_[\"x\"] = df_[\"x_normalized\"] * df_[\"Display Width (pixels)\"]\n",
    "    df_[\"pred_x_\"] = df_[\"pred_x\"] * df_[\"Display Width (pixels)\"]\n",
    "    df_[\"y\"] = df_[\"y_normalized\"] * df_[\"Display Height (pixels)\"]\n",
    "    df_[\"pred_y_\"] = df_[\"pred_y\"] * df_[\"Display Height (pixels)\"]\n",
    "    df_[\"distances\"] = df_[['x', 'y', 'pred_x_', 'pred_y_']].apply(lambda x: distance(*x), axis = 1)\n",
    "    return df_[\"distances\"].mean(), df_[\"distances\"].std()"
   ]
  },
  {
   "cell_type": "code",
   "execution_count": 22,
   "id": "722b379c-903c-4b3f-a14b-1b408403af6e",
   "metadata": {},
   "outputs": [],
   "source": [
    "def compute_metrics(df):\n",
    "    preds = df[[\"pred_x\", \"pred_y\"]].values\n",
    "    labels = df[[\"x_normalized\", \"y_normalized\"]].values\n",
    "    \n",
    "    mape_value = mape(labels, preds)\n",
    "    print(f\"Test MAPE: {round(mape_value, 4)}\")\n",
    "    \n",
    "    rmse_value = mse(labels, preds, squared=True)\n",
    "    print(f\"Test RMSE: {round(rmse_value, 4)}\")\n",
    "    \n",
    "    av_rel_dist = df[\"distances\"].mean()\n",
    "    print(f\"Average relative distance: {round(av_rel_dist, 4)} +- {round(df['distances'].std(), 3)}\")\n",
    "\n",
    "    av_pixel_dist, std = average_pixel_distance(df)\n",
    "    print(f\"Average pixel distance: {round(av_pixel_dist, 1)} +- {round(std, 1)}\")\n",
    "    av_angle, std = average_angle(df)\n",
    "    print(f\"Average angle: {round(av_angle, 2)} +- {round(std, 2)}\")"
   ]
  },
  {
   "cell_type": "markdown",
   "id": "85ca646d-a0bf-4c5f-bd32-01f4f22109ae",
   "metadata": {},
   "source": [
    "All test"
   ]
  },
  {
   "cell_type": "code",
   "execution_count": 23,
   "id": "bf4e77be-50be-439d-932d-d79a5814f0be",
   "metadata": {},
   "outputs": [
    {
     "name": "stdout",
     "output_type": "stream",
     "text": [
      "Test MAPE: 0.4502\n",
      "Test RMSE: 0.0138\n",
      "Average relative distance: 0.1342 +- 0.098\n",
      "Average pixel distance: 190.7 +- 136.6\n",
      "Average angle: 2.62 +- 2.25\n"
     ]
    }
   ],
   "source": [
    "compute_metrics(df_pred)"
   ]
  },
  {
   "cell_type": "markdown",
   "id": "d47ca841-645a-4722-a578-24ae9d9f3a51",
   "metadata": {},
   "source": [
    "Glasses"
   ]
  },
  {
   "cell_type": "code",
   "execution_count": 24,
   "id": "264ed5de-988c-4750-a53c-69ff4fcaf33b",
   "metadata": {},
   "outputs": [],
   "source": [
    "df_glasses = df_pred[df_pred['Self-Reported Vision'] == \"Glasses\"]"
   ]
  },
  {
   "cell_type": "code",
   "execution_count": 25,
   "id": "d5c14491-5f7e-4aec-a344-f74c26ea1dd1",
   "metadata": {},
   "outputs": [
    {
     "name": "stdout",
     "output_type": "stream",
     "text": [
      "Test MAPE: 0.5181\n",
      "Test RMSE: 0.0153\n",
      "Average relative distance: 0.1427 +- 0.101\n",
      "Average pixel distance: 202.6 +- 141.5\n",
      "Average angle: 2.78 +- 2.39\n"
     ]
    }
   ],
   "source": [
    "compute_metrics(df_glasses)"
   ]
  },
  {
   "cell_type": "markdown",
   "id": "8c421937-7a11-4ce3-a264-4600cd46da71",
   "metadata": {},
   "source": [
    "Normal"
   ]
  },
  {
   "cell_type": "code",
   "execution_count": 26,
   "id": "9c796ec1-f0cd-4269-a30c-164af59c3587",
   "metadata": {},
   "outputs": [],
   "source": [
    "df_glasses = df_pred[df_pred['Self-Reported Vision'] != \"Glasses\"]"
   ]
  },
  {
   "cell_type": "code",
   "execution_count": 27,
   "id": "0b96d6d0-9bc8-4c78-86a8-c09c1071c008",
   "metadata": {},
   "outputs": [
    {
     "name": "stdout",
     "output_type": "stream",
     "text": [
      "Test MAPE: 0.4189\n",
      "Test RMSE: 0.0131\n",
      "Average relative distance: 0.1303 +- 0.096\n",
      "Average pixel distance: 185.1 +- 133.9\n",
      "Average angle: 2.55 +- 2.18\n"
     ]
    }
   ],
   "source": [
    "compute_metrics(df_glasses)"
   ]
  },
  {
   "cell_type": "markdown",
   "id": "7774ef00-fb4f-41f0-8c79-d210ebfa676e",
   "metadata": {},
   "source": [
    "Golden test"
   ]
  },
  {
   "cell_type": "code",
   "execution_count": 28,
   "id": "09ce0042-cda4-402d-8dc8-22f74de6ab7c",
   "metadata": {},
   "outputs": [
    {
     "name": "stdout",
     "output_type": "stream",
     "text": [
      "Test MAPE: 1.3518\n",
      "Test RMSE: 0.0167\n",
      "Average relative distance: 0.1535 +- 0.114\n",
      "Average pixel distance: 190.8 +- 111.1\n",
      "Average angle: 3.11 +- 2.56\n"
     ]
    }
   ],
   "source": [
    "compute_metrics(df_pred_golden)"
   ]
  },
  {
   "cell_type": "code",
   "execution_count": 29,
   "id": "7d438d9d-faa4-4c1e-96d0-3e21e6768369",
   "metadata": {},
   "outputs": [
    {
     "name": "stdout",
     "output_type": "stream",
     "text": [
      "Test MAPE: 1.3518\n",
      "Test RMSE: 0.0167\n",
      "Average relative distance: 0.1535 +- 0.114\n",
      "Average pixel distance: 190.8 +- 111.1\n",
      "Average angle: 3.11 +- 2.56\n"
     ]
    }
   ],
   "source": [
    "compute_metrics(df_pred_golden)"
   ]
  },
  {
   "cell_type": "code",
   "execution_count": null,
   "id": "b8a53dc1-5872-41ff-a3f6-a9082e00b082",
   "metadata": {},
   "outputs": [],
   "source": []
  }
 ],
 "metadata": {
  "kernelspec": {
   "display_name": "envGeneral",
   "language": "python",
   "name": "envgeneral"
  },
  "language_info": {
   "codemirror_mode": {
    "name": "ipython",
    "version": 3
   },
   "file_extension": ".py",
   "mimetype": "text/x-python",
   "name": "python",
   "nbconvert_exporter": "python",
   "pygments_lexer": "ipython3",
   "version": "3.10.10"
  }
 },
 "nbformat": 4,
 "nbformat_minor": 5
}
