{
 "cells": [
  {
   "cell_type": "code",
   "execution_count": 29,
   "id": "0305cb11-6e90-4100-b89d-c81fe9bfdc4d",
   "metadata": {},
   "outputs": [],
   "source": [
    "import pandas as pd\n",
    "import numpy as np\n",
    "from sklearn.metrics import mean_absolute_percentage_error as mape\n",
    "from sklearn.metrics import mean_squared_error as mse"
   ]
  },
  {
   "cell_type": "code",
   "execution_count": 30,
   "id": "118f260b-04a3-48c7-acb1-5d5263835aa5",
   "metadata": {},
   "outputs": [],
   "source": [
    "def distance(x1, y1, x2, y2):\n",
    "    return np.sqrt((x1 - x2)**2 + (y1 - y2)**2)"
   ]
  },
  {
   "cell_type": "code",
   "execution_count": 31,
   "id": "8a4a4df1-c3c6-442b-be9a-18326b5dd0f6",
   "metadata": {},
   "outputs": [],
   "source": [
    "df_path = \"./predictions/tobii_test_more_layers_weighted_loss_more_patience_more_complex_tune.csv\"\n",
    "df_path_golden = \"./golden_test.csv\"\n",
    "user_specs_path = \"../data/participant_characteristics.csv\"\n",
    "user_specs = pd.read_csv(user_specs_path)[[\n",
    "    \"Display Height (pixels)\", \"Display Width (pixels)\", 'Participant ID',\n",
    "    'Screen Width (cm)', 'Screen Height (cm)', 'Distance From Screen (cm)',\n",
    "    'Self-Reported Vision'\n",
    "]]\n",
    "df_pred = pd.read_csv(df_path)\n",
    "df_pred[\"distances\"] = df_pred[['x_normalized', 'y_normalized', 'pred_x', 'pred_y']].apply(lambda x: distance(*x), axis = 1)\n",
    "df_pred[\"user_id\"] = df_pred[\"full_name\"].apply(lambda x: x.split(\"#\")[0])\n",
    "df_pred = df_pred.merge(user_specs, left_on = \"user_id\", right_on = 'Participant ID', how = \"inner\", suffixes=[\"\", \"_\"]).drop(columns = ['Participant ID'])\n",
    "\n",
    "df_golden = pd.read_csv(df_path_golden)\n",
    "df_pred_golden = df_golden.merge(df_pred, on = \"paths\", how = \"inner\", suffixes=[\"\", \"_\"])"
   ]
  },
  {
   "cell_type": "code",
   "execution_count": 32,
   "id": "e7314541-fe21-4a96-95fb-b6a76ddd075e",
   "metadata": {},
   "outputs": [
    {
     "data": {
      "text/html": [
       "<div>\n",
       "<style scoped>\n",
       "    .dataframe tbody tr th:only-of-type {\n",
       "        vertical-align: middle;\n",
       "    }\n",
       "\n",
       "    .dataframe tbody tr th {\n",
       "        vertical-align: top;\n",
       "    }\n",
       "\n",
       "    .dataframe thead th {\n",
       "        text-align: right;\n",
       "    }\n",
       "</style>\n",
       "<table border=\"1\" class=\"dataframe\">\n",
       "  <thead>\n",
       "    <tr style=\"text-align: right;\">\n",
       "      <th></th>\n",
       "      <th>paths</th>\n",
       "      <th>x_normalized</th>\n",
       "      <th>y_normalized</th>\n",
       "      <th>full_name</th>\n",
       "      <th>pred_x</th>\n",
       "      <th>pred_y</th>\n",
       "      <th>distances</th>\n",
       "      <th>user_id</th>\n",
       "      <th>Display Height (pixels)</th>\n",
       "      <th>Display Width (pixels)</th>\n",
       "      <th>Screen Width (cm)</th>\n",
       "      <th>Screen Height (cm)</th>\n",
       "      <th>Distance From Screen (cm)</th>\n",
       "      <th>Self-Reported Vision</th>\n",
       "    </tr>\n",
       "  </thead>\n",
       "  <tbody>\n",
       "    <tr>\n",
       "      <th>0</th>\n",
       "      <td>/home/ubuntu/projects/tweakle/data/tobii_image...</td>\n",
       "      <td>0.194715</td>\n",
       "      <td>0.582539</td>\n",
       "      <td>P_38#1492618354027_23_-study-tooth_abscess_wri...</td>\n",
       "      <td>0.299071</td>\n",
       "      <td>0.539524</td>\n",
       "      <td>0.112874</td>\n",
       "      <td>P_38</td>\n",
       "      <td>900</td>\n",
       "      <td>1440</td>\n",
       "      <td>33.17</td>\n",
       "      <td>20.73</td>\n",
       "      <td>50.0</td>\n",
       "      <td>Normal</td>\n",
       "    </tr>\n",
       "    <tr>\n",
       "      <th>1</th>\n",
       "      <td>/home/ubuntu/projects/tweakle/data/tobii_image...</td>\n",
       "      <td>0.200532</td>\n",
       "      <td>0.493025</td>\n",
       "      <td>P_38#1492618354027_16_-study-educational_advan...</td>\n",
       "      <td>0.267034</td>\n",
       "      <td>0.464602</td>\n",
       "      <td>0.072321</td>\n",
       "      <td>P_38</td>\n",
       "      <td>900</td>\n",
       "      <td>1440</td>\n",
       "      <td>33.17</td>\n",
       "      <td>20.73</td>\n",
       "      <td>50.0</td>\n",
       "      <td>Normal</td>\n",
       "    </tr>\n",
       "    <tr>\n",
       "      <th>2</th>\n",
       "      <td>/home/ubuntu/projects/tweakle/data/tobii_image...</td>\n",
       "      <td>0.247674</td>\n",
       "      <td>0.453015</td>\n",
       "      <td>P_38#1492618354027_24_-study-dot_test_final_in...</td>\n",
       "      <td>0.234997</td>\n",
       "      <td>0.383104</td>\n",
       "      <td>0.071052</td>\n",
       "      <td>P_38</td>\n",
       "      <td>900</td>\n",
       "      <td>1440</td>\n",
       "      <td>33.17</td>\n",
       "      <td>20.73</td>\n",
       "      <td>50.0</td>\n",
       "      <td>Normal</td>\n",
       "    </tr>\n",
       "    <tr>\n",
       "      <th>3</th>\n",
       "      <td>/home/ubuntu/projects/tweakle/data/tobii_image...</td>\n",
       "      <td>0.217074</td>\n",
       "      <td>0.442437</td>\n",
       "      <td>P_38#1492618354027_7_-study-benefits_of_runnin...</td>\n",
       "      <td>0.280526</td>\n",
       "      <td>0.475514</td>\n",
       "      <td>0.071556</td>\n",
       "      <td>P_38</td>\n",
       "      <td>900</td>\n",
       "      <td>1440</td>\n",
       "      <td>33.17</td>\n",
       "      <td>20.73</td>\n",
       "      <td>50.0</td>\n",
       "      <td>Normal</td>\n",
       "    </tr>\n",
       "    <tr>\n",
       "      <th>4</th>\n",
       "      <td>/home/ubuntu/projects/tweakle/data/tobii_image...</td>\n",
       "      <td>0.123454</td>\n",
       "      <td>0.445198</td>\n",
       "      <td>P_38#1492618354027_9_-study-benefits_of_runnin...</td>\n",
       "      <td>0.180465</td>\n",
       "      <td>0.595299</td>\n",
       "      <td>0.160563</td>\n",
       "      <td>P_38</td>\n",
       "      <td>900</td>\n",
       "      <td>1440</td>\n",
       "      <td>33.17</td>\n",
       "      <td>20.73</td>\n",
       "      <td>50.0</td>\n",
       "      <td>Normal</td>\n",
       "    </tr>\n",
       "  </tbody>\n",
       "</table>\n",
       "</div>"
      ],
      "text/plain": [
       "                                               paths  x_normalized  \\\n",
       "0  /home/ubuntu/projects/tweakle/data/tobii_image...      0.194715   \n",
       "1  /home/ubuntu/projects/tweakle/data/tobii_image...      0.200532   \n",
       "2  /home/ubuntu/projects/tweakle/data/tobii_image...      0.247674   \n",
       "3  /home/ubuntu/projects/tweakle/data/tobii_image...      0.217074   \n",
       "4  /home/ubuntu/projects/tweakle/data/tobii_image...      0.123454   \n",
       "\n",
       "   y_normalized                                          full_name    pred_x  \\\n",
       "0      0.582539  P_38#1492618354027_23_-study-tooth_abscess_wri...  0.299071   \n",
       "1      0.493025  P_38#1492618354027_16_-study-educational_advan...  0.267034   \n",
       "2      0.453015  P_38#1492618354027_24_-study-dot_test_final_in...  0.234997   \n",
       "3      0.442437  P_38#1492618354027_7_-study-benefits_of_runnin...  0.280526   \n",
       "4      0.445198  P_38#1492618354027_9_-study-benefits_of_runnin...  0.180465   \n",
       "\n",
       "     pred_y  distances user_id  Display Height (pixels)  \\\n",
       "0  0.539524   0.112874    P_38                      900   \n",
       "1  0.464602   0.072321    P_38                      900   \n",
       "2  0.383104   0.071052    P_38                      900   \n",
       "3  0.475514   0.071556    P_38                      900   \n",
       "4  0.595299   0.160563    P_38                      900   \n",
       "\n",
       "   Display Width (pixels)  Screen Width (cm)  Screen Height (cm)  \\\n",
       "0                    1440              33.17               20.73   \n",
       "1                    1440              33.17               20.73   \n",
       "2                    1440              33.17               20.73   \n",
       "3                    1440              33.17               20.73   \n",
       "4                    1440              33.17               20.73   \n",
       "\n",
       "   Distance From Screen (cm) Self-Reported Vision  \n",
       "0                       50.0               Normal  \n",
       "1                       50.0               Normal  \n",
       "2                       50.0               Normal  \n",
       "3                       50.0               Normal  \n",
       "4                       50.0               Normal  "
      ]
     },
     "execution_count": 32,
     "metadata": {},
     "output_type": "execute_result"
    }
   ],
   "source": [
    "df_pred.head()"
   ]
  },
  {
   "cell_type": "code",
   "execution_count": 33,
   "id": "060fc7b3-7c44-4abf-8fc2-dc2979584635",
   "metadata": {},
   "outputs": [
    {
     "data": {
      "text/plain": [
       "Self-Reported Vision\n",
       "Normal      8078\n",
       "Glasses     4426\n",
       "Contacts    1496\n",
       "Name: count, dtype: int64"
      ]
     },
     "execution_count": 33,
     "metadata": {},
     "output_type": "execute_result"
    }
   ],
   "source": [
    "df_pred[\"Self-Reported Vision\"].value_counts()"
   ]
  },
  {
   "cell_type": "code",
   "execution_count": 34,
   "id": "6a9f665e-cd2a-45f4-8cfb-75bd52bb01e8",
   "metadata": {},
   "outputs": [],
   "source": [
    "def average_angle(df):\n",
    "    df_ = df.copy()\n",
    "    df_[\"x\"] = df_[\"x_normalized\"] * df_[\"Screen Width (cm)\"]\n",
    "    df_[\"pred_x_\"] = df_[\"pred_x\"] * df_[\"Screen Width (cm)\"]\n",
    "    df_[\"y\"] = df_[\"y_normalized\"] * df_[\"Screen Height (cm)\"]\n",
    "    df_[\"pred_y_\"] = df_[\"pred_y\"] * df_[\"Screen Height (cm)\"]\n",
    "    df_[\"center_y\"] = df_[\"Screen Height (cm)\"] * 0.5\n",
    "    df_[\"center_x\"] = df_[\"Screen Width (cm)\"] * 0.5\n",
    "    df_[\"distances_center_pred\"] = df_[['center_x', 'center_y', 'pred_x_', 'pred_y_']].apply(lambda x: distance(*x), axis = 1)\n",
    "    df_[\"distances_center_gt\"] = df_[['center_x', 'center_y', 'x', 'y']].apply(lambda x: distance(*x), axis = 1)\n",
    "    df_[\"tg_center_gt\"] = df_[\"distances_center_gt\"] / df_[\"Distance From Screen (cm)\"]\n",
    "    df_[\"tg_center_pred\"] = df_[\"distances_center_pred\"] / df_[\"Distance From Screen (cm)\"]\n",
    "    df_[\"angle_gt\"] = np.arctan(df_[\"tg_center_gt\"].values) * 180 / np.pi\n",
    "    df_[\"angle_pred\"] = np.arctan(df_[\"tg_center_pred\"].values) * 180 / np.pi\n",
    "    angles = (df_[\"angle_gt\"] - df_[\"angle_pred\"]).abs()\n",
    "    return angles.mean(), angles.std()"
   ]
  },
  {
   "cell_type": "code",
   "execution_count": 35,
   "id": "bd818354-02a0-42c3-8c4e-6547e063f34e",
   "metadata": {},
   "outputs": [],
   "source": [
    "def average_pixel_distance(df):\n",
    "    df_ = df.copy()\n",
    "    df_[\"x\"] = df_[\"x_normalized\"] * df_[\"Display Width (pixels)\"]\n",
    "    df_[\"pred_x_\"] = df_[\"pred_x\"] * df_[\"Display Width (pixels)\"]\n",
    "    df_[\"y\"] = df_[\"y_normalized\"] * df_[\"Display Height (pixels)\"]\n",
    "    df_[\"pred_y_\"] = df_[\"pred_y\"] * df_[\"Display Height (pixels)\"]\n",
    "    df_[\"distances\"] = df_[['x', 'y', 'pred_x_', 'pred_y_']].apply(lambda x: distance(*x), axis = 1)\n",
    "    return df_[\"distances\"].mean(), df_[\"distances\"].std()"
   ]
  },
  {
   "cell_type": "code",
   "execution_count": 36,
   "id": "722b379c-903c-4b3f-a14b-1b408403af6e",
   "metadata": {},
   "outputs": [],
   "source": [
    "def compute_metrics(df):\n",
    "    preds = df[[\"pred_x\", \"pred_y\"]].values\n",
    "    labels = df[[\"x_normalized\", \"y_normalized\"]].values\n",
    "    \n",
    "    mape_value = mape(labels, preds)\n",
    "    print(f\"Test MAPE: {round(mape_value, 4)}\")\n",
    "    \n",
    "    rmse_value = mse(labels, preds, squared=True)\n",
    "    print(f\"Test RMSE: {round(rmse_value, 4)}\")\n",
    "    \n",
    "    av_rel_dist = df[\"distances\"].mean()\n",
    "    print(f\"Average relative distance: {round(av_rel_dist, 4)} +- {round(df['distances'].std(), 3)}\")\n",
    "\n",
    "    av_pixel_dist, std = average_pixel_distance(df)\n",
    "    print(f\"Average pixel distance: {round(av_pixel_dist, 1)} +- {round(std, 1)}\")\n",
    "    av_angle, std = average_angle(df)\n",
    "    print(f\"Average angle: {round(av_angle, 2)} +- {round(std, 2)}\")"
   ]
  },
  {
   "cell_type": "markdown",
   "id": "85ca646d-a0bf-4c5f-bd32-01f4f22109ae",
   "metadata": {},
   "source": [
    "All test"
   ]
  },
  {
   "cell_type": "code",
   "execution_count": 37,
   "id": "bf4e77be-50be-439d-932d-d79a5814f0be",
   "metadata": {},
   "outputs": [
    {
     "name": "stdout",
     "output_type": "stream",
     "text": [
      "Test MAPE: 0.4011\n",
      "Test RMSE: 0.0132\n",
      "Average relative distance: 0.1235 +- 0.106\n",
      "Average pixel distance: 175.6 +- 142.9\n",
      "Average angle: 2.29 +- 2.15\n"
     ]
    }
   ],
   "source": [
    "compute_metrics(df_pred)"
   ]
  },
  {
   "cell_type": "markdown",
   "id": "d47ca841-645a-4722-a578-24ae9d9f3a51",
   "metadata": {},
   "source": [
    "Glasses"
   ]
  },
  {
   "cell_type": "code",
   "execution_count": 38,
   "id": "264ed5de-988c-4750-a53c-69ff4fcaf33b",
   "metadata": {},
   "outputs": [],
   "source": [
    "df_glasses = df_pred[df_pred['Self-Reported Vision'] == \"Glasses\"]"
   ]
  },
  {
   "cell_type": "code",
   "execution_count": 39,
   "id": "d5c14491-5f7e-4aec-a344-f74c26ea1dd1",
   "metadata": {},
   "outputs": [
    {
     "name": "stdout",
     "output_type": "stream",
     "text": [
      "Test MAPE: 0.4594\n",
      "Test RMSE: 0.0147\n",
      "Average relative distance: 0.1319 +- 0.11\n",
      "Average pixel distance: 186.6 +- 146.5\n",
      "Average angle: 2.36 +- 2.24\n"
     ]
    }
   ],
   "source": [
    "compute_metrics(df_glasses)"
   ]
  },
  {
   "cell_type": "markdown",
   "id": "8c421937-7a11-4ce3-a264-4600cd46da71",
   "metadata": {},
   "source": [
    "Normal"
   ]
  },
  {
   "cell_type": "code",
   "execution_count": 40,
   "id": "9c796ec1-f0cd-4269-a30c-164af59c3587",
   "metadata": {},
   "outputs": [],
   "source": [
    "df_glasses = df_pred[df_pred['Self-Reported Vision'] != \"Glasses\"]"
   ]
  },
  {
   "cell_type": "code",
   "execution_count": 41,
   "id": "0b96d6d0-9bc8-4c78-86a8-c09c1071c008",
   "metadata": {},
   "outputs": [
    {
     "name": "stdout",
     "output_type": "stream",
     "text": [
      "Test MAPE: 0.3741\n",
      "Test RMSE: 0.0125\n",
      "Average relative distance: 0.1196 +- 0.103\n",
      "Average pixel distance: 170.5 +- 140.9\n",
      "Average angle: 2.26 +- 2.11\n"
     ]
    }
   ],
   "source": [
    "compute_metrics(df_glasses)"
   ]
  },
  {
   "cell_type": "markdown",
   "id": "7774ef00-fb4f-41f0-8c79-d210ebfa676e",
   "metadata": {},
   "source": [
    "Golden test"
   ]
  },
  {
   "cell_type": "code",
   "execution_count": 42,
   "id": "09ce0042-cda4-402d-8dc8-22f74de6ab7c",
   "metadata": {},
   "outputs": [
    {
     "name": "stdout",
     "output_type": "stream",
     "text": [
      "Test MAPE: 1.428\n",
      "Test RMSE: 0.0199\n",
      "Average relative distance: 0.1687 +- 0.123\n",
      "Average pixel distance: 173.5 +- 102.5\n",
      "Average angle: 2.07 +- 2.5\n"
     ]
    }
   ],
   "source": [
    "compute_metrics(df_pred_golden)"
   ]
  },
  {
   "cell_type": "code",
   "execution_count": null,
   "id": "b8a53dc1-5872-41ff-a3f6-a9082e00b082",
   "metadata": {},
   "outputs": [],
   "source": []
  }
 ],
 "metadata": {
  "kernelspec": {
   "display_name": "envGeneral",
   "language": "python",
   "name": "envgeneral"
  },
  "language_info": {
   "codemirror_mode": {
    "name": "ipython",
    "version": 3
   },
   "file_extension": ".py",
   "mimetype": "text/x-python",
   "name": "python",
   "nbconvert_exporter": "python",
   "pygments_lexer": "ipython3",
   "version": "3.10.10"
  }
 },
 "nbformat": 4,
 "nbformat_minor": 5
}
